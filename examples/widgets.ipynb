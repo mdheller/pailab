{
 "cells": [
  {
   "cell_type": "code",
   "execution_count": 1,
   "metadata": {
    "ExecuteTime": {
     "end_time": "2019-10-07T14:15:32.565181Z",
     "start_time": "2019-10-07T14:15:32.213652Z"
    },
    "collapsed": true,
    "extensions": {
     "jupyter_dashboards": {
      "version": 1,
      "views": {
       "grid_default": {
        "hidden": true
       },
       "report_default": {
        "hidden": true
       }
      }
     }
    }
   },
   "outputs": [],
   "source": [
    "from pailab import MLRepo, MLObjectType"
   ]
  },
  {
   "cell_type": "code",
   "execution_count": 2,
   "metadata": {
    "ExecuteTime": {
     "end_time": "2019-10-07T14:15:32.840814Z",
     "start_time": "2019-10-07T14:15:32.565181Z"
    },
    "collapsed": true,
    "extensions": {
     "jupyter_dashboards": {
      "version": 1,
      "views": {
       "grid_default": {
        "hidden": true
       },
       "report_default": {
        "hidden": true
       }
      }
     }
    }
   },
   "outputs": [],
   "source": [
    "workspace = 'C:/ml_repos/spot_autoencoder_new'\n",
    "ml_repo = MLRepo( workspace = workspace)"
   ]
  },
  {
   "cell_type": "code",
   "execution_count": 3,
   "metadata": {
    "ExecuteTime": {
     "end_time": "2019-10-07T14:15:35.952661Z",
     "start_time": "2019-10-07T14:15:32.844809Z"
    },
    "extensions": {
     "jupyter_dashboards": {
      "version": 1,
      "views": {
       "grid_default": {
        "col": 0,
        "height": 13,
        "hidden": false,
        "row": 15,
        "width": 5
       },
       "report_default": {
        "hidden": true
       }
      }
     }
    }
   },
   "outputs": [
    {
     "name": "stderr",
     "output_type": "stream",
     "text": [
      "WARNING:pailab.tools.tools:Missing measure simple_dense/measure/training_data_prototypes/mse for data version: last\n",
      "WARNING:pailab.tools.tools:Missing measure simple_dense/measure/training_data_criticisms/mse for data version: last\n",
      "C:\\Users\\Anwender\\Anaconda3\\lib\\site-packages\\pailab\\tools\\tools.py:216: UserWarning: There were measures missing for the given data version, see log for details.\n",
      "  'There were measures missing for the given data version, see log for details.')\n",
      "WARNING:pailab.tools.tools:Missing measure simple_dense/measure/training_data_prototypes/max for data version: last\n",
      "WARNING:pailab.tools.tools:Missing measure simple_dense/measure/training_data_criticisms/max for data version: last\n"
     ]
    }
   ],
   "source": [
    "import pailab.tools.tools as tools\n",
    "import pandas as pd\n",
    "mse = pd.DataFrame(tools.get_model_measure_list(ml_repo,  'mse', 'training_data'))\n",
    "mse.set_index(['model', 'version'], inplace=True)\n",
    "max_error = pd.DataFrame(tools.get_model_measure_list(ml_repo,  'max', 'training_data'))\n",
    "max_error = max_error.set_index(['model', 'version'])\n",
    "error_overview = pd.concat([mse, max_error], axis=1)\n",
    "error_overview.sort_values(['mse, training_data'], inplace=True)\n",
    "#display(error_overview)"
   ]
  },
  {
   "cell_type": "code",
   "execution_count": 4,
   "metadata": {
    "ExecuteTime": {
     "end_time": "2019-10-07T14:15:38.653088Z",
     "start_time": "2019-10-07T14:15:35.952661Z"
    },
    "extensions": {
     "jupyter_dashboards": {
      "version": 1,
      "views": {
       "grid_default": {
        "hidden": true
       },
       "report_default": {
        "hidden": true
       }
      }
     }
    }
   },
   "outputs": [
    {
     "data": {
      "text/html": [
       "        <script type=\"text/javascript\">\n",
       "        window.PlotlyConfig = {MathJaxConfig: 'local'};\n",
       "        if (window.MathJax) {MathJax.Hub.Config({SVG: {font: \"STIX-Web\"}});}\n",
       "        if (typeof require !== 'undefined') {\n",
       "        require.undef(\"plotly\");\n",
       "        requirejs.config({\n",
       "            paths: {\n",
       "                'plotly': ['https://cdn.plot.ly/plotly-latest.min']\n",
       "            }\n",
       "        });\n",
       "        require(['plotly'], function(Plotly) {\n",
       "            window._Plotly = Plotly;\n",
       "        });\n",
       "        }\n",
       "        </script>\n",
       "        "
      ]
     },
     "metadata": {},
     "output_type": "display_data"
    }
   ],
   "source": [
    "from pailab.analysis import tools_jupyter"
   ]
  },
  {
   "cell_type": "code",
   "execution_count": 5,
   "metadata": {
    "ExecuteTime": {
     "end_time": "2019-10-07T14:15:38.677024Z",
     "start_time": "2019-10-07T14:15:38.657050Z"
    },
    "collapsed": true,
    "extensions": {
     "jupyter_dashboards": {
      "version": 1,
      "views": {
       "grid_default": {
        "col": 0,
        "height": 10,
        "hidden": false,
        "row": 28,
        "width": 4
       },
       "report_default": {
        "hidden": true
       }
      }
     }
    }
   },
   "outputs": [],
   "source": [
    "tools_jupyter.widget_repo.set_repo(ml_repo)"
   ]
  },
  {
   "cell_type": "code",
   "execution_count": 6,
   "metadata": {
    "ExecuteTime": {
     "end_time": "2019-10-07T14:15:38.892736Z",
     "start_time": "2019-10-07T14:15:38.681018Z"
    },
    "code_folding": [],
    "extensions": {
     "jupyter_dashboards": {
      "version": 1,
      "views": {
       "grid_default": {
        "col": 5,
        "height": 12,
        "hidden": false,
        "row": 0,
        "width": 7
       },
       "report_default": {
        "hidden": false
       }
      }
     }
    }
   },
   "outputs": [
    {
     "data": {
      "application/vnd.jupyter.widget-view+json": {
       "model_id": "c157e20ad3d044ae8b4d25b0e504abe5",
       "version_major": 2,
       "version_minor": 0
      },
      "text/plain": [
       "HBox(children=(VBox(children=(Label(value='Object Types'), SelectMultiple(layout=Layout(height='250px', width=…"
      ]
     },
     "metadata": {},
     "output_type": "display_data"
    }
   ],
   "source": [
    "obj_overview =  tools_jupyter.ObjectOverviewList()\n",
    "obj_overview.get_widget()"
   ]
  },
  {
   "cell_type": "code",
   "execution_count": 7,
   "metadata": {
    "ExecuteTime": {
     "end_time": "2019-10-07T14:15:39.120431Z",
     "start_time": "2019-10-07T14:15:38.892736Z"
    },
    "extensions": {
     "jupyter_dashboards": {
      "version": 1,
      "views": {
       "grid_default": {
        "col": 0,
        "height": 15,
        "hidden": false,
        "row": 0,
        "width": 5
       },
       "report_default": {
        "hidden": true
       }
      }
     }
    }
   },
   "outputs": [
    {
     "data": {
      "application/vnd.jupyter.widget-view+json": {
       "model_id": "d9170f081ad74743a580b92e67bcafd1",
       "version_major": 2,
       "version_minor": 0
      },
      "text/plain": [
       "Tab(children=(Output(layout=Layout(height='250px', overflow_x='auto', overflow_y='auto', width='700px')), HBox…"
      ]
     },
     "metadata": {},
     "output_type": "display_data"
    },
    {
     "name": "stderr",
     "output_type": "stream",
     "text": [
      "WARNING:pailab.tools.tools:Missing measure simple_dense/measure/training_data_prototypes/max for data version: last\n",
      "WARNING:pailab.tools.tools:Missing measure simple_dense/measure/training_data_criticisms/max for data version: last\n",
      "C:\\Users\\Anwender\\Anaconda3\\lib\\site-packages\\pailab\\tools\\tools.py:216: UserWarning:\n",
      "\n",
      "There were measures missing for the given data version, see log for details.\n",
      "\n",
      "WARNING:pailab.tools.tools:Missing measure simple_dense/measure/training_data_prototypes/mse for data version: last\n",
      "WARNING:pailab.tools.tools:Missing measure simple_dense/measure/training_data_criticisms/mse for data version: last\n",
      "WARNING: Logging before flag parsing goes to stderr.\n",
      "W1007 16:15:55.457648 17352 tools.py:207] Missing measure simple_dense/measure/training_data_prototypes/max for data version: last\n",
      "W1007 16:15:55.457648 17352 tools.py:207] Missing measure simple_dense/measure/training_data_criticisms/max for data version: last\n",
      "C:\\Users\\Anwender\\Anaconda3\\lib\\site-packages\\pailab\\tools\\tools.py:216: UserWarning:\n",
      "\n",
      "There were measures missing for the given data version, see log for details.\n",
      "\n",
      "W1007 16:15:55.505584 17352 tools.py:207] Missing measure simple_dense/measure/training_data_prototypes/mse for data version: last\n",
      "W1007 16:15:55.505584 17352 tools.py:207] Missing measure simple_dense/measure/training_data_criticisms/mse for data version: last\n"
     ]
    }
   ],
   "source": [
    "display(tools_jupyter.MeasureView().get_widget())"
   ]
  },
  {
   "cell_type": "code",
   "execution_count": 8,
   "metadata": {
    "ExecuteTime": {
     "end_time": "2019-10-07T14:15:39.164373Z",
     "start_time": "2019-10-07T14:15:39.120431Z"
    },
    "extensions": {
     "jupyter_dashboards": {
      "version": 1,
      "views": {
       "grid_default": {
        "col": 7,
        "height": 4,
        "hidden": false,
        "row": 12,
        "width": 4
       },
       "report_default": {}
      }
     }
    }
   },
   "outputs": [
    {
     "data": {
      "application/vnd.jupyter.widget-view+json": {
       "model_id": "d033d7581e0347f79827a6edc20a3739",
       "version_major": 2,
       "version_minor": 0
      },
      "text/plain": [
       "VBox(children=(Button(description='update', style=ButtonStyle()), Output()))"
      ]
     },
     "metadata": {},
     "output_type": "display_data"
    }
   ],
   "source": [
    "tools_jupyter.ConsistencyChecker(ml_repo).get_widget()"
   ]
  },
  {
   "cell_type": "code",
   "execution_count": null,
   "metadata": {
    "collapsed": true,
    "extensions": {
     "jupyter_dashboards": {
      "version": 1,
      "views": {
       "grid_default": {
        "hidden": true
       },
       "report_default": {}
      }
     }
    }
   },
   "outputs": [],
   "source": []
  }
 ],
 "metadata": {
  "extensions": {
   "jupyter_dashboards": {
    "activeView": "grid_default",
    "version": 1,
    "views": {
     "grid_default": {
      "cellMargin": 10,
      "defaultCellHeight": 20,
      "maxColumns": 12,
      "name": "grid",
      "type": "grid"
     },
     "report_default": {
      "name": "report",
      "type": "report"
     }
    }
   }
  },
  "kernelspec": {
   "display_name": "Python 3",
   "language": "python",
   "name": "python3"
  },
  "language_info": {
   "codemirror_mode": {
    "name": "ipython",
    "version": 3
   },
   "file_extension": ".py",
   "mimetype": "text/x-python",
   "name": "python",
   "nbconvert_exporter": "python",
   "pygments_lexer": "ipython3",
   "version": "3.6.1"
  },
  "toc": {
   "base_numbering": 1,
   "colors": {
    "hover_highlight": "#DAA520",
    "navigate_num": "#000000",
    "navigate_text": "#333333",
    "running_highlight": "#FF0000",
    "selected_highlight": "#FFD700",
    "sidebar_border": "#EEEEEE",
    "wrapper_background": "#FFFFFF"
   },
   "moveMenuLeft": true,
   "nav_menu": {
    "height": "12px",
    "width": "252px"
   },
   "navigate_menu": true,
   "number_sections": true,
   "sideBar": false,
   "skip_h1_title": false,
   "threshold": 4,
   "title_cell": "Table of Contents",
   "title_sidebar": "Contents",
   "toc_cell": false,
   "toc_position": {
    "height": "47.7778px",
    "left": "1601.99px",
    "right": "1470.45px",
    "top": "31.7361px",
    "width": "511.354px"
   },
   "toc_section_display": false,
   "toc_window_display": true,
   "widenNotebook": false
  },
  "varInspector": {
   "cols": {
    "lenName": 16,
    "lenType": 16,
    "lenVar": 40
   },
   "kernels_config": {
    "python": {
     "delete_cmd_postfix": "",
     "delete_cmd_prefix": "del ",
     "library": "var_list.py",
     "varRefreshCmd": "print(var_dic_list())"
    },
    "r": {
     "delete_cmd_postfix": ") ",
     "delete_cmd_prefix": "rm(",
     "library": "var_list.r",
     "varRefreshCmd": "cat(var_dic_list()) "
    }
   },
   "types_to_exclude": [
    "module",
    "function",
    "builtin_function_or_method",
    "instance",
    "_Feature"
   ],
   "window_display": false
  }
 },
 "nbformat": 4,
 "nbformat_minor": 2
}
