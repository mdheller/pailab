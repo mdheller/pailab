{
 "cells": [
  {
   "cell_type": "markdown",
   "metadata": {},
   "source": [
    "# Module importieren"
   ]
  },
  {
   "cell_type": "markdown",
   "metadata": {},
   "source": [
    "Home loan default data from [kaggle](https://www.kaggle.com/willkoehrsen/start-here-a-gentle-introduction)"
   ]
  },
  {
   "cell_type": "code",
   "execution_count": 1,
   "metadata": {
    "ExecuteTime": {
     "end_time": "2019-12-19T12:21:29.897684Z",
     "start_time": "2019-12-19T12:21:24.317346Z"
    },
    "collapsed": true
   },
   "outputs": [],
   "source": [
    "import pandas as pd\n",
    "import numpy as np\n",
    "import matplotlib.pyplot as plt\n",
    "import logging as logging\n",
    "\n",
    "from sklearn import tree\n",
    "from sklearn.metrics import roc_curve, auc\n",
    "from sklearn import metrics\n",
    "\n",
    "from sklearn.ensemble import RandomForestClassifier, ExtraTreesClassifier\n",
    "from sklearn.metrics import roc_auc_score\n",
    "from sklearn.impute import SimpleImputer\n",
    "from sklearn.preprocessing import PolynomialFeatures\n",
    "\n",
    "from sklearn.model_selection import cross_val_score\n",
    "\n",
    "import pailab\n",
    "from pylab import rcParams\n",
    "\n",
    "%matplotlib inline\n",
    "\n",
    "logging.basicConfig(level=logging.FATAL)"
   ]
  },
  {
   "cell_type": "markdown",
   "metadata": {},
   "source": [
    "# Initialisiere Repository"
   ]
  },
  {
   "cell_type": "code",
   "execution_count": 2,
   "metadata": {
    "collapsed": true
   },
   "outputs": [],
   "source": [
    "from pailab import MLRepo"
   ]
  },
  {
   "cell_type": "code",
   "execution_count": 3,
   "metadata": {},
   "outputs": [
    {
     "name": "stderr",
     "output_type": "stream",
     "text": [
      "INFO:root:Get mapping.\n",
      "INFO:root:No mapping found, creating new mapping.\n",
      "DEBUG:root:Initializing map with kwargs: {}\n",
      "DEBUG:pailab.ml_repo.memory_handler:repo_mapping added with version d620ab48-48c8-11ea-858e-fc084a6691eb, category: MAPPING\n"
     ]
    }
   ],
   "source": [
    "# setting up the repository\n",
    "config = None\n",
    "if False:\n",
    "    config = {'user': 'test_user',\n",
    "          'workspace': 'c:/temp',\n",
    "          'repo_store': \n",
    "          {\n",
    "              'type': 'git_handler',  \n",
    "              'config': {\n",
    "                  'folder': 'c:/temp', \n",
    "                  'file_format': 'pck'\n",
    "              }\n",
    "          },\n",
    "          'numpy_store':\n",
    "          {\n",
    "              'type': 'hdf_handler',\n",
    "              'config':{\n",
    "                  'folder': 'c:/temp/hdf',\n",
    "                  'version_files': True\n",
    "              }\n",
    "          }\n",
    "         }\n",
    "ml_repo = MLRepo( user = 'test_user', config=None)\n",
    "from pailab.tools.tree import MLTree\n",
    "MLTree.add_tree(ml_repo)"
   ]
  },
  {
   "cell_type": "markdown",
   "metadata": {},
   "source": [
    "# Hilfsfunktionen"
   ]
  },
  {
   "cell_type": "code",
   "execution_count": 4,
   "metadata": {
    "ExecuteTime": {
     "end_time": "2019-12-19T12:21:57.352549Z",
     "start_time": "2019-12-19T12:21:56.904329Z"
    },
    "collapsed": true
   },
   "outputs": [],
   "source": [
    "import graphviz \n",
    "def plot_tree(tree_clf, feature_names = None):\n",
    "    dot_data = tree.export_graphviz(tree_clf, out_file=None, \n",
    "        feature_names=feature_names,\n",
    "        filled=True, rounded=True,  \n",
    "        special_characters=True)  \n",
    "\n",
    "    graph = graphviz.Source(dot_data)\n",
    "    return graph\n",
    "\n",
    "def plot_roc(tree_clf, x, y):\n",
    "    \n",
    "    for k,v in tree_clf.items():\n",
    "        y_score = v.predict_proba(x)\n",
    "        fpr, tpr, _ = roc_curve(y[:], y_score[:, 1])\n",
    "        roc_auc = roc_auc_score(y[:],y_score[:,1])# auc(fpr, tpr)\n",
    "        lw = 2\n",
    "        plt.plot(fpr, tpr, '-x', #color='darkorange',\n",
    "                 lw=lw, label = k + ' (area = %0.3f)' % roc_auc)\n",
    "    plt.plot([0, 1], [0, 1], color='navy', lw=lw, linestyle='--')\n",
    "    plt.xlim([0.0, 1.0])\n",
    "    plt.ylim([0.0, 1.05])\n",
    "    plt.xlabel('False Positive Rate')\n",
    "    plt.ylabel('True Positive Rate')\n",
    "    plt.title('Receiver operating characteristic example')\n",
    "    plt.legend(loc=\"lower right\")\n",
    "    #plt.show()\n",
    "    return plt\n",
    "\n",
    "def plot_probs(tree_clf, x, y):\n",
    "    alpha = 1.0\n",
    "    if len(tree_clf)> 1:\n",
    "        alpha = 0.5;\n",
    "    for k,v in tree_clf.items():\n",
    "        y_score = v.predict_proba(x)\n",
    "        plt.hist(y_score[:,1], alpha=alpha, label = k, bins = 50)\n",
    "    plt.legend()\n",
    "    return plt\n",
    "\n",
    "def plot_feature_importance(clf, feature_names):\n",
    "    feature_importance = {}\n",
    "    for k,v in clf.items():\n",
    "        feature_importance[k] = v.feature_importances_\n",
    "    feature_importance = pd.DataFrame(feature_importance)\n",
    "    feature_importance['FEATURE_NAME'] = feature_names\n",
    "    feature_importance.plot.bar(x='FEATURE_NAME')\n",
    "    plt.title('Feature Importance')\n",
    "\n",
    "    \n",
    "def tree_statistics(clf, x, y):\n",
    "    name = []\n",
    "    num_leaves = []\n",
    "    depth = []\n",
    "    roc_score = []\n",
    "    for k,v in clf.items():\n",
    "        name.append(k)\n",
    "        num_leaves.append(v.get_n_leaves())\n",
    "        depth.append(v.get_depth())\n",
    "        y_score = v.predict_proba(x)\n",
    "        roc_score.append(roc_auc_score(y[:],y_score[:,1]))\n",
    "    result = pd.DataFrame({'name': name, 'num_leaves': num_leaves, 'depth': depth, 'roc_auc_score': roc_score})\n",
    "    return result[['name', 'depth', 'num_leaves', 'roc_auc_score']]\n",
    "\n",
    "def forest_statistics(clf, x, y):\n",
    "    name = []\n",
    "    min_depth = []\n",
    "    max_depth = []\n",
    "    mean_depth = []\n",
    "    min_leaves = []\n",
    "    max_leaves = []\n",
    "    mean_leaves =[]\n",
    "    roc_score = []\n",
    "    for k,v in clf.items():\n",
    "        name.append(k)\n",
    "        leaves = [tree.get_n_leaves() for tree in v.estimators_]\n",
    "        min_leaves.append(np.min(leaves))\n",
    "        mean_leaves.append(np.mean(leaves))\n",
    "        max_leaves.append(np.max(leaves))\n",
    "        depth = [tree.get_depth() for tree in v.estimators_]\n",
    "        min_depth.append(np.min(depth))\n",
    "        max_depth.append(np.max(depth))\n",
    "        mean_depth.append(np.mean(depth))\n",
    "        y_score = v.predict_proba(x)\n",
    "        roc_score.append(roc_auc_score(y[:],y_score[:,1]))\n",
    "    result = pd.DataFrame({'name': name, 'min_leaves': min_leaves, 'max_leaves': max_leaves, 'mean_leaves': mean_leaves,\n",
    "                           'min_depth': min_depth, 'max_depth': max_depth, 'mean_depth': mean_depth, 'roc_auc_score': roc_score})\n",
    "    return result[['name', 'min_depth', 'max_depth', 'mean_depth', 'min_leaves', 'max_leaves', 'mean_leaves', 'roc_auc_score']]\n",
    "\n",
    "def plot_pruning(pruning_path, start = 0, end = -1):\n",
    "    ccp_alphas, impurities = pruning_path.ccp_alphas, path.impurities\n",
    "    plt.plot(ccp_alphas[start:end], impurities[start:end], marker='o', drawstyle=\"steps-post\")\n",
    "    plt.xlabel(\"effective alpha\")\n",
    "    plt.ylabel(\"total impurity of leaves\")\n",
    "    plt.title(\"Total Impurity vs effective alpha\")\n",
    "    \n",
    "def replace_type(column):\n",
    "    result = []\n",
    "    for occtype in full_data[column].unique():\n",
    "        result.append((full_data[full_data[column]==occtype]['TARGET'].sum(), occtype,))\n",
    "    result.sort()\n",
    "    replace_dict = {}\n",
    "    for i in range(len(result)):\n",
    "        replace_dict[result[i][1]] = i\n",
    "    return replace_dict\n"
   ]
  },
  {
   "cell_type": "markdown",
   "metadata": {},
   "source": [
    "# Add Raw-Data to repository"
   ]
  },
  {
   "cell_type": "code",
   "execution_count": 5,
   "metadata": {
    "collapsed": true
   },
   "outputs": [],
   "source": [
    "full_data = pd.read_csv('application_train.csv')\n",
    "full_data['CREDIT_INCOME_RATIO'] = full_data['AMT_CREDIT'] / full_data['AMT_INCOME_TOTAL']\n",
    "full_data['ANNUITY_INCOME_RATIO'] = full_data['AMT_ANNUITY'] / full_data['AMT_INCOME_TOTAL']\n",
    "full_data['CREDIT_TERM'] = full_data['AMT_ANNUITY'] / full_data['AMT_CREDIT']\n",
    "full_data['YEARS_EMPLOYED_AGE_RATIO'] = full_data['YEARS_EMPLOYED']/full_data['AGE']\n",
    "full_data['GOODS_PRICE_CREDIT_RATIO'] = full_data['AMT_GOODS_PRICE'] / full_data['AMT_CREDIT']\n",
    "full_data['YEARS_EMPLOYED_ERROR'] = full_data['YEARS_EMPLOYED']<0\n",
    "\n",
    "# transformiere strings in Zahlen\n",
    "full_data['NAME_EDUCATION_TYPE'].replace(replace_type('NAME_EDUCATION_TYPE'), inplace=True)\n",
    "full_data['CODE_GENDER'].replace({'M':0.0, 'F':1.0, 'XNA':2.0}, inplace=True)\n",
    "full_data['FLAG_OWN_CAR'].replace({'N':0.0, 'Y':1.0}, inplace=True)\n",
    "full_data['FLAG_OWN_REALTY'].replace({'N':0.0, 'Y':1.0}, inplace=True)\n",
    "full_data['OCCUPATION_TYPE'].replace(replace_type('OCCUPATION_TYPE'), inplace=True)\n",
    "\n",
    "#drop rows with nans in column that are not handled by imputers\n",
    "full_data.dropna(subset=['CREDIT_INCOME_RATIO', 'ANNUITY_INCOME_RATIO', 'CREDIT_TERM', 'YEARS_EMPLOYED_AGE_RATIO', 'GOODS_PRICE_CREDIT_RATIO',\n",
    "                 'AGE', 'YEARS_EMPLOYED', 'YEARS_EMPLOYED_ERROR', 'NAME_EDUCATION_TYPE', 'CNT_CHILDREN', 'REGION_RATING_CLIENT', \n",
    "                  'REGION_RATING_CLIENT_W_CITY','REGION_POPULATION_RELATIVE', 'CODE_GENDER', 'FLAG_OWN_CAR', 'FLAG_OWN_REALTY', \n",
    "                  'REGION_RATING_CLIENT_W_CITY', 'OCCUPATION_TYPE'], inplace=True)"
   ]
  },
  {
   "cell_type": "code",
   "execution_count": 7,
   "metadata": {
    "collapsed": true
   },
   "outputs": [],
   "source": [
    "input_names = [x for x in full_data.columns if x is not 'TARGET']\n",
    "input_names.remove('TARGET')"
   ]
  },
  {
   "cell_type": "code",
   "execution_count": 8,
   "metadata": {
    "ExecuteTime": {
     "end_time": "2019-12-19T12:22:44.951555Z",
     "start_time": "2019-12-19T12:22:41.152887Z"
    }
   },
   "outputs": [
    {
     "name": "stderr",
     "output_type": "stream",
     "text": [
      "DEBUG:pailab.ml_repo.memory_handler:raw_data/data added with version db2a5592-48c8-11ea-a82b-fc084a6691eb, category: RAW_DATA\n",
      "DEBUG:pailab.ml_repo.memory_handler:Adding data for raw_data/data and version db2a5592-48c8-11ea-a82b-fc084a6691eb\n",
      "DEBUG:pailab.ml_repo.memory_handler:CommitInfo added with version db2a5592-48c8-11ea-a82b-fc084a6691eb, category: COMMIT_INFO\n",
      "DEBUG:root:Getting raw_data/data, version db2a5592-48c8-11ea-a82b-fc084a6691eb\n"
     ]
    }
   ],
   "source": [
    "ml_repo.tree.raw_data.add('data', full_data, input_variables=input_names, target_variables='TARGET')"
   ]
  },
  {
   "cell_type": "markdown",
   "metadata": {},
   "source": [
    "# Add Preprocessors to the repository"
   ]
  },
  {
   "cell_type": "markdown",
   "metadata": {},
   "source": [
    "## Select subset of columns as input\n",
    "In case we dot not need all columns of the data for on of our models, we may add a preproessor selecting only certain columns."
   ]
  },
  {
   "cell_type": "code",
   "execution_count": 9,
   "metadata": {},
   "outputs": [
    {
     "name": "stderr",
     "output_type": "stream",
     "text": [
      "DEBUG:pailab.ml_repo.memory_handler:column_selector_1/select_columns added with version db2e99d8-48c8-11ea-82a8-fc084a6691eb, category: PREPROCESSING_TRANSFORMING_FUNCTION\n",
      "DEBUG:pailab.ml_repo.memory_handler:CommitInfo added with version db2e99d8-48c8-11ea-82a8-fc084a6691eb, category: COMMIT_INFO\n",
      "DEBUG:pailab.ml_repo.memory_handler:column_selector_1/preprocessor_param added with version db2f35f4-48c8-11ea-9cc9-fc084a6691eb, category: PREPROCESSOR_PARAM\n",
      "DEBUG:pailab.ml_repo.memory_handler:CommitInfo added with version db2f35f4-48c8-11ea-9cc9-fc084a6691eb, category: COMMIT_INFO\n",
      "DEBUG:pailab.ml_repo.memory_handler:column_selector_1 added with version db2fd1fe-48c8-11ea-a934-fc084a6691eb, category: PREPROCESSOR\n",
      "DEBUG:pailab.ml_repo.memory_handler:CommitInfo added with version db2fd1fe-48c8-11ea-a934-fc084a6691eb, category: COMMIT_INFO\n"
     ]
    }
   ],
   "source": [
    "import pailab.externals.numpy_interface as numpy_interface\n",
    "select_columns = ['CREDIT_INCOME_RATIO', 'ANNUITY_INCOME_RATIO', 'CREDIT_TERM', 'YEARS_EMPLOYED_AGE_RATIO', 'GOODS_PRICE_CREDIT_RATIO',\n",
    "                 'AGE', 'YEARS_EMPLOYED', 'YEARS_EMPLOYED_ERROR', 'NAME_EDUCATION_TYPE', 'CNT_CHILDREN', 'REGION_RATING_CLIENT', \n",
    "                  'REGION_RATING_CLIENT_W_CITY','REGION_POPULATION_RELATIVE', 'CODE_GENDER', 'FLAG_OWN_CAR', 'FLAG_OWN_REALTY', \n",
    "                  'REGION_RATING_CLIENT_W_CITY', 'OCCUPATION_TYPE', 'EXT_SOURCE_1', 'EXT_SOURCE_2', 'EXT_SOURCE_3']\n",
    "numpy_interface.add_preprocessor_select_columns(ml_repo, preprocessor_name='column_selector_1', \n",
    "                                                preprocessor_param={'columns':select_columns})"
   ]
  },
  {
   "cell_type": "markdown",
   "metadata": {},
   "source": [
    "## Impute Missing Data"
   ]
  },
  {
   "cell_type": "markdown",
   "metadata": {},
   "source": [
    "To fill in missing data, we add the SimpleImputer using the mdeian from SKLearn to impute missing values."
   ]
  },
  {
   "cell_type": "code",
   "execution_count": 19,
   "metadata": {},
   "outputs": [
    {
     "name": "stderr",
     "output_type": "stream",
     "text": [
      "DEBUG:pailab.ml_repo.memory_handler:SKLSimpleImputer/transform_sklearn added with version 76b1c482-48c9-11ea-be65-fc084a6691eb, category: PREPROCESSING_TRANSFORMING_FUNCTION\n",
      "DEBUG:pailab.ml_repo.memory_handler:CommitInfo added with version 76b1c482-48c9-11ea-be65-fc084a6691eb, category: COMMIT_INFO\n",
      "DEBUG:pailab.ml_repo.memory_handler:SKLSimpleImputer/fit_sklearn added with version 76b26080-48c9-11ea-bc21-fc084a6691eb, category: PREPROCESSING_FITTING_FUNCTION\n",
      "DEBUG:pailab.ml_repo.memory_handler:CommitInfo added with version 76b26080-48c9-11ea-bc21-fc084a6691eb, category: COMMIT_INFO\n",
      "DEBUG:pailab.ml_repo.memory_handler:SKLSimpleImputer/preprocessor_param added with version 76b2fc8c-48c9-11ea-abed-fc084a6691eb, category: PREPROCESSOR_PARAM\n",
      "DEBUG:pailab.ml_repo.memory_handler:CommitInfo added with version 76b2fc8c-48c9-11ea-abed-fc084a6691eb, category: COMMIT_INFO\n",
      "DEBUG:pailab.ml_repo.memory_handler:SKLSimpleImputer added with version 76b3989c-48c9-11ea-a8f0-fc084a6691eb, category: PREPROCESSOR\n",
      "DEBUG:pailab.ml_repo.memory_handler:CommitInfo added with version 76b3989c-48c9-11ea-a8f0-fc084a6691eb, category: COMMIT_INFO\n"
     ]
    }
   ],
   "source": [
    "import pailab.externals.sklearn_interface as sklearn_interface\n",
    "from sklearn.preprocessing import StandardScaler\n",
    "sklearn_interface.add_preprocessor(ml_repo, SimpleImputer(strategy = 'median', add_indicator=True), \n",
    "                                   preprocessor_name='SKLSimpleImputer', columns =  ['EXT_SOURCE_1', 'EXT_SOURCE_2', 'EXT_SOURCE_3'], \n",
    "                                  output_columns = ['EXT_SOURCE_1', 'EXT_SOURCE_2', 'EXT_SOURCE_3', \n",
    "                                                  'EXT_SOURCE_1_MISSING', 'EXT_SOURCE_2_MISSING', 'EXT_SOURCE_3_MISSING'])"
   ]
  },
  {
   "cell_type": "markdown",
   "metadata": {},
   "source": [
    "## Remove NaN"
   ]
  },
  {
   "cell_type": "code",
   "execution_count": 12,
   "metadata": {},
   "outputs": [
    {
     "name": "stderr",
     "output_type": "stream",
     "text": [
      "DEBUG:pailab.ml_repo.memory_handler:RemoveNaN/select_columns added with version f7cde5d2-48c8-11ea-8d2e-fc084a6691eb, category: PREPROCESSING_TRANSFORMING_FUNCTION\n",
      "DEBUG:pailab.ml_repo.memory_handler:CommitInfo added with version f7cde5d2-48c8-11ea-8d2e-fc084a6691eb, category: COMMIT_INFO\n",
      "DEBUG:pailab.ml_repo.memory_handler:RemoveNaN/preprocessor_param added with version f7ce81e4-48c8-11ea-8ed7-fc084a6691eb, category: PREPROCESSOR_PARAM\n",
      "DEBUG:pailab.ml_repo.memory_handler:CommitInfo added with version f7ce81e4-48c8-11ea-8ed7-fc084a6691eb, category: COMMIT_INFO\n",
      "DEBUG:pailab.ml_repo.memory_handler:RemoveNaN added with version f7cf1dfe-48c8-11ea-82ae-fc084a6691eb, category: PREPROCESSOR\n",
      "DEBUG:pailab.ml_repo.memory_handler:CommitInfo added with version f7cf1dfe-48c8-11ea-82ae-fc084a6691eb, category: COMMIT_INFO\n"
     ]
    }
   ],
   "source": [
    "numpy_interface.add_preprocessor_remove_rows_nan(ml_repo, preprocessor_name='RemoveNaN')"
   ]
  },
  {
   "cell_type": "markdown",
   "metadata": {},
   "source": [
    "## Add Polynomial Features"
   ]
  },
  {
   "cell_type": "code",
   "execution_count": 13,
   "metadata": {
    "ExecuteTime": {
     "end_time": "2019-12-19T12:28:29.051997Z",
     "start_time": "2019-12-19T12:28:28.320233Z"
    }
   },
   "outputs": [
    {
     "name": "stderr",
     "output_type": "stream",
     "text": [
      "DEBUG:pailab.ml_repo.memory_handler:PolynomialFeatures/transform_sklearn added with version f89104d0-48c8-11ea-b676-fc084a6691eb, category: PREPROCESSING_TRANSFORMING_FUNCTION\n",
      "DEBUG:pailab.ml_repo.memory_handler:CommitInfo added with version f89104d0-48c8-11ea-b676-fc084a6691eb, category: COMMIT_INFO\n",
      "DEBUG:pailab.ml_repo.memory_handler:PolynomialFeatures/fit_sklearn added with version f891a0e2-48c8-11ea-b8fb-fc084a6691eb, category: PREPROCESSING_FITTING_FUNCTION\n",
      "DEBUG:pailab.ml_repo.memory_handler:CommitInfo added with version f891a0e2-48c8-11ea-b8fb-fc084a6691eb, category: COMMIT_INFO\n",
      "DEBUG:pailab.ml_repo.memory_handler:PolynomialFeatures/preprocessor_param added with version f8923ce8-48c8-11ea-b87e-fc084a6691eb, category: PREPROCESSOR_PARAM\n",
      "DEBUG:pailab.ml_repo.memory_handler:CommitInfo added with version f8923ce8-48c8-11ea-b87e-fc084a6691eb, category: COMMIT_INFO\n",
      "DEBUG:pailab.ml_repo.memory_handler:PolynomialFeatures added with version f892d8ee-48c8-11ea-b9f0-fc084a6691eb, category: PREPROCESSOR\n",
      "DEBUG:pailab.ml_repo.memory_handler:CommitInfo added with version f892d8ee-48c8-11ea-b9f0-fc084a6691eb, category: COMMIT_INFO\n"
     ]
    }
   ],
   "source": [
    "from sklearn.preprocessing import PolynomialFeatures\n",
    "sklearn_interface.add_preprocessor(ml_repo,PolynomialFeatures(degree = 3), preprocessor_name='PolynomialFeatures', \n",
    "                                   columns =  ['EXT_SOURCE_1', 'EXT_SOURCE_2', 'EXT_SOURCE_3'])"
   ]
  },
  {
   "cell_type": "markdown",
   "metadata": {},
   "source": [
    "# Add Trainings- and Testdata"
   ]
  },
  {
   "cell_type": "code",
   "execution_count": 14,
   "metadata": {
    "ExecuteTime": {
     "end_time": "2019-12-19T12:29:06.718343Z",
     "start_time": "2019-12-19T12:29:06.714351Z"
    }
   },
   "outputs": [
    {
     "name": "stderr",
     "output_type": "stream",
     "text": [
      "DEBUG:pailab.ml_repo.memory_handler:training_data added with version f93359b8-48c8-11ea-9436-fc084a6691eb, category: TRAINING_DATA\n",
      "DEBUG:pailab.ml_repo.memory_handler:CommitInfo added with version f93359b8-48c8-11ea-9436-fc084a6691eb, category: COMMIT_INFO\n",
      "DEBUG:root:Getting training_data, version f93359b8-48c8-11ea-9436-fc084a6691eb\n",
      "DEBUG:root:Getting raw_data/data, version last\n",
      "DEBUG:pailab.ml_repo.memory_handler:test added with version f93491c8-48c8-11ea-bdf8-fc084a6691eb, category: TEST_DATA\n",
      "DEBUG:pailab.ml_repo.memory_handler:CommitInfo added with version f93491c8-48c8-11ea-bdf8-fc084a6691eb, category: COMMIT_INFO\n",
      "DEBUG:root:Getting test, version f93491c8-48c8-11ea-bdf8-fc084a6691eb\n",
      "DEBUG:root:Getting raw_data/data, version last\n"
     ]
    }
   ],
   "source": [
    "ml_repo.tree.training_data.add('training_data', 'raw_data/data', end_index = int(0.8*full_data.shape[0]))\n",
    "ml_repo.tree.test_data.add('test', 'raw_data/data', start_index = int(0.8*full_data.shape[0])+1)"
   ]
  },
  {
   "cell_type": "markdown",
   "metadata": {},
   "source": [
    "# Add DecisionTree"
   ]
  },
  {
   "cell_type": "code",
   "execution_count": 15,
   "metadata": {
    "ExecuteTime": {
     "end_time": "2019-12-19T12:38:15.749656Z",
     "start_time": "2019-12-19T12:38:15.419708Z"
    }
   },
   "outputs": [
    {
     "name": "stderr",
     "output_type": "stream",
     "text": [
      "DEBUG:pailab.ml_repo.memory_handler:eval_sklearn added with version fa6d5a90-48c8-11ea-8e57-fc084a6691eb, category: MODEL_EVAL_FUNCTION\n",
      "DEBUG:pailab.ml_repo.memory_handler:CommitInfo added with version fa6d5a90-48c8-11ea-8e57-fc084a6691eb, category: COMMIT_INFO\n",
      "DEBUG:pailab.ml_repo.memory_handler:train_sklearn added with version fa6df694-48c8-11ea-a162-fc084a6691eb, category: TRAINING_FUNCTION\n",
      "DEBUG:pailab.ml_repo.memory_handler:CommitInfo added with version fa6df694-48c8-11ea-a162-fc084a6691eb, category: COMMIT_INFO\n",
      "DEBUG:pailab.ml_repo.memory_handler:DecisionTreeClassifier/model_param added with version fa6e92a4-48c8-11ea-ab77-fc084a6691eb, category: MODEL_PARAM\n",
      "DEBUG:pailab.ml_repo.memory_handler:CommitInfo added with version fa6e92a4-48c8-11ea-ab77-fc084a6691eb, category: COMMIT_INFO\n",
      "DEBUG:pailab.ml_repo.memory_handler:DecisionTreeClassifier added with version fa7066c0-48c8-11ea-9edf-fc084a6691eb, category: MODEL\n",
      "DEBUG:pailab.ml_repo.memory_handler:CommitInfo added with version fa7066c0-48c8-11ea-9edf-fc084a6691eb, category: COMMIT_INFO\n"
     ]
    }
   ],
   "source": [
    "import pailab.externals.sklearn_interface as sklearn_interface\n",
    "sklearn_interface.add_model(ml_repo, tree.DecisionTreeClassifier( max_depth=3, min_samples_split = 2, criterion = 'gini', random_state=42), \n",
    "                           preprocessors=['column_selector_1', 'SKLSimpleImputer', 'RemoveNaN', 'PolynomialFeatures'])"
   ]
  },
  {
   "cell_type": "code",
   "execution_count": 18,
   "metadata": {
    "ExecuteTime": {
     "end_time": "2019-12-19T12:37:44.337261Z",
     "start_time": "2019-12-19T12:37:44.147317Z"
    },
    "scrolled": false
   },
   "outputs": [
    {
     "name": "stderr",
     "output_type": "stream",
     "text": [
      "DEBUG:root:Getting DecisionTreeClassifier, version last\n",
      "DEBUG:root:Getting training_data, version last\n",
      "DEBUG:root:Getting raw_data/data, version last\n",
      "DEBUG:root:Getting column_selector_1, version last\n",
      "DEBUG:root:Getting SKLSimpleImputer, version last\n",
      "DEBUG:root:Getting RemoveNaN, version last\n",
      "DEBUG:root:Getting PolynomialFeatures, version last\n",
      "DEBUG:root:Getting DecisionTreeClassifier/jobs/training, version is None.\n",
      "DEBUG:pailab.ml_repo.memory_handler:DecisionTreeClassifier/jobs/training added with version 5df7092e-48c9-11ea-8099-fc084a6691eb, category: JOB\n",
      "DEBUG:pailab.ml_repo.memory_handler:CommitInfo added with version 5df7092e-48c9-11ea-8099-fc084a6691eb, category: COMMIT_INFO\n",
      "DEBUG:root:Getting DecisionTreeClassifier/jobs/training, version 5df7092e-48c9-11ea-8099-fc084a6691eb\n",
      "DEBUG:root:Getting DecisionTreeClassifier, version last\n",
      "DEBUG:root:Getting training_data, version last\n",
      "DEBUG:root:Getting raw_data/data, version last\n",
      "DEBUG:root:Getting training_data, version last\n",
      "DEBUG:root:Getting raw_data/data, version last\n",
      "DEBUG:pailab.ml_repo.memory_handler:Get data for raw_data/data and version db2a5592-48c8-11ea-a82b-fc084a6691eb\n",
      "DEBUG:pailab.ml_repo.memory_handler:Slice data from_index: 0, to_index: 201504\n",
      "DEBUG:root:Getting train_sklearn, version last\n",
      "DEBUG:root:Getting DecisionTreeClassifier/model_param, version last\n",
      "DEBUG:pailab.ml_repo.repo:Apply preprocessor column_selector_1\n",
      "DEBUG:root:Getting column_selector_1, version last\n",
      "DEBUG:root:Getting column_selector_1/select_columns, version last\n",
      "DEBUG:root:Getting column_selector_1/preprocessor_param, version last\n",
      "DEBUG:pailab.externals.numpy_interface:Select 21 out of 126 columns.\n",
      "DEBUG:pailab.ml_repo.repo:Apply preprocessor SKLSimpleImputer\n",
      "DEBUG:root:Getting SKLSimpleImputer, version last\n",
      "DEBUG:root:Getting SKLSimpleImputer/transform_sklearn, version last\n",
      "DEBUG:root:Getting SKLSimpleImputer/preprocessor_param, version last\n",
      "DEBUG:root:Getting SKLSimpleImputer/fit_sklearn, version last\n",
      "C:\\Users\\Anwender\\Anaconda3\\lib\\site-packages\\pailab\\externals\\sklearn_interface.py:198: UserWarning: Preprocessor output columns are more then inputs, using default names. Please specify custom names to make everything more safe.\n",
      "  'Preprocessor output columns are more then inputs, using default names. Please specify custom names to make everything more safe.')\n",
      "DEBUG:pailab.ml_repo.repo:Apply preprocessor RemoveNaN\n",
      "DEBUG:root:Getting RemoveNaN, version last\n",
      "DEBUG:root:Getting RemoveNaN/select_columns, version last\n",
      "DEBUG:root:Getting RemoveNaN/preprocessor_param, version last\n",
      "DEBUG:pailab.externals.numpy_interface:Delete rows with NaN.\n",
      "DEBUG:pailab.ml_repo.repo:Apply preprocessor PolynomialFeatures\n",
      "DEBUG:root:Getting PolynomialFeatures, version last\n",
      "DEBUG:root:Getting PolynomialFeatures/transform_sklearn, version last\n",
      "DEBUG:root:Getting PolynomialFeatures/preprocessor_param, version last\n",
      "DEBUG:root:Getting PolynomialFeatures/fit_sklearn, version last\n",
      "ERROR:pailab.job_runner.job_runner:'EXT_SOURCE_1' is not in list: Traceback (most recent call last):\n",
      "  File \"C:\\Users\\Anwender\\Anaconda3\\lib\\site-packages\\pailab\\job_runner\\job_runner.py\", line 103, in add\n",
      "    job.run(self._repo, job_id)\n",
      "  File \"C:\\Users\\Anwender\\Anaconda3\\lib\\site-packages\\pailab\\ml_repo\\repo.py\", line 392, in run\n",
      "    raise e from None\n",
      "  File \"C:\\Users\\Anwender\\Anaconda3\\lib\\site-packages\\pailab\\ml_repo\\repo.py\", line 381, in run\n",
      "    self._run(wrapper,  jobid)\n",
      "  File \"C:\\Users\\Anwender\\Anaconda3\\lib\\site-packages\\pailab\\ml_repo\\repo.py\", line 650, in _run\n",
      "    fitted_preprocessor = fitting_func.create()(prepro_param, x_data, x_coord_names)\n",
      "  File \"C:\\Users\\Anwender\\Anaconda3\\lib\\site-packages\\pailab\\externals\\sklearn_interface.py\", line 225, in fit_sklearn\n",
      "    columns = [x_coord_names.index(x) for x in preprocessor_param.columns]\n",
      "  File \"C:\\Users\\Anwender\\Anaconda3\\lib\\site-packages\\pailab\\externals\\sklearn_interface.py\", line 225, in <listcomp>\n",
      "    columns = [x_coord_names.index(x) for x in preprocessor_param.columns]\n",
      "ValueError: 'EXT_SOURCE_1' is not in list\n",
      "\n"
     ]
    },
    {
     "ename": "ValueError",
     "evalue": "'EXT_SOURCE_1' is not in list",
     "output_type": "error",
     "traceback": [
      "\u001b[1;31m---------------------------------------------------------------------------\u001b[0m",
      "\u001b[1;31mValueError\u001b[0m                                Traceback (most recent call last)",
      "\u001b[1;32m<ipython-input-18-594c33c157a1>\u001b[0m in \u001b[0;36m<module>\u001b[1;34m()\u001b[0m\n\u001b[1;32m----> 1\u001b[1;33m \u001b[0mml_repo\u001b[0m\u001b[1;33m.\u001b[0m\u001b[0mrun_training\u001b[0m\u001b[1;33m(\u001b[0m\u001b[1;33m)\u001b[0m\u001b[1;33m\u001b[0m\u001b[0m\n\u001b[0m",
      "\u001b[1;32m~\\Anaconda3\\lib\\site-packages\\pailab\\ml_repo\\repo.py\u001b[0m in \u001b[0;36mrun_training\u001b[1;34m(self, model, message, model_version, training_function_version, training_data_version, training_param_version, model_param_version, run_descendants)\u001b[0m\n\u001b[0;32m   1776\u001b[0m         \u001b[1;32mif\u001b[0m \u001b[0mtrain_job\u001b[0m\u001b[1;33m.\u001b[0m\u001b[0mcheck_rerun\u001b[0m\u001b[1;33m(\u001b[0m\u001b[0mself\u001b[0m\u001b[1;33m)\u001b[0m\u001b[1;33m:\u001b[0m\u001b[1;33m\u001b[0m\u001b[0m\n\u001b[0;32m   1777\u001b[0m             \u001b[0mself\u001b[0m\u001b[1;33m.\u001b[0m\u001b[0madd\u001b[0m\u001b[1;33m(\u001b[0m\u001b[0mtrain_job\u001b[0m\u001b[1;33m)\u001b[0m\u001b[1;33m\u001b[0m\u001b[0m\n\u001b[1;32m-> 1778\u001b[1;33m             \u001b[0mself\u001b[0m\u001b[1;33m.\u001b[0m\u001b[0m_job_runner\u001b[0m\u001b[1;33m.\u001b[0m\u001b[0madd\u001b[0m\u001b[1;33m(\u001b[0m\u001b[0mtrain_job\u001b[0m\u001b[1;33m.\u001b[0m\u001b[0mrepo_info\u001b[0m\u001b[1;33m[\u001b[0m\u001b[0mRepoInfoKey\u001b[0m\u001b[1;33m.\u001b[0m\u001b[0mNAME\u001b[0m\u001b[1;33m]\u001b[0m\u001b[1;33m,\u001b[0m \u001b[0mtrain_job\u001b[0m\u001b[1;33m.\u001b[0m\u001b[0mrepo_info\u001b[0m\u001b[1;33m[\u001b[0m\u001b[0mRepoInfoKey\u001b[0m\u001b[1;33m.\u001b[0m\u001b[0mVERSION\u001b[0m\u001b[1;33m]\u001b[0m\u001b[1;33m,\u001b[0m \u001b[0mself\u001b[0m\u001b[1;33m.\u001b[0m\u001b[0m_user\u001b[0m\u001b[1;33m)\u001b[0m\u001b[1;33m\u001b[0m\u001b[0m\n\u001b[0m\u001b[0;32m   1779\u001b[0m             logging.info('Training job ' + train_job.repo_info[RepoInfoKey.NAME]+ ', version: ' \n\u001b[0;32m   1780\u001b[0m                     + str(train_job.repo_info[RepoInfoKey.VERSION]) + ' added to jobrunner.')\n",
      "\u001b[1;32m~\\Anaconda3\\lib\\site-packages\\pailab\\job_runner\\job_runner.py\u001b[0m in \u001b[0;36madd\u001b[1;34m(self, job_name, job_version, user)\u001b[0m\n\u001b[0;32m    111\u001b[0m             \u001b[0mjob_info\u001b[0m\u001b[1;33m.\u001b[0m\u001b[0mtrace_back\u001b[0m \u001b[1;33m=\u001b[0m \u001b[0mtraceback\u001b[0m\u001b[1;33m.\u001b[0m\u001b[0mformat_exc\u001b[0m\u001b[1;33m(\u001b[0m\u001b[1;33m)\u001b[0m\u001b[1;33m\u001b[0m\u001b[0m\n\u001b[0;32m    112\u001b[0m             \u001b[1;32mif\u001b[0m \u001b[0mself\u001b[0m\u001b[1;33m.\u001b[0m\u001b[0m_throw_job_error\u001b[0m\u001b[1;33m:\u001b[0m\u001b[1;33m\u001b[0m\u001b[0m\n\u001b[1;32m--> 113\u001b[1;33m                 \u001b[1;32mraise\u001b[0m \u001b[0me\u001b[0m\u001b[1;33m\u001b[0m\u001b[0m\n\u001b[0m\u001b[0;32m    114\u001b[0m \u001b[1;33m\u001b[0m\u001b[0m\n\u001b[0;32m    115\u001b[0m         \u001b[1;32mreturn\u001b[0m \u001b[0mjob_id\u001b[0m\u001b[1;33m\u001b[0m\u001b[0m\n",
      "\u001b[1;32m~\\Anaconda3\\lib\\site-packages\\pailab\\job_runner\\job_runner.py\u001b[0m in \u001b[0;36madd\u001b[1;34m(self, job_name, job_version, user)\u001b[0m\n\u001b[0;32m    101\u001b[0m         \u001b[0mjob\u001b[0m \u001b[1;33m=\u001b[0m \u001b[0mself\u001b[0m\u001b[1;33m.\u001b[0m\u001b[0m_repo\u001b[0m\u001b[1;33m.\u001b[0m\u001b[0mget\u001b[0m\u001b[1;33m(\u001b[0m\u001b[0mjob_name\u001b[0m\u001b[1;33m,\u001b[0m \u001b[0mversion\u001b[0m\u001b[1;33m=\u001b[0m\u001b[0mjob_version\u001b[0m\u001b[1;33m)\u001b[0m\u001b[1;33m\u001b[0m\u001b[0m\n\u001b[0;32m    102\u001b[0m         \u001b[1;32mtry\u001b[0m\u001b[1;33m:\u001b[0m\u001b[1;33m\u001b[0m\u001b[0m\n\u001b[1;32m--> 103\u001b[1;33m             \u001b[0mjob\u001b[0m\u001b[1;33m.\u001b[0m\u001b[0mrun\u001b[0m\u001b[1;33m(\u001b[0m\u001b[0mself\u001b[0m\u001b[1;33m.\u001b[0m\u001b[0m_repo\u001b[0m\u001b[1;33m,\u001b[0m \u001b[0mjob_id\u001b[0m\u001b[1;33m)\u001b[0m\u001b[1;33m\u001b[0m\u001b[0m\n\u001b[0m\u001b[0;32m    104\u001b[0m             \u001b[0mjob_info\u001b[0m\u001b[1;33m.\u001b[0m\u001b[0mend_time\u001b[0m \u001b[1;33m=\u001b[0m \u001b[0mdatetime\u001b[0m\u001b[1;33m.\u001b[0m\u001b[0mdatetime\u001b[0m\u001b[1;33m.\u001b[0m\u001b[0mnow\u001b[0m\u001b[1;33m(\u001b[0m\u001b[1;33m)\u001b[0m\u001b[1;33m\u001b[0m\u001b[0m\n\u001b[0;32m    105\u001b[0m             \u001b[0mjob_info\u001b[0m\u001b[1;33m.\u001b[0m\u001b[0mset_state\u001b[0m\u001b[1;33m(\u001b[0m\u001b[0mJobState\u001b[0m\u001b[1;33m.\u001b[0m\u001b[0mSUCCESSFULLY_FINISHED\u001b[0m\u001b[1;33m)\u001b[0m\u001b[1;33m\u001b[0m\u001b[0m\n",
      "\u001b[1;32m~\\Anaconda3\\lib\\site-packages\\pailab\\ml_repo\\repo.py\u001b[0m in \u001b[0;36mrun\u001b[1;34m(self, ml_repo, jobid)\u001b[0m\n\u001b[0;32m    390\u001b[0m             \u001b[0mself\u001b[0m\u001b[1;33m.\u001b[0m\u001b[0merror_message\u001b[0m \u001b[1;33m=\u001b[0m \u001b[0mstr\u001b[0m\u001b[1;33m(\u001b[0m\u001b[0me\u001b[0m\u001b[1;33m)\u001b[0m\u001b[1;33m\u001b[0m\u001b[0m\n\u001b[0;32m    391\u001b[0m             \u001b[0mml_repo\u001b[0m\u001b[1;33m.\u001b[0m\u001b[0m_update_job\u001b[0m\u001b[1;33m(\u001b[0m\u001b[0mself\u001b[0m\u001b[1;33m)\u001b[0m\u001b[1;33m\u001b[0m\u001b[0m\n\u001b[1;32m--> 392\u001b[1;33m             \u001b[1;32mraise\u001b[0m \u001b[0me\u001b[0m \u001b[1;32mfrom\u001b[0m \u001b[1;32mNone\u001b[0m\u001b[1;33m\u001b[0m\u001b[0m\n\u001b[0m\u001b[0;32m    393\u001b[0m \u001b[1;33m\u001b[0m\u001b[0m\n\u001b[0;32m    394\u001b[0m     \u001b[1;32mdef\u001b[0m \u001b[0mcheck_rerun\u001b[0m\u001b[1;33m(\u001b[0m\u001b[0mself\u001b[0m\u001b[1;33m,\u001b[0m \u001b[0mml_repo\u001b[0m\u001b[1;33m)\u001b[0m\u001b[1;33m:\u001b[0m\u001b[1;33m\u001b[0m\u001b[0m\n",
      "\u001b[1;32m~\\Anaconda3\\lib\\site-packages\\pailab\\ml_repo\\repo.py\u001b[0m in \u001b[0;36mrun\u001b[1;34m(self, ml_repo, jobid)\u001b[0m\n\u001b[0;32m    379\u001b[0m         \u001b[0mml_repo\u001b[0m\u001b[1;33m.\u001b[0m\u001b[0m_update_job\u001b[0m\u001b[1;33m(\u001b[0m\u001b[0mself\u001b[0m\u001b[1;33m)\u001b[0m\u001b[1;33m\u001b[0m\u001b[0m\n\u001b[0;32m    380\u001b[0m         \u001b[1;32mtry\u001b[0m\u001b[1;33m:\u001b[0m\u001b[1;33m\u001b[0m\u001b[0m\n\u001b[1;32m--> 381\u001b[1;33m             \u001b[0mself\u001b[0m\u001b[1;33m.\u001b[0m\u001b[0m_run\u001b[0m\u001b[1;33m(\u001b[0m\u001b[0mwrapper\u001b[0m\u001b[1;33m,\u001b[0m  \u001b[0mjobid\u001b[0m\u001b[1;33m)\u001b[0m\u001b[1;33m\u001b[0m\u001b[0m\n\u001b[0m\u001b[0;32m    382\u001b[0m             \u001b[0mself\u001b[0m\u001b[1;33m.\u001b[0m\u001b[0mfinished\u001b[0m \u001b[1;33m=\u001b[0m \u001b[0mstr\u001b[0m\u001b[1;33m(\u001b[0m\u001b[0mdatetime\u001b[0m\u001b[1;33m.\u001b[0m\u001b[0mnow\u001b[0m\u001b[1;33m(\u001b[0m\u001b[1;33m)\u001b[0m\u001b[1;33m)\u001b[0m\u001b[1;33m\u001b[0m\u001b[0m\n\u001b[0;32m    383\u001b[0m             \u001b[0mself\u001b[0m\u001b[1;33m.\u001b[0m\u001b[0mstate\u001b[0m \u001b[1;33m=\u001b[0m\u001b[1;34m'finished'\u001b[0m\u001b[1;33m\u001b[0m\u001b[0m\n",
      "\u001b[1;32m~\\Anaconda3\\lib\\site-packages\\pailab\\ml_repo\\repo.py\u001b[0m in \u001b[0;36m_run\u001b[1;34m(self, repo, jobid)\u001b[0m\n\u001b[0;32m    648\u001b[0m                     \u001b[0mfitting_func\u001b[0m \u001b[1;33m=\u001b[0m \u001b[0mrepo\u001b[0m\u001b[1;33m.\u001b[0m\u001b[0mget\u001b[0m\u001b[1;33m(\u001b[0m\u001b[0mpreprocessor\u001b[0m\u001b[1;33m.\u001b[0m\u001b[0mfitting_function\u001b[0m\u001b[1;33m,\u001b[0m \u001b[0mpreprocessor_fitting_function_versions\u001b[0m\u001b[1;33m[\u001b[0m\u001b[0mk\u001b[0m\u001b[1;33m]\u001b[0m\u001b[1;33m)\u001b[0m\u001b[1;33m\u001b[0m\u001b[0m\n\u001b[0;32m    649\u001b[0m                     \u001b[0mpreprocessors_modification_info\u001b[0m\u001b[1;33m[\u001b[0m\u001b[0mfitting_func\u001b[0m\u001b[1;33m.\u001b[0m\u001b[0mrepo_info\u001b[0m\u001b[1;33m.\u001b[0m\u001b[0mname\u001b[0m\u001b[1;33m]\u001b[0m \u001b[1;33m=\u001b[0m \u001b[0mfitting_func\u001b[0m\u001b[1;33m.\u001b[0m\u001b[0mrepo_info\u001b[0m\u001b[1;33m.\u001b[0m\u001b[0mversion\u001b[0m\u001b[1;33m\u001b[0m\u001b[0m\n\u001b[1;32m--> 650\u001b[1;33m                     \u001b[0mfitted_preprocessor\u001b[0m \u001b[1;33m=\u001b[0m \u001b[0mfitting_func\u001b[0m\u001b[1;33m.\u001b[0m\u001b[0mcreate\u001b[0m\u001b[1;33m(\u001b[0m\u001b[1;33m)\u001b[0m\u001b[1;33m(\u001b[0m\u001b[0mprepro_param\u001b[0m\u001b[1;33m,\u001b[0m \u001b[0mx_data\u001b[0m\u001b[1;33m,\u001b[0m \u001b[0mx_coord_names\u001b[0m\u001b[1;33m)\u001b[0m\u001b[1;33m\u001b[0m\u001b[0m\n\u001b[0m\u001b[0;32m    651\u001b[0m                     \u001b[0mx_data\u001b[0m\u001b[1;33m,\u001b[0m \u001b[0mx_coord_names_new\u001b[0m \u001b[1;33m=\u001b[0m \u001b[0mtransforming_func\u001b[0m\u001b[1;33m.\u001b[0m\u001b[0mcreate\u001b[0m\u001b[1;33m(\u001b[0m\u001b[1;33m)\u001b[0m\u001b[1;33m(\u001b[0m\u001b[0mprepro_param\u001b[0m\u001b[1;33m,\u001b[0m \u001b[0mx_data\u001b[0m\u001b[1;33m,\u001b[0m \u001b[0mx_coord_names\u001b[0m\u001b[1;33m,\u001b[0m \u001b[0mfitted_preprocessor\u001b[0m\u001b[1;33m)\u001b[0m\u001b[1;33m\u001b[0m\u001b[0m\n\u001b[0;32m    652\u001b[0m                     \u001b[0mfitted_preprocessors\u001b[0m\u001b[1;33m.\u001b[0m\u001b[0mappend\u001b[0m\u001b[1;33m(\u001b[0m\u001b[0mfitted_preprocessor\u001b[0m\u001b[1;33m)\u001b[0m\u001b[1;33m\u001b[0m\u001b[0m\n",
      "\u001b[1;32m~\\Anaconda3\\lib\\site-packages\\pailab\\externals\\sklearn_interface.py\u001b[0m in \u001b[0;36mfit_sklearn\u001b[1;34m(preprocessor_param, data_x, x_coord_names)\u001b[0m\n\u001b[0;32m    223\u001b[0m         \u001b[0mprepro\u001b[0m \u001b[1;33m=\u001b[0m \u001b[0mm\u001b[0m\u001b[1;33m(\u001b[0m\u001b[1;33m)\u001b[0m\u001b[1;33m\u001b[0m\u001b[0m\n\u001b[0;32m    224\u001b[0m     \u001b[1;32mif\u001b[0m \u001b[0mpreprocessor_param\u001b[0m\u001b[1;33m.\u001b[0m\u001b[0mcolumns\u001b[0m \u001b[1;32mis\u001b[0m \u001b[1;32mnot\u001b[0m \u001b[1;32mNone\u001b[0m\u001b[1;33m:\u001b[0m\u001b[1;33m\u001b[0m\u001b[0m\n\u001b[1;32m--> 225\u001b[1;33m         \u001b[0mcolumns\u001b[0m \u001b[1;33m=\u001b[0m \u001b[1;33m[\u001b[0m\u001b[0mx_coord_names\u001b[0m\u001b[1;33m.\u001b[0m\u001b[0mindex\u001b[0m\u001b[1;33m(\u001b[0m\u001b[0mx\u001b[0m\u001b[1;33m)\u001b[0m \u001b[1;32mfor\u001b[0m \u001b[0mx\u001b[0m \u001b[1;32min\u001b[0m \u001b[0mpreprocessor_param\u001b[0m\u001b[1;33m.\u001b[0m\u001b[0mcolumns\u001b[0m\u001b[1;33m]\u001b[0m\u001b[1;33m\u001b[0m\u001b[0m\n\u001b[0m\u001b[0;32m    226\u001b[0m         \u001b[0mprepro\u001b[0m\u001b[1;33m.\u001b[0m\u001b[0mfit\u001b[0m\u001b[1;33m(\u001b[0m\u001b[0mX\u001b[0m\u001b[1;33m=\u001b[0m\u001b[0mdata_x\u001b[0m\u001b[1;33m[\u001b[0m\u001b[1;33m:\u001b[0m\u001b[1;33m,\u001b[0m \u001b[0mcolumns\u001b[0m\u001b[1;33m]\u001b[0m\u001b[1;33m)\u001b[0m\u001b[1;33m\u001b[0m\u001b[0m\n\u001b[0;32m    227\u001b[0m     \u001b[1;32melse\u001b[0m\u001b[1;33m:\u001b[0m\u001b[1;33m\u001b[0m\u001b[0m\n",
      "\u001b[1;32m~\\Anaconda3\\lib\\site-packages\\pailab\\externals\\sklearn_interface.py\u001b[0m in \u001b[0;36m<listcomp>\u001b[1;34m(.0)\u001b[0m\n\u001b[0;32m    223\u001b[0m         \u001b[0mprepro\u001b[0m \u001b[1;33m=\u001b[0m \u001b[0mm\u001b[0m\u001b[1;33m(\u001b[0m\u001b[1;33m)\u001b[0m\u001b[1;33m\u001b[0m\u001b[0m\n\u001b[0;32m    224\u001b[0m     \u001b[1;32mif\u001b[0m \u001b[0mpreprocessor_param\u001b[0m\u001b[1;33m.\u001b[0m\u001b[0mcolumns\u001b[0m \u001b[1;32mis\u001b[0m \u001b[1;32mnot\u001b[0m \u001b[1;32mNone\u001b[0m\u001b[1;33m:\u001b[0m\u001b[1;33m\u001b[0m\u001b[0m\n\u001b[1;32m--> 225\u001b[1;33m         \u001b[0mcolumns\u001b[0m \u001b[1;33m=\u001b[0m \u001b[1;33m[\u001b[0m\u001b[0mx_coord_names\u001b[0m\u001b[1;33m.\u001b[0m\u001b[0mindex\u001b[0m\u001b[1;33m(\u001b[0m\u001b[0mx\u001b[0m\u001b[1;33m)\u001b[0m \u001b[1;32mfor\u001b[0m \u001b[0mx\u001b[0m \u001b[1;32min\u001b[0m \u001b[0mpreprocessor_param\u001b[0m\u001b[1;33m.\u001b[0m\u001b[0mcolumns\u001b[0m\u001b[1;33m]\u001b[0m\u001b[1;33m\u001b[0m\u001b[0m\n\u001b[0m\u001b[0;32m    226\u001b[0m         \u001b[0mprepro\u001b[0m\u001b[1;33m.\u001b[0m\u001b[0mfit\u001b[0m\u001b[1;33m(\u001b[0m\u001b[0mX\u001b[0m\u001b[1;33m=\u001b[0m\u001b[0mdata_x\u001b[0m\u001b[1;33m[\u001b[0m\u001b[1;33m:\u001b[0m\u001b[1;33m,\u001b[0m \u001b[0mcolumns\u001b[0m\u001b[1;33m]\u001b[0m\u001b[1;33m)\u001b[0m\u001b[1;33m\u001b[0m\u001b[0m\n\u001b[0;32m    227\u001b[0m     \u001b[1;32melse\u001b[0m\u001b[1;33m:\u001b[0m\u001b[1;33m\u001b[0m\u001b[0m\n",
      "\u001b[1;31mValueError\u001b[0m: 'EXT_SOURCE_1' is not in list"
     ]
    }
   ],
   "source": [
    "ml_repo.run_training()"
   ]
  },
  {
   "cell_type": "code",
   "execution_count": 16,
   "metadata": {
    "collapsed": true
   },
   "outputs": [],
   "source": [
    "imputer = SimpleImputer()\n"
   ]
  },
  {
   "cell_type": "code",
   "execution_count": 21,
   "metadata": {},
   "outputs": [
    {
     "data": {
      "text/plain": [
       "dtype('float64')"
      ]
     },
     "execution_count": 21,
     "metadata": {},
     "output_type": "execute_result"
    }
   ],
   "source": [
    "a=np.empty([10,1])\n",
    "a[0,0] = True\n",
    "a.dtype"
   ]
  },
  {
   "cell_type": "code",
   "execution_count": null,
   "metadata": {
    "collapsed": true
   },
   "outputs": [],
   "source": [
    "ml_repo.tree.training_data.training_data.obj.x_coord_names"
   ]
  },
  {
   "cell_type": "markdown",
   "metadata": {},
   "source": [
    "## Pruning"
   ]
  },
  {
   "cell_type": "code",
   "execution_count": null,
   "metadata": {
    "ExecuteTime": {
     "end_time": "2019-12-19T12:38:51.032719Z",
     "start_time": "2019-12-19T12:38:48.559024Z"
    },
    "collapsed": true
   },
   "outputs": [],
   "source": [
    "tree_clf = tree.DecisionTreeClassifier(max_depth=60, min_samples_split = 2, criterion = 'gini', random_state=42)\n",
    "path = tree_clf.cost_complexity_pruning_path(x_train, y_train)"
   ]
  },
  {
   "cell_type": "code",
   "execution_count": null,
   "metadata": {
    "ExecuteTime": {
     "end_time": "2019-12-19T12:39:29.171965Z",
     "start_time": "2019-12-19T12:39:28.793305Z"
    },
    "collapsed": true
   },
   "outputs": [],
   "source": [
    "rcParams['figure.figsize'] = 15, 10\n",
    "plt.subplot(1,2,1)\n",
    "plot_pruning(path)\n",
    "plt.subplot(1,2,2)\n",
    "plot_pruning(path, 3, 20)"
   ]
  },
  {
   "cell_type": "markdown",
   "metadata": {},
   "source": [
    "## Verschiedene Parametrisierungen"
   ]
  },
  {
   "cell_type": "code",
   "execution_count": null,
   "metadata": {
    "ExecuteTime": {
     "end_time": "2019-12-19T12:49:40.995513Z",
     "start_time": "2019-12-19T12:48:47.790408Z"
    },
    "collapsed": true
   },
   "outputs": [],
   "source": [
    "trees = {}\n",
    "tree_clf = tree.DecisionTreeClassifier( max_depth=4, min_samples_split = 2, criterion = 'gini', random_state=42)\n",
    "trees['example_1'] = tree_clf.fit(x_train, y_train)\n",
    "tree_clf = tree.DecisionTreeClassifier(max_depth=5, min_samples_split = 2, criterion = 'gini', random_state=42)\n",
    "trees['example_2'] = tree_clf.fit(x_train, y_train)\n",
    "tree_clf = tree.DecisionTreeClassifier(max_depth=6, min_samples_split = 2, criterion = 'gini', random_state=42)#'entropy')   \n",
    "trees['example_3'] = tree_clf.fit(x_train, y_train)\n",
    "tree_clf = tree.DecisionTreeClassifier(max_depth=7, min_samples_split = 2, criterion = 'gini', random_state=42)#'entropy')   \n",
    "trees['example_4'] = tree_clf.fit(x_train, y_train)\n",
    "tree_clf = tree.DecisionTreeClassifier(max_depth=8, min_samples_split = 2, criterion = 'gini', random_state=42)#'entropy')   \n",
    "trees['example_4'] = tree_clf.fit(x_train, y_train)\n",
    "tree_clf = tree.DecisionTreeClassifier(max_depth=9, min_samples_split = 2, criterion = 'gini', random_state=42)#'entropy')   \n",
    "trees['example_4'] = tree_clf.fit(x_train, y_train)\n",
    "\n",
    "tree_clf = tree.DecisionTreeClassifier(max_depth=50, min_samples_split = 2, criterion = 'gini', random_state=42, ccp_alpha=0.0000021)\n",
    "trees['example_5'] = tree_clf.fit(x_train, y_train)\n",
    "tree_clf = tree.DecisionTreeClassifier(max_depth=50, min_samples_split = 2, criterion = 'gini', random_state=42, ccp_alpha=0.0000022)\n",
    "trees['example_6'] = tree_clf.fit(x_train, y_train)"
   ]
  },
  {
   "cell_type": "markdown",
   "metadata": {},
   "source": [
    "## ROC und Verteilung der Ausfallwahrscheinlichkeit"
   ]
  },
  {
   "cell_type": "code",
   "execution_count": null,
   "metadata": {
    "ExecuteTime": {
     "end_time": "2019-12-19T12:50:08.289176Z",
     "start_time": "2019-12-19T12:49:55.505612Z"
    },
    "collapsed": true
   },
   "outputs": [],
   "source": [
    "rcParams['figure.figsize'] = 15, 10\n",
    "plt.subplot(2,2,1)\n",
    "_ = plot_roc(trees, x_train, y_train)\n",
    "plt.title('Receiver operating characteristic, training-data')\n",
    "plt.subplot(2,2,2)\n",
    "plot_roc(trees, x_test, y_test)\n",
    "_ = plt.title('Receiver operating characteristic, test-data')\n",
    "plt.subplot(2,2,3)\n",
    "plot_probs(trees, x_train, y_train)\n",
    "\n",
    "plt.subplot(2,2,4)\n",
    "plot_probs(trees, x_test, y_test)\n"
   ]
  },
  {
   "cell_type": "markdown",
   "metadata": {},
   "source": [
    "## Baum-Statistiken"
   ]
  },
  {
   "cell_type": "code",
   "execution_count": null,
   "metadata": {
    "ExecuteTime": {
     "end_time": "2019-12-19T12:44:09.032927Z",
     "start_time": "2019-12-19T12:44:08.894539Z"
    },
    "collapsed": true
   },
   "outputs": [],
   "source": [
    "tree_statistics(trees, x_test, y_test)"
   ]
  },
  {
   "cell_type": "markdown",
   "metadata": {},
   "source": [
    "## Feature Importance"
   ]
  },
  {
   "cell_type": "code",
   "execution_count": null,
   "metadata": {
    "ExecuteTime": {
     "end_time": "2019-12-19T12:50:48.529957Z",
     "start_time": "2019-12-19T12:50:47.579936Z"
    },
    "collapsed": true
   },
   "outputs": [],
   "source": [
    "plot_feature_importance(trees, input_data_x.columns)"
   ]
  },
  {
   "cell_type": "markdown",
   "metadata": {},
   "source": [
    "## Cross-Validation"
   ]
  },
  {
   "cell_type": "code",
   "execution_count": null,
   "metadata": {
    "ExecuteTime": {
     "end_time": "2019-12-19T06:45:42.920480Z",
     "start_time": "2019-12-19T06:45:05.658328Z"
    },
    "collapsed": true
   },
   "outputs": [],
   "source": [
    "for i in [3, 9, 15, 20]:\n",
    "    t = tree.DecisionTreeClassifier(max_depth=i, min_samples_split = 2, criterion = 'gini', random_state=42, ccp_alpha=0.00005)\n",
    "    scores = cross_val_score(t, x_train, y_train,cv=10, scoring='roc_auc')\n",
    "    print('max_depht: ' + str(i) + \", accuracy: %0.3f (+/- %0.3f)\" % (scores.mean(), scores.std() * 2))"
   ]
  },
  {
   "cell_type": "code",
   "execution_count": null,
   "metadata": {
    "ExecuteTime": {
     "end_time": "2019-12-19T06:45:42.936460Z",
     "start_time": "2019-12-19T06:45:42.920480Z"
    },
    "collapsed": true
   },
   "outputs": [],
   "source": [
    "if False:\n",
    "    for alpha in [0.0000021, 0.0000022, 0.0000023, 0.0000024]:\n",
    "        t = tree.DecisionTreeClassifier(max_depth=50, min_samples_split = 10, criterion = 'gini', random_state=42, ccp_alpha=0.0000022)\n",
    "        scores = cross_val_score(t, x_train, y_train,cv=10, scoring='roc_auc')\n",
    "        print(\"Accuracy: %0.3f (+/- %0.3f)\" % (scores.mean(), scores.std() * 2))"
   ]
  },
  {
   "cell_type": "markdown",
   "metadata": {},
   "source": [
    "# Random Forests"
   ]
  },
  {
   "cell_type": "code",
   "execution_count": null,
   "metadata": {
    "ExecuteTime": {
     "end_time": "2019-12-19T12:56:03.713266Z",
     "start_time": "2019-12-19T12:56:03.708281Z"
    },
    "collapsed": true
   },
   "outputs": [],
   "source": [
    "forests = {}"
   ]
  },
  {
   "cell_type": "code",
   "execution_count": null,
   "metadata": {
    "ExecuteTime": {
     "end_time": "2019-12-19T12:58:09.403564Z",
     "start_time": "2019-12-19T12:56:45.038662Z"
    },
    "collapsed": true
   },
   "outputs": [],
   "source": [
    "forest_clf = RandomForestClassifier(max_depth=20, min_samples_split = 20, criterion = 'gini', random_state=42, n_estimators=120, n_jobs = 2, bootstrap = True)\n",
    "forests['forest_1'] = forest_clf.fit(x_train, y_train)"
   ]
  },
  {
   "cell_type": "code",
   "execution_count": null,
   "metadata": {
    "ExecuteTime": {
     "end_time": "2019-12-19T12:59:15.021274Z",
     "start_time": "2019-12-19T12:58:10.051908Z"
    },
    "collapsed": true
   },
   "outputs": [],
   "source": [
    "forest_clf = RandomForestClassifier(max_depth=30, min_samples_split = 2, criterion = 'gini', random_state=42, n_estimators=80, n_jobs = 2)\n",
    "forests['forest_2'] = forest_clf.fit(x_train, y_train)"
   ]
  },
  {
   "cell_type": "code",
   "execution_count": null,
   "metadata": {
    "ExecuteTime": {
     "end_time": "2019-12-19T13:02:21.060350Z",
     "start_time": "2019-12-19T12:59:15.994639Z"
    },
    "collapsed": true
   },
   "outputs": [],
   "source": [
    "forest_clf = RandomForestClassifier(max_depth=30, min_samples_split = 2, criterion = 'gini', random_state=42, n_estimators=240, n_jobs = 2)#, max_features=None)\n",
    "forests['forest_3'] = forest_clf.fit(x_train, y_train)"
   ]
  },
  {
   "cell_type": "code",
   "execution_count": null,
   "metadata": {
    "ExecuteTime": {
     "end_time": "2019-12-19T13:04:59.480252Z",
     "start_time": "2019-12-19T13:02:21.709722Z"
    },
    "collapsed": true
   },
   "outputs": [],
   "source": [
    "forest_clf = RandomForestClassifier(max_depth=30, min_samples_split = 2, criterion = 'gini', random_state=42, n_estimators=500, n_jobs = 2, max_samples=0.3)#, max_features=None)\n",
    "forests['forest_3'] = forest_clf.fit(x_train, y_train)"
   ]
  },
  {
   "cell_type": "markdown",
   "metadata": {},
   "source": [
    "## ROC und Verteilung der Ausfallwahrscheinlichkeit"
   ]
  },
  {
   "cell_type": "code",
   "execution_count": null,
   "metadata": {
    "ExecuteTime": {
     "end_time": "2019-12-19T13:06:10.572798Z",
     "start_time": "2019-12-19T13:05:11.877652Z"
    },
    "collapsed": true
   },
   "outputs": [],
   "source": [
    "rcParams['figure.figsize'] = 15, 10\n",
    "plt.subplot(2,2,1)\n",
    "_ = plot_roc(forests, x_train, y_train)\n",
    "plt.title('Receiver operating characteristic, training-data')\n",
    "plt.subplot(2,2,2)\n",
    "plot_roc(forests, x_test, y_test)\n",
    "_ = plt.title('Receiver operating characteristic, test-data')\n",
    "plt.subplot(2,2,3)\n",
    "plot_probs(forests, x_train, y_train)\n",
    "\n",
    "plt.subplot(2,2,4)\n",
    "plot_probs(forests, x_test, y_test)"
   ]
  },
  {
   "cell_type": "markdown",
   "metadata": {},
   "source": [
    "## Forest-Statistiken"
   ]
  },
  {
   "cell_type": "code",
   "execution_count": null,
   "metadata": {
    "ExecuteTime": {
     "end_time": "2019-12-19T13:07:35.553517Z",
     "start_time": "2019-12-19T13:07:29.966979Z"
    },
    "collapsed": true
   },
   "outputs": [],
   "source": [
    "forest_statistics(forests, x_test, y_test)"
   ]
  },
  {
   "cell_type": "markdown",
   "metadata": {},
   "source": [
    "## Feature Importance"
   ]
  },
  {
   "cell_type": "code",
   "execution_count": null,
   "metadata": {
    "ExecuteTime": {
     "end_time": "2019-12-19T13:08:32.926356Z",
     "start_time": "2019-12-19T13:08:31.883107Z"
    },
    "collapsed": true
   },
   "outputs": [],
   "source": [
    "plot_feature_importance(forests, input_data_x.columns)"
   ]
  },
  {
   "cell_type": "markdown",
   "metadata": {
    "ExecuteTime": {
     "end_time": "2019-12-13T14:52:43.697707Z",
     "start_time": "2019-12-13T14:52:43.673741Z"
    },
    "collapsed": true
   },
   "source": [
    "# Randomized Trees"
   ]
  },
  {
   "cell_type": "code",
   "execution_count": null,
   "metadata": {
    "ExecuteTime": {
     "end_time": "2019-12-19T13:15:11.389203Z",
     "start_time": "2019-12-19T13:10:44.356478Z"
    },
    "collapsed": true
   },
   "outputs": [],
   "source": [
    "extra_tree_clf = {}\n",
    "extra = ExtraTreesClassifier(max_depth=30, min_samples_split = 2, criterion = 'gini', random_state=42, n_estimators=1000, n_jobs = 2, max_samples=0.1)#, max_features=None)\n",
    "extra_tree_clf['example_1'] = extra.fit(x_train, y_train)"
   ]
  },
  {
   "cell_type": "code",
   "execution_count": null,
   "metadata": {
    "ExecuteTime": {
     "end_time": "2019-12-19T13:17:03.697093Z",
     "start_time": "2019-12-19T13:15:12.027205Z"
    },
    "collapsed": true
   },
   "outputs": [],
   "source": [
    "rcParams['figure.figsize'] = 15, 10\n",
    "plt.subplot(2,2,1)\n",
    "_ = plot_roc(extra_tree_clf, x_train, y_train)\n",
    "plt.title('Receiver operating characteristic, training-data')\n",
    "plt.subplot(2,2,2)\n",
    "plot_roc(extra_tree_clf, x_test, y_test)\n",
    "_ = plt.title('Receiver operating characteristic, test-data')\n",
    "plt.subplot(2,2,3)\n",
    "plot_probs(extra_tree_clf, x_train, y_train)\n",
    "\n",
    "plt.subplot(2,2,4)\n",
    "plot_probs(extra_tree_clf, x_test, y_test)"
   ]
  },
  {
   "cell_type": "code",
   "execution_count": null,
   "metadata": {
    "ExecuteTime": {
     "end_time": "2019-12-19T13:17:15.259262Z",
     "start_time": "2019-12-19T13:17:04.556589Z"
    },
    "collapsed": true
   },
   "outputs": [],
   "source": [
    "forest_statistics(extra_tree_clf, x_test, y_test)"
   ]
  },
  {
   "cell_type": "code",
   "execution_count": null,
   "metadata": {
    "ExecuteTime": {
     "end_time": "2019-12-19T14:03:14.333556Z",
     "start_time": "2019-12-19T13:17:15.917083Z"
    },
    "collapsed": true
   },
   "outputs": [],
   "source": [
    "extra = ExtraTreesClassifier(max_depth=30, min_samples_split = 2, criterion = 'gini', random_state=42, n_estimators=1000, n_jobs = 2, max_samples=0.1)#, max_features=None)\n",
    "scores = cross_val_score(extra, x_train, y_train,cv=10, scoring='roc_auc')\n",
    "print('max_depht: ' + str(i) + \", accuracy: %0.3f (+/- %0.3f)\" % (scores.mean(), scores.std() * 2))"
   ]
  },
  {
   "cell_type": "code",
   "execution_count": null,
   "metadata": {
    "collapsed": true
   },
   "outputs": [],
   "source": []
  },
  {
   "cell_type": "code",
   "execution_count": 15,
   "metadata": {
    "collapsed": true
   },
   "outputs": [],
   "source": [
    "a = np.empty((10,3))"
   ]
  },
  {
   "cell_type": "code",
   "execution_count": 16,
   "metadata": {},
   "outputs": [
    {
     "data": {
      "text/plain": [
       "dtype('float64')"
      ]
     },
     "execution_count": 16,
     "metadata": {},
     "output_type": "execute_result"
    }
   ],
   "source": [
    "a.dtype"
   ]
  }
 ],
 "metadata": {
  "hide_input": false,
  "kernelspec": {
   "display_name": "Python 3",
   "language": "python",
   "name": "python3"
  },
  "language_info": {
   "codemirror_mode": {
    "name": "ipython",
    "version": 3
   },
   "file_extension": ".py",
   "mimetype": "text/x-python",
   "name": "python",
   "nbconvert_exporter": "python",
   "pygments_lexer": "ipython3",
   "version": "3.6.1"
  },
  "toc": {
   "base_numbering": 1,
   "colors": {
    "hover_highlight": "#DAA520",
    "navigate_num": "#000000",
    "navigate_text": "#333333",
    "running_highlight": "#FF0000",
    "selected_highlight": "#FFD700",
    "sidebar_border": "#EEEEEE",
    "wrapper_background": "#FFFFFF"
   },
   "moveMenuLeft": true,
   "nav_menu": {},
   "navigate_menu": true,
   "number_sections": false,
   "sideBar": true,
   "skip_h1_title": false,
   "threshold": 4,
   "title_cell": "Table of Contents",
   "title_sidebar": "Contents",
   "toc_cell": false,
   "toc_position": {
    "height": "calc(100% - 180px)",
    "left": "10px",
    "top": "150px",
    "width": "308.168px"
   },
   "toc_section_display": true,
   "toc_window_display": true,
   "widenNotebook": false
  },
  "varInspector": {
   "cols": {
    "lenName": 16,
    "lenType": 16,
    "lenVar": 40
   },
   "kernels_config": {
    "python": {
     "delete_cmd_postfix": "",
     "delete_cmd_prefix": "del ",
     "library": "var_list.py",
     "varRefreshCmd": "print(var_dic_list())"
    },
    "r": {
     "delete_cmd_postfix": ") ",
     "delete_cmd_prefix": "rm(",
     "library": "var_list.r",
     "varRefreshCmd": "cat(var_dic_list()) "
    }
   },
   "types_to_exclude": [
    "module",
    "function",
    "builtin_function_or_method",
    "instance",
    "_Feature"
   ],
   "window_display": false
  }
 },
 "nbformat": 4,
 "nbformat_minor": 2
}
