{
 "cells": [
  {
   "cell_type": "markdown",
   "metadata": {},
   "source": [
    "# Boston Housing - A regression problem\n",
    "In this notebook we give a quick introduction working with pailab's repository and tools where we use the boston housing regression problem as use case."
   ]
  },
  {
   "cell_type": "code",
   "execution_count": 1,
   "metadata": {
    "ExecuteTime": {
     "end_time": "2019-10-24T05:13:42.451272Z",
     "start_time": "2019-10-24T05:13:36.241876Z"
    },
    "code_folding": []
   },
   "outputs": [
    {
     "data": {
      "text/html": [
       "        <script type=\"text/javascript\">\n",
       "        window.PlotlyConfig = {MathJaxConfig: 'local'};\n",
       "        if (window.MathJax) {MathJax.Hub.Config({SVG: {font: \"STIX-Web\"}});}\n",
       "        if (typeof require !== 'undefined') {\n",
       "        require.undef(\"plotly\");\n",
       "        requirejs.config({\n",
       "            paths: {\n",
       "                'plotly': ['https://cdn.plot.ly/plotly-latest.min']\n",
       "            }\n",
       "        });\n",
       "        require(['plotly'], function(Plotly) {\n",
       "            window._Plotly = Plotly;\n",
       "        });\n",
       "        }\n",
       "        </script>\n",
       "        "
      ]
     },
     "metadata": {},
     "output_type": "display_data"
    }
   ],
   "source": [
    "#import all things you need to get startes\n",
    "import time\n",
    "import pandas as pd\n",
    "import logging as logging\n",
    "import pprint\n",
    "import plotly\n",
    "plotly.offline.init_notebook_mode(connected=True)\n",
    "\n",
    "# Here start the repository specific imports\n",
    "import pailab.ml_repo.memory_handler as memory_handler\n",
    "from pailab import RepoInfoKey, MeasureConfiguration, MLRepo, DataSet, MLObjectType, FIRST_VERSION, LAST_VERSION\n",
    "from pailab.job_runner.job_runner import SimpleJobRunner, JobState, SQLiteJobRunner\n",
    "\n",
    "#You may set the loglevel and log-format here. \n",
    "logging.basicConfig(level=logging.FATAL)"
   ]
  },
  {
   "cell_type": "markdown",
   "metadata": {},
   "source": [
    "# Read the data\n",
    "As an example machine learning task to ilustrate the way of working with the repository we use the Boston housing data from the  [UCI Machine Learning Repository](http://archive.ics.uci.edu/ml/index.php) where we have applied some preprocessing. The data consists of house prices together with the house features `'RM'`, `'LSTAT'`, and `'PTRATIO'`:\n",
    "- `'RM'` is the average number of rooms among homes in the neighborhood.\n",
    "- `'LSTAT'` is the percentage of homeowners in the neighborhood considered \"lower class\" (working poor).\n",
    "- `'PTRATIO'` is the ratio of students to teachers in primary and secondary schools in the neighborhood.\n",
    "We just read the csv-file containing the data (also in the repository) into a pandas dataframe."
   ]
  },
  {
   "cell_type": "code",
   "execution_count": 2,
   "metadata": {
    "ExecuteTime": {
     "end_time": "2019-10-24T05:13:42.466232Z",
     "start_time": "2019-10-24T05:13:42.454265Z"
    },
    "collapsed": true
   },
   "outputs": [],
   "source": [
    "data = pd.read_csv('housing.csv')"
   ]
  },
  {
   "cell_type": "markdown",
   "metadata": {},
   "source": [
    "# Create a new repository\n",
    "We first create a new repository for our task. The repository is the central key around all functionality is built. Similar to a repository used for source control in classical software development it contains all data and algorithms needed for the machine learning task. The repository needs storages for \n",
    "- scripts containing the machine learning algorithms and interfaces,\n",
    "- numerical objects such as arrays and matrices representing data, e.g. input data, data from the valuation of the models,\n",
    "- json documents representing parameters, e.g. training parameter, model parameter.\n",
    "\n",
    "To keep things simple, we just start using in memory storages. Note that the used memory interfaces are except for testing and playing around not be the first choice, since when ending the session, everything will be lost...\n",
    "\n",
    "In addition to the storages the repository needs a reference to a JobRunner which the platform can use to execute machine learning jobs. For this example we use the most simple one, executing everything sequential in the same thread, the repository runs in."
   ]
  },
  {
   "cell_type": "code",
   "execution_count": 3,
   "metadata": {
    "ExecuteTime": {
     "end_time": "2019-10-24T05:13:42.527084Z",
     "start_time": "2019-10-24T05:13:42.468227Z"
    },
    "code_folding": [],
    "collapsed": true
   },
   "outputs": [],
   "source": [
    "# setting up the repository\n",
    "config = {'user': 'test_user',\n",
    "      'workspace': 'c:/temp',\n",
    "      'repo_store': \n",
    "      {\n",
    "          'type': 'memory_handler',  \n",
    "          'config': {}\n",
    "      },\n",
    "      'numpy_store':\n",
    "      {\n",
    "          'type': 'memory_handler',\n",
    "          'config':{}\n",
    "      },\n",
    "      'job_runner':\n",
    "      {\n",
    "          'type': 'simple',\n",
    "          'config': {\n",
    "              'throw_job_error': True\n",
    "          }\n",
    "      }\n",
    "    }\n",
    "ml_repo = MLRepo( user = 'test_user', config=config)"
   ]
  },
  {
   "cell_type": "markdown",
   "metadata": {},
   "source": [
    "## Add a tree\n",
    "To navigate in a simple way over all objects, one can add a so-called tree to the repository. The tree allows one to use auto completion to acces objcts and respectiv methods."
   ]
  },
  {
   "cell_type": "code",
   "execution_count": 4,
   "metadata": {
    "ExecuteTime": {
     "end_time": "2019-10-24T05:13:42.639795Z",
     "start_time": "2019-10-24T05:13:42.529064Z"
    },
    "collapsed": true
   },
   "outputs": [],
   "source": [
    "from pailab.tools.tree import MLTree\n",
    "MLTree.add_tree(ml_repo)"
   ]
  },
  {
   "cell_type": "markdown",
   "metadata": {},
   "source": [
    "## Adding data\n",
    "The data in the repository is handled by two different data objects:\n",
    "- RawData is the object containing real data.\n",
    "- DataSet is the object conaining the logical data, i.e. a reference to a RawData object together with a specification, which data from the RawData will be used. Here, one can specify a fixed version of the underlying RawData object (then changes to the RawData will not affect the derived DataSet) or a fixed or floating subset of the RawData by defininga start and endindex cutting the derived data just out of the original data.\n",
    "\n",
    "Normally one will add RawData and then define DataSets which are used to train or test a model which is exactly the way shown in the following."
   ]
  },
  {
   "cell_type": "code",
   "execution_count": 5,
   "metadata": {
    "ExecuteTime": {
     "end_time": "2019-10-24T05:13:42.656725Z",
     "start_time": "2019-10-24T05:13:42.641763Z"
    },
    "collapsed": true
   },
   "outputs": [],
   "source": [
    "# Add RawData. A convenient way to add RawData is simply to use the method add on the raw_data collection.\n",
    "# This method just takes a pandas dataframe and the specification, which columns belong to the input \n",
    "#and which to the targets.\n",
    "ml_repo.tree.raw_data.add('boston_housing', data,  \n",
    "                          input_variables=['RM', 'LSTAT', 'PTRATIO'], \n",
    "                          target_variables = ['MEDV'])\n",
    "# based on the raw data we now define training and test sets\n",
    "ml_repo.tree.training_data.add('sample1', ml_repo.tree.raw_data.boston_housing(), 0, 300)\n",
    "ml_repo.tree.test_data.add('sample2', ml_repo.tree.raw_data.boston_housing(), 301, None)"
   ]
  },
  {
   "cell_type": "markdown",
   "metadata": {},
   "source": [
    "When creating the DataSet we have to set two important informations for the repository, given as a dictionary:\n",
    "- The object name. Each object in the repository needs to have a unique name in the repository.\n",
    "- The object type which gives. In our example here we say that we specify that the DataSet are training and test data. Note that on can have only one training data object pre repository while the repository can obtain many different test data sets.\n",
    "\n",
    "Some may wonder what is now stored in *version_list*.\n",
    "** Adding an object (independent if it is a data object or some other object such as a parameter), the object gets a version number and no object will be removed, adding just adds a new version.** The add method returns a dictionary of the object names together with their version number."
   ]
  },
  {
   "cell_type": "markdown",
   "metadata": {},
   "source": [
    "## Adding a model\n",
    "The next step to do machine learning would be to define a model which will be used in the repository. A model consists of the following pieces\n",
    "- a skript where the code for the model valuation is defined together with the function name of the evaluation method\n",
    "- a skript where the code for the model training is defined together with th function nam of the training method\n",
    "- a model parameter object defining the model parameter and which must have implemented the correct interface so that it can be used within the repository (see the documentation on integrating new objects, normally there is not more to do then just simply add *@repo_object_init()* to the line above your *__init__* method)\n",
    "- a training parameter object defining training parameters (such as number of optimization steps etc.), if necessary for your algorithms (this oen is optional)\n",
    "\n",
    "** SKLearn models as an example**\n",
    "\n",
    "We do not have to define the pieces defined above, if we use the sklearn module. Instead we can use the pailab.externals.sklearn module interfacing \n",
    "the sklearn package so that this can be used within the repository. This interface provides a simple method (add_model) to add an arbitrary sklearn model as a model which can be handled by the repository. This method adds a bunch of repo objects to the repository (according to the pieces described above):\n",
    "- An object defining the function to be called to evaluate the model\n",
    "- An object defining the function to be called to train the model\n",
    "- An object defining the model\n",
    "- An object defining the model parameter\n",
    "For the following we just use a DecisionTree as our model."
   ]
  },
  {
   "cell_type": "code",
   "execution_count": 6,
   "metadata": {
    "ExecuteTime": {
     "end_time": "2019-10-24T05:13:44.468879Z",
     "start_time": "2019-10-24T05:13:42.659715Z"
    },
    "collapsed": true
   },
   "outputs": [],
   "source": [
    "import pailab.externals.sklearn_interface as sklearn_interface\n",
    "from sklearn.tree import DecisionTreeRegressor\n",
    "sklearn_interface.add_model(ml_repo, DecisionTreeRegressor(), model_param={'max_depth': 5})"
   ]
  },
  {
   "cell_type": "markdown",
   "metadata": {},
   "source": [
    "## Train the model\n",
    "Now, model taining is very simple, since you have defined training and testing data as well as  methods to value and fit your model and the model parameter.\n",
    "So, you can just call *run_training* on the repository, and the training is perfomred automatically.\n",
    "The training job is executed via the JobRunner you specified setting up the repository. All method of the repository involving jobs return the job id when adding the job to the JobRunner so that you can control the status of the task and see if it sucessfully finished."
   ]
  },
  {
   "cell_type": "code",
   "execution_count": 7,
   "metadata": {
    "ExecuteTime": {
     "end_time": "2019-10-24T05:13:44.488825Z",
     "start_time": "2019-10-24T05:13:44.472868Z"
    }
   },
   "outputs": [
    {
     "name": "stdout",
     "output_type": "stream",
     "text": [
      "('DecisionTreeRegressor/jobs/training', '0d0a104c-f61d-11e9-9513-fc084a6691eb')\n"
     ]
    }
   ],
   "source": [
    "job_id = ml_repo.run_training() \n",
    "print(job_id)\n",
    "job_info = ml_repo._job_runner.get_info(job_id[0], job_id[1])"
   ]
  },
  {
   "cell_type": "markdown",
   "metadata": {},
   "source": [
    "## Run evaluation\n",
    "To measure errors and to provide plots the model must be evaluated on all test and training datasets."
   ]
  },
  {
   "cell_type": "code",
   "execution_count": 8,
   "metadata": {
    "ExecuteTime": {
     "end_time": "2019-10-24T05:13:44.547668Z",
     "start_time": "2019-10-24T05:13:44.490820Z"
    }
   },
   "outputs": [
    {
     "name": "stdout",
     "output_type": "stream",
     "text": [
      "test_user, successfully_finished, started 2019-10-24 07:13:44.536697, finished 2019-10-24 07:13:44.539690\n"
     ]
    }
   ],
   "source": [
    "job_id = ml_repo.run_evaluation()\n",
    "# print information about the job\n",
    "info = ml_repo._job_runner.get_info(job_id[0][0], job_id[0][1]) \n",
    "print(str(info))"
   ]
  },
  {
   "cell_type": "markdown",
   "metadata": {},
   "source": [
    "## Add and compute measures"
   ]
  },
  {
   "cell_type": "code",
   "execution_count": 9,
   "metadata": {
    "ExecuteTime": {
     "end_time": "2019-10-24T05:13:44.598532Z",
     "start_time": "2019-10-24T05:13:44.550661Z"
    },
    "collapsed": true
   },
   "outputs": [],
   "source": [
    "ml_repo.add_measure(MeasureConfiguration.MAX)\n",
    "ml_repo.add_measure(MeasureConfiguration.R2)"
   ]
  },
  {
   "cell_type": "code",
   "execution_count": 10,
   "metadata": {
    "ExecuteTime": {
     "end_time": "2019-10-24T05:13:44.666349Z",
     "start_time": "2019-10-24T05:13:44.601524Z"
    },
    "collapsed": true
   },
   "outputs": [],
   "source": [
    "job_ids = ml_repo.run_measures()"
   ]
  },
  {
   "cell_type": "code",
   "execution_count": 11,
   "metadata": {
    "ExecuteTime": {
     "end_time": "2019-10-24T05:13:44.736163Z",
     "start_time": "2019-10-24T05:13:44.669344Z"
    }
   },
   "outputs": [
    {
     "name": "stdout",
     "output_type": "stream",
     "text": [
      "223200.0\n"
     ]
    }
   ],
   "source": [
    "ml_repo.tree.models.DecisionTreeRegressor.measures.sample1.max.load()\n",
    "print(str(ml_repo.tree.models.DecisionTreeRegressor.measures.sample1.max.obj.value))"
   ]
  },
  {
   "cell_type": "markdown",
   "metadata": {},
   "source": [
    "Note that the steps\n",
    "- *run_evaluation*\n",
    "- *run_measures*\n",
    "\n",
    "are not necessary if *run_training* is called with the keyword argument *run_descendants=True*. \n",
    "In This case the repository would have automatically triggered all evaluations and measurement calculations automatically."
   ]
  },
  {
   "cell_type": "markdown",
   "metadata": {},
   "source": [
    "# Working with the repository\n",
    "This section shows how one can work with the audit and revision functionality of the repository."
   ]
  },
  {
   "cell_type": "code",
   "execution_count": 12,
   "metadata": {
    "ExecuteTime": {
     "end_time": "2019-10-24T05:13:44.792048Z",
     "start_time": "2019-10-24T05:13:44.739157Z"
    }
   },
   "outputs": [
    {
     "name": "stdout",
     "output_type": "stream",
     "text": [
      "DecisionTreeRegressor/eval/sample1\t  EVAL_DATA\n",
      "DecisionTreeRegressor/eval/sample2\t  EVAL_DATA\n",
      "raw_data/boston_housing\t  RAW_DATA\n",
      "sample1\t  TRAINING_DATA\n",
      "sample2\t  TEST_DATA\n",
      "DecisionTreeRegressor/model_param\t  MODEL_PARAM\n",
      "train_sklearn\t  TRAINING_FUNCTION\n",
      "eval_sklearn\t  MODEL_EVAL_FUNCTION\n",
      "DecisionTreeRegressor\t  MODEL\n",
      "DecisionTreeRegressor/model\t  CALIBRATED_MODEL\n",
      "CommitInfo\t  COMMIT_INFO\n",
      "repo_mapping\t  MAPPING\n",
      "DecisionTreeRegressor/measure/sample1/max\t  MEASURE\n",
      "DecisionTreeRegressor/measure/sample1/r2\t  MEASURE\n",
      "DecisionTreeRegressor/measure/sample2/max\t  MEASURE\n",
      "DecisionTreeRegressor/measure/sample2/r2\t  MEASURE\n",
      "measure_config\t  MEASURE_CONFIGURATION\n",
      "DecisionTreeRegressor/jobs/training\t  JOB\n",
      "DecisionTreeRegressor/model/jobs/eval_job/sample1\t  JOB\n",
      "DecisionTreeRegressor/model/jobs/eval_job/sample2\t  JOB\n",
      "DecisionTreeRegressor/model/jobs/measure/sample1/max\t  JOB\n",
      "DecisionTreeRegressor/model/jobs/measure/sample1/r2\t  JOB\n",
      "DecisionTreeRegressor/model/jobs/measure/sample2/max\t  JOB\n",
      "DecisionTreeRegressor/model/jobs/measure/sample2/r2\t  JOB\n"
     ]
    }
   ],
   "source": [
    "for k in MLObjectType:\n",
    "    names = ml_repo.get_names(k.value)\n",
    "    for n in names: \n",
    "        print(n + '\\t  ' + k.value)"
   ]
  },
  {
   "cell_type": "markdown",
   "metadata": {},
   "source": [
    "Repository information such as version number, author, date of change are attached to the repo objects and can simply be retrieved:"
   ]
  },
  {
   "cell_type": "code",
   "execution_count": 13,
   "metadata": {
    "ExecuteTime": {
     "end_time": "2019-10-24T05:13:44.851857Z",
     "start_time": "2019-10-24T05:13:44.794011Z"
    }
   },
   "outputs": [
    {
     "name": "stdout",
     "output_type": "stream",
     "text": [
      "{'author': 'test_user',\n",
      " 'big_objects': [],\n",
      " 'category': 'MEASURE',\n",
      " 'classname': 'pailab.ml_repo.repo_objects.Measure',\n",
      " 'commit_date': '2019-10-24 07:13:44.656376',\n",
      " 'commit_message': 'computing  measure r2 on data sample1',\n",
      " 'description': None,\n",
      " 'modification_info': {'DecisionTreeRegressor': '0d088ab6-f61d-11e9-a28e-fc084a6691eb',\n",
      "                       'DecisionTreeRegressor/eval/sample1': '0d13a6a2-f61d-11e9-8686-fc084a6691eb',\n",
      "                       'DecisionTreeRegressor/model': '0d0ad312-f61d-11e9-a4ff-fc084a6691eb',\n",
      "                       'DecisionTreeRegressor/model_param': '0d0863c3-f61d-11e9-8449-fc084a6691eb',\n",
      "                       'sample1': '0bf39388-f61d-11e9-96ae-fc084a6691eb'},\n",
      " 'modifiers': {},\n",
      " 'name': 'DecisionTreeRegressor/measure/sample1/r2',\n",
      " 'version': '0d259bb8-f61d-11e9-8ea6-fc084a6691eb'}\n"
     ]
    }
   ],
   "source": [
    "ml_repo.tree.models.DecisionTreeRegressor.measures.sample1.r2.load()\n",
    "pprint.pprint(ml_repo.tree.models.DecisionTreeRegressor.measures.sample1.r2.obj.repo_info.get_dictionary())"
   ]
  },
  {
   "cell_type": "code",
   "execution_count": 14,
   "metadata": {
    "ExecuteTime": {
     "end_time": "2019-10-24T05:13:44.911695Z",
     "start_time": "2019-10-24T05:13:44.854849Z"
    }
   },
   "outputs": [
    {
     "data": {
      "text/plain": [
       "{'DecisionTreeRegressor/measure/sample1/r2': [{'RepoInfoKey.AUTHOR': 'test_user',\n",
       "   'RepoInfoKey.COMMIT_DATE': '2019-10-24 07:13:44.656376',\n",
       "   'RepoInfoKey.COMMIT_MESSAGE': 'computing  measure r2 on data sample1',\n",
       "   'RepoInfoKey.NAME': 'DecisionTreeRegressor/measure/sample1/r2'}]}"
      ]
     },
     "execution_count": 14,
     "metadata": {},
     "output_type": "execute_result"
    }
   ],
   "source": [
    "ml_repo.tree.models.DecisionTreeRegressor.measures.sample1.r2.history()"
   ]
  },
  {
   "cell_type": "markdown",
   "metadata": {},
   "source": [
    "The commits can also be queried and printed. "
   ]
  },
  {
   "cell_type": "code",
   "execution_count": 15,
   "metadata": {
    "ExecuteTime": {
     "end_time": "2019-10-24T05:13:45.025390Z",
     "start_time": "2019-10-24T05:13:44.914687Z"
    }
   },
   "outputs": [
    {
     "name": "stdout",
     "output_type": "stream",
     "text": [
      "{'author': 'test_user',\n",
      " 'message': 'data raw_data/boston_housing added to repository',\n",
      " 'objects': {'raw_data/boston_housing': '0bf36c9e-f61d-11e9-abad-fc084a6691eb'},\n",
      " 'time': datetime.datetime(2019, 10, 24, 7, 13, 42, 649769)}\n",
      "{'author': 'test_user',\n",
      " 'message': '',\n",
      " 'objects': {'sample1': '0bf39388-f61d-11e9-96ae-fc084a6691eb'},\n",
      " 'time': datetime.datetime(2019, 10, 24, 7, 13, 42, 650765)}\n",
      "{'author': 'test_user',\n",
      " 'message': '',\n",
      " 'objects': {'sample2': '0bf3ba92-f61d-11e9-b54b-fc084a6691eb'},\n",
      " 'time': datetime.datetime(2019, 10, 24, 7, 13, 42, 651765)}\n",
      "{'author': 'test_user',\n",
      " 'message': 'add function eval_sklearn of category MODEL_EVAL_FUNCTION to the '\n",
      "            'repo',\n",
      " 'objects': {'eval_sklearn': '0d083cca-f61d-11e9-8ba5-fc084a6691eb'},\n",
      " 'time': datetime.datetime(2019, 10, 24, 7, 13, 44, 464889)}\n",
      "{'author': 'test_user',\n",
      " 'message': 'add function train_sklearn of category TRAINING_FUNCTION to the '\n",
      "            'repo',\n",
      " 'objects': {'train_sklearn': '0d0863c2-f61d-11e9-954a-fc084a6691eb'},\n",
      " 'time': datetime.datetime(2019, 10, 24, 7, 13, 44, 464889)}\n",
      "{'author': 'test_user',\n",
      " 'message': 'adding model and training parameter',\n",
      " 'objects': {'DecisionTreeRegressor/model_param': '0d0863c3-f61d-11e9-8449-fc084a6691eb'},\n",
      " 'time': datetime.datetime(2019, 10, 24, 7, 13, 44, 464889)}\n",
      "{'author': 'test_user',\n",
      " 'message': 'add model DecisionTreeRegressor',\n",
      " 'objects': {'DecisionTreeRegressor': '0d088ab6-f61d-11e9-a28e-fc084a6691eb'},\n",
      " 'time': datetime.datetime(2019, 10, 24, 7, 13, 44, 465886)}\n",
      "{'author': 'test_user',\n",
      " 'message': '',\n",
      " 'objects': {'DecisionTreeRegressor/jobs/training': '0d0a104c-f61d-11e9-9513-fc084a6691eb'},\n",
      " 'time': datetime.datetime(2019, 10, 24, 7, 13, 44, 476857)}\n",
      "{'author': 'test_user',\n",
      " 'message': 'training of model DecisionTreeRegressor',\n",
      " 'objects': {'DecisionTreeRegressor/model': '0d0ad312-f61d-11e9-a4ff-fc084a6691eb'},\n",
      " 'time': datetime.datetime(2019, 10, 24, 7, 13, 44, 480846)}\n",
      "{'author': 'test_user',\n",
      " 'message': '',\n",
      " 'objects': {'DecisionTreeRegressor/model/jobs/eval_job/sample1': '0d1358be-f61d-11e9-82ff-fc084a6691eb'},\n",
      " 'time': datetime.datetime(2019, 10, 24, 7, 13, 44, 536697)}\n",
      "{'author': 'test_user',\n",
      " 'message': 'evaluate data sample1 with model DecisionTreeRegressor/model',\n",
      " 'objects': {'DecisionTreeRegressor/eval/sample1': '0d13a6a2-f61d-11e9-8686-fc084a6691eb'},\n",
      " 'time': datetime.datetime(2019, 10, 24, 7, 13, 44, 539690)}\n",
      "{'author': 'test_user',\n",
      " 'message': '',\n",
      " 'objects': {'DecisionTreeRegressor/model/jobs/eval_job/sample2': '0d13f49c-f61d-11e9-b149-fc084a6691eb'},\n",
      " 'time': datetime.datetime(2019, 10, 24, 7, 13, 44, 540687)}\n",
      "{'author': 'test_user',\n",
      " 'message': 'evaluate data sample2 with model DecisionTreeRegressor/model',\n",
      " 'objects': {'DecisionTreeRegressor/eval/sample2': '0d14428a-f61d-11e9-be55-fc084a6691eb'},\n",
      " 'time': datetime.datetime(2019, 10, 24, 7, 13, 44, 543680)}\n",
      "{'author': 'test_user',\n",
      " 'message': 'added measure max for coordinates all',\n",
      " 'objects': {'measure_config': '0d1c2c58-f61d-11e9-904b-fc084a6691eb'},\n",
      " 'time': datetime.datetime(2019, 10, 24, 7, 13, 44, 594543)}\n",
      "{'author': 'test_user',\n",
      " 'message': 'added measure r2 for coordinates all',\n",
      " 'objects': {'measure_config': '0d1c2c59-f61d-11e9-92be-fc084a6691eb'},\n",
      " 'time': datetime.datetime(2019, 10, 24, 7, 13, 44, 595539)}\n",
      "{'author': 'test_user',\n",
      " 'message': '',\n",
      " 'objects': {'DecisionTreeRegressor/model/jobs/measure/sample1/max': '0d24d8f6-f61d-11e9-914f-fc084a6691eb'},\n",
      " 'time': datetime.datetime(2019, 10, 24, 7, 13, 44, 651391)}\n",
      "{'author': 'test_user',\n",
      " 'message': 'computing  measure max on data sample1',\n",
      " 'objects': {'DecisionTreeRegressor/measure/sample1/max': '0d2526da-f61d-11e9-8914-fc084a6691eb'},\n",
      " 'time': datetime.datetime(2019, 10, 24, 7, 13, 44, 653385)}\n",
      "{'author': 'test_user',\n",
      " 'message': '',\n",
      " 'objects': {'DecisionTreeRegressor/model/jobs/measure/sample1/r2': '0d2526db-f61d-11e9-a438-fc084a6691eb'},\n",
      " 'time': datetime.datetime(2019, 10, 24, 7, 13, 44, 654382)}\n",
      "{'author': 'test_user',\n",
      " 'message': 'computing  measure r2 on data sample1',\n",
      " 'objects': {'DecisionTreeRegressor/measure/sample1/r2': '0d259bb8-f61d-11e9-8ea6-fc084a6691eb'},\n",
      " 'time': datetime.datetime(2019, 10, 24, 7, 13, 44, 656376)}\n",
      "{'author': 'test_user',\n",
      " 'message': '',\n",
      " 'objects': {'DecisionTreeRegressor/model/jobs/measure/sample2/max': '0d25c2b6-f61d-11e9-8358-fc084a6691eb'},\n",
      " 'time': datetime.datetime(2019, 10, 24, 7, 13, 44, 657374)}\n",
      "{'author': 'test_user',\n",
      " 'message': 'computing  measure max on data sample2',\n",
      " 'objects': {'DecisionTreeRegressor/measure/sample2/max': '0d25e9a8-f61d-11e9-8c35-fc084a6691eb'},\n",
      " 'time': datetime.datetime(2019, 10, 24, 7, 13, 44, 659370)}\n",
      "{'author': 'test_user',\n",
      " 'message': '',\n",
      " 'objects': {'DecisionTreeRegressor/model/jobs/measure/sample2/r2': '0d2610a4-f61d-11e9-bbd1-fc084a6691eb'},\n",
      " 'time': datetime.datetime(2019, 10, 24, 7, 13, 44, 660366)}\n",
      "{'author': 'test_user',\n",
      " 'message': 'computing  measure r2 on data sample2',\n",
      " 'objects': {'DecisionTreeRegressor/measure/sample2/r2': '0d26857a-f61d-11e9-9e80-fc084a6691eb'},\n",
      " 'time': datetime.datetime(2019, 10, 24, 7, 13, 44, 662361)}\n"
     ]
    }
   ],
   "source": [
    "for k in ml_repo.get_commits():\n",
    "    pprint.pprint(k.to_dict())"
   ]
  },
  {
   "cell_type": "markdown",
   "metadata": {},
   "source": [
    "## Labeling models\n",
    "There is the possibility to label a certain version of a model. The label can then be used to access the model instead of the version number. It is vry useful to\n",
    "compare e.g. the current productive model (labeld e.g. 'prod') against other model versions. abels are supported by many functions and tools and make life much easier. So the consistency checks only check for the latest and labeled models if there are changes make a rerun of training/evaluation/measures needed. Also som figures will automatically highlight the results belonging to labeled versions.\n",
    "\n",
    "Let us label the latest model version in the repo."
   ]
  },
  {
   "cell_type": "code",
   "execution_count": 16,
   "metadata": {
    "ExecuteTime": {
     "end_time": "2019-10-24T05:13:45.035365Z",
     "start_time": "2019-10-24T05:13:45.028384Z"
    },
    "collapsed": true
   },
   "outputs": [],
   "source": [
    "ml_repo.tree.models.DecisionTreeRegressor.set_label('prod',version = LAST_VERSION, message='we found our first production model')"
   ]
  },
  {
   "cell_type": "markdown",
   "metadata": {},
   "source": [
    "## Tests\n",
    "It is possible to define model tests.\n",
    "### Regressiontests\n",
    "Regressiontests compare measuresments on the repositories dataset of a model to th measurements of labeled reference model."
   ]
  },
  {
   "cell_type": "code",
   "execution_count": 17,
   "metadata": {
    "ExecuteTime": {
     "end_time": "2019-10-24T05:13:45.094207Z",
     "start_time": "2019-10-24T05:13:45.038357Z"
    }
   },
   "outputs": [
    {
     "data": {
      "text/plain": [
       "'0d6780b6-f61d-11e9-8ff8-fc084a6691eb'"
      ]
     },
     "execution_count": 17,
     "metadata": {},
     "output_type": "execute_result"
    }
   ],
   "source": [
    "import pailab.tools.tests\n",
    "reg_test = pailab.tools.tests.RegressionTestDefinition(reference='prod', models=None, data=None, labels=None, measures=None,  tol=1e-3)\n",
    "reg_test.repo_info.name='reg_test'\n",
    "#reg_test.repo_info.category = MLObjectType.TEST_DEFINITION\n",
    "ml_repo.add(reg_test, message='regression test definition')\n",
    "#ml_repo.tree.models.DecisionTreeRegressor.measures.sample1."
   ]
  },
  {
   "cell_type": "code",
   "execution_count": 18,
   "metadata": {
    "ExecuteTime": {
     "end_time": "2019-10-24T05:13:45.154047Z",
     "start_time": "2019-10-24T05:13:45.097201Z"
    }
   },
   "outputs": [
    {
     "data": {
      "text/plain": [
       "[('DecisionTreeRegressor/tests/reg_test/sample2',\n",
       "  '0d6fb874-f61d-11e9-964c-fc084a6691eb'),\n",
       " ('DecisionTreeRegressor/tests/reg_test/sample1',\n",
       "  '0d702d5a-f61d-11e9-ae39-fc084a6691eb')]"
      ]
     },
     "execution_count": 18,
     "metadata": {},
     "output_type": "execute_result"
    }
   ],
   "source": [
    "ml_repo.run_tests()"
   ]
  },
  {
   "cell_type": "markdown",
   "metadata": {},
   "source": [
    "## Consistency checks\n",
    "Pailab's *checks*-submodule provides functionality to check for consistency and quality issues as well as for outstanding tasks (such as rerunning a training after the training set has been changed).\n",
    "\n",
    "### Model consistency\n",
    "There are different checks to test model consistency such as if the tests of a model are up to date and succeeded or if the latest model is trained on the latest trainin data. All model tests are performed for **labeled** models and the latest model only.\n",
    "In our first example we change a model parameter but do not train for a new model version wih this parameter.\n",
    "\n",
    "The following checks are performed:\n",
    "- Is the latest model calibrated on the latest parameters and training data\n",
    "- Are all labeled models (including latest model) evaluated on the latest available training and test data\n",
    "- Are all measures of all labeled models computed on the latest data\n",
    "- Have all tests been run on the labeled models"
   ]
  },
  {
   "cell_type": "code",
   "execution_count": 19,
   "metadata": {
    "ExecuteTime": {
     "end_time": "2019-10-24T05:13:45.201918Z",
     "start_time": "2019-10-24T05:13:45.157040Z"
    }
   },
   "outputs": [
    {
     "name": "stdout",
     "output_type": "stream",
     "text": [
      "{'criterion': 'mse', 'max_depth': 2, 'max_features': None, 'max_leaf_nodes': None, 'min_impurity_decrease': 0.0, 'min_impurity_split': None, 'min_samples_leaf': 1, 'min_samples_split': 2, 'min_weight_fraction_leaf': 0.0, 'presort': False, 'random_state': None, 'splitter': 'best'}\n"
     ]
    }
   ],
   "source": [
    "param = ml_repo.get('DecisionTreeRegressor/model_param')\n",
    "param.sklearn_params['max_depth'] = 2\n",
    "version = ml_repo.add(param)\n",
    "print(param.sklearn_params)"
   ]
  },
  {
   "cell_type": "markdown",
   "metadata": {},
   "source": [
    "After we have changed the model parameter, we use the *tools* submodules *check_model* method for open tasks/inconsistencies. This method can be called for a certain model or also for a lbeled model. If nothing is specified, all labeled models will be checked.\n",
    "Applying the method to the latest model we see that the output shows that the models last version has been calibrated using a different model parameter version then the current version. "
   ]
  },
  {
   "cell_type": "code",
   "execution_count": 20,
   "metadata": {
    "ExecuteTime": {
     "end_time": "2019-10-24T05:13:45.328581Z",
     "start_time": "2019-10-24T05:13:45.204913Z"
    }
   },
   "outputs": [
    {
     "name": "stdout",
     "output_type": "stream",
     "text": [
      "[{'DecisionTreeRegressor/model:last': {'latest model version not on latest inputs': {'DecisionTreeRegressor/model_param': {'latest version': '0d781734-f61d-11e9-add9-fc084a6691eb',\n",
      "                                                                                                                           'modifier version': '0d0863c3-f61d-11e9-8449-fc084a6691eb'}}}}]\n"
     ]
    }
   ],
   "source": [
    "import pailab.tools.checker as checker\n",
    "results = checker.run(ml_repo)\n",
    "pprint.pprint(results)"
   ]
  },
  {
   "cell_type": "markdown",
   "metadata": {},
   "source": [
    "Note that the labeled model would not show an issue. Only the latest model is affected by this change (it is the definition of latest model that it has been calibrated on latest inputs).\n",
    "\n",
    "We can resolve this issue by simply training the model again (now on the new training data set)."
   ]
  },
  {
   "cell_type": "code",
   "execution_count": 21,
   "metadata": {
    "ExecuteTime": {
     "end_time": "2019-10-24T05:13:45.363487Z",
     "start_time": "2019-10-24T05:13:45.331573Z"
    }
   },
   "outputs": [
    {
     "data": {
      "text/plain": [
       "('DecisionTreeRegressor/jobs/training', '0d8ffb9e-f61d-11e9-8d87-fc084a6691eb')"
      ]
     },
     "execution_count": 21,
     "metadata": {},
     "output_type": "execute_result"
    }
   ],
   "source": [
    "ml_repo.run_training()"
   ]
  },
  {
   "cell_type": "markdown",
   "metadata": {},
   "source": [
    "Note that the solution to simply retrain introduced new issues: The model has not yet been evaluated and no measures have been computed. (If we would have set **run_descendants=False** as argument, the preceding steps would have also been performed and the issues would not have been present)."
   ]
  },
  {
   "cell_type": "code",
   "execution_count": 22,
   "metadata": {
    "ExecuteTime": {
     "end_time": "2019-10-24T05:13:45.422329Z",
     "start_time": "2019-10-24T05:13:45.365482Z"
    }
   },
   "outputs": [
    {
     "name": "stdout",
     "output_type": "stream",
     "text": [
      "[{'DecisionTreeRegressor/model:last': {'evaluations missing': {'sample1': '0bf39388-f61d-11e9-96ae-fc084a6691eb',\n",
      "                                                               'sample2': '0bf3ba92-f61d-11e9-b54b-fc084a6691eb'},\n",
      "                                       'measures not calculated': {'DecisionTreeRegressor/measure/sample1/max',\n",
      "                                                                   'DecisionTreeRegressor/measure/sample1/r2',\n",
      "                                                                   'DecisionTreeRegressor/measure/sample2/max',\n",
      "                                                                   'DecisionTreeRegressor/measure/sample2/r2'}}}]\n"
     ]
    }
   ],
   "source": [
    "results = checker.run(ml_repo)\n",
    "pprint.pprint(results)"
   ]
  },
  {
   "cell_type": "code",
   "execution_count": 23,
   "metadata": {
    "ExecuteTime": {
     "end_time": "2019-10-24T05:13:45.509131Z",
     "start_time": "2019-10-24T05:13:45.424325Z"
    }
   },
   "outputs": [
    {
     "data": {
      "text/plain": [
       "[('DecisionTreeRegressor/model/jobs/eval_job/sample1',\n",
       "  '0da35092-f61d-11e9-915f-fc084a6691eb'),\n",
       " ('DecisionTreeRegressor/model/jobs/eval_job/sample2',\n",
       "  '0da597b0-f61d-11e9-8317-fc084a6691eb')]"
      ]
     },
     "execution_count": 23,
     "metadata": {},
     "output_type": "execute_result"
    }
   ],
   "source": [
    "ml_repo.run_evaluation(run_descendants=True)# we use run_descendants so that the issues with th measures are resolved too"
   ]
  },
  {
   "cell_type": "code",
   "execution_count": 24,
   "metadata": {
    "ExecuteTime": {
     "end_time": "2019-10-24T05:13:45.563953Z",
     "start_time": "2019-10-24T05:13:45.512091Z"
    }
   },
   "outputs": [
    {
     "name": "stdout",
     "output_type": "stream",
     "text": [
      "[]\n"
     ]
    }
   ],
   "source": [
    "results = checker.run(ml_repo)\n",
    "pprint.pprint(results)"
   ]
  },
  {
   "cell_type": "markdown",
   "metadata": {},
   "source": [
    "### Checking training and test data consistency\n",
    "There may be also data inconsistencies, so for example the training and test data overlap. The **check_data** methods performs such a test.\n",
    "\n",
    "Let us first add a new test data set which overlaps with the training data"
   ]
  },
  {
   "cell_type": "code",
   "execution_count": 25,
   "metadata": {
    "ExecuteTime": {
     "end_time": "2019-10-24T05:13:45.614814Z",
     "start_time": "2019-10-24T05:13:45.566943Z"
    },
    "collapsed": true
   },
   "outputs": [],
   "source": [
    "ml_repo.tree.test_data.add('sample3', ml_repo.tree.raw_data.boston_housing(), 0, 50)"
   ]
  },
  {
   "cell_type": "code",
   "execution_count": 26,
   "metadata": {
    "ExecuteTime": {
     "end_time": "2019-10-24T05:13:45.676683Z",
     "start_time": "2019-10-24T05:13:45.617809Z"
    }
   },
   "outputs": [
    {
     "data": {
      "text/plain": [
       "[{'DecisionTreeRegressor/model:last': {'evaluations missing': {'sample3': '0db73ef4-f61d-11e9-9d4c-fc084a6691eb'},\n",
       "   'measures not calculated': {'DecisionTreeRegressor/measure/sample3/max',\n",
       "    'DecisionTreeRegressor/measure/sample3/r2'}}},\n",
       " {'prod': {'evaluations missing': {'sample3': '0db73ef4-f61d-11e9-9d4c-fc084a6691eb'},\n",
       "   'measures not calculated': {'DecisionTreeRegressor/measure/sample3/max',\n",
       "    'DecisionTreeRegressor/measure/sample3/r2'}}},\n",
       " {'sample3': {'training and test data overlap': {'sample1': '0bf39388-f61d-11e9-96ae-fc084a6691eb',\n",
       "    'sample3': '0db73ef4-f61d-11e9-9d4c-fc084a6691eb'}}}]"
      ]
     },
     "execution_count": 26,
     "metadata": {},
     "output_type": "execute_result"
    }
   ],
   "source": [
    "checker.run(ml_repo)"
   ]
  },
  {
   "cell_type": "markdown",
   "metadata": {},
   "source": [
    "### Checking usage of RawData\n",
    "The check_data method includes also a check if all RawData is used in DataSets or if there is some unused data."
   ]
  },
  {
   "cell_type": "markdown",
   "metadata": {},
   "source": [
    "### Checking test status\n",
    "There is also a check if all latest tests have been applied to all labeled models and all latest models."
   ]
  },
  {
   "cell_type": "code",
   "execution_count": 27,
   "metadata": {
    "ExecuteTime": {
     "end_time": "2019-10-24T05:13:45.748456Z",
     "start_time": "2019-10-24T05:13:45.680639Z"
    }
   },
   "outputs": [
    {
     "data": {
      "text/plain": [
       "{'DecisionTreeRegressor/model:0d907078-f61d-11e9-a853-fc084a6691eb': {'DecisionTreeRegressor/tests/reg_test/sample1': 'Test for model DecisionTreeRegressor/model, version 0d907078-f61d-11e9-a853-fc084a6691eb on latest data sample1 missing.',\n",
       "  'DecisionTreeRegressor/tests/reg_test/sample2': 'Test for model DecisionTreeRegressor/model, version 0d907078-f61d-11e9-a853-fc084a6691eb on latest data sample2 missing.',\n",
       "  'DecisionTreeRegressor/tests/reg_test/sample3': 'Test for model DecisionTreeRegressor/model, version 0d907078-f61d-11e9-a853-fc084a6691eb on latest data sample3 missing.'},\n",
       " 'DecisionTreeRegressor/model:prod': {'DecisionTreeRegressor/tests/reg_test/sample1': \"Test for model DecisionTreeRegressor/model, version 0d0ad312-f61d-11e9-a4ff-fc084a6691eb on latest data sample1 failed, details: {'max': {'reference_value': 223200.0, 'value': 223200.0}, 'r2': {'reference_value': 0.9214083783891637, 'value': 0.9214083783891637}}\",\n",
       "  'DecisionTreeRegressor/tests/reg_test/sample2': \"Test for model DecisionTreeRegressor/model, version 0d0ad312-f61d-11e9-a4ff-fc084a6691eb on latest data sample2 failed, details: {'max': {'reference_value': 387530.76923076925, 'value': 387530.76923076925}, 'r2': {'reference_value': -0.26644956772110007, 'value': -0.26644956772110007}}\",\n",
       "  'DecisionTreeRegressor/tests/reg_test/sample3': 'Test for model DecisionTreeRegressor/model, version 0d0ad312-f61d-11e9-a4ff-fc084a6691eb on latest data sample3 missing.'}}"
      ]
     },
     "execution_count": 27,
     "metadata": {},
     "output_type": "execute_result"
    }
   ],
   "source": [
    "checker.Tests.run(ml_repo)"
   ]
  },
  {
   "cell_type": "code",
   "execution_count": 28,
   "metadata": {
    "ExecuteTime": {
     "end_time": "2019-10-24T05:13:45.916012Z",
     "start_time": "2019-10-24T05:13:45.751452Z"
    }
   },
   "outputs": [
    {
     "name": "stdout",
     "output_type": "stream",
     "text": [
      "{'DecisionTreeRegressor/model:0d907078-f61d-11e9-a853-fc084a6691eb': {'DecisionTreeRegressor/tests/reg_test/sample1': 'Test '\n",
      "                                                                                                                      'for '\n",
      "                                                                                                                      'model '\n",
      "                                                                                                                      'DecisionTreeRegressor/model, '\n",
      "                                                                                                                      'version '\n",
      "                                                                                                                      '0d907078-f61d-11e9-a853-fc084a6691eb '\n",
      "                                                                                                                      'on '\n",
      "                                                                                                                      'latest '\n",
      "                                                                                                                      'data '\n",
      "                                                                                                                      'sample1 '\n",
      "                                                                                                                      'failed, '\n",
      "                                                                                                                      'details: '\n",
      "                                                                                                                      \"{'r2': \"\n",
      "                                                                                                                      \"{'reference_value': \"\n",
      "                                                                                                                      '0.9214083783891637, '\n",
      "                                                                                                                      \"'value': \"\n",
      "                                                                                                                      '0.7997532493253947}}',\n",
      "                                                                      'DecisionTreeRegressor/tests/reg_test/sample2': 'Test '\n",
      "                                                                                                                      'for '\n",
      "                                                                                                                      'model '\n",
      "                                                                                                                      'DecisionTreeRegressor/model, '\n",
      "                                                                                                                      'version '\n",
      "                                                                                                                      '0d907078-f61d-11e9-a853-fc084a6691eb '\n",
      "                                                                                                                      'on '\n",
      "                                                                                                                      'latest '\n",
      "                                                                                                                      'data '\n",
      "                                                                                                                      'sample2 '\n",
      "                                                                                                                      'failed, '\n",
      "                                                                                                                      'details: '\n",
      "                                                                                                                      \"{'r2': \"\n",
      "                                                                                                                      \"{'reference_value': \"\n",
      "                                                                                                                      '-0.26644956772110007, '\n",
      "                                                                                                                      \"'value': \"\n",
      "                                                                                                                      '-0.5603645701979256}}',\n",
      "                                                                      'DecisionTreeRegressor/tests/reg_test/sample3': 'Test '\n",
      "                                                                                                                      'for '\n",
      "                                                                                                                      'model '\n",
      "                                                                                                                      'DecisionTreeRegressor/model, '\n",
      "                                                                                                                      'version '\n",
      "                                                                                                                      '0d907078-f61d-11e9-a853-fc084a6691eb '\n",
      "                                                                                                                      'on '\n",
      "                                                                                                                      'latest '\n",
      "                                                                                                                      'data '\n",
      "                                                                                                                      'sample3 '\n",
      "                                                                                                                      'failed, '\n",
      "                                                                                                                      'details: '\n",
      "                                                                                                                      \"{'r2': \"\n",
      "                                                                                                                      \"{'reference_value': \"\n",
      "                                                                                                                      '0.8441247473598623, '\n",
      "                                                                                                                      \"'value': \"\n",
      "                                                                                                                      '0.6284766710609937}}'},\n",
      " 'DecisionTreeRegressor/model:prod': {'DecisionTreeRegressor/tests/reg_test/sample1': 'Test '\n",
      "                                                                                      'for '\n",
      "                                                                                      'model '\n",
      "                                                                                      'DecisionTreeRegressor/model, '\n",
      "                                                                                      'version '\n",
      "                                                                                      '0d0ad312-f61d-11e9-a4ff-fc084a6691eb '\n",
      "                                                                                      'on '\n",
      "                                                                                      'latest '\n",
      "                                                                                      'data '\n",
      "                                                                                      'sample1 '\n",
      "                                                                                      'failed, '\n",
      "                                                                                      'details: '\n",
      "                                                                                      \"{'max': \"\n",
      "                                                                                      \"{'reference_value': \"\n",
      "                                                                                      '223200.0, '\n",
      "                                                                                      \"'value': \"\n",
      "                                                                                      '223200.0}, '\n",
      "                                                                                      \"'r2': \"\n",
      "                                                                                      \"{'reference_value': \"\n",
      "                                                                                      '0.9214083783891637, '\n",
      "                                                                                      \"'value': \"\n",
      "                                                                                      '0.9214083783891637}}',\n",
      "                                      'DecisionTreeRegressor/tests/reg_test/sample2': 'Test '\n",
      "                                                                                      'for '\n",
      "                                                                                      'model '\n",
      "                                                                                      'DecisionTreeRegressor/model, '\n",
      "                                                                                      'version '\n",
      "                                                                                      '0d0ad312-f61d-11e9-a4ff-fc084a6691eb '\n",
      "                                                                                      'on '\n",
      "                                                                                      'latest '\n",
      "                                                                                      'data '\n",
      "                                                                                      'sample2 '\n",
      "                                                                                      'failed, '\n",
      "                                                                                      'details: '\n",
      "                                                                                      \"{'max': \"\n",
      "                                                                                      \"{'reference_value': \"\n",
      "                                                                                      '387530.76923076925, '\n",
      "                                                                                      \"'value': \"\n",
      "                                                                                      '387530.76923076925}, '\n",
      "                                                                                      \"'r2': \"\n",
      "                                                                                      \"{'reference_value': \"\n",
      "                                                                                      '-0.26644956772110007, '\n",
      "                                                                                      \"'value': \"\n",
      "                                                                                      '-0.26644956772110007}}',\n",
      "                                      'DecisionTreeRegressor/tests/reg_test/sample3': 'Test '\n",
      "                                                                                      'for '\n",
      "                                                                                      'model '\n",
      "                                                                                      'DecisionTreeRegressor/model, '\n",
      "                                                                                      'version '\n",
      "                                                                                      '0d0ad312-f61d-11e9-a4ff-fc084a6691eb '\n",
      "                                                                                      'on '\n",
      "                                                                                      'latest '\n",
      "                                                                                      'data '\n",
      "                                                                                      'sample3 '\n",
      "                                                                                      'failed, '\n",
      "                                                                                      'details: '\n",
      "                                                                                      \"{'max': \"\n",
      "                                                                                      \"{'reference_value': \"\n",
      "                                                                                      '162247.82608695654, '\n",
      "                                                                                      \"'value': \"\n",
      "                                                                                      '162247.82608695654}, '\n",
      "                                                                                      \"'r2': \"\n",
      "                                                                                      \"{'reference_value': \"\n",
      "                                                                                      '0.8441247473598623, '\n",
      "                                                                                      \"'value': \"\n",
      "                                                                                      '0.8441247473598623}}'}}\n"
     ]
    }
   ],
   "source": [
    "ml_repo.run_evaluation()\n",
    "ml_repo.run_measures()\n",
    "ml_repo.run_tests()\n",
    "pprint.pprint(checker.Tests.run(ml_repo))"
   ]
  },
  {
   "cell_type": "markdown",
   "metadata": {},
   "source": [
    "## Easy access to repo objects and names\n",
    "Since the names are chosen equally to a directory structure (with subdirectories) they may be long and difficult to remember (especially the order). And even if one remembers the long names, it is a lot of work to type them."
   ]
  },
  {
   "cell_type": "markdown",
   "metadata": {},
   "source": [
    "If you now type the objects name followd by a '.' by pressing tab you will see the possible next solutions makin it very easy to 'browse' to the object's name you have in mind. By using '()' operator you get a list of names below th current naming level, and in addition you can filter the names by giving a string: Only names containing this string are put into the list."
   ]
  },
  {
   "cell_type": "code",
   "execution_count": 29,
   "metadata": {
    "ExecuteTime": {
     "end_time": "2019-10-24T05:13:45.925984Z",
     "start_time": "2019-10-24T05:13:45.919999Z"
    },
    "collapsed": true
   },
   "outputs": [],
   "source": [
    "ml_repo.tree.models.DecisionTreeRegressor.model_param.load()"
   ]
  },
  {
   "cell_type": "code",
   "execution_count": 30,
   "metadata": {
    "ExecuteTime": {
     "end_time": "2019-10-24T05:13:45.986821Z",
     "start_time": "2019-10-24T05:13:45.928975Z"
    }
   },
   "outputs": [
    {
     "data": {
      "text/plain": [
       "{'author': 'test_user',\n",
       " 'big_objects': [],\n",
       " 'category': 'MODEL_PARAM',\n",
       " 'classname': 'pailab.externals.sklearn_interface.SKLearnModelParam',\n",
       " 'commit_date': '2019-10-24 07:13:45.196933',\n",
       " 'commit_message': '',\n",
       " 'description': None,\n",
       " 'modification_info': {},\n",
       " 'modifiers': {},\n",
       " 'name': 'DecisionTreeRegressor/model_param',\n",
       " 'version': '0d781734-f61d-11e9-add9-fc084a6691eb'}"
      ]
     },
     "execution_count": 30,
     "metadata": {},
     "output_type": "execute_result"
    }
   ],
   "source": [
    "ml_repo.tree.models.DecisionTreeRegressor.model_param.obj.repo_info.get_dictionary()"
   ]
  },
  {
   "cell_type": "markdown",
   "metadata": {},
   "source": [
    "## Append RawData\n",
    "One can append data to the RawData object. The repository manages which objects are affected by appending data and directly updates these objects."
   ]
  },
  {
   "cell_type": "code",
   "execution_count": 31,
   "metadata": {
    "ExecuteTime": {
     "end_time": "2019-10-24T05:13:46.046660Z",
     "start_time": "2019-10-24T05:13:45.989811Z"
    }
   },
   "outputs": [
    {
     "name": "stdout",
     "output_type": "stream",
     "text": [
      "sample1: {'raw_data': 'raw_data/boston_housing', 'start_index': 0, 'end_index': 300, 'raw_data_version': 'last', 'x_coord_names': ['RM', 'LSTAT', 'PTRATIO'], 'y_coord_names': ['MEDV'], 'n_data': 489}\n",
      "{'raw_data': 'raw_data/boston_housing', 'start_index': 301, 'end_index': None, 'raw_data_version': 'last', 'x_coord_names': ['RM', 'LSTAT', 'PTRATIO'], 'y_coord_names': ['MEDV'], 'n_data': 489} Version: 0bf3ba92-f61d-11e9-b54b-fc084a6691eb\n",
      "{'raw_data': 'raw_data/boston_housing', 'start_index': 0, 'end_index': 50, 'raw_data_version': 'last', 'x_coord_names': ['RM', 'LSTAT', 'PTRATIO'], 'y_coord_names': ['MEDV'], 'n_data': 489} Version: 0db73ef4-f61d-11e9-9d4c-fc084a6691eb\n"
     ]
    }
   ],
   "source": [
    "train_data = ml_repo.get_training_data(full_object = False)\n",
    "print(train_data.repo_info[RepoInfoKey.NAME] +': ' +str(train_data))\n",
    "test_data = ml_repo.get_names(MLObjectType.TEST_DATA)\n",
    "for k in test_data:\n",
    "    t = ml_repo.get(k)\n",
    "    print(str(t)+ ' Version: ' + str(t.repo_info[RepoInfoKey.VERSION]))"
   ]
  },
  {
   "cell_type": "code",
   "execution_count": 32,
   "metadata": {
    "ExecuteTime": {
     "end_time": "2019-10-24T05:13:46.099518Z",
     "start_time": "2019-10-24T05:13:46.049652Z"
    },
    "collapsed": true
   },
   "outputs": [],
   "source": [
    "from numpy import array\n",
    "ml_repo.tree.raw_data.boston_housing.append(x_data = array([[ 6.575, 4.98, 15.3]]), y_data =array([[504000.0]]))"
   ]
  },
  {
   "cell_type": "code",
   "execution_count": 33,
   "metadata": {
    "ExecuteTime": {
     "end_time": "2019-10-24T05:13:46.158364Z",
     "start_time": "2019-10-24T05:13:46.102511Z"
    }
   },
   "outputs": [
    {
     "name": "stdout",
     "output_type": "stream",
     "text": [
      "sample1: {'raw_data': 'raw_data/boston_housing', 'start_index': 0, 'end_index': 300, 'raw_data_version': 'last', 'x_coord_names': ['RM', 'LSTAT', 'PTRATIO'], 'y_coord_names': ['MEDV'], 'n_data': 489}\n",
      "{'raw_data': 'raw_data/boston_housing', 'start_index': 301, 'end_index': None, 'raw_data_version': '0e00bfc0-f61d-11e9-b555-fc084a6691eb', 'x_coord_names': ['RM', 'LSTAT', 'PTRATIO'], 'y_coord_names': ['MEDV'], 'n_data': 490} Version: 0e0134a2-f61d-11e9-9a0e-fc084a6691eb\n",
      "{'raw_data': 'raw_data/boston_housing', 'start_index': 0, 'end_index': 50, 'raw_data_version': 'last', 'x_coord_names': ['RM', 'LSTAT', 'PTRATIO'], 'y_coord_names': ['MEDV'], 'n_data': 490} Version: 0db73ef4-f61d-11e9-9d4c-fc084a6691eb\n"
     ]
    }
   ],
   "source": [
    "print(train_data.repo_info[RepoInfoKey.NAME] +': ' +str(train_data))\n",
    "for k in test_data:\n",
    "    t = ml_repo.get(k)\n",
    "    print(str(t) + ' Version: ' + str(t.repo_info[RepoInfoKey.VERSION]))"
   ]
  },
  {
   "cell_type": "code",
   "execution_count": 34,
   "metadata": {
    "ExecuteTime": {
     "end_time": "2019-10-24T05:13:46.245132Z",
     "start_time": "2019-10-24T05:13:46.161357Z"
    }
   },
   "outputs": [
    {
     "name": "stdout",
     "output_type": "stream",
     "text": [
      "[{'DecisionTreeRegressor/model:last': {'evaluations missing': {'sample2': '0e0134a2-f61d-11e9-9a0e-fc084a6691eb'}}}, {'prod': {'evaluations missing': {'sample2': '0e0134a2-f61d-11e9-9a0e-fc084a6691eb'}}}, {'sample3': {'training and test data overlap': {'sample3': '0db73ef4-f61d-11e9-9d4c-fc084a6691eb', 'sample1': '0bf39388-f61d-11e9-96ae-fc084a6691eb'}}}]\n"
     ]
    }
   ],
   "source": [
    "results = checker.run(ml_repo)\n",
    "print(results)"
   ]
  },
  {
   "cell_type": "markdown",
   "metadata": {},
   "source": [
    "# Repo-Analysis\n",
    "Having parameters, evaluations, measures in one place enables out of the box analysis- and plotting functionality. The submodule *plot* provides automated, standardized plots."
   ]
  },
  {
   "cell_type": "code",
   "execution_count": 35,
   "metadata": {
    "ExecuteTime": {
     "end_time": "2019-10-24T05:13:46.438613Z",
     "start_time": "2019-10-24T05:13:46.248123Z"
    }
   },
   "outputs": [
    {
     "data": {
      "text/html": [
       "        <script type=\"text/javascript\">\n",
       "        window.PlotlyConfig = {MathJaxConfig: 'local'};\n",
       "        if (window.MathJax) {MathJax.Hub.Config({SVG: {font: \"STIX-Web\"}});}\n",
       "        if (typeof require !== 'undefined') {\n",
       "        require.undef(\"plotly\");\n",
       "        requirejs.config({\n",
       "            paths: {\n",
       "                'plotly': ['https://cdn.plot.ly/plotly-latest.min']\n",
       "            }\n",
       "        });\n",
       "        require(['plotly'], function(Plotly) {\n",
       "            window._Plotly = Plotly;\n",
       "        });\n",
       "        }\n",
       "        </script>\n",
       "        "
      ]
     },
     "metadata": {},
     "output_type": "display_data"
    }
   ],
   "source": [
    "import pailab.analysis.plot as plot"
   ]
  },
  {
   "cell_type": "markdown",
   "metadata": {},
   "source": [
    "## Plotting\n",
    "### Plot errors and measures"
   ]
  },
  {
   "cell_type": "code",
   "execution_count": 36,
   "metadata": {
    "ExecuteTime": {
     "end_time": "2019-10-24T05:13:47.760080Z",
     "start_time": "2019-10-24T05:13:46.441608Z"
    },
    "code_folding": [],
    "collapsed": true
   },
   "outputs": [],
   "source": [
    "# create more different model params etc. to make the repo more interesting ;-)\n",
    "for j in range(2):\n",
    "    training_data = ml_repo.get(ml_repo.tree.training_data.sample1())\n",
    "    training_data.end_index += 50\n",
    "    ml_repo.add(training_data, message='add 50 datapoints to end_index')\n",
    "    for i in range(6,12):\n",
    "        #print(i)\n",
    "        param = ml_repo.get(ml_repo.tree.models.DecisionTreeRegressor.model_param())\n",
    "        param.sklearn_params['max_depth'] = i\n",
    "        version = ml_repo.add(param)\n",
    "        ml_repo.add(param)\n",
    "        ml_repo.run_training()\n",
    "        ml_repo.run_evaluation()\n",
    "        ml_repo.run_measures()\n",
    "        if j == 1 and i==6:\n",
    "            ml_repo.tree.models.DecisionTreeRegressor.set_label('prod', message='')\n",
    "        if j == 1 and i==8:\n",
    "            ml_repo.tree.models.DecisionTreeRegressor.set_label('candidate', message='')"
   ]
  },
  {
   "cell_type": "markdown",
   "metadata": {},
   "source": [
    "#### Plot error measure vs parameter"
   ]
  },
  {
   "cell_type": "code",
   "execution_count": 37,
   "metadata": {
    "ExecuteTime": {
     "end_time": "2019-10-24T05:13:49.016720Z",
     "start_time": "2019-10-24T05:13:47.763074Z"
    }
   },
   "outputs": [
    {
     "data": {
      "application/vnd.plotly.v1+json": {
       "config": {
        "linkText": "Export to plot.ly",
        "plotlyServerURL": "https://plot.ly",
        "responsive": true,
        "showLink": false
       },
       "data": [
        {
         "mode": "markers",
         "name": "DecisionTreeRegressor/measure/sample1/max: 0e896852-f61d-11e9-a8d8-fc084a6691eb",
         "text": [
          "model version: 0e8b14ee-f61d-11e9-90d6-fc084a6691eb<br>sample3: 0e896852-f61d-11e9-a8d8-fc084a6691eb<br>train_data: 0e896852-f61d-11e9-a8d8-fc084a6691eb",
          "model version: 0d0ad312-f61d-11e9-a4ff-fc084a6691eb<br>sample3: 0e896852-f61d-11e9-a8d8-fc084a6691eb<br>train_data: 0bf39388-f61d-11e9-96ae-fc084a6691eb",
          "model version: 0ea20f9c-f61d-11e9-a11e-fc084a6691eb<br>sample3: 0e896852-f61d-11e9-a8d8-fc084a6691eb<br>train_data: 0e896852-f61d-11e9-a8d8-fc084a6691eb",
          "model version: 0eb5634c-f61d-11e9-a366-fc084a6691eb<br>sample3: 0e896852-f61d-11e9-a8d8-fc084a6691eb<br>train_data: 0e896852-f61d-11e9-a8d8-fc084a6691eb",
          "model version: 0ed3fa02-f61d-11e9-9019-fc084a6691eb<br>sample3: 0e896852-f61d-11e9-a8d8-fc084a6691eb<br>train_data: 0e896852-f61d-11e9-a8d8-fc084a6691eb",
          "model version: 0ee30adc-f61d-11e9-9785-fc084a6691eb<br>sample3: 0e896852-f61d-11e9-a8d8-fc084a6691eb<br>train_data: 0e896852-f61d-11e9-a8d8-fc084a6691eb",
          "model version: 0ef3a148-f61d-11e9-bef7-fc084a6691eb<br>sample3: 0e896852-f61d-11e9-a8d8-fc084a6691eb<br>train_data: 0e896852-f61d-11e9-a8d8-fc084a6691eb"
         ],
         "type": "scatter",
         "uid": "d99efddf-9b33-455c-bbdf-07af80bf4784",
         "x": [
          6,
          5,
          7,
          8,
          9,
          10,
          11
         ],
         "y": [
          182100,
          387530.76923076925,
          170730,
          160883.3333333333,
          165900,
          159096,
          116200
         ]
        },
        {
         "mode": "markers",
         "name": "DecisionTreeRegressor/measure/sample2/max: 0e0134a2-f61d-11e9-9a0e-fc084a6691eb",
         "text": [
          "model version: 0e3d034c-f61d-11e9-ae76-fc084a6691eb<br>sample3: 0e0134a2-f61d-11e9-9a0e-fc084a6691eb<br>train_data: 0e3b57c8-f61d-11e9-8f37-fc084a6691eb",
          "model version: 0d0ad312-f61d-11e9-a4ff-fc084a6691eb<br>sample3: 0e0134a2-f61d-11e9-9a0e-fc084a6691eb<br>train_data: 0bf39388-f61d-11e9-96ae-fc084a6691eb",
          "model version: 0e4a40a2-f61d-11e9-9761-fc084a6691eb<br>sample3: 0e0134a2-f61d-11e9-9a0e-fc084a6691eb<br>train_data: 0e3b57c8-f61d-11e9-8f37-fc084a6691eb",
          "model version: 0e5b72f8-f61d-11e9-b1ac-fc084a6691eb<br>sample3: 0e0134a2-f61d-11e9-9a0e-fc084a6691eb<br>train_data: 0e3b57c8-f61d-11e9-8f37-fc084a6691eb",
          "model version: 0e64e254-f61d-11e9-bf09-fc084a6691eb<br>sample3: 0e0134a2-f61d-11e9-9a0e-fc084a6691eb<br>train_data: 0e3b57c8-f61d-11e9-8f37-fc084a6691eb",
          "model version: 0e6e2ad2-f61d-11e9-84cd-fc084a6691eb<br>sample3: 0e0134a2-f61d-11e9-9a0e-fc084a6691eb<br>train_data: 0e3b57c8-f61d-11e9-8f37-fc084a6691eb",
          "model version: 0e77c13a-f61d-11e9-8436-fc084a6691eb<br>sample3: 0e0134a2-f61d-11e9-9a0e-fc084a6691eb<br>train_data: 0e3b57c8-f61d-11e9-8f37-fc084a6691eb",
          "model version: 0e8b14ee-f61d-11e9-90d6-fc084a6691eb<br>sample3: 0e0134a2-f61d-11e9-9a0e-fc084a6691eb<br>train_data: 0e896852-f61d-11e9-a8d8-fc084a6691eb",
          "model version: 0ea20f9c-f61d-11e9-a11e-fc084a6691eb<br>sample3: 0e0134a2-f61d-11e9-9a0e-fc084a6691eb<br>train_data: 0e896852-f61d-11e9-a8d8-fc084a6691eb",
          "model version: 0eb5634c-f61d-11e9-a366-fc084a6691eb<br>sample3: 0e0134a2-f61d-11e9-9a0e-fc084a6691eb<br>train_data: 0e896852-f61d-11e9-a8d8-fc084a6691eb",
          "model version: 0ed3fa02-f61d-11e9-9019-fc084a6691eb<br>sample3: 0e0134a2-f61d-11e9-9a0e-fc084a6691eb<br>train_data: 0e896852-f61d-11e9-a8d8-fc084a6691eb",
          "model version: 0ee30adc-f61d-11e9-9785-fc084a6691eb<br>sample3: 0e0134a2-f61d-11e9-9a0e-fc084a6691eb<br>train_data: 0e896852-f61d-11e9-a8d8-fc084a6691eb",
          "model version: 0ef3a148-f61d-11e9-bef7-fc084a6691eb<br>sample3: 0e0134a2-f61d-11e9-9a0e-fc084a6691eb<br>train_data: 0e896852-f61d-11e9-a8d8-fc084a6691eb"
         ],
         "type": "scatter",
         "uid": "08488f0e-6836-46dc-a378-7f711e06c942",
         "x": [
          6,
          5,
          7,
          8,
          9,
          10,
          11,
          6,
          7,
          8,
          9,
          10,
          11
         ],
         "y": [
          400050,
          387530.76923076925,
          342300,
          342300,
          336000,
          342300,
          336000,
          401100,
          401100,
          401100,
          407400,
          407400,
          407400
         ]
        },
        {
         "mode": "markers",
         "name": "DecisionTreeRegressor/measure/sample3/max: 0db73ef4-f61d-11e9-9d4c-fc084a6691eb",
         "text": [
          "model version: 0d907078-f61d-11e9-a853-fc084a6691eb<br>sample3: 0db73ef4-f61d-11e9-9d4c-fc084a6691eb<br>train_data: 0bf39388-f61d-11e9-96ae-fc084a6691eb",
          "model version: 0d0ad312-f61d-11e9-a4ff-fc084a6691eb<br>sample3: 0db73ef4-f61d-11e9-9d4c-fc084a6691eb<br>train_data: 0bf39388-f61d-11e9-96ae-fc084a6691eb",
          "model version: 0e3d034c-f61d-11e9-ae76-fc084a6691eb<br>sample3: 0db73ef4-f61d-11e9-9d4c-fc084a6691eb<br>train_data: 0e3b57c8-f61d-11e9-8f37-fc084a6691eb",
          "model version: 0e4a40a2-f61d-11e9-9761-fc084a6691eb<br>sample3: 0db73ef4-f61d-11e9-9d4c-fc084a6691eb<br>train_data: 0e3b57c8-f61d-11e9-8f37-fc084a6691eb",
          "model version: 0e5b72f8-f61d-11e9-b1ac-fc084a6691eb<br>sample3: 0db73ef4-f61d-11e9-9d4c-fc084a6691eb<br>train_data: 0e3b57c8-f61d-11e9-8f37-fc084a6691eb",
          "model version: 0e64e254-f61d-11e9-bf09-fc084a6691eb<br>sample3: 0db73ef4-f61d-11e9-9d4c-fc084a6691eb<br>train_data: 0e3b57c8-f61d-11e9-8f37-fc084a6691eb",
          "model version: 0e6e2ad2-f61d-11e9-84cd-fc084a6691eb<br>sample3: 0db73ef4-f61d-11e9-9d4c-fc084a6691eb<br>train_data: 0e3b57c8-f61d-11e9-8f37-fc084a6691eb",
          "model version: 0e77c13a-f61d-11e9-8436-fc084a6691eb<br>sample3: 0db73ef4-f61d-11e9-9d4c-fc084a6691eb<br>train_data: 0e3b57c8-f61d-11e9-8f37-fc084a6691eb",
          "model version: 0e8b14ee-f61d-11e9-90d6-fc084a6691eb<br>sample3: 0db73ef4-f61d-11e9-9d4c-fc084a6691eb<br>train_data: 0e896852-f61d-11e9-a8d8-fc084a6691eb",
          "model version: 0ea20f9c-f61d-11e9-a11e-fc084a6691eb<br>sample3: 0db73ef4-f61d-11e9-9d4c-fc084a6691eb<br>train_data: 0e896852-f61d-11e9-a8d8-fc084a6691eb",
          "model version: 0eb5634c-f61d-11e9-a366-fc084a6691eb<br>sample3: 0db73ef4-f61d-11e9-9d4c-fc084a6691eb<br>train_data: 0e896852-f61d-11e9-a8d8-fc084a6691eb",
          "model version: 0ed3fa02-f61d-11e9-9019-fc084a6691eb<br>sample3: 0db73ef4-f61d-11e9-9d4c-fc084a6691eb<br>train_data: 0e896852-f61d-11e9-a8d8-fc084a6691eb",
          "model version: 0ee30adc-f61d-11e9-9785-fc084a6691eb<br>sample3: 0db73ef4-f61d-11e9-9d4c-fc084a6691eb<br>train_data: 0e896852-f61d-11e9-a8d8-fc084a6691eb",
          "model version: 0ef3a148-f61d-11e9-bef7-fc084a6691eb<br>sample3: 0db73ef4-f61d-11e9-9d4c-fc084a6691eb<br>train_data: 0e896852-f61d-11e9-a8d8-fc084a6691eb"
         ],
         "type": "scatter",
         "uid": "84b52e12-d846-4d08-a5d3-45e541866efa",
         "x": [
          2,
          5,
          6,
          7,
          8,
          9,
          10,
          11,
          6,
          7,
          8,
          9,
          10,
          11
         ],
         "y": [
          169680,
          162247.82608695654,
          157956.52173913043,
          151600,
          91190.90909090912,
          84437.5,
          88473.91304347827,
          90872.7272727273,
          150757.89473684208,
          120197.36842105264,
          113531.25,
          120450,
          103223.07692307694,
          88473.91304347827
         ]
        }
       ],
       "layout": {
        "annotations": [
         {
          "arrowhead": 2,
          "showarrow": true,
          "text": "prod",
          "x": 6,
          "xref": "x",
          "y": 182100,
          "yref": "y"
         },
         {
          "arrowhead": 2,
          "showarrow": true,
          "text": "candidate",
          "x": 8,
          "xref": "x",
          "y": 160883.3333333333,
          "yref": "y"
         },
         {
          "arrowhead": 2,
          "showarrow": true,
          "text": "prod",
          "x": 6,
          "xref": "x",
          "y": 401100,
          "yref": "y"
         },
         {
          "arrowhead": 2,
          "showarrow": true,
          "text": "candidate",
          "x": 8,
          "xref": "x",
          "y": 401100,
          "yref": "y"
         },
         {
          "arrowhead": 2,
          "showarrow": true,
          "text": "prod",
          "x": 6,
          "xref": "x",
          "y": 150757.89473684208,
          "yref": "y"
         },
         {
          "arrowhead": 2,
          "showarrow": true,
          "text": "candidate",
          "x": 8,
          "xref": "x",
          "y": 113531.25,
          "yref": "y"
         }
        ],
        "title": {
         "text": "measure by parameter"
        },
        "xaxis": {
         "title": {
          "text": "max_depth"
         }
        },
        "yaxis": {
         "title": {
          "text": "max"
         }
        }
       }
      },
      "text/html": [
       "<div>\n",
       "        \n",
       "        \n",
       "            <div id=\"b3c1e041-e6c1-491b-bdf2-d7476bbdc7bc\" class=\"plotly-graph-div\" style=\"height:525px; width:100%;\"></div>\n",
       "            <script type=\"text/javascript\">\n",
       "                require([\"plotly\"], function(Plotly) {\n",
       "                    window.PLOTLYENV=window.PLOTLYENV || {};\n",
       "                    window.PLOTLYENV.BASE_URL='https://plot.ly';\n",
       "                    \n",
       "                if (document.getElementById(\"b3c1e041-e6c1-491b-bdf2-d7476bbdc7bc\")) {\n",
       "                    Plotly.newPlot(\n",
       "                        'b3c1e041-e6c1-491b-bdf2-d7476bbdc7bc',\n",
       "                        [{\"mode\": \"markers\", \"name\": \"DecisionTreeRegressor/measure/sample1/max: 0e896852-f61d-11e9-a8d8-fc084a6691eb\", \"text\": [\"model version: 0e8b14ee-f61d-11e9-90d6-fc084a6691eb<br>sample3: 0e896852-f61d-11e9-a8d8-fc084a6691eb<br>train_data: 0e896852-f61d-11e9-a8d8-fc084a6691eb\", \"model version: 0d0ad312-f61d-11e9-a4ff-fc084a6691eb<br>sample3: 0e896852-f61d-11e9-a8d8-fc084a6691eb<br>train_data: 0bf39388-f61d-11e9-96ae-fc084a6691eb\", \"model version: 0ea20f9c-f61d-11e9-a11e-fc084a6691eb<br>sample3: 0e896852-f61d-11e9-a8d8-fc084a6691eb<br>train_data: 0e896852-f61d-11e9-a8d8-fc084a6691eb\", \"model version: 0eb5634c-f61d-11e9-a366-fc084a6691eb<br>sample3: 0e896852-f61d-11e9-a8d8-fc084a6691eb<br>train_data: 0e896852-f61d-11e9-a8d8-fc084a6691eb\", \"model version: 0ed3fa02-f61d-11e9-9019-fc084a6691eb<br>sample3: 0e896852-f61d-11e9-a8d8-fc084a6691eb<br>train_data: 0e896852-f61d-11e9-a8d8-fc084a6691eb\", \"model version: 0ee30adc-f61d-11e9-9785-fc084a6691eb<br>sample3: 0e896852-f61d-11e9-a8d8-fc084a6691eb<br>train_data: 0e896852-f61d-11e9-a8d8-fc084a6691eb\", \"model version: 0ef3a148-f61d-11e9-bef7-fc084a6691eb<br>sample3: 0e896852-f61d-11e9-a8d8-fc084a6691eb<br>train_data: 0e896852-f61d-11e9-a8d8-fc084a6691eb\"], \"type\": \"scatter\", \"uid\": \"66a21fa9-7730-4931-b642-bc3090238a5e\", \"x\": [6, 5, 7, 8, 9, 10, 11], \"y\": [182100.0, 387530.76923076925, 170730.0, 160883.3333333333, 165900.0, 159096.0, 116200.0]}, {\"mode\": \"markers\", \"name\": \"DecisionTreeRegressor/measure/sample2/max: 0e0134a2-f61d-11e9-9a0e-fc084a6691eb\", \"text\": [\"model version: 0e3d034c-f61d-11e9-ae76-fc084a6691eb<br>sample3: 0e0134a2-f61d-11e9-9a0e-fc084a6691eb<br>train_data: 0e3b57c8-f61d-11e9-8f37-fc084a6691eb\", \"model version: 0d0ad312-f61d-11e9-a4ff-fc084a6691eb<br>sample3: 0e0134a2-f61d-11e9-9a0e-fc084a6691eb<br>train_data: 0bf39388-f61d-11e9-96ae-fc084a6691eb\", \"model version: 0e4a40a2-f61d-11e9-9761-fc084a6691eb<br>sample3: 0e0134a2-f61d-11e9-9a0e-fc084a6691eb<br>train_data: 0e3b57c8-f61d-11e9-8f37-fc084a6691eb\", \"model version: 0e5b72f8-f61d-11e9-b1ac-fc084a6691eb<br>sample3: 0e0134a2-f61d-11e9-9a0e-fc084a6691eb<br>train_data: 0e3b57c8-f61d-11e9-8f37-fc084a6691eb\", \"model version: 0e64e254-f61d-11e9-bf09-fc084a6691eb<br>sample3: 0e0134a2-f61d-11e9-9a0e-fc084a6691eb<br>train_data: 0e3b57c8-f61d-11e9-8f37-fc084a6691eb\", \"model version: 0e6e2ad2-f61d-11e9-84cd-fc084a6691eb<br>sample3: 0e0134a2-f61d-11e9-9a0e-fc084a6691eb<br>train_data: 0e3b57c8-f61d-11e9-8f37-fc084a6691eb\", \"model version: 0e77c13a-f61d-11e9-8436-fc084a6691eb<br>sample3: 0e0134a2-f61d-11e9-9a0e-fc084a6691eb<br>train_data: 0e3b57c8-f61d-11e9-8f37-fc084a6691eb\", \"model version: 0e8b14ee-f61d-11e9-90d6-fc084a6691eb<br>sample3: 0e0134a2-f61d-11e9-9a0e-fc084a6691eb<br>train_data: 0e896852-f61d-11e9-a8d8-fc084a6691eb\", \"model version: 0ea20f9c-f61d-11e9-a11e-fc084a6691eb<br>sample3: 0e0134a2-f61d-11e9-9a0e-fc084a6691eb<br>train_data: 0e896852-f61d-11e9-a8d8-fc084a6691eb\", \"model version: 0eb5634c-f61d-11e9-a366-fc084a6691eb<br>sample3: 0e0134a2-f61d-11e9-9a0e-fc084a6691eb<br>train_data: 0e896852-f61d-11e9-a8d8-fc084a6691eb\", \"model version: 0ed3fa02-f61d-11e9-9019-fc084a6691eb<br>sample3: 0e0134a2-f61d-11e9-9a0e-fc084a6691eb<br>train_data: 0e896852-f61d-11e9-a8d8-fc084a6691eb\", \"model version: 0ee30adc-f61d-11e9-9785-fc084a6691eb<br>sample3: 0e0134a2-f61d-11e9-9a0e-fc084a6691eb<br>train_data: 0e896852-f61d-11e9-a8d8-fc084a6691eb\", \"model version: 0ef3a148-f61d-11e9-bef7-fc084a6691eb<br>sample3: 0e0134a2-f61d-11e9-9a0e-fc084a6691eb<br>train_data: 0e896852-f61d-11e9-a8d8-fc084a6691eb\"], \"type\": \"scatter\", \"uid\": \"3306f9d0-8216-443c-8095-8fee03df9b84\", \"x\": [6, 5, 7, 8, 9, 10, 11, 6, 7, 8, 9, 10, 11], \"y\": [400050.0, 387530.76923076925, 342300.0, 342300.0, 336000.0, 342300.0, 336000.0, 401100.0, 401100.0, 401100.0, 407400.0, 407400.0, 407400.0]}, {\"mode\": \"markers\", \"name\": \"DecisionTreeRegressor/measure/sample3/max: 0db73ef4-f61d-11e9-9d4c-fc084a6691eb\", \"text\": [\"model version: 0d907078-f61d-11e9-a853-fc084a6691eb<br>sample3: 0db73ef4-f61d-11e9-9d4c-fc084a6691eb<br>train_data: 0bf39388-f61d-11e9-96ae-fc084a6691eb\", \"model version: 0d0ad312-f61d-11e9-a4ff-fc084a6691eb<br>sample3: 0db73ef4-f61d-11e9-9d4c-fc084a6691eb<br>train_data: 0bf39388-f61d-11e9-96ae-fc084a6691eb\", \"model version: 0e3d034c-f61d-11e9-ae76-fc084a6691eb<br>sample3: 0db73ef4-f61d-11e9-9d4c-fc084a6691eb<br>train_data: 0e3b57c8-f61d-11e9-8f37-fc084a6691eb\", \"model version: 0e4a40a2-f61d-11e9-9761-fc084a6691eb<br>sample3: 0db73ef4-f61d-11e9-9d4c-fc084a6691eb<br>train_data: 0e3b57c8-f61d-11e9-8f37-fc084a6691eb\", \"model version: 0e5b72f8-f61d-11e9-b1ac-fc084a6691eb<br>sample3: 0db73ef4-f61d-11e9-9d4c-fc084a6691eb<br>train_data: 0e3b57c8-f61d-11e9-8f37-fc084a6691eb\", \"model version: 0e64e254-f61d-11e9-bf09-fc084a6691eb<br>sample3: 0db73ef4-f61d-11e9-9d4c-fc084a6691eb<br>train_data: 0e3b57c8-f61d-11e9-8f37-fc084a6691eb\", \"model version: 0e6e2ad2-f61d-11e9-84cd-fc084a6691eb<br>sample3: 0db73ef4-f61d-11e9-9d4c-fc084a6691eb<br>train_data: 0e3b57c8-f61d-11e9-8f37-fc084a6691eb\", \"model version: 0e77c13a-f61d-11e9-8436-fc084a6691eb<br>sample3: 0db73ef4-f61d-11e9-9d4c-fc084a6691eb<br>train_data: 0e3b57c8-f61d-11e9-8f37-fc084a6691eb\", \"model version: 0e8b14ee-f61d-11e9-90d6-fc084a6691eb<br>sample3: 0db73ef4-f61d-11e9-9d4c-fc084a6691eb<br>train_data: 0e896852-f61d-11e9-a8d8-fc084a6691eb\", \"model version: 0ea20f9c-f61d-11e9-a11e-fc084a6691eb<br>sample3: 0db73ef4-f61d-11e9-9d4c-fc084a6691eb<br>train_data: 0e896852-f61d-11e9-a8d8-fc084a6691eb\", \"model version: 0eb5634c-f61d-11e9-a366-fc084a6691eb<br>sample3: 0db73ef4-f61d-11e9-9d4c-fc084a6691eb<br>train_data: 0e896852-f61d-11e9-a8d8-fc084a6691eb\", \"model version: 0ed3fa02-f61d-11e9-9019-fc084a6691eb<br>sample3: 0db73ef4-f61d-11e9-9d4c-fc084a6691eb<br>train_data: 0e896852-f61d-11e9-a8d8-fc084a6691eb\", \"model version: 0ee30adc-f61d-11e9-9785-fc084a6691eb<br>sample3: 0db73ef4-f61d-11e9-9d4c-fc084a6691eb<br>train_data: 0e896852-f61d-11e9-a8d8-fc084a6691eb\", \"model version: 0ef3a148-f61d-11e9-bef7-fc084a6691eb<br>sample3: 0db73ef4-f61d-11e9-9d4c-fc084a6691eb<br>train_data: 0e896852-f61d-11e9-a8d8-fc084a6691eb\"], \"type\": \"scatter\", \"uid\": \"bfff469e-04c5-4157-a3fc-5c924d9b59bb\", \"x\": [2, 5, 6, 7, 8, 9, 10, 11, 6, 7, 8, 9, 10, 11], \"y\": [169680.0, 162247.82608695654, 157956.52173913043, 151600.0, 91190.90909090912, 84437.5, 88473.91304347827, 90872.7272727273, 150757.89473684208, 120197.36842105264, 113531.25, 120450.0, 103223.07692307694, 88473.91304347827]}],\n",
       "                        {\"annotations\": [{\"arrowhead\": 2, \"showarrow\": true, \"text\": \"prod\", \"x\": 6, \"xref\": \"x\", \"y\": 182100.0, \"yref\": \"y\"}, {\"arrowhead\": 2, \"showarrow\": true, \"text\": \"candidate\", \"x\": 8, \"xref\": \"x\", \"y\": 160883.3333333333, \"yref\": \"y\"}, {\"arrowhead\": 2, \"showarrow\": true, \"text\": \"prod\", \"x\": 6, \"xref\": \"x\", \"y\": 401100.0, \"yref\": \"y\"}, {\"arrowhead\": 2, \"showarrow\": true, \"text\": \"candidate\", \"x\": 8, \"xref\": \"x\", \"y\": 401100.0, \"yref\": \"y\"}, {\"arrowhead\": 2, \"showarrow\": true, \"text\": \"prod\", \"x\": 6, \"xref\": \"x\", \"y\": 150757.89473684208, \"yref\": \"y\"}, {\"arrowhead\": 2, \"showarrow\": true, \"text\": \"candidate\", \"x\": 8, \"xref\": \"x\", \"y\": 113531.25, \"yref\": \"y\"}], \"title\": {\"text\": \"measure by parameter\"}, \"xaxis\": {\"title\": {\"text\": \"max_depth\"}}, \"yaxis\": {\"title\": {\"text\": \"max\"}}},\n",
       "                        {\"showLink\": false, \"linkText\": \"Export to plot.ly\", \"plotlyServerURL\": \"https://plot.ly\", \"responsive\": true}\n",
       "                    ).then(function(){\n",
       "                            \n",
       "var gd = document.getElementById('b3c1e041-e6c1-491b-bdf2-d7476bbdc7bc');\n",
       "var x = new MutationObserver(function (mutations, observer) {{\n",
       "        var display = window.getComputedStyle(gd).display;\n",
       "        if (!display || display === 'none') {{\n",
       "            console.log([gd, 'removed!']);\n",
       "            Plotly.purge(gd);\n",
       "            observer.disconnect();\n",
       "        }}\n",
       "}});\n",
       "\n",
       "// Listen for the removal of the full notebook cells\n",
       "var notebookContainer = gd.closest('#notebook-container');\n",
       "if (notebookContainer) {{\n",
       "    x.observe(notebookContainer, {childList: true});\n",
       "}}\n",
       "\n",
       "// Listen for the clearing of the current output cell\n",
       "var outputEl = gd.closest('.output');\n",
       "if (outputEl) {{\n",
       "    x.observe(outputEl, {childList: true});\n",
       "}}\n",
       "\n",
       "                        })\n",
       "                };\n",
       "                });\n",
       "            </script>\n",
       "        </div>"
      ]
     },
     "metadata": {},
     "output_type": "display_data"
    }
   ],
   "source": [
    "import pailab.analysis.plot_helper as plt_helper\n",
    "import pailab.analysis.plot as plot\n",
    "plot.measure_by_parameter(ml_repo, ml_repo.tree.models.DecisionTreeRegressor.measures('max'), 'max_depth', data_versions=LAST_VERSION)\n",
    "#ml_repo.models.DecisionTreeRegressor.measures('r2')"
   ]
  },
  {
   "cell_type": "markdown",
   "metadata": {},
   "source": [
    "#### Plot error vs input variable"
   ]
  },
  {
   "cell_type": "code",
   "execution_count": 38,
   "metadata": {
    "ExecuteTime": {
     "end_time": "2019-10-24T05:13:49.303952Z",
     "start_time": "2019-10-24T05:13:49.019712Z"
    }
   },
   "outputs": [
    {
     "data": {
      "application/vnd.plotly.v1+json": {
       "config": {
        "linkText": "Export to plot.ly",
        "plotlyServerURL": "https://plot.ly",
        "responsive": true,
        "showLink": false
       },
       "data": [
        {
         "mode": "markers",
         "name": "DecisionTreeRegressor/eval/sample2: 0ef7e41a-f61d-11e9-9f9d-fc084a6691eb",
         "text": "sample2:last<br>DecisionTreeRegressor/model:0ef3a148-f61d-11e9-bef7-fc084a6691eb<br>",
         "type": "scatter",
         "uid": "f08181ca-e73e-41a7-aff3-94b69247c382",
         "x": [
          18.4,
          18.4,
          18.4,
          18.4,
          18.4,
          18.4,
          18.4,
          18.4,
          19.6,
          19.6,
          19.6,
          19.6,
          19.6,
          19.6,
          19.6,
          19.6,
          16.9,
          16.9,
          16.9,
          16.9,
          16.9,
          20.2,
          20.2,
          20.2,
          20.2,
          20.2,
          20.2,
          20.2,
          20.2,
          15.5,
          15.9,
          17.6,
          17.6,
          18.8,
          18.8,
          17.9,
          17,
          19.7,
          19.7,
          18.3,
          18.3,
          17,
          22,
          22,
          20.2,
          20.2,
          20.2,
          20.2,
          20.2,
          20.2,
          20.2,
          20.2,
          20.2,
          20.2,
          20.2,
          20.2,
          20.2,
          20.2,
          20.2,
          20.2,
          20.2,
          20.2,
          20.2,
          20.2,
          20.2,
          20.2,
          20.2,
          20.2,
          20.2,
          20.2,
          20.2,
          20.2,
          20.2,
          20.2,
          20.2,
          20.2,
          20.2,
          20.2,
          20.2,
          20.2,
          20.2,
          20.2,
          20.2,
          20.2,
          20.2,
          20.2,
          20.2,
          20.2,
          20.2,
          20.2,
          20.2,
          20.2,
          20.2,
          20.2,
          20.2,
          20.2,
          20.2,
          20.2,
          20.2,
          20.2,
          20.2,
          20.2,
          20.2,
          20.2,
          20.2,
          20.2,
          20.2,
          20.2,
          20.2,
          20.2,
          20.2,
          20.2,
          20.2,
          20.2,
          20.2,
          20.2,
          20.2,
          20.2,
          20.2,
          20.2,
          20.2,
          20.2,
          20.2,
          20.2,
          20.2,
          20.2,
          20.2,
          20.2,
          20.2,
          20.2,
          20.2,
          20.2,
          20.2,
          20.2,
          20.2,
          20.2,
          20.2,
          20.2,
          20.2,
          20.2,
          20.2,
          20.2,
          20.2,
          20.2,
          20.2,
          20.2,
          20.2,
          20.2,
          20.2,
          20.2,
          20.2,
          20.2,
          20.2,
          20.2,
          20.2,
          20.2,
          20.2,
          20.2,
          20.2,
          20.2,
          20.2,
          20.2,
          20.2,
          20.2,
          20.2,
          20.2,
          20.2,
          20.2,
          20.2,
          20.2,
          20.1,
          20.1,
          20.1,
          20.1,
          20.1,
          19.2,
          19.2,
          19.2,
          19.2,
          19.2,
          19.2,
          19.2,
          19.2,
          21,
          21,
          21,
          21
         ],
         "y": [
          -49254.54545454547,
          2100,
          0,
          -9450,
          -13440,
          0,
          1050,
          -15654.54545454547,
          -840,
          -29126.08695652173,
          -954.5454545454704,
          -2100,
          10773.913043478271,
          2373.913043478271,
          -31226.08695652173,
          16800,
          -21000,
          -9975,
          0,
          9450,
          8400,
          15750,
          -15750,
          13745.45454545453,
          7700,
          -60900,
          3245.4545454545296,
          -2800,
          -36654.54545454547,
          0,
          0,
          0,
          0,
          0,
          0,
          -29126.08695652173,
          0,
          0,
          2100,
          0,
          -8400,
          0,
          0,
          0,
          0,
          6300,
          27300,
          25200,
          0,
          -31500,
          6300,
          0,
          0,
          -12600,
          12600,
          0,
          0,
          0,
          6300,
          -6300,
          11200,
          0,
          0,
          0,
          -840,
          20160,
          0,
          0,
          0,
          0,
          0,
          3360,
          0,
          0,
          -34440,
          0,
          0,
          0,
          -1400,
          13650,
          0,
          -9450,
          0,
          -13650,
          -9800,
          0,
          0,
          0,
          11760,
          0,
          0,
          0,
          0,
          0,
          0,
          0,
          0,
          9450,
          0,
          100800,
          19950,
          -401100,
          60900,
          -37800,
          -149100,
          67200,
          -46200,
          -39900,
          -138600,
          -60900,
          16800,
          -64400,
          -69300,
          -281400,
          -111300,
          33600,
          -44100,
          -4200,
          -172200,
          -178500,
          25200,
          163800,
          6300,
          95200,
          119700,
          -163800,
          12600,
          -16100,
          -60900,
          -2100,
          -77700,
          9100,
          -92400,
          -54600,
          63000,
          58800,
          -60900,
          -77700,
          -220500,
          8400,
          46200,
          130200,
          77700,
          81900,
          -39900,
          -25200,
          0,
          27300,
          123900,
          186900,
          27300,
          69300,
          151200,
          -37800,
          37800,
          407400,
          -10500,
          65100,
          -23100,
          13860,
          -67200,
          0,
          33600,
          -27300,
          306600,
          142800,
          -16800,
          -4200,
          111300,
          -16800,
          18900,
          -91140,
          65100,
          -88200,
          -27300,
          67200,
          65100,
          63233.333333333314,
          26460,
          -6300,
          -4200,
          -81900,
          -96600,
          -50400,
          -77700,
          283500,
          -110950
         ]
        }
       ],
       "layout": {
        "title": {
         "text": "pointwise error (MEDV)"
        },
        "xaxis": {
         "title": {
          "text": "PTRATIO"
         }
        },
        "yaxis": {
         "title": {
          "text": "model-target  [MEDV]"
         }
        }
       }
      },
      "text/html": [
       "<div>\n",
       "        \n",
       "        \n",
       "            <div id=\"f9f27340-438a-46ae-ad2f-cd06b865d31e\" class=\"plotly-graph-div\" style=\"height:525px; width:100%;\"></div>\n",
       "            <script type=\"text/javascript\">\n",
       "                require([\"plotly\"], function(Plotly) {\n",
       "                    window.PLOTLYENV=window.PLOTLYENV || {};\n",
       "                    window.PLOTLYENV.BASE_URL='https://plot.ly';\n",
       "                    \n",
       "                if (document.getElementById(\"f9f27340-438a-46ae-ad2f-cd06b865d31e\")) {\n",
       "                    Plotly.newPlot(\n",
       "                        'f9f27340-438a-46ae-ad2f-cd06b865d31e',\n",
       "                        [{\"mode\": \"markers\", \"name\": \"DecisionTreeRegressor/eval/sample2: 0ef7e41a-f61d-11e9-9f9d-fc084a6691eb\", \"text\": \"sample2:last<br>DecisionTreeRegressor/model:0ef3a148-f61d-11e9-bef7-fc084a6691eb<br>\", \"type\": \"scatter\", \"uid\": \"77f5d7d9-1870-4dc4-8b4c-864cf75cb019\", \"x\": [18.4, 18.4, 18.4, 18.4, 18.4, 18.4, 18.4, 18.4, 19.6, 19.6, 19.6, 19.6, 19.6, 19.6, 19.6, 19.6, 16.9, 16.9, 16.9, 16.9, 16.9, 20.2, 20.2, 20.2, 20.2, 20.2, 20.2, 20.2, 20.2, 15.5, 15.9, 17.6, 17.6, 18.8, 18.8, 17.9, 17.0, 19.7, 19.7, 18.3, 18.3, 17.0, 22.0, 22.0, 20.2, 20.2, 20.2, 20.2, 20.2, 20.2, 20.2, 20.2, 20.2, 20.2, 20.2, 20.2, 20.2, 20.2, 20.2, 20.2, 20.2, 20.2, 20.2, 20.2, 20.2, 20.2, 20.2, 20.2, 20.2, 20.2, 20.2, 20.2, 20.2, 20.2, 20.2, 20.2, 20.2, 20.2, 20.2, 20.2, 20.2, 20.2, 20.2, 20.2, 20.2, 20.2, 20.2, 20.2, 20.2, 20.2, 20.2, 20.2, 20.2, 20.2, 20.2, 20.2, 20.2, 20.2, 20.2, 20.2, 20.2, 20.2, 20.2, 20.2, 20.2, 20.2, 20.2, 20.2, 20.2, 20.2, 20.2, 20.2, 20.2, 20.2, 20.2, 20.2, 20.2, 20.2, 20.2, 20.2, 20.2, 20.2, 20.2, 20.2, 20.2, 20.2, 20.2, 20.2, 20.2, 20.2, 20.2, 20.2, 20.2, 20.2, 20.2, 20.2, 20.2, 20.2, 20.2, 20.2, 20.2, 20.2, 20.2, 20.2, 20.2, 20.2, 20.2, 20.2, 20.2, 20.2, 20.2, 20.2, 20.2, 20.2, 20.2, 20.2, 20.2, 20.2, 20.2, 20.2, 20.2, 20.2, 20.2, 20.2, 20.2, 20.2, 20.2, 20.2, 20.2, 20.2, 20.1, 20.1, 20.1, 20.1, 20.1, 19.2, 19.2, 19.2, 19.2, 19.2, 19.2, 19.2, 19.2, 21.0, 21.0, 21.0, 21.0], \"y\": [-49254.54545454547, 2100.0, 0.0, -9450.0, -13440.0, 0.0, 1050.0, -15654.54545454547, -840.0, -29126.08695652173, -954.5454545454704, -2100.0, 10773.913043478271, 2373.913043478271, -31226.08695652173, 16800.0, -21000.0, -9975.0, 0.0, 9450.0, 8400.0, 15750.0, -15750.0, 13745.45454545453, 7700.0, -60900.0, 3245.4545454545296, -2800.0, -36654.54545454547, 0.0, 0.0, 0.0, 0.0, 0.0, 0.0, -29126.08695652173, 0.0, 0.0, 2100.0, 0.0, -8400.0, 0.0, 0.0, 0.0, 0.0, 6300.0, 27300.0, 25200.0, 0.0, -31500.0, 6300.0, 0.0, 0.0, -12600.0, 12600.0, 0.0, 0.0, 0.0, 6300.0, -6300.0, 11200.0, 0.0, 0.0, 0.0, -840.0, 20160.0, 0.0, 0.0, 0.0, 0.0, 0.0, 3360.0, 0.0, 0.0, -34440.0, 0.0, 0.0, 0.0, -1400.0, 13650.0, 0.0, -9450.0, 0.0, -13650.0, -9800.0, 0.0, 0.0, 0.0, 11760.0, 0.0, 0.0, 0.0, 0.0, 0.0, 0.0, 0.0, 0.0, 9450.0, 0.0, 100800.0, 19950.0, -401100.0, 60900.0, -37800.0, -149100.0, 67200.0, -46200.0, -39900.0, -138600.0, -60900.0, 16800.0, -64400.0, -69300.0, -281400.0, -111300.0, 33600.0, -44100.0, -4200.0, -172200.0, -178500.0, 25200.0, 163800.0, 6300.0, 95200.0, 119700.0, -163800.0, 12600.0, -16100.0, -60900.0, -2100.0, -77700.0, 9100.0, -92400.0, -54600.0, 63000.0, 58800.0, -60900.0, -77700.0, -220500.0, 8400.0, 46200.0, 130200.0, 77700.0, 81900.0, -39900.0, -25200.0, 0.0, 27300.0, 123900.0, 186900.0, 27300.0, 69300.0, 151200.0, -37800.0, 37800.0, 407400.0, -10500.0, 65100.0, -23100.0, 13860.0, -67200.0, 0.0, 33600.0, -27300.0, 306600.0, 142800.0, -16800.0, -4200.0, 111300.0, -16800.0, 18900.0, -91140.0, 65100.0, -88200.0, -27300.0, 67200.0, 65100.0, 63233.333333333314, 26460.0, -6300.0, -4200.0, -81900.0, -96600.0, -50400.0, -77700.0, 283500.0, -110950.0]}],\n",
       "                        {\"title\": {\"text\": \"pointwise error (MEDV)\"}, \"xaxis\": {\"title\": {\"text\": \"PTRATIO\"}}, \"yaxis\": {\"title\": {\"text\": \"model-target  [MEDV]\"}}},\n",
       "                        {\"showLink\": false, \"linkText\": \"Export to plot.ly\", \"plotlyServerURL\": \"https://plot.ly\", \"responsive\": true}\n",
       "                    ).then(function(){\n",
       "                            \n",
       "var gd = document.getElementById('f9f27340-438a-46ae-ad2f-cd06b865d31e');\n",
       "var x = new MutationObserver(function (mutations, observer) {{\n",
       "        var display = window.getComputedStyle(gd).display;\n",
       "        if (!display || display === 'none') {{\n",
       "            console.log([gd, 'removed!']);\n",
       "            Plotly.purge(gd);\n",
       "            observer.disconnect();\n",
       "        }}\n",
       "}});\n",
       "\n",
       "// Listen for the removal of the full notebook cells\n",
       "var notebookContainer = gd.closest('#notebook-container');\n",
       "if (notebookContainer) {{\n",
       "    x.observe(notebookContainer, {childList: true});\n",
       "}}\n",
       "\n",
       "// Listen for the clearing of the current output cell\n",
       "var outputEl = gd.closest('.output');\n",
       "if (outputEl) {{\n",
       "    x.observe(outputEl, {childList: true});\n",
       "}}\n",
       "\n",
       "                        })\n",
       "                };\n",
       "                });\n",
       "            </script>\n",
       "        </div>"
      ]
     },
     "metadata": {},
     "output_type": "display_data"
    }
   ],
   "source": [
    "plot.scatter_model_error(ml_repo, ml_repo.tree.models.DecisionTreeRegressor.model(), ml_repo.tree.test_data.sample2(), 'PTRATIO')"
   ]
  },
  {
   "cell_type": "markdown",
   "metadata": {},
   "source": [
    "#### Plot histogram of model error"
   ]
  },
  {
   "cell_type": "code",
   "execution_count": 39,
   "metadata": {
    "ExecuteTime": {
     "end_time": "2019-10-24T05:13:49.768708Z",
     "start_time": "2019-10-24T05:13:49.306943Z"
    }
   },
   "outputs": [
    {
     "data": {
      "application/vnd.plotly.v1+json": {
       "config": {
        "linkText": "Export to plot.ly",
        "plotlyServerURL": "https://plot.ly",
        "responsive": true,
        "showLink": false
       },
       "data": [
        {
         "histnorm": "percent",
         "name": "DecisionTreeRegressor/eval/sample2: 0ef7e41a-f61d-11e9-9f9d-fc084a6691eb",
         "opacity": 1,
         "text": "sample2:last<br>DecisionTreeRegressor/model:0ef3a148-f61d-11e9-bef7-fc084a6691eb<br>",
         "type": "histogram",
         "uid": "9b7ae657-5b99-4c51-a685-43522a1e1f1c",
         "x": [
          -49254.54545454547,
          2100,
          0,
          -9450,
          -13440,
          0,
          1050,
          -15654.54545454547,
          -840,
          -29126.08695652173,
          -954.5454545454704,
          -2100,
          10773.913043478271,
          2373.913043478271,
          -31226.08695652173,
          16800,
          -21000,
          -9975,
          0,
          9450,
          8400,
          15750,
          -15750,
          13745.45454545453,
          7700,
          -60900,
          3245.4545454545296,
          -2800,
          -36654.54545454547,
          0,
          0,
          0,
          0,
          0,
          0,
          -29126.08695652173,
          0,
          0,
          2100,
          0,
          -8400,
          0,
          0,
          0,
          0,
          6300,
          27300,
          25200,
          0,
          -31500,
          6300,
          0,
          0,
          -12600,
          12600,
          0,
          0,
          0,
          6300,
          -6300,
          11200,
          0,
          0,
          0,
          -840,
          20160,
          0,
          0,
          0,
          0,
          0,
          3360,
          0,
          0,
          -34440,
          0,
          0,
          0,
          -1400,
          13650,
          0,
          -9450,
          0,
          -13650,
          -9800,
          0,
          0,
          0,
          11760,
          0,
          0,
          0,
          0,
          0,
          0,
          0,
          0,
          9450,
          0,
          100800,
          19950,
          -401100,
          60900,
          -37800,
          -149100,
          67200,
          -46200,
          -39900,
          -138600,
          -60900,
          16800,
          -64400,
          -69300,
          -281400,
          -111300,
          33600,
          -44100,
          -4200,
          -172200,
          -178500,
          25200,
          163800,
          6300,
          95200,
          119700,
          -163800,
          12600,
          -16100,
          -60900,
          -2100,
          -77700,
          9100,
          -92400,
          -54600,
          63000,
          58800,
          -60900,
          -77700,
          -220500,
          8400,
          46200,
          130200,
          77700,
          81900,
          -39900,
          -25200,
          0,
          27300,
          123900,
          186900,
          27300,
          69300,
          151200,
          -37800,
          37800,
          407400,
          -10500,
          65100,
          -23100,
          13860,
          -67200,
          0,
          33600,
          -27300,
          306600,
          142800,
          -16800,
          -4200,
          111300,
          -16800,
          18900,
          -91140,
          65100,
          -88200,
          -27300,
          67200,
          65100,
          63233.333333333314,
          26460,
          -6300,
          -4200,
          -81900,
          -96600,
          -50400,
          -77700,
          283500,
          -110950
         ]
        }
       ],
       "layout": {
        "barmode": "overlay",
        "title": {
         "text": "pointwise error (MEDV)"
        },
        "xaxis": {
         "title": {
          "text": "model-target  [MEDV]"
         }
        }
       }
      },
      "text/html": [
       "<div>\n",
       "        \n",
       "        \n",
       "            <div id=\"23573bba-71a2-4dd8-a574-a8374b4a2df4\" class=\"plotly-graph-div\" style=\"height:525px; width:100%;\"></div>\n",
       "            <script type=\"text/javascript\">\n",
       "                require([\"plotly\"], function(Plotly) {\n",
       "                    window.PLOTLYENV=window.PLOTLYENV || {};\n",
       "                    window.PLOTLYENV.BASE_URL='https://plot.ly';\n",
       "                    \n",
       "                if (document.getElementById(\"23573bba-71a2-4dd8-a574-a8374b4a2df4\")) {\n",
       "                    Plotly.newPlot(\n",
       "                        '23573bba-71a2-4dd8-a574-a8374b4a2df4',\n",
       "                        [{\"histnorm\": \"percent\", \"name\": \"DecisionTreeRegressor/eval/sample2: 0ef7e41a-f61d-11e9-9f9d-fc084a6691eb\", \"opacity\": 1.0, \"text\": \"sample2:last<br>DecisionTreeRegressor/model:0ef3a148-f61d-11e9-bef7-fc084a6691eb<br>\", \"type\": \"histogram\", \"uid\": \"9cab6bb0-cf43-4830-aae4-8665b7536996\", \"x\": [-49254.54545454547, 2100.0, 0.0, -9450.0, -13440.0, 0.0, 1050.0, -15654.54545454547, -840.0, -29126.08695652173, -954.5454545454704, -2100.0, 10773.913043478271, 2373.913043478271, -31226.08695652173, 16800.0, -21000.0, -9975.0, 0.0, 9450.0, 8400.0, 15750.0, -15750.0, 13745.45454545453, 7700.0, -60900.0, 3245.4545454545296, -2800.0, -36654.54545454547, 0.0, 0.0, 0.0, 0.0, 0.0, 0.0, -29126.08695652173, 0.0, 0.0, 2100.0, 0.0, -8400.0, 0.0, 0.0, 0.0, 0.0, 6300.0, 27300.0, 25200.0, 0.0, -31500.0, 6300.0, 0.0, 0.0, -12600.0, 12600.0, 0.0, 0.0, 0.0, 6300.0, -6300.0, 11200.0, 0.0, 0.0, 0.0, -840.0, 20160.0, 0.0, 0.0, 0.0, 0.0, 0.0, 3360.0, 0.0, 0.0, -34440.0, 0.0, 0.0, 0.0, -1400.0, 13650.0, 0.0, -9450.0, 0.0, -13650.0, -9800.0, 0.0, 0.0, 0.0, 11760.0, 0.0, 0.0, 0.0, 0.0, 0.0, 0.0, 0.0, 0.0, 9450.0, 0.0, 100800.0, 19950.0, -401100.0, 60900.0, -37800.0, -149100.0, 67200.0, -46200.0, -39900.0, -138600.0, -60900.0, 16800.0, -64400.0, -69300.0, -281400.0, -111300.0, 33600.0, -44100.0, -4200.0, -172200.0, -178500.0, 25200.0, 163800.0, 6300.0, 95200.0, 119700.0, -163800.0, 12600.0, -16100.0, -60900.0, -2100.0, -77700.0, 9100.0, -92400.0, -54600.0, 63000.0, 58800.0, -60900.0, -77700.0, -220500.0, 8400.0, 46200.0, 130200.0, 77700.0, 81900.0, -39900.0, -25200.0, 0.0, 27300.0, 123900.0, 186900.0, 27300.0, 69300.0, 151200.0, -37800.0, 37800.0, 407400.0, -10500.0, 65100.0, -23100.0, 13860.0, -67200.0, 0.0, 33600.0, -27300.0, 306600.0, 142800.0, -16800.0, -4200.0, 111300.0, -16800.0, 18900.0, -91140.0, 65100.0, -88200.0, -27300.0, 67200.0, 65100.0, 63233.333333333314, 26460.0, -6300.0, -4200.0, -81900.0, -96600.0, -50400.0, -77700.0, 283500.0, -110950.0]}],\n",
       "                        {\"barmode\": \"overlay\", \"title\": {\"text\": \"pointwise error (MEDV)\"}, \"xaxis\": {\"title\": {\"text\": \"model-target  [MEDV]\"}}},\n",
       "                        {\"showLink\": false, \"linkText\": \"Export to plot.ly\", \"plotlyServerURL\": \"https://plot.ly\", \"responsive\": true}\n",
       "                    ).then(function(){\n",
       "                            \n",
       "var gd = document.getElementById('23573bba-71a2-4dd8-a574-a8374b4a2df4');\n",
       "var x = new MutationObserver(function (mutations, observer) {{\n",
       "        var display = window.getComputedStyle(gd).display;\n",
       "        if (!display || display === 'none') {{\n",
       "            console.log([gd, 'removed!']);\n",
       "            Plotly.purge(gd);\n",
       "            observer.disconnect();\n",
       "        }}\n",
       "}});\n",
       "\n",
       "// Listen for the removal of the full notebook cells\n",
       "var notebookContainer = gd.closest('#notebook-container');\n",
       "if (notebookContainer) {{\n",
       "    x.observe(notebookContainer, {childList: true});\n",
       "}}\n",
       "\n",
       "// Listen for the clearing of the current output cell\n",
       "var outputEl = gd.closest('.output');\n",
       "if (outputEl) {{\n",
       "    x.observe(outputEl, {childList: true});\n",
       "}}\n",
       "\n",
       "                        })\n",
       "                };\n",
       "                });\n",
       "            </script>\n",
       "        </div>"
      ]
     },
     "metadata": {},
     "output_type": "display_data"
    }
   ],
   "source": [
    "plot.histogram_model_error(ml_repo, ml_repo.tree.models.DecisionTreeRegressor.model(), ml_repo.tree.test_data.sample2())"
   ]
  },
  {
   "cell_type": "markdown",
   "metadata": {},
   "source": [
    "### Plot data"
   ]
  },
  {
   "cell_type": "code",
   "execution_count": 40,
   "metadata": {
    "ExecuteTime": {
     "end_time": "2019-10-24T05:13:50.109797Z",
     "start_time": "2019-10-24T05:13:49.770703Z"
    }
   },
   "outputs": [
    {
     "data": {
      "application/vnd.plotly.v1+json": {
       "config": {
        "linkText": "Export to plot.ly",
        "plotlyServerURL": "https://plot.ly",
        "responsive": true,
        "showLink": false
       },
       "data": [
        {
         "histnorm": "percent",
         "name": "sample2: 0e0134a2-f61d-11e9-9a0e-fc084a6691eb",
         "opacity": 0.5,
         "text": "sample2:['last']<br>",
         "type": "histogram",
         "uid": "70eeddcf-e49c-4dab-ac1b-a00e79e7be9e",
         "x": [
          11.72,
          7.9,
          9.28,
          11.5,
          18.33,
          15.94,
          10.36,
          12.73,
          7.2,
          6.87,
          7.7,
          11.74,
          6.12,
          5.08,
          6.15,
          12.79,
          9.97,
          7.34,
          9.09,
          12.43,
          7.83,
          5.68,
          6.75,
          8.01,
          9.8,
          10.56,
          8.51,
          9.74,
          9.29,
          5.49,
          8.65,
          7.18,
          4.61,
          10.53,
          12.67,
          6.36,
          5.99,
          5.89,
          5.98,
          5.49,
          7.79,
          4.5,
          8.05,
          5.57,
          17.6,
          13.27,
          11.48,
          12.67,
          7.79,
          14.19,
          10.19,
          14.64,
          7.12,
          14,
          13.33,
          34.77,
          37.97,
          13.44,
          23.24,
          21.24,
          23.69,
          21.78,
          17.21,
          21.08,
          23.6,
          24.56,
          30.63,
          30.81,
          28.28,
          31.99,
          30.62,
          20.85,
          17.11,
          18.76,
          25.68,
          15.17,
          16.35,
          17.12,
          19.37,
          19.92,
          30.59,
          29.97,
          26.77,
          20.32,
          20.31,
          19.77,
          27.38,
          22.98,
          23.34,
          12.13,
          26.4,
          19.78,
          10.11,
          21.22,
          34.37,
          20.08,
          36.98,
          29.05,
          25.79,
          26.64,
          20.62,
          22.74,
          15.02,
          15.7,
          14.1,
          23.29,
          17.16,
          24.39,
          15.69,
          14.52,
          21.52,
          24.08,
          17.64,
          19.69,
          12.03,
          16.22,
          15.17,
          23.27,
          18.05,
          26.45,
          34.02,
          22.88,
          22.11,
          19.52,
          16.59,
          18.85,
          23.79,
          23.98,
          17.79,
          16.44,
          18.13,
          19.31,
          17.44,
          17.73,
          17.27,
          16.74,
          18.71,
          18.13,
          19.01,
          16.94,
          16.23,
          14.7,
          16.42,
          14.65,
          13.99,
          10.29,
          13.22,
          14.13,
          17.15,
          21.32,
          18.13,
          14.76,
          16.29,
          12.87,
          14.36,
          11.66,
          18.14,
          24.1,
          18.68,
          24.91,
          18.03,
          13.11,
          10.74,
          7.74,
          7.01,
          10.42,
          13.34,
          10.58,
          14.98,
          11.45,
          18.06,
          23.97,
          29.68,
          18.07,
          13.35,
          12.01,
          13.59,
          17.6,
          21.14,
          14.1,
          12.92,
          15.1,
          14.33,
          9.67,
          9.08,
          5.64,
          6.48
         ]
        },
        {
         "histnorm": "percent",
         "name": "sample1: 0bf39388-f61d-11e9-96ae-fc084a6691eb",
         "opacity": 0.5,
         "text": "sample1:['first', 'last']<br>",
         "type": "histogram",
         "uid": "1f543d61-52bc-487e-863b-b6cad2b773fd",
         "x": [
          4.98,
          9.14,
          4.03,
          2.94,
          5.33,
          5.21,
          12.43,
          19.15,
          29.93,
          17.1,
          20.45,
          13.27,
          15.71,
          8.26,
          10.26,
          8.47,
          6.58,
          14.67,
          11.69,
          11.28,
          21.02,
          13.83,
          18.72,
          19.88,
          16.3,
          16.51,
          14.81,
          17.28,
          12.8,
          11.98,
          22.6,
          13.04,
          27.71,
          18.35,
          20.34,
          9.68,
          11.41,
          8.77,
          10.13,
          4.32,
          1.98,
          4.84,
          5.81,
          7.44,
          9.55,
          10.21,
          14.15,
          18.8,
          30.81,
          16.2,
          13.45,
          9.43,
          5.28,
          8.43,
          14.8,
          4.81,
          5.77,
          3.95,
          6.86,
          9.22,
          13.15,
          14.44,
          6.73,
          9.5,
          8.05,
          4.67,
          10.24,
          8.1,
          13.09,
          8.79,
          6.72,
          9.88,
          5.52,
          7.54,
          6.78,
          8.94,
          11.97,
          10.27,
          12.34,
          9.1,
          5.29,
          7.22,
          6.72,
          7.51,
          9.62,
          6.53,
          12.86,
          8.44,
          5.5,
          5.7,
          8.81,
          8.2,
          8.16,
          6.21,
          10.59,
          6.65,
          11.34,
          4.21,
          3.57,
          6.19,
          9.42,
          7.67,
          10.63,
          13.44,
          12.33,
          16.47,
          18.66,
          14.09,
          12.27,
          15.55,
          13,
          10.16,
          16.21,
          17.09,
          10.45,
          15.76,
          12.04,
          10.3,
          15.37,
          13.61,
          14.37,
          14.27,
          17.93,
          25.41,
          17.58,
          14.81,
          27.26,
          17.19,
          15.39,
          18.34,
          12.6,
          12.26,
          11.12,
          15.03,
          17.31,
          16.96,
          16.9,
          14.59,
          21.32,
          18.46,
          24.16,
          34.41,
          26.82,
          26.42,
          29.29,
          27.8,
          16.65,
          29.53,
          28.32,
          21.45,
          14.1,
          13.28,
          12.12,
          15.79,
          15.12,
          15.02,
          16.14,
          4.59,
          6.43,
          7.39,
          5.5,
          11.64,
          9.81,
          12.14,
          11.1,
          11.32,
          14.43,
          12.03,
          14.69,
          9.04,
          9.64,
          5.33,
          10.11,
          6.29,
          6.92,
          5.04,
          7.56,
          9.45,
          4.82,
          5.68,
          13.98,
          13.15,
          6.68,
          4.56,
          5.39,
          5.1,
          4.69,
          2.87,
          5.03,
          4.38,
          4.08,
          8.61,
          6.62,
          4.56,
          4.45,
          7.43,
          3.11,
          3.81,
          10.87,
          10.97,
          18.06,
          14.66,
          23.09,
          17.27,
          23.98,
          16.03,
          9.38,
          29.55,
          9.47,
          13.51,
          9.69,
          17.92,
          10.5,
          9.71,
          21.46,
          9.93,
          7.6,
          4.14,
          3.13,
          6.36,
          3.92,
          3.76,
          11.65,
          5.25,
          2.47,
          3.95,
          8.05,
          10.88,
          9.54,
          4.73,
          6.36,
          7.37,
          11.38,
          12.4,
          11.22,
          5.19,
          12.5,
          18.46,
          9.16,
          10.15,
          9.52,
          6.56,
          5.9,
          3.59,
          3.53,
          3.54,
          6.57,
          9.25,
          3.11,
          7.79,
          6.9,
          9.59,
          7.26,
          5.91,
          11.25,
          8.1,
          10.45,
          14.79,
          3.16,
          13.65,
          13,
          6.59,
          7.73,
          6.58,
          3.53,
          2.98,
          6.05,
          4.16,
          7.19,
          4.85,
          3.76,
          4.59,
          3.01,
          7.85,
          8.23,
          12.93,
          7.14,
          7.6,
          9.51,
          3.33,
          3.56,
          4.7,
          8.58,
          10.4,
          6.27,
          7.39,
          15.84,
          4.97,
          4.74,
          6.07,
          9.5,
          8.67,
          4.86,
          6.93,
          8.93,
          6.47,
          7.53,
          4.54,
          9.97
         ]
        },
        {
         "histnorm": "percent",
         "name": "sample1: 0e896852-f61d-11e9-a8d8-fc084a6691eb",
         "opacity": 0.5,
         "text": "sample1:['first', 'last']<br>",
         "type": "histogram",
         "uid": "8b92e6af-9073-41e8-bff5-4de4530eef4f",
         "x": [
          4.98,
          9.14,
          4.03,
          2.94,
          5.33,
          5.21,
          12.43,
          19.15,
          29.93,
          17.1,
          20.45,
          13.27,
          15.71,
          8.26,
          10.26,
          8.47,
          6.58,
          14.67,
          11.69,
          11.28,
          21.02,
          13.83,
          18.72,
          19.88,
          16.3,
          16.51,
          14.81,
          17.28,
          12.8,
          11.98,
          22.6,
          13.04,
          27.71,
          18.35,
          20.34,
          9.68,
          11.41,
          8.77,
          10.13,
          4.32,
          1.98,
          4.84,
          5.81,
          7.44,
          9.55,
          10.21,
          14.15,
          18.8,
          30.81,
          16.2,
          13.45,
          9.43,
          5.28,
          8.43,
          14.8,
          4.81,
          5.77,
          3.95,
          6.86,
          9.22,
          13.15,
          14.44,
          6.73,
          9.5,
          8.05,
          4.67,
          10.24,
          8.1,
          13.09,
          8.79,
          6.72,
          9.88,
          5.52,
          7.54,
          6.78,
          8.94,
          11.97,
          10.27,
          12.34,
          9.1,
          5.29,
          7.22,
          6.72,
          7.51,
          9.62,
          6.53,
          12.86,
          8.44,
          5.5,
          5.7,
          8.81,
          8.2,
          8.16,
          6.21,
          10.59,
          6.65,
          11.34,
          4.21,
          3.57,
          6.19,
          9.42,
          7.67,
          10.63,
          13.44,
          12.33,
          16.47,
          18.66,
          14.09,
          12.27,
          15.55,
          13,
          10.16,
          16.21,
          17.09,
          10.45,
          15.76,
          12.04,
          10.3,
          15.37,
          13.61,
          14.37,
          14.27,
          17.93,
          25.41,
          17.58,
          14.81,
          27.26,
          17.19,
          15.39,
          18.34,
          12.6,
          12.26,
          11.12,
          15.03,
          17.31,
          16.96,
          16.9,
          14.59,
          21.32,
          18.46,
          24.16,
          34.41,
          26.82,
          26.42,
          29.29,
          27.8,
          16.65,
          29.53,
          28.32,
          21.45,
          14.1,
          13.28,
          12.12,
          15.79,
          15.12,
          15.02,
          16.14,
          4.59,
          6.43,
          7.39,
          5.5,
          11.64,
          9.81,
          12.14,
          11.1,
          11.32,
          14.43,
          12.03,
          14.69,
          9.04,
          9.64,
          5.33,
          10.11,
          6.29,
          6.92,
          5.04,
          7.56,
          9.45,
          4.82,
          5.68,
          13.98,
          13.15,
          6.68,
          4.56,
          5.39,
          5.1,
          4.69,
          2.87,
          5.03,
          4.38,
          4.08,
          8.61,
          6.62,
          4.56,
          4.45,
          7.43,
          3.11,
          3.81,
          10.87,
          10.97,
          18.06,
          14.66,
          23.09,
          17.27,
          23.98,
          16.03,
          9.38,
          29.55,
          9.47,
          13.51,
          9.69,
          17.92,
          10.5,
          9.71,
          21.46,
          9.93,
          7.6,
          4.14,
          3.13,
          6.36,
          3.92,
          3.76,
          11.65,
          5.25,
          2.47,
          3.95,
          8.05,
          10.88,
          9.54,
          4.73,
          6.36,
          7.37,
          11.38,
          12.4,
          11.22,
          5.19,
          12.5,
          18.46,
          9.16,
          10.15,
          9.52,
          6.56,
          5.9,
          3.59,
          3.53,
          3.54,
          6.57,
          9.25,
          3.11,
          7.79,
          6.9,
          9.59,
          7.26,
          5.91,
          11.25,
          8.1,
          10.45,
          14.79,
          3.16,
          13.65,
          13,
          6.59,
          7.73,
          6.58,
          3.53,
          2.98,
          6.05,
          4.16,
          7.19,
          4.85,
          3.76,
          4.59,
          3.01,
          7.85,
          8.23,
          12.93,
          7.14,
          7.6,
          9.51,
          3.33,
          3.56,
          4.7,
          8.58,
          10.4,
          6.27,
          7.39,
          15.84,
          4.97,
          4.74,
          6.07,
          9.5,
          8.67,
          4.86,
          6.93,
          8.93,
          6.47,
          7.53,
          4.54,
          9.97,
          12.64,
          5.98,
          11.72,
          7.9,
          9.28,
          11.5,
          18.33,
          15.94,
          10.36,
          12.73,
          7.2,
          6.87,
          7.7,
          11.74,
          6.12,
          5.08,
          6.15,
          12.79,
          9.97,
          7.34,
          9.09,
          12.43,
          7.83,
          5.68,
          6.75,
          8.01,
          9.8,
          10.56,
          8.51,
          9.74,
          9.29,
          5.49,
          8.65,
          7.18,
          4.61,
          10.53,
          12.67,
          6.36,
          5.99,
          5.89,
          5.98,
          5.49,
          7.79,
          4.5,
          8.05,
          5.57,
          17.6,
          13.27,
          11.48,
          12.67,
          7.79,
          14.19,
          10.19,
          14.64,
          7.12,
          14,
          13.33,
          34.77,
          37.97,
          13.44,
          23.24,
          21.24,
          23.69,
          21.78,
          17.21,
          21.08,
          23.6,
          24.56,
          30.63,
          30.81,
          28.28,
          31.99,
          30.62,
          20.85,
          17.11,
          18.76,
          25.68,
          15.17,
          16.35,
          17.12,
          19.37,
          19.92,
          30.59,
          29.97,
          26.77,
          20.32,
          20.31,
          19.77,
          27.38,
          22.98,
          23.34,
          12.13,
          26.4,
          19.78,
          10.11,
          21.22,
          34.37,
          20.08,
          36.98,
          29.05
         ]
        }
       ],
       "layout": {
        "barmode": "overlay",
        "title": {
         "text": "data distribution"
        },
        "xaxis": {
         "title": {
          "text": "LSTAT"
         }
        }
       }
      },
      "text/html": [
       "<div>\n",
       "        \n",
       "        \n",
       "            <div id=\"9d977b0b-3996-479a-99d6-1ee807c7125a\" class=\"plotly-graph-div\" style=\"height:525px; width:100%;\"></div>\n",
       "            <script type=\"text/javascript\">\n",
       "                require([\"plotly\"], function(Plotly) {\n",
       "                    window.PLOTLYENV=window.PLOTLYENV || {};\n",
       "                    window.PLOTLYENV.BASE_URL='https://plot.ly';\n",
       "                    \n",
       "                if (document.getElementById(\"9d977b0b-3996-479a-99d6-1ee807c7125a\")) {\n",
       "                    Plotly.newPlot(\n",
       "                        '9d977b0b-3996-479a-99d6-1ee807c7125a',\n",
       "                        [{\"histnorm\": \"percent\", \"name\": \"sample2: 0e0134a2-f61d-11e9-9a0e-fc084a6691eb\", \"opacity\": 0.5, \"text\": \"sample2:['last']<br>\", \"type\": \"histogram\", \"uid\": \"c3e50626-ccb0-4de0-b040-fc71c4de6fb1\", \"x\": [11.72, 7.9, 9.28, 11.5, 18.33, 15.94, 10.36, 12.73, 7.2, 6.87, 7.7, 11.74, 6.12, 5.08, 6.15, 12.79, 9.97, 7.34, 9.09, 12.43, 7.83, 5.68, 6.75, 8.01, 9.8, 10.56, 8.51, 9.74, 9.29, 5.49, 8.65, 7.18, 4.61, 10.53, 12.67, 6.36, 5.99, 5.89, 5.98, 5.49, 7.79, 4.5, 8.05, 5.57, 17.6, 13.27, 11.48, 12.67, 7.79, 14.19, 10.19, 14.64, 7.12, 14.0, 13.33, 34.77, 37.97, 13.44, 23.24, 21.24, 23.69, 21.78, 17.21, 21.08, 23.6, 24.56, 30.63, 30.81, 28.28, 31.99, 30.62, 20.85, 17.11, 18.76, 25.68, 15.17, 16.35, 17.12, 19.37, 19.92, 30.59, 29.97, 26.77, 20.32, 20.31, 19.77, 27.38, 22.98, 23.34, 12.13, 26.4, 19.78, 10.11, 21.22, 34.37, 20.08, 36.98, 29.05, 25.79, 26.64, 20.62, 22.74, 15.02, 15.7, 14.1, 23.29, 17.16, 24.39, 15.69, 14.52, 21.52, 24.08, 17.64, 19.69, 12.03, 16.22, 15.17, 23.27, 18.05, 26.45, 34.02, 22.88, 22.11, 19.52, 16.59, 18.85, 23.79, 23.98, 17.79, 16.44, 18.13, 19.31, 17.44, 17.73, 17.27, 16.74, 18.71, 18.13, 19.01, 16.94, 16.23, 14.7, 16.42, 14.65, 13.99, 10.29, 13.22, 14.13, 17.15, 21.32, 18.13, 14.76, 16.29, 12.87, 14.36, 11.66, 18.14, 24.1, 18.68, 24.91, 18.03, 13.11, 10.74, 7.74, 7.01, 10.42, 13.34, 10.58, 14.98, 11.45, 18.06, 23.97, 29.68, 18.07, 13.35, 12.01, 13.59, 17.6, 21.14, 14.1, 12.92, 15.1, 14.33, 9.67, 9.08, 5.64, 6.48]}, {\"histnorm\": \"percent\", \"name\": \"sample1: 0bf39388-f61d-11e9-96ae-fc084a6691eb\", \"opacity\": 0.5, \"text\": \"sample1:['first', 'last']<br>\", \"type\": \"histogram\", \"uid\": \"b3b6ccee-47cf-43f4-8fe7-0221b543481f\", \"x\": [4.98, 9.14, 4.03, 2.94, 5.33, 5.21, 12.43, 19.15, 29.93, 17.1, 20.45, 13.27, 15.71, 8.26, 10.26, 8.47, 6.58, 14.67, 11.69, 11.28, 21.02, 13.83, 18.72, 19.88, 16.3, 16.51, 14.81, 17.28, 12.8, 11.98, 22.6, 13.04, 27.71, 18.35, 20.34, 9.68, 11.41, 8.77, 10.13, 4.32, 1.98, 4.84, 5.81, 7.44, 9.55, 10.21, 14.15, 18.8, 30.81, 16.2, 13.45, 9.43, 5.28, 8.43, 14.8, 4.81, 5.77, 3.95, 6.86, 9.22, 13.15, 14.44, 6.73, 9.5, 8.05, 4.67, 10.24, 8.1, 13.09, 8.79, 6.72, 9.88, 5.52, 7.54, 6.78, 8.94, 11.97, 10.27, 12.34, 9.1, 5.29, 7.22, 6.72, 7.51, 9.62, 6.53, 12.86, 8.44, 5.5, 5.7, 8.81, 8.2, 8.16, 6.21, 10.59, 6.65, 11.34, 4.21, 3.57, 6.19, 9.42, 7.67, 10.63, 13.44, 12.33, 16.47, 18.66, 14.09, 12.27, 15.55, 13.0, 10.16, 16.21, 17.09, 10.45, 15.76, 12.04, 10.3, 15.37, 13.61, 14.37, 14.27, 17.93, 25.41, 17.58, 14.81, 27.26, 17.19, 15.39, 18.34, 12.6, 12.26, 11.12, 15.03, 17.31, 16.96, 16.9, 14.59, 21.32, 18.46, 24.16, 34.41, 26.82, 26.42, 29.29, 27.8, 16.65, 29.53, 28.32, 21.45, 14.1, 13.28, 12.12, 15.79, 15.12, 15.02, 16.14, 4.59, 6.43, 7.39, 5.5, 11.64, 9.81, 12.14, 11.1, 11.32, 14.43, 12.03, 14.69, 9.04, 9.64, 5.33, 10.11, 6.29, 6.92, 5.04, 7.56, 9.45, 4.82, 5.68, 13.98, 13.15, 6.68, 4.56, 5.39, 5.1, 4.69, 2.87, 5.03, 4.38, 4.08, 8.61, 6.62, 4.56, 4.45, 7.43, 3.11, 3.81, 10.87, 10.97, 18.06, 14.66, 23.09, 17.27, 23.98, 16.03, 9.38, 29.55, 9.47, 13.51, 9.69, 17.92, 10.5, 9.71, 21.46, 9.93, 7.6, 4.14, 3.13, 6.36, 3.92, 3.76, 11.65, 5.25, 2.47, 3.95, 8.05, 10.88, 9.54, 4.73, 6.36, 7.37, 11.38, 12.4, 11.22, 5.19, 12.5, 18.46, 9.16, 10.15, 9.52, 6.56, 5.9, 3.59, 3.53, 3.54, 6.57, 9.25, 3.11, 7.79, 6.9, 9.59, 7.26, 5.91, 11.25, 8.1, 10.45, 14.79, 3.16, 13.65, 13.0, 6.59, 7.73, 6.58, 3.53, 2.98, 6.05, 4.16, 7.19, 4.85, 3.76, 4.59, 3.01, 7.85, 8.23, 12.93, 7.14, 7.6, 9.51, 3.33, 3.56, 4.7, 8.58, 10.4, 6.27, 7.39, 15.84, 4.97, 4.74, 6.07, 9.5, 8.67, 4.86, 6.93, 8.93, 6.47, 7.53, 4.54, 9.97]}, {\"histnorm\": \"percent\", \"name\": \"sample1: 0e896852-f61d-11e9-a8d8-fc084a6691eb\", \"opacity\": 0.5, \"text\": \"sample1:['first', 'last']<br>\", \"type\": \"histogram\", \"uid\": \"d9a70524-b399-4bda-9fa5-86bfea5389ec\", \"x\": [4.98, 9.14, 4.03, 2.94, 5.33, 5.21, 12.43, 19.15, 29.93, 17.1, 20.45, 13.27, 15.71, 8.26, 10.26, 8.47, 6.58, 14.67, 11.69, 11.28, 21.02, 13.83, 18.72, 19.88, 16.3, 16.51, 14.81, 17.28, 12.8, 11.98, 22.6, 13.04, 27.71, 18.35, 20.34, 9.68, 11.41, 8.77, 10.13, 4.32, 1.98, 4.84, 5.81, 7.44, 9.55, 10.21, 14.15, 18.8, 30.81, 16.2, 13.45, 9.43, 5.28, 8.43, 14.8, 4.81, 5.77, 3.95, 6.86, 9.22, 13.15, 14.44, 6.73, 9.5, 8.05, 4.67, 10.24, 8.1, 13.09, 8.79, 6.72, 9.88, 5.52, 7.54, 6.78, 8.94, 11.97, 10.27, 12.34, 9.1, 5.29, 7.22, 6.72, 7.51, 9.62, 6.53, 12.86, 8.44, 5.5, 5.7, 8.81, 8.2, 8.16, 6.21, 10.59, 6.65, 11.34, 4.21, 3.57, 6.19, 9.42, 7.67, 10.63, 13.44, 12.33, 16.47, 18.66, 14.09, 12.27, 15.55, 13.0, 10.16, 16.21, 17.09, 10.45, 15.76, 12.04, 10.3, 15.37, 13.61, 14.37, 14.27, 17.93, 25.41, 17.58, 14.81, 27.26, 17.19, 15.39, 18.34, 12.6, 12.26, 11.12, 15.03, 17.31, 16.96, 16.9, 14.59, 21.32, 18.46, 24.16, 34.41, 26.82, 26.42, 29.29, 27.8, 16.65, 29.53, 28.32, 21.45, 14.1, 13.28, 12.12, 15.79, 15.12, 15.02, 16.14, 4.59, 6.43, 7.39, 5.5, 11.64, 9.81, 12.14, 11.1, 11.32, 14.43, 12.03, 14.69, 9.04, 9.64, 5.33, 10.11, 6.29, 6.92, 5.04, 7.56, 9.45, 4.82, 5.68, 13.98, 13.15, 6.68, 4.56, 5.39, 5.1, 4.69, 2.87, 5.03, 4.38, 4.08, 8.61, 6.62, 4.56, 4.45, 7.43, 3.11, 3.81, 10.87, 10.97, 18.06, 14.66, 23.09, 17.27, 23.98, 16.03, 9.38, 29.55, 9.47, 13.51, 9.69, 17.92, 10.5, 9.71, 21.46, 9.93, 7.6, 4.14, 3.13, 6.36, 3.92, 3.76, 11.65, 5.25, 2.47, 3.95, 8.05, 10.88, 9.54, 4.73, 6.36, 7.37, 11.38, 12.4, 11.22, 5.19, 12.5, 18.46, 9.16, 10.15, 9.52, 6.56, 5.9, 3.59, 3.53, 3.54, 6.57, 9.25, 3.11, 7.79, 6.9, 9.59, 7.26, 5.91, 11.25, 8.1, 10.45, 14.79, 3.16, 13.65, 13.0, 6.59, 7.73, 6.58, 3.53, 2.98, 6.05, 4.16, 7.19, 4.85, 3.76, 4.59, 3.01, 7.85, 8.23, 12.93, 7.14, 7.6, 9.51, 3.33, 3.56, 4.7, 8.58, 10.4, 6.27, 7.39, 15.84, 4.97, 4.74, 6.07, 9.5, 8.67, 4.86, 6.93, 8.93, 6.47, 7.53, 4.54, 9.97, 12.64, 5.98, 11.72, 7.9, 9.28, 11.5, 18.33, 15.94, 10.36, 12.73, 7.2, 6.87, 7.7, 11.74, 6.12, 5.08, 6.15, 12.79, 9.97, 7.34, 9.09, 12.43, 7.83, 5.68, 6.75, 8.01, 9.8, 10.56, 8.51, 9.74, 9.29, 5.49, 8.65, 7.18, 4.61, 10.53, 12.67, 6.36, 5.99, 5.89, 5.98, 5.49, 7.79, 4.5, 8.05, 5.57, 17.6, 13.27, 11.48, 12.67, 7.79, 14.19, 10.19, 14.64, 7.12, 14.0, 13.33, 34.77, 37.97, 13.44, 23.24, 21.24, 23.69, 21.78, 17.21, 21.08, 23.6, 24.56, 30.63, 30.81, 28.28, 31.99, 30.62, 20.85, 17.11, 18.76, 25.68, 15.17, 16.35, 17.12, 19.37, 19.92, 30.59, 29.97, 26.77, 20.32, 20.31, 19.77, 27.38, 22.98, 23.34, 12.13, 26.4, 19.78, 10.11, 21.22, 34.37, 20.08, 36.98, 29.05]}],\n",
       "                        {\"barmode\": \"overlay\", \"title\": {\"text\": \"data distribution\"}, \"xaxis\": {\"title\": {\"text\": \"LSTAT\"}}},\n",
       "                        {\"showLink\": false, \"linkText\": \"Export to plot.ly\", \"plotlyServerURL\": \"https://plot.ly\", \"responsive\": true}\n",
       "                    ).then(function(){\n",
       "                            \n",
       "var gd = document.getElementById('9d977b0b-3996-479a-99d6-1ee807c7125a');\n",
       "var x = new MutationObserver(function (mutations, observer) {{\n",
       "        var display = window.getComputedStyle(gd).display;\n",
       "        if (!display || display === 'none') {{\n",
       "            console.log([gd, 'removed!']);\n",
       "            Plotly.purge(gd);\n",
       "            observer.disconnect();\n",
       "        }}\n",
       "}});\n",
       "\n",
       "// Listen for the removal of the full notebook cells\n",
       "var notebookContainer = gd.closest('#notebook-container');\n",
       "if (notebookContainer) {{\n",
       "    x.observe(notebookContainer, {childList: true});\n",
       "}}\n",
       "\n",
       "// Listen for the clearing of the current output cell\n",
       "var outputEl = gd.closest('.output');\n",
       "if (outputEl) {{\n",
       "    x.observe(outputEl, {childList: true});\n",
       "}}\n",
       "\n",
       "                        })\n",
       "                };\n",
       "                });\n",
       "            </script>\n",
       "        </div>"
      ]
     },
     "metadata": {},
     "output_type": "display_data"
    }
   ],
   "source": [
    "plot.histogram_data(ml_repo, {ml_repo.tree.test_data.sample2() :['last'], ml_repo.tree.training_data.sample1(): ['first','last']}, x_coordinate = 'LSTAT') #, y_coordinate='MEDV')"
   ]
  },
  {
   "cell_type": "markdown",
   "metadata": {},
   "source": [
    "## Plot dependency graph"
   ]
  },
  {
   "cell_type": "code",
   "execution_count": 41,
   "metadata": {
    "ExecuteTime": {
     "end_time": "2019-10-24T05:13:50.116777Z",
     "start_time": "2019-10-24T05:13:50.111793Z"
    },
    "collapsed": true
   },
   "outputs": [],
   "source": [
    "# Uncomment the following lines to plot the dependencies. Note that this functionality needs graphviz to be installed \n",
    "#from pailab.tools.dependency_graph import get_dependency_graph\n",
    "#get_dependency_graph(ml_repo, node = 'DecisionTreeRegressor/measure/sample2/r2')"
   ]
  },
  {
   "cell_type": "markdown",
   "metadata": {},
   "source": [
    "# Model interpretation\n",
    "In this section we present some techniques to interpret/explain a model from the repository. All algorithems pailab provides ar included in the *tools.interpretation* submodule. For an oveview of algorithms to interpret machine learning  we refer to the very nice book [Interpretable Machine learning](https://christophm.github.io/interpretable-ml-book/) by Christoph Molnar.\n",
    "\n",
    "**Note: All algorithms presented in the following provide caching functionality. Just set the respective parameter *cache* to *True*  to activate caching to avoid redundant time consuming computations.** "
   ]
  },
  {
   "cell_type": "code",
   "execution_count": 42,
   "metadata": {
    "ExecuteTime": {
     "end_time": "2019-10-24T05:13:50.167642Z",
     "start_time": "2019-10-24T05:13:50.118773Z"
    },
    "collapsed": true
   },
   "outputs": [],
   "source": [
    "import pailab.tools.interpretation as interpretation"
   ]
  },
  {
   "cell_type": "markdown",
   "metadata": {},
   "source": [
    "## ICE -  Individual conditional explanation\n"
   ]
  },
  {
   "cell_type": "code",
   "execution_count": 43,
   "metadata": {
    "ExecuteTime": {
     "end_time": "2019-10-24T05:13:50.235460Z",
     "start_time": "2019-10-24T05:13:50.170634Z"
    },
    "collapsed": true
   },
   "outputs": [],
   "source": [
    "x_values = [0.0, 10.0, 20.0, 30.0, 40.0, 50.0, 60.0, 70.0, 80.0, 90.0, 100.0]\n",
    "ice_results = interpretation.compute_ice(ml_repo, x_values, ml_repo.tree.test_data.sample2(), ml_repo.tree.models.DecisionTreeRegressor(), \n",
    "                                         x_coordinate = 'LSTAT', start_index = 1, cache = True, scale = '')"
   ]
  },
  {
   "cell_type": "code",
   "execution_count": 44,
   "metadata": {
    "ExecuteTime": {
     "end_time": "2019-10-24T05:13:50.727146Z",
     "start_time": "2019-10-24T05:13:50.237456Z"
    }
   },
   "outputs": [
    {
     "data": {
      "application/vnd.plotly.v1+json": {
       "config": {
        "linkText": "Export to plot.ly",
        "plotlyServerURL": "https://plot.ly",
        "responsive": true,
        "showLink": false
       },
       "data": [
        {
         "name": "sample2[1,:]",
         "type": "scatter",
         "uid": "3f85baeb-ac84-49d4-9ddb-6798704bf3c2",
         "x": [
          0,
          10,
          20,
          30,
          40,
          50,
          60,
          70,
          80,
          90,
          100
         ],
         "y": [
          514226.0869565217,
          388500,
          569100,
          302400,
          302400,
          302400,
          302400,
          302400,
          302400,
          302400,
          302400
         ]
        },
        {
         "name": "sample2[11,:]",
         "type": "scatter",
         "uid": "9b0b560a-55ee-4c96-adef-2b63f566a6f4",
         "x": [
          0,
          10,
          20,
          30,
          40,
          50,
          60,
          70,
          80,
          90,
          100
         ],
         "y": [
          432600,
          315000,
          387240,
          302400,
          302400,
          302400,
          302400,
          302400,
          302400,
          302400,
          302400
         ]
        },
        {
         "name": "sample2[21,:]",
         "type": "scatter",
         "uid": "8ff5c6d3-2592-4825-8ce9-11f20211f195",
         "x": [
          0,
          10,
          20,
          30,
          40,
          50,
          60,
          70,
          80,
          90,
          100
         ],
         "y": [
          450450,
          449400,
          164850,
          141750,
          151200,
          151200,
          151200,
          151200,
          151200,
          151200,
          151200
         ]
        },
        {
         "name": "sample2[31,:]",
         "type": "scatter",
         "uid": "6a14612f-35c0-4333-b603-f2236da86425",
         "x": [
          0,
          10,
          20,
          30,
          40,
          50,
          60,
          70,
          80,
          90,
          100
         ],
         "y": [
          680400,
          478800,
          315000,
          302400,
          302400,
          302400,
          302400,
          302400,
          302400,
          302400,
          302400
         ]
        },
        {
         "name": "sample2[41,:]",
         "type": "scatter",
         "uid": "520738e6-8ada-4dc8-910a-652f732f94aa",
         "x": [
          0,
          10,
          20,
          30,
          40,
          50,
          60,
          70,
          80,
          90,
          100
         ],
         "y": [
          632100,
          478800,
          315000,
          302400,
          302400,
          302400,
          302400,
          302400,
          302400,
          302400,
          302400
         ]
        },
        {
         "name": "sample2[51,:]",
         "type": "scatter",
         "uid": "882be31d-df29-488c-b571-c2c869f74c8d",
         "x": [
          0,
          10,
          20,
          30,
          40,
          50,
          60,
          70,
          80,
          90,
          100
         ],
         "y": [
          432600,
          449400,
          164850,
          141750,
          151200,
          151200,
          151200,
          151200,
          151200,
          151200,
          151200
         ]
        },
        {
         "name": "sample2[61,:]",
         "type": "scatter",
         "uid": "aae70804-47aa-4f1a-b23d-fe03de377f38",
         "x": [
          0,
          10,
          20,
          30,
          40,
          50,
          60,
          70,
          80,
          90,
          100
         ],
         "y": [
          450450,
          449400,
          164850,
          141750,
          151200,
          151200,
          151200,
          151200,
          151200,
          151200,
          151200
         ]
        },
        {
         "name": "sample2[71,:]",
         "type": "scatter",
         "uid": "868486dc-9d47-4a80-9a40-179d0a6cb1a4",
         "x": [
          0,
          10,
          20,
          30,
          40,
          50,
          60,
          70,
          80,
          90,
          100
         ],
         "y": [
          432600,
          430500,
          342300,
          105000,
          151200,
          151200,
          151200,
          151200,
          151200,
          151200,
          151200
         ]
        },
        {
         "name": "sample2[81,:]",
         "type": "scatter",
         "uid": "17703dae-fd73-49e5-a037-78bcb4fe9f5c",
         "x": [
          0,
          10,
          20,
          30,
          40,
          50,
          60,
          70,
          80,
          90,
          100
         ],
         "y": [
          432600,
          449400,
          164850,
          141750,
          151200,
          151200,
          151200,
          151200,
          151200,
          151200,
          151200
         ]
        },
        {
         "name": "sample2[91,:]",
         "type": "scatter",
         "uid": "90e88b35-6fbe-44b4-8fb0-5165e98711b9",
         "x": [
          0,
          10,
          20,
          30,
          40,
          50,
          60,
          70,
          80,
          90,
          100
         ],
         "y": [
          577500,
          577500,
          577500,
          577500,
          577500,
          577500,
          577500,
          577500,
          577500,
          577500,
          577500
         ]
        },
        {
         "name": "sample2[101,:]",
         "type": "scatter",
         "uid": "2a7860dc-9ac6-4224-9121-1c38125bccff",
         "x": [
          0,
          10,
          20,
          30,
          40,
          50,
          60,
          70,
          80,
          90,
          100
         ],
         "y": [
          577500,
          577500,
          577500,
          577500,
          577500,
          577500,
          577500,
          577500,
          577500,
          577500,
          577500
         ]
        }
       ],
       "layout": {
        "title": {
         "text": "ICE, model: DecisionTreeRegressor/model, version: 0ef3a148-f61d-11e9-bef7-fc084a6691eb"
        },
        "xaxis": {
         "title": {
          "text": "LSTAT"
         }
        },
        "yaxis": {
         "title": {
          "text": "MEDV"
         }
        }
       }
      },
      "text/html": [
       "<div>\n",
       "        \n",
       "        \n",
       "            <div id=\"94ff5965-fc42-42d5-8d13-d693b278fc2e\" class=\"plotly-graph-div\" style=\"height:525px; width:100%;\"></div>\n",
       "            <script type=\"text/javascript\">\n",
       "                require([\"plotly\"], function(Plotly) {\n",
       "                    window.PLOTLYENV=window.PLOTLYENV || {};\n",
       "                    window.PLOTLYENV.BASE_URL='https://plot.ly';\n",
       "                    \n",
       "                if (document.getElementById(\"94ff5965-fc42-42d5-8d13-d693b278fc2e\")) {\n",
       "                    Plotly.newPlot(\n",
       "                        '94ff5965-fc42-42d5-8d13-d693b278fc2e',\n",
       "                        [{\"name\": \"sample2[1,:]\", \"type\": \"scatter\", \"uid\": \"d0bc1367-5978-43f1-bff5-156d1e87b6a2\", \"x\": [0.0, 10.0, 20.0, 30.0, 40.0, 50.0, 60.0, 70.0, 80.0, 90.0, 100.0], \"y\": [514226.0869565217, 388500.0, 569100.0, 302400.0, 302400.0, 302400.0, 302400.0, 302400.0, 302400.0, 302400.0, 302400.0]}, {\"name\": \"sample2[11,:]\", \"type\": \"scatter\", \"uid\": \"c4db4461-7e94-4a9a-b93d-b5e18798f156\", \"x\": [0.0, 10.0, 20.0, 30.0, 40.0, 50.0, 60.0, 70.0, 80.0, 90.0, 100.0], \"y\": [432600.0, 315000.0, 387240.0, 302400.0, 302400.0, 302400.0, 302400.0, 302400.0, 302400.0, 302400.0, 302400.0]}, {\"name\": \"sample2[21,:]\", \"type\": \"scatter\", \"uid\": \"87e53d3d-a1ff-4096-a772-31ec03d114c0\", \"x\": [0.0, 10.0, 20.0, 30.0, 40.0, 50.0, 60.0, 70.0, 80.0, 90.0, 100.0], \"y\": [450450.0, 449400.0, 164850.0, 141750.0, 151200.0, 151200.0, 151200.0, 151200.0, 151200.0, 151200.0, 151200.0]}, {\"name\": \"sample2[31,:]\", \"type\": \"scatter\", \"uid\": \"c8ed56ff-51f1-4f27-ba6f-010c1ef006bb\", \"x\": [0.0, 10.0, 20.0, 30.0, 40.0, 50.0, 60.0, 70.0, 80.0, 90.0, 100.0], \"y\": [680400.0, 478800.0, 315000.0, 302400.0, 302400.0, 302400.0, 302400.0, 302400.0, 302400.0, 302400.0, 302400.0]}, {\"name\": \"sample2[41,:]\", \"type\": \"scatter\", \"uid\": \"6d588ca3-187f-402f-addd-4c70dd2da391\", \"x\": [0.0, 10.0, 20.0, 30.0, 40.0, 50.0, 60.0, 70.0, 80.0, 90.0, 100.0], \"y\": [632100.0, 478800.0, 315000.0, 302400.0, 302400.0, 302400.0, 302400.0, 302400.0, 302400.0, 302400.0, 302400.0]}, {\"name\": \"sample2[51,:]\", \"type\": \"scatter\", \"uid\": \"2eaff8b8-a04d-45ac-8460-be43e95d2c13\", \"x\": [0.0, 10.0, 20.0, 30.0, 40.0, 50.0, 60.0, 70.0, 80.0, 90.0, 100.0], \"y\": [432600.0, 449400.0, 164850.0, 141750.0, 151200.0, 151200.0, 151200.0, 151200.0, 151200.0, 151200.0, 151200.0]}, {\"name\": \"sample2[61,:]\", \"type\": \"scatter\", \"uid\": \"3bb85e1e-1f2d-45d2-9126-3028dda6a222\", \"x\": [0.0, 10.0, 20.0, 30.0, 40.0, 50.0, 60.0, 70.0, 80.0, 90.0, 100.0], \"y\": [450450.0, 449400.0, 164850.0, 141750.0, 151200.0, 151200.0, 151200.0, 151200.0, 151200.0, 151200.0, 151200.0]}, {\"name\": \"sample2[71,:]\", \"type\": \"scatter\", \"uid\": \"c26458fa-83a6-44d4-bc9f-afc2689f5156\", \"x\": [0.0, 10.0, 20.0, 30.0, 40.0, 50.0, 60.0, 70.0, 80.0, 90.0, 100.0], \"y\": [432600.0, 430500.0, 342300.0, 105000.0, 151200.0, 151200.0, 151200.0, 151200.0, 151200.0, 151200.0, 151200.0]}, {\"name\": \"sample2[81,:]\", \"type\": \"scatter\", \"uid\": \"47c4ca71-6860-40a4-bea2-41bd46c0ed0c\", \"x\": [0.0, 10.0, 20.0, 30.0, 40.0, 50.0, 60.0, 70.0, 80.0, 90.0, 100.0], \"y\": [432600.0, 449400.0, 164850.0, 141750.0, 151200.0, 151200.0, 151200.0, 151200.0, 151200.0, 151200.0, 151200.0]}, {\"name\": \"sample2[91,:]\", \"type\": \"scatter\", \"uid\": \"2eed5c25-c2db-4409-aa28-228333050188\", \"x\": [0.0, 10.0, 20.0, 30.0, 40.0, 50.0, 60.0, 70.0, 80.0, 90.0, 100.0], \"y\": [577500.0, 577500.0, 577500.0, 577500.0, 577500.0, 577500.0, 577500.0, 577500.0, 577500.0, 577500.0, 577500.0]}, {\"name\": \"sample2[101,:]\", \"type\": \"scatter\", \"uid\": \"a341ff67-0b54-4539-8d75-dbda1f4b529c\", \"x\": [0.0, 10.0, 20.0, 30.0, 40.0, 50.0, 60.0, 70.0, 80.0, 90.0, 100.0], \"y\": [577500.0, 577500.0, 577500.0, 577500.0, 577500.0, 577500.0, 577500.0, 577500.0, 577500.0, 577500.0, 577500.0]}],\n",
       "                        {\"title\": {\"text\": \"ICE, model: DecisionTreeRegressor/model, version: 0ef3a148-f61d-11e9-bef7-fc084a6691eb\"}, \"xaxis\": {\"title\": {\"text\": \"LSTAT\"}}, \"yaxis\": {\"title\": {\"text\": \"MEDV\"}}},\n",
       "                        {\"showLink\": false, \"linkText\": \"Export to plot.ly\", \"plotlyServerURL\": \"https://plot.ly\", \"responsive\": true}\n",
       "                    ).then(function(){\n",
       "                            \n",
       "var gd = document.getElementById('94ff5965-fc42-42d5-8d13-d693b278fc2e');\n",
       "var x = new MutationObserver(function (mutations, observer) {{\n",
       "        var display = window.getComputedStyle(gd).display;\n",
       "        if (!display || display === 'none') {{\n",
       "            console.log([gd, 'removed!']);\n",
       "            Plotly.purge(gd);\n",
       "            observer.disconnect();\n",
       "        }}\n",
       "}});\n",
       "\n",
       "// Listen for the removal of the full notebook cells\n",
       "var notebookContainer = gd.closest('#notebook-container');\n",
       "if (notebookContainer) {{\n",
       "    x.observe(notebookContainer, {childList: true});\n",
       "}}\n",
       "\n",
       "// Listen for the clearing of the current output cell\n",
       "var outputEl = gd.closest('.output');\n",
       "if (outputEl) {{\n",
       "    x.observe(outputEl, {childList: true});\n",
       "}}\n",
       "\n",
       "                        })\n",
       "                };\n",
       "                });\n",
       "            </script>\n",
       "        </div>"
      ]
     },
     "metadata": {},
     "output_type": "display_data"
    }
   ],
   "source": [
    "plot.ice(ice_results, ice_points = [0, 10, 20, 30, 40, 50, 60, 70, 80, 90, 100]) # we limit the number of graphs by selecting certain points setting ice_points parameter. Remove the parameter to get a plot with all ice curves."
   ]
  },
  {
   "cell_type": "markdown",
   "metadata": {},
   "source": [
    "### ICE and functional clustering"
   ]
  },
  {
   "cell_type": "markdown",
   "metadata": {},
   "source": [
    "As we have seen above, plotting a lot of ICE plots in one figure may be very confusing, maybe even shadowing certain artefacts. To get nice representatives of the different ICE graphs, pailab provides some kind of functional clustering. To activate the clustering, just call the method again, but this time define the parameter *clustering_param*. This parameter must be a dictionary of parameters to control the behaviour of functional clustering. For a description of all available parameters, see the API documentation of the *tools.interpretation.functional_clustering* method. To apply functional custering using all default settings, just use an empty dictionary. In our example below we set the number of clusters to ten."
   ]
  },
  {
   "cell_type": "code",
   "execution_count": 45,
   "metadata": {
    "ExecuteTime": {
     "end_time": "2019-10-24T05:13:50.796959Z",
     "start_time": "2019-10-24T05:13:50.729141Z"
    }
   },
   "outputs": [],
   "source": [
    "ice_results=interpretation.compute_ice(ml_repo, x_values, ml_repo.tree.test_data.sample2(), ml_repo.tree.models.DecisionTreeRegressor(),\n",
    "                                       x_coordinate = 'LSTAT', start_index = 1, clustering_param = {'n_clusters' : 10}, cache = True)\n",
    "#instead of defining the model name and version, we can also use a label as shown in th commented lines below\n",
    "#ice_results=interpretation.compute_ice(ml_repo, x_values, ml_repo.tree.test_data.sample2(), model_label ='prod',\n",
    "#                                       x_coordinate = 'LSTAT', start_index = 1, clustering_param = {'n_clusters' : 20}, cache = True)\n"
   ]
  },
  {
   "cell_type": "code",
   "execution_count": 46,
   "metadata": {
    "ExecuteTime": {
     "end_time": "2019-10-24T05:13:51.180934Z",
     "start_time": "2019-10-24T05:13:50.798954Z"
    }
   },
   "outputs": [
    {
     "data": {
      "application/vnd.plotly.v1+json": {
       "config": {
        "linkText": "Export to plot.ly",
        "plotlyServerURL": "https://plot.ly",
        "responsive": true,
        "showLink": false
       },
       "data": [
        {
         "name": "cluster 0",
         "type": "scatter",
         "uid": "cf666a4e-4727-4595-8fde-3a44de494dbf",
         "x": [
          0,
          10,
          20,
          30,
          40,
          50,
          60,
          70,
          80,
          90,
          100
         ],
         "y": [
          440001.21951219515,
          437670.73170731706,
          309792.6829268293,
          130891.4634146342,
          151200.00000000003,
          151200.00000000003,
          151200.00000000003,
          151200.00000000003,
          151200.00000000003,
          151200.00000000003,
          151200.00000000003
         ]
        },
        {
         "name": "cluster 1",
         "type": "scatter",
         "uid": "2dd1f0d6-158b-41a9-9470-8b57a8e51c21",
         "x": [
          0,
          10,
          20,
          30,
          40,
          50,
          60,
          70,
          80,
          90,
          100
         ],
         "y": [
          573085.4347826088,
          457285.5,
          318885,
          276780.00000000006,
          297780,
          297780,
          297780,
          297780,
          297780,
          297780,
          297780
         ]
        },
        {
         "name": "cluster 2",
         "type": "scatter",
         "uid": "36f6099d-f21d-4b0f-a06a-ae2b3840b18f",
         "x": [
          0,
          10,
          20,
          30,
          40,
          50,
          60,
          70,
          80,
          90,
          100
         ],
         "y": [
          618975,
          623175,
          595875,
          595875,
          595875,
          595875,
          595875,
          595875,
          595875,
          595875,
          595875
         ]
        },
        {
         "name": "cluster 3",
         "type": "scatter",
         "uid": "87f7e508-57df-4420-a89a-40be58657bae",
         "x": [
          0,
          10,
          20,
          30,
          40,
          50,
          60,
          70,
          80,
          90,
          100
         ],
         "y": [
          432600,
          585900,
          105000,
          105000,
          151200,
          151200,
          151200,
          151200,
          151200,
          151200,
          151200
         ]
        },
        {
         "name": "cluster 4",
         "type": "scatter",
         "uid": "73c976c0-a206-4b21-8293-8941eb365cce",
         "x": [
          0,
          10,
          20,
          30,
          40,
          50,
          60,
          70,
          80,
          90,
          100
         ],
         "y": [
          445134.37500000006,
          449400,
          169853.90624999988,
          141750.0000000001,
          151200.00000000006,
          151200.00000000006,
          151200.00000000006,
          151200.00000000006,
          151200.00000000006,
          151200.00000000006,
          151200.00000000006
         ]
        },
        {
         "name": "cluster 5",
         "type": "scatter",
         "uid": "e4854ac1-a8c0-4388-adee-903aa9918037",
         "x": [
          0,
          10,
          20,
          30,
          40,
          50,
          60,
          70,
          80,
          90,
          100
         ],
         "y": [
          652776.9230769231,
          439384.6153846154,
          348115.3846153846,
          150634.61538461538,
          150553.84615384613,
          150553.84615384613,
          150553.84615384613,
          150553.84615384613,
          150553.84615384613,
          150553.84615384613,
          150553.84615384613
         ]
        },
        {
         "name": "cluster 6",
         "type": "scatter",
         "uid": "41b0a1e0-0af2-473a-b2a0-6818e28c5f32",
         "x": [
          0,
          10,
          20,
          30,
          40,
          50,
          60,
          70,
          80,
          90,
          100
         ],
         "y": [
          429705.4347826087,
          394807.9545454546,
          382530,
          302700.00000000006,
          302700.00000000006,
          302700.00000000006,
          302700.00000000006,
          302700.00000000006,
          302700.00000000006,
          302700.00000000006,
          302700.00000000006
         ]
        },
        {
         "name": "cluster 7",
         "type": "scatter",
         "uid": "d903d1df-4ca8-408a-8d26-a906c515d959",
         "x": [
          0,
          10,
          20,
          30,
          40,
          50,
          60,
          70,
          80,
          90,
          100
         ],
         "y": [
          432600,
          315000,
          139200.00000000003,
          141750,
          151200,
          151200,
          151200,
          151200,
          151200,
          151200,
          151200
         ]
        },
        {
         "name": "cluster 8",
         "type": "scatter",
         "uid": "b7a3c4f1-1ecc-4872-a6c9-b312ab403513",
         "x": [
          0,
          10,
          20,
          30,
          40,
          50,
          60,
          70,
          80,
          90,
          100
         ],
         "y": [
          218400,
          218400,
          218400,
          218400,
          218400,
          218400,
          218400,
          218400,
          218400,
          218400,
          218400
         ]
        },
        {
         "name": "cluster 9",
         "type": "scatter",
         "uid": "ed039918-0223-4834-924e-2d37f71e04e1",
         "x": [
          0,
          10,
          20,
          30,
          40,
          50,
          60,
          70,
          80,
          90,
          100
         ],
         "y": [
          635250,
          577500,
          462000,
          462000,
          462000,
          462000,
          462000,
          462000,
          462000,
          462000,
          462000
         ]
        }
       ],
       "layout": {
        "title": {
         "text": "ICE clusters, model: DecisionTreeRegressor/model, version: 0ef3a148-f61d-11e9-bef7-fc084a6691eb"
        },
        "xaxis": {
         "title": {
          "text": "LSTAT"
         }
        },
        "yaxis": {
         "title": {
          "text": "MEDV"
         }
        }
       }
      },
      "text/html": [
       "<div>\n",
       "        \n",
       "        \n",
       "            <div id=\"8674b9ba-db7a-40ad-9d48-6dcdf343c663\" class=\"plotly-graph-div\" style=\"height:525px; width:100%;\"></div>\n",
       "            <script type=\"text/javascript\">\n",
       "                require([\"plotly\"], function(Plotly) {\n",
       "                    window.PLOTLYENV=window.PLOTLYENV || {};\n",
       "                    window.PLOTLYENV.BASE_URL='https://plot.ly';\n",
       "                    \n",
       "                if (document.getElementById(\"8674b9ba-db7a-40ad-9d48-6dcdf343c663\")) {\n",
       "                    Plotly.newPlot(\n",
       "                        '8674b9ba-db7a-40ad-9d48-6dcdf343c663',\n",
       "                        [{\"name\": \"cluster 0\", \"type\": \"scatter\", \"uid\": \"62fef876-c642-429a-9878-c6afc1a9ad2c\", \"x\": [0.0, 10.0, 20.0, 30.0, 40.0, 50.0, 60.0, 70.0, 80.0, 90.0, 100.0], \"y\": [440001.21951219515, 437670.73170731706, 309792.6829268293, 130891.4634146342, 151200.00000000003, 151200.00000000003, 151200.00000000003, 151200.00000000003, 151200.00000000003, 151200.00000000003, 151200.00000000003]}, {\"name\": \"cluster 1\", \"type\": \"scatter\", \"uid\": \"c9b780a6-78e1-480a-9087-591fc3ba6645\", \"x\": [0.0, 10.0, 20.0, 30.0, 40.0, 50.0, 60.0, 70.0, 80.0, 90.0, 100.0], \"y\": [573085.4347826088, 457285.5, 318885.0, 276780.00000000006, 297780.0, 297780.0, 297780.0, 297780.0, 297780.0, 297780.0, 297780.0]}, {\"name\": \"cluster 2\", \"type\": \"scatter\", \"uid\": \"df912a3c-34e2-468b-8198-4873cc503e70\", \"x\": [0.0, 10.0, 20.0, 30.0, 40.0, 50.0, 60.0, 70.0, 80.0, 90.0, 100.0], \"y\": [618975.0, 623175.0, 595875.0, 595875.0, 595875.0, 595875.0, 595875.0, 595875.0, 595875.0, 595875.0, 595875.0]}, {\"name\": \"cluster 3\", \"type\": \"scatter\", \"uid\": \"0493b35e-823a-44ce-af4f-6e4b271fff24\", \"x\": [0.0, 10.0, 20.0, 30.0, 40.0, 50.0, 60.0, 70.0, 80.0, 90.0, 100.0], \"y\": [432600.0, 585900.0, 105000.0, 105000.0, 151200.0, 151200.0, 151200.0, 151200.0, 151200.0, 151200.0, 151200.0]}, {\"name\": \"cluster 4\", \"type\": \"scatter\", \"uid\": \"42b22f27-9e0a-4448-bee8-cd3a92356ed8\", \"x\": [0.0, 10.0, 20.0, 30.0, 40.0, 50.0, 60.0, 70.0, 80.0, 90.0, 100.0], \"y\": [445134.37500000006, 449400.0, 169853.90624999988, 141750.0000000001, 151200.00000000006, 151200.00000000006, 151200.00000000006, 151200.00000000006, 151200.00000000006, 151200.00000000006, 151200.00000000006]}, {\"name\": \"cluster 5\", \"type\": \"scatter\", \"uid\": \"0433f4f0-35ec-4996-8fe3-9ad383ce0aa8\", \"x\": [0.0, 10.0, 20.0, 30.0, 40.0, 50.0, 60.0, 70.0, 80.0, 90.0, 100.0], \"y\": [652776.9230769231, 439384.6153846154, 348115.3846153846, 150634.61538461538, 150553.84615384613, 150553.84615384613, 150553.84615384613, 150553.84615384613, 150553.84615384613, 150553.84615384613, 150553.84615384613]}, {\"name\": \"cluster 6\", \"type\": \"scatter\", \"uid\": \"eb3ede6e-46a5-4fcb-a720-a59e98687f16\", \"x\": [0.0, 10.0, 20.0, 30.0, 40.0, 50.0, 60.0, 70.0, 80.0, 90.0, 100.0], \"y\": [429705.4347826087, 394807.9545454546, 382530.0, 302700.00000000006, 302700.00000000006, 302700.00000000006, 302700.00000000006, 302700.00000000006, 302700.00000000006, 302700.00000000006, 302700.00000000006]}, {\"name\": \"cluster 7\", \"type\": \"scatter\", \"uid\": \"cc2f9d18-5a03-4785-8777-e16099789287\", \"x\": [0.0, 10.0, 20.0, 30.0, 40.0, 50.0, 60.0, 70.0, 80.0, 90.0, 100.0], \"y\": [432600.0, 315000.0, 139200.00000000003, 141750.0, 151200.0, 151200.0, 151200.0, 151200.0, 151200.0, 151200.0, 151200.0]}, {\"name\": \"cluster 8\", \"type\": \"scatter\", \"uid\": \"f47f2ab9-f450-4f8c-b52e-084521878bf4\", \"x\": [0.0, 10.0, 20.0, 30.0, 40.0, 50.0, 60.0, 70.0, 80.0, 90.0, 100.0], \"y\": [218400.0, 218400.0, 218400.0, 218400.0, 218400.0, 218400.0, 218400.0, 218400.0, 218400.0, 218400.0, 218400.0]}, {\"name\": \"cluster 9\", \"type\": \"scatter\", \"uid\": \"c1a67200-181a-4a5f-af8e-3a12dcf9b46a\", \"x\": [0.0, 10.0, 20.0, 30.0, 40.0, 50.0, 60.0, 70.0, 80.0, 90.0, 100.0], \"y\": [635250.0, 577500.0, 462000.0, 462000.0, 462000.0, 462000.0, 462000.0, 462000.0, 462000.0, 462000.0, 462000.0]}],\n",
       "                        {\"title\": {\"text\": \"ICE clusters, model: DecisionTreeRegressor/model, version: 0ef3a148-f61d-11e9-bef7-fc084a6691eb\"}, \"xaxis\": {\"title\": {\"text\": \"LSTAT\"}}, \"yaxis\": {\"title\": {\"text\": \"MEDV\"}}},\n",
       "                        {\"showLink\": false, \"linkText\": \"Export to plot.ly\", \"plotlyServerURL\": \"https://plot.ly\", \"responsive\": true}\n",
       "                    ).then(function(){\n",
       "                            \n",
       "var gd = document.getElementById('8674b9ba-db7a-40ad-9d48-6dcdf343c663');\n",
       "var x = new MutationObserver(function (mutations, observer) {{\n",
       "        var display = window.getComputedStyle(gd).display;\n",
       "        if (!display || display === 'none') {{\n",
       "            console.log([gd, 'removed!']);\n",
       "            Plotly.purge(gd);\n",
       "            observer.disconnect();\n",
       "        }}\n",
       "}});\n",
       "\n",
       "// Listen for the removal of the full notebook cells\n",
       "var notebookContainer = gd.closest('#notebook-container');\n",
       "if (notebookContainer) {{\n",
       "    x.observe(notebookContainer, {childList: true});\n",
       "}}\n",
       "\n",
       "// Listen for the clearing of the current output cell\n",
       "var outputEl = gd.closest('.output');\n",
       "if (outputEl) {{\n",
       "    x.observe(outputEl, {childList: true});\n",
       "}}\n",
       "\n",
       "                        })\n",
       "                };\n",
       "                });\n",
       "            </script>\n",
       "        </div>"
      ]
     },
     "metadata": {},
     "output_type": "display_data"
    }
   ],
   "source": [
    "plot.ice_clusters(ice_results)"
   ]
  },
  {
   "cell_type": "code",
   "execution_count": 47,
   "metadata": {
    "ExecuteTime": {
     "end_time": "2019-10-24T05:13:51.636714Z",
     "start_time": "2019-10-24T05:13:51.182928Z"
    }
   },
   "outputs": [
    {
     "data": {
      "application/vnd.plotly.v1+json": {
       "config": {
        "linkText": "Export to plot.ly",
        "plotlyServerURL": "https://plot.ly",
        "responsive": true,
        "showLink": false
       },
       "data": [
        {
         "name": "sample2[29,:]",
         "type": "scatter",
         "uid": "667be7ca-b50f-4c33-b9c4-3ecdf9359edc",
         "x": [
          0,
          10,
          20,
          30,
          40,
          50,
          60,
          70,
          80,
          90,
          100
         ],
         "y": [
          743400,
          760200,
          651000,
          651000,
          651000,
          651000,
          651000,
          651000,
          651000,
          651000,
          651000
         ]
        },
        {
         "name": "sample2[91,:]",
         "type": "scatter",
         "uid": "111bd782-02fa-4d3f-a92b-bc941cec8b3d",
         "x": [
          0,
          10,
          20,
          30,
          40,
          50,
          60,
          70,
          80,
          90,
          100
         ],
         "y": [
          577500,
          577500,
          577500,
          577500,
          577500,
          577500,
          577500,
          577500,
          577500,
          577500,
          577500
         ]
        },
        {
         "name": "sample2[101,:]",
         "type": "scatter",
         "uid": "d61882eb-0504-4923-8eeb-42f9cd3455b8",
         "x": [
          0,
          10,
          20,
          30,
          40,
          50,
          60,
          70,
          80,
          90,
          100
         ],
         "y": [
          577500,
          577500,
          577500,
          577500,
          577500,
          577500,
          577500,
          577500,
          577500,
          577500,
          577500
         ]
        },
        {
         "name": "sample2[113,:]",
         "type": "scatter",
         "uid": "e093ac20-b36a-4d6a-9718-b9b1ca2c8869",
         "x": [
          0,
          10,
          20,
          30,
          40,
          50,
          60,
          70,
          80,
          90,
          100
         ],
         "y": [
          577500,
          577500,
          577500,
          577500,
          577500,
          577500,
          577500,
          577500,
          577500,
          577500,
          577500
         ]
        }
       ],
       "layout": {
        "title": {
         "text": "ICE, model: DecisionTreeRegressor/model, version: 0ef3a148-f61d-11e9-bef7-fc084a6691eb"
        },
        "xaxis": {
         "title": {
          "text": "LSTAT"
         }
        },
        "yaxis": {
         "title": {
          "text": "MEDV"
         }
        }
       }
      },
      "text/html": [
       "<div>\n",
       "        \n",
       "        \n",
       "            <div id=\"593de1fc-f09b-40c1-91f9-89e427f325e4\" class=\"plotly-graph-div\" style=\"height:525px; width:100%;\"></div>\n",
       "            <script type=\"text/javascript\">\n",
       "                require([\"plotly\"], function(Plotly) {\n",
       "                    window.PLOTLYENV=window.PLOTLYENV || {};\n",
       "                    window.PLOTLYENV.BASE_URL='https://plot.ly';\n",
       "                    \n",
       "                if (document.getElementById(\"593de1fc-f09b-40c1-91f9-89e427f325e4\")) {\n",
       "                    Plotly.newPlot(\n",
       "                        '593de1fc-f09b-40c1-91f9-89e427f325e4',\n",
       "                        [{\"name\": \"sample2[29,:]\", \"type\": \"scatter\", \"uid\": \"0e1e4d0a-518f-44d2-b572-c52b266435a5\", \"x\": [0.0, 10.0, 20.0, 30.0, 40.0, 50.0, 60.0, 70.0, 80.0, 90.0, 100.0], \"y\": [743400.0, 760200.0, 651000.0, 651000.0, 651000.0, 651000.0, 651000.0, 651000.0, 651000.0, 651000.0, 651000.0]}, {\"name\": \"sample2[91,:]\", \"type\": \"scatter\", \"uid\": \"e0081a53-2ae0-45a0-8497-2345563a8f51\", \"x\": [0.0, 10.0, 20.0, 30.0, 40.0, 50.0, 60.0, 70.0, 80.0, 90.0, 100.0], \"y\": [577500.0, 577500.0, 577500.0, 577500.0, 577500.0, 577500.0, 577500.0, 577500.0, 577500.0, 577500.0, 577500.0]}, {\"name\": \"sample2[101,:]\", \"type\": \"scatter\", \"uid\": \"30ff6c22-19f3-47bf-9a23-6c7a98f9dac7\", \"x\": [0.0, 10.0, 20.0, 30.0, 40.0, 50.0, 60.0, 70.0, 80.0, 90.0, 100.0], \"y\": [577500.0, 577500.0, 577500.0, 577500.0, 577500.0, 577500.0, 577500.0, 577500.0, 577500.0, 577500.0, 577500.0]}, {\"name\": \"sample2[113,:]\", \"type\": \"scatter\", \"uid\": \"d598ad38-01e1-4a35-8a66-a44894923afe\", \"x\": [0.0, 10.0, 20.0, 30.0, 40.0, 50.0, 60.0, 70.0, 80.0, 90.0, 100.0], \"y\": [577500.0, 577500.0, 577500.0, 577500.0, 577500.0, 577500.0, 577500.0, 577500.0, 577500.0, 577500.0, 577500.0]}],\n",
       "                        {\"title\": {\"text\": \"ICE, model: DecisionTreeRegressor/model, version: 0ef3a148-f61d-11e9-bef7-fc084a6691eb\"}, \"xaxis\": {\"title\": {\"text\": \"LSTAT\"}}, \"yaxis\": {\"title\": {\"text\": \"MEDV\"}}},\n",
       "                        {\"showLink\": false, \"linkText\": \"Export to plot.ly\", \"plotlyServerURL\": \"https://plot.ly\", \"responsive\": true}\n",
       "                    ).then(function(){\n",
       "                            \n",
       "var gd = document.getElementById('593de1fc-f09b-40c1-91f9-89e427f325e4');\n",
       "var x = new MutationObserver(function (mutations, observer) {{\n",
       "        var display = window.getComputedStyle(gd).display;\n",
       "        if (!display || display === 'none') {{\n",
       "            console.log([gd, 'removed!']);\n",
       "            Plotly.purge(gd);\n",
       "            observer.disconnect();\n",
       "        }}\n",
       "}});\n",
       "\n",
       "// Listen for the removal of the full notebook cells\n",
       "var notebookContainer = gd.closest('#notebook-container');\n",
       "if (notebookContainer) {{\n",
       "    x.observe(notebookContainer, {childList: true});\n",
       "}}\n",
       "\n",
       "// Listen for the clearing of the current output cell\n",
       "var outputEl = gd.closest('.output');\n",
       "if (outputEl) {{\n",
       "    x.observe(outputEl, {childList: true});\n",
       "}}\n",
       "\n",
       "                        })\n",
       "                };\n",
       "                });\n",
       "            </script>\n",
       "        </div>"
      ]
     },
     "metadata": {},
     "output_type": "display_data"
    }
   ],
   "source": [
    "plot.ice(ice_results, clusters = [2])"
   ]
  },
  {
   "cell_type": "markdown",
   "metadata": {},
   "source": [
    "### Comparing two models\n",
    "ICE plots are a usefull tool to compare two models which can be simpyl accomplished by calling above methods with a second ICE_Result object computed for another model. "
   ]
  },
  {
   "cell_type": "code",
   "execution_count": 48,
   "metadata": {
    "ExecuteTime": {
     "end_time": "2019-10-24T05:13:51.663642Z",
     "start_time": "2019-10-24T05:13:51.638710Z"
    },
    "collapsed": true
   },
   "outputs": [],
   "source": [
    "ice_results_2 = interpretation.compute_ice(ml_repo, x_values, ml_repo.tree.test_data.sample2(), ml_repo.tree.models.DecisionTreeRegressor(), #model_label ='prod',\n",
    "                                           model_version = FIRST_VERSION,\n",
    "                                       x_coordinate = 'LSTAT', start_index = 1, cache = True)"
   ]
  },
  {
   "cell_type": "code",
   "execution_count": 49,
   "metadata": {
    "ExecuteTime": {
     "end_time": "2019-10-24T05:13:55.014684Z",
     "start_time": "2019-10-24T05:13:51.665638Z"
    }
   },
   "outputs": [
    {
     "data": {
      "application/vnd.plotly.v1+json": {
       "config": {
        "linkText": "Export to plot.ly",
        "plotlyServerURL": "https://plot.ly",
        "responsive": true,
        "showLink": false
       },
       "data": [
        {
         "name": "sample2[21,:]",
         "type": "scatter",
         "uid": "a99d09d6-cd01-4094-b9cd-d39075b23eaa",
         "x": [
          0,
          10,
          20,
          30,
          40,
          50,
          60,
          70,
          80,
          90,
          100
         ],
         "y": [
          450450,
          449400,
          164850,
          141750,
          151200,
          151200,
          151200,
          151200,
          151200,
          151200,
          151200
         ]
        },
        {
         "name": "model2, sample2[21,:]",
         "type": "scatter",
         "uid": "b8fe42f8-ec64-4ee1-852f-749a0150913d",
         "x": [
          0,
          10,
          20,
          30,
          40,
          50,
          60,
          70,
          80,
          90,
          100
         ],
         "y": [
          498292.3076923077,
          537000,
          406852.17391304346,
          406852.17391304346,
          406852.17391304346,
          406852.17391304346,
          406852.17391304346,
          406852.17391304346,
          406852.17391304346,
          406852.17391304346,
          406852.17391304346
         ]
        },
        {
         "name": "sample2[22,:]",
         "type": "scatter",
         "uid": "768e40d9-8bdb-477c-862d-f1e15bbfa6f0",
         "x": [
          0,
          10,
          20,
          30,
          40,
          50,
          60,
          70,
          80,
          90,
          100
         ],
         "y": [
          450450,
          449400,
          164850,
          141750,
          151200,
          151200,
          151200,
          151200,
          151200,
          151200,
          151200
         ]
        },
        {
         "name": "model2, sample2[22,:]",
         "type": "scatter",
         "uid": "ac9337ac-9036-4c9f-a350-312b6d3119cc",
         "x": [
          0,
          10,
          20,
          30,
          40,
          50,
          60,
          70,
          80,
          90,
          100
         ],
         "y": [
          498292.3076923077,
          537000,
          406852.17391304346,
          406852.17391304346,
          406852.17391304346,
          406852.17391304346,
          406852.17391304346,
          406852.17391304346,
          406852.17391304346,
          406852.17391304346,
          406852.17391304346
         ]
        },
        {
         "name": "sample2[23,:]",
         "type": "scatter",
         "uid": "f1238e72-fbab-404e-84f5-605e26c01bf1",
         "x": [
          0,
          10,
          20,
          30,
          40,
          50,
          60,
          70,
          80,
          90,
          100
         ],
         "y": [
          432600,
          449400,
          164850,
          141750,
          151200,
          151200,
          151200,
          151200,
          151200,
          151200,
          151200
         ]
        },
        {
         "name": "model2, sample2[23,:]",
         "type": "scatter",
         "uid": "de94f03f-ca07-408a-a4e9-f58b52838f6d",
         "x": [
          0,
          10,
          20,
          30,
          40,
          50,
          60,
          70,
          80,
          90,
          100
         ],
         "y": [
          498292.3076923077,
          537000,
          406852.17391304346,
          406852.17391304346,
          406852.17391304346,
          406852.17391304346,
          406852.17391304346,
          406852.17391304346,
          406852.17391304346,
          406852.17391304346,
          406852.17391304346
         ]
        },
        {
         "name": "sample2[24,:]",
         "type": "scatter",
         "uid": "112457fd-7d7b-43f7-bc5d-3dd85b332b17",
         "x": [
          0,
          10,
          20,
          30,
          40,
          50,
          60,
          70,
          80,
          90,
          100
         ],
         "y": [
          432600,
          449400,
          164850,
          141750,
          151200,
          151200,
          151200,
          151200,
          151200,
          151200,
          151200
         ]
        },
        {
         "name": "model2, sample2[24,:]",
         "type": "scatter",
         "uid": "ba027138-e791-469b-9035-62670f03d470",
         "x": [
          0,
          10,
          20,
          30,
          40,
          50,
          60,
          70,
          80,
          90,
          100
         ],
         "y": [
          438738.46153846156,
          438738.46153846156,
          406852.17391304346,
          406852.17391304346,
          406852.17391304346,
          406852.17391304346,
          406852.17391304346,
          406852.17391304346,
          406852.17391304346,
          406852.17391304346,
          406852.17391304346
         ]
        },
        {
         "name": "sample2[25,:]",
         "type": "scatter",
         "uid": "38603ced-3851-48ee-912f-ab1b7d94629e",
         "x": [
          0,
          10,
          20,
          30,
          40,
          50,
          60,
          70,
          80,
          90,
          100
         ],
         "y": [
          432600,
          449400,
          164850,
          141750,
          151200,
          151200,
          151200,
          151200,
          151200,
          151200,
          151200
         ]
        },
        {
         "name": "model2, sample2[25,:]",
         "type": "scatter",
         "uid": "f876d58d-7857-4322-ab9a-6ef8e4b48999",
         "x": [
          0,
          10,
          20,
          30,
          40,
          50,
          60,
          70,
          80,
          90,
          100
         ],
         "y": [
          438738.46153846156,
          438738.46153846156,
          406852.17391304346,
          406852.17391304346,
          406852.17391304346,
          406852.17391304346,
          406852.17391304346,
          406852.17391304346,
          406852.17391304346,
          406852.17391304346,
          406852.17391304346
         ]
        },
        {
         "name": "sample2[26,:]",
         "type": "scatter",
         "uid": "55b4c40d-11f9-43ae-bc1f-07a4815c412c",
         "x": [
          0,
          10,
          20,
          30,
          40,
          50,
          60,
          70,
          80,
          90,
          100
         ],
         "y": [
          432600,
          449400,
          164850,
          141750,
          151200,
          151200,
          151200,
          151200,
          151200,
          151200,
          151200
         ]
        },
        {
         "name": "model2, sample2[26,:]",
         "type": "scatter",
         "uid": "6c461966-c4da-4ff7-9db6-eedd4b36c725",
         "x": [
          0,
          10,
          20,
          30,
          40,
          50,
          60,
          70,
          80,
          90,
          100
         ],
         "y": [
          498292.3076923077,
          537000,
          406852.17391304346,
          406852.17391304346,
          406852.17391304346,
          406852.17391304346,
          406852.17391304346,
          406852.17391304346,
          406852.17391304346,
          406852.17391304346,
          406852.17391304346
         ]
        },
        {
         "name": "sample2[27,:]",
         "type": "scatter",
         "uid": "2d08d99d-69ed-4c44-92e4-bd9fd1ca2011",
         "x": [
          0,
          10,
          20,
          30,
          40,
          50,
          60,
          70,
          80,
          90,
          100
         ],
         "y": [
          432600,
          449400,
          164850,
          141750,
          151200,
          151200,
          151200,
          151200,
          151200,
          151200,
          151200
         ]
        },
        {
         "name": "model2, sample2[27,:]",
         "type": "scatter",
         "uid": "76377ebe-7bc9-4c0c-aae7-fd089c0a0851",
         "x": [
          0,
          10,
          20,
          30,
          40,
          50,
          60,
          70,
          80,
          90,
          100
         ],
         "y": [
          438738.46153846156,
          438738.46153846156,
          406852.17391304346,
          406852.17391304346,
          406852.17391304346,
          406852.17391304346,
          406852.17391304346,
          406852.17391304346,
          406852.17391304346,
          406852.17391304346,
          406852.17391304346
         ]
        },
        {
         "name": "sample2[28,:]",
         "type": "scatter",
         "uid": "aa903929-321b-4c75-a4cf-9f2dc9c2e22f",
         "x": [
          0,
          10,
          20,
          30,
          40,
          50,
          60,
          70,
          80,
          90,
          100
         ],
         "y": [
          432600,
          449400,
          164850,
          141750,
          151200,
          151200,
          151200,
          151200,
          151200,
          151200,
          151200
         ]
        },
        {
         "name": "model2, sample2[28,:]",
         "type": "scatter",
         "uid": "8292ab5f-0768-4640-bf40-3d509f85dc3a",
         "x": [
          0,
          10,
          20,
          30,
          40,
          50,
          60,
          70,
          80,
          90,
          100
         ],
         "y": [
          438738.46153846156,
          438738.46153846156,
          406852.17391304346,
          406852.17391304346,
          406852.17391304346,
          406852.17391304346,
          406852.17391304346,
          406852.17391304346,
          406852.17391304346,
          406852.17391304346,
          406852.17391304346
         ]
        },
        {
         "name": "sample2[29,:]",
         "type": "scatter",
         "uid": "b2e62cf7-9f2f-4351-9206-72150b0d7fa6",
         "x": [
          0,
          10,
          20,
          30,
          40,
          50,
          60,
          70,
          80,
          90,
          100
         ],
         "y": [
          743400,
          760200,
          651000,
          651000,
          651000,
          651000,
          651000,
          651000,
          651000,
          651000,
          651000
         ]
        },
        {
         "name": "model2, sample2[29,:]",
         "type": "scatter",
         "uid": "45696603-6b7a-449d-9043-4c4308786eba",
         "x": [
          0,
          10,
          20,
          30,
          40,
          50,
          60,
          70,
          80,
          90,
          100
         ],
         "y": [
          721035,
          702530.7692307692,
          702530.7692307692,
          702530.7692307692,
          702530.7692307692,
          702530.7692307692,
          702530.7692307692,
          702530.7692307692,
          702530.7692307692,
          702530.7692307692,
          702530.7692307692
         ]
        },
        {
         "name": "sample2[38,:]",
         "type": "scatter",
         "uid": "ecd349ad-e3ce-472d-8799-26cda6d03c61",
         "x": [
          0,
          10,
          20,
          30,
          40,
          50,
          60,
          70,
          80,
          90,
          100
         ],
         "y": [
          478800,
          449400,
          228900,
          141750,
          151200,
          151200,
          151200,
          151200,
          151200,
          151200,
          151200
         ]
        },
        {
         "name": "model2, sample2[38,:]",
         "type": "scatter",
         "uid": "d17b3d20-5941-4157-be81-cb9cb851962d",
         "x": [
          0,
          10,
          20,
          30,
          40,
          50,
          60,
          70,
          80,
          90,
          100
         ],
         "y": [
          654150,
          538125,
          406852.17391304346,
          406852.17391304346,
          406852.17391304346,
          406852.17391304346,
          406852.17391304346,
          406852.17391304346,
          406852.17391304346,
          406852.17391304346,
          406852.17391304346
         ]
        },
        {
         "name": "sample2[44,:]",
         "type": "scatter",
         "uid": "96f807c0-d364-47fc-8508-12d001bd2daf",
         "x": [
          0,
          10,
          20,
          30,
          40,
          50,
          60,
          70,
          80,
          90,
          100
         ],
         "y": [
          450450,
          449400,
          164850,
          141750,
          151200,
          151200,
          151200,
          151200,
          151200,
          151200,
          151200
         ]
        },
        {
         "name": "model2, sample2[44,:]",
         "type": "scatter",
         "uid": "d0bd010b-e073-4473-b572-f4e8c4ecfea0",
         "x": [
          0,
          10,
          20,
          30,
          40,
          50,
          60,
          70,
          80,
          90,
          100
         ],
         "y": [
          498292.3076923077,
          537000,
          406852.17391304346,
          406852.17391304346,
          406852.17391304346,
          406852.17391304346,
          406852.17391304346,
          406852.17391304346,
          406852.17391304346,
          406852.17391304346,
          406852.17391304346
         ]
        },
        {
         "name": "sample2[46,:]",
         "type": "scatter",
         "uid": "fc8807fd-d9fa-4531-aa36-021c2412702d",
         "x": [
          0,
          10,
          20,
          30,
          40,
          50,
          60,
          70,
          80,
          90,
          100
         ],
         "y": [
          450450,
          449400,
          164850,
          141750,
          151200,
          151200,
          151200,
          151200,
          151200,
          151200,
          151200
         ]
        },
        {
         "name": "model2, sample2[46,:]",
         "type": "scatter",
         "uid": "8a828f98-c5ff-44ca-82c0-9671a1f0435a",
         "x": [
          0,
          10,
          20,
          30,
          40,
          50,
          60,
          70,
          80,
          90,
          100
         ],
         "y": [
          498292.3076923077,
          537000,
          406852.17391304346,
          406852.17391304346,
          406852.17391304346,
          406852.17391304346,
          406852.17391304346,
          406852.17391304346,
          406852.17391304346,
          406852.17391304346,
          406852.17391304346
         ]
        },
        {
         "name": "sample2[47,:]",
         "type": "scatter",
         "uid": "f5744ed4-c29c-4885-b9ec-f141998fe534",
         "x": [
          0,
          10,
          20,
          30,
          40,
          50,
          60,
          70,
          80,
          90,
          100
         ],
         "y": [
          478800,
          449400,
          164850,
          141750,
          151200,
          151200,
          151200,
          151200,
          151200,
          151200,
          151200
         ]
        },
        {
         "name": "model2, sample2[47,:]",
         "type": "scatter",
         "uid": "eb151a3c-4c8b-4a1f-ac8b-ebb7841788f7",
         "x": [
          0,
          10,
          20,
          30,
          40,
          50,
          60,
          70,
          80,
          90,
          100
         ],
         "y": [
          498292.3076923077,
          537000,
          406852.17391304346,
          406852.17391304346,
          406852.17391304346,
          406852.17391304346,
          406852.17391304346,
          406852.17391304346,
          406852.17391304346,
          406852.17391304346,
          406852.17391304346
         ]
        },
        {
         "name": "sample2[49,:]",
         "type": "scatter",
         "uid": "09c98d9c-9275-4a14-ade6-0dda37eb6c13",
         "x": [
          0,
          10,
          20,
          30,
          40,
          50,
          60,
          70,
          80,
          90,
          100
         ],
         "y": [
          450450,
          449400,
          164850,
          141750,
          151200,
          151200,
          151200,
          151200,
          151200,
          151200,
          151200
         ]
        },
        {
         "name": "model2, sample2[49,:]",
         "type": "scatter",
         "uid": "6231b90c-4512-4dd6-91c5-5c9782881ab6",
         "x": [
          0,
          10,
          20,
          30,
          40,
          50,
          60,
          70,
          80,
          90,
          100
         ],
         "y": [
          498292.3076923077,
          537000,
          406852.17391304346,
          406852.17391304346,
          406852.17391304346,
          406852.17391304346,
          406852.17391304346,
          406852.17391304346,
          406852.17391304346,
          406852.17391304346,
          406852.17391304346
         ]
        },
        {
         "name": "sample2[51,:]",
         "type": "scatter",
         "uid": "1b192b16-8982-415c-b3f3-f89863e32cca",
         "x": [
          0,
          10,
          20,
          30,
          40,
          50,
          60,
          70,
          80,
          90,
          100
         ],
         "y": [
          432600,
          449400,
          164850,
          141750,
          151200,
          151200,
          151200,
          151200,
          151200,
          151200,
          151200
         ]
        },
        {
         "name": "model2, sample2[51,:]",
         "type": "scatter",
         "uid": "8f3bbf26-16e5-4805-ab7a-f3b5dcf8668a",
         "x": [
          0,
          10,
          20,
          30,
          40,
          50,
          60,
          70,
          80,
          90,
          100
         ],
         "y": [
          438738.46153846156,
          438738.46153846156,
          406852.17391304346,
          406852.17391304346,
          406852.17391304346,
          406852.17391304346,
          406852.17391304346,
          406852.17391304346,
          406852.17391304346,
          406852.17391304346,
          406852.17391304346
         ]
        },
        {
         "name": "sample2[61,:]",
         "type": "scatter",
         "uid": "6caa27b2-8ad5-44ed-a792-de1bb2b2e5b6",
         "x": [
          0,
          10,
          20,
          30,
          40,
          50,
          60,
          70,
          80,
          90,
          100
         ],
         "y": [
          450450,
          449400,
          164850,
          141750,
          151200,
          151200,
          151200,
          151200,
          151200,
          151200,
          151200
         ]
        },
        {
         "name": "model2, sample2[61,:]",
         "type": "scatter",
         "uid": "2748470a-a940-41fe-967b-c5b7d24cfbcb",
         "x": [
          0,
          10,
          20,
          30,
          40,
          50,
          60,
          70,
          80,
          90,
          100
         ],
         "y": [
          498292.3076923077,
          537000,
          406852.17391304346,
          406852.17391304346,
          406852.17391304346,
          406852.17391304346,
          406852.17391304346,
          406852.17391304346,
          406852.17391304346,
          406852.17391304346,
          406852.17391304346
         ]
        },
        {
         "name": "sample2[73,:]",
         "type": "scatter",
         "uid": "5be04af4-14f3-4d34-871e-a64c539cff33",
         "x": [
          0,
          10,
          20,
          30,
          40,
          50,
          60,
          70,
          80,
          90,
          100
         ],
         "y": [
          432600,
          449400,
          164850,
          141750,
          151200,
          151200,
          151200,
          151200,
          151200,
          151200,
          151200
         ]
        },
        {
         "name": "model2, sample2[73,:]",
         "type": "scatter",
         "uid": "58ed004e-283d-4b3e-8fd7-58f74a9d914d",
         "x": [
          0,
          10,
          20,
          30,
          40,
          50,
          60,
          70,
          80,
          90,
          100
         ],
         "y": [
          498292.3076923077,
          537000,
          406852.17391304346,
          406852.17391304346,
          406852.17391304346,
          406852.17391304346,
          406852.17391304346,
          406852.17391304346,
          406852.17391304346,
          406852.17391304346,
          406852.17391304346
         ]
        },
        {
         "name": "sample2[75,:]",
         "type": "scatter",
         "uid": "7e133aa9-2949-402c-931a-92b41567a4d8",
         "x": [
          0,
          10,
          20,
          30,
          40,
          50,
          60,
          70,
          80,
          90,
          100
         ],
         "y": [
          450450,
          449400,
          164850,
          141750,
          151200,
          151200,
          151200,
          151200,
          151200,
          151200,
          151200
         ]
        },
        {
         "name": "model2, sample2[75,:]",
         "type": "scatter",
         "uid": "0ba66858-cdff-4a22-805a-0b1ff4d509e9",
         "x": [
          0,
          10,
          20,
          30,
          40,
          50,
          60,
          70,
          80,
          90,
          100
         ],
         "y": [
          498292.3076923077,
          537000,
          406852.17391304346,
          406852.17391304346,
          406852.17391304346,
          406852.17391304346,
          406852.17391304346,
          406852.17391304346,
          406852.17391304346,
          406852.17391304346,
          406852.17391304346
         ]
        },
        {
         "name": "sample2[76,:]",
         "type": "scatter",
         "uid": "f62a9088-4976-43db-9a4f-a2e69831eb57",
         "x": [
          0,
          10,
          20,
          30,
          40,
          50,
          60,
          70,
          80,
          90,
          100
         ],
         "y": [
          432600,
          449400,
          164850,
          141750,
          151200,
          151200,
          151200,
          151200,
          151200,
          151200,
          151200
         ]
        },
        {
         "name": "model2, sample2[76,:]",
         "type": "scatter",
         "uid": "aba4f320-3e58-4860-a056-dea55ec5b045",
         "x": [
          0,
          10,
          20,
          30,
          40,
          50,
          60,
          70,
          80,
          90,
          100
         ],
         "y": [
          438738.46153846156,
          438738.46153846156,
          406852.17391304346,
          406852.17391304346,
          406852.17391304346,
          406852.17391304346,
          406852.17391304346,
          406852.17391304346,
          406852.17391304346,
          406852.17391304346,
          406852.17391304346
         ]
        },
        {
         "name": "sample2[81,:]",
         "type": "scatter",
         "uid": "c004ffb6-2fd7-41ec-84be-9cd446dae6e0",
         "x": [
          0,
          10,
          20,
          30,
          40,
          50,
          60,
          70,
          80,
          90,
          100
         ],
         "y": [
          432600,
          449400,
          164850,
          141750,
          151200,
          151200,
          151200,
          151200,
          151200,
          151200,
          151200
         ]
        },
        {
         "name": "model2, sample2[81,:]",
         "type": "scatter",
         "uid": "25c7fe0a-92d3-42c3-90b4-bcc4466e497b",
         "x": [
          0,
          10,
          20,
          30,
          40,
          50,
          60,
          70,
          80,
          90,
          100
         ],
         "y": [
          438738.46153846156,
          438738.46153846156,
          406852.17391304346,
          406852.17391304346,
          406852.17391304346,
          406852.17391304346,
          406852.17391304346,
          406852.17391304346,
          406852.17391304346,
          406852.17391304346,
          406852.17391304346
         ]
        },
        {
         "name": "sample2[82,:]",
         "type": "scatter",
         "uid": "c5118cf8-3375-4ffd-ad0a-6e54f88a4e30",
         "x": [
          0,
          10,
          20,
          30,
          40,
          50,
          60,
          70,
          80,
          90,
          100
         ],
         "y": [
          432600,
          449400,
          164850,
          141750,
          151200,
          151200,
          151200,
          151200,
          151200,
          151200,
          151200
         ]
        },
        {
         "name": "model2, sample2[82,:]",
         "type": "scatter",
         "uid": "d5c2c149-e1cc-4e81-a22d-026e030cc4ab",
         "x": [
          0,
          10,
          20,
          30,
          40,
          50,
          60,
          70,
          80,
          90,
          100
         ],
         "y": [
          498292.3076923077,
          537000,
          406852.17391304346,
          406852.17391304346,
          406852.17391304346,
          406852.17391304346,
          406852.17391304346,
          406852.17391304346,
          406852.17391304346,
          406852.17391304346,
          406852.17391304346
         ]
        },
        {
         "name": "sample2[83,:]",
         "type": "scatter",
         "uid": "87ae5d6a-839b-4aa2-b1e4-8aa3fe818071",
         "x": [
          0,
          10,
          20,
          30,
          40,
          50,
          60,
          70,
          80,
          90,
          100
         ],
         "y": [
          450450,
          449400,
          164850,
          141750,
          151200,
          151200,
          151200,
          151200,
          151200,
          151200,
          151200
         ]
        },
        {
         "name": "model2, sample2[83,:]",
         "type": "scatter",
         "uid": "d6452916-f657-46bd-917c-7e241e57876f",
         "x": [
          0,
          10,
          20,
          30,
          40,
          50,
          60,
          70,
          80,
          90,
          100
         ],
         "y": [
          498292.3076923077,
          537000,
          406852.17391304346,
          406852.17391304346,
          406852.17391304346,
          406852.17391304346,
          406852.17391304346,
          406852.17391304346,
          406852.17391304346,
          406852.17391304346,
          406852.17391304346
         ]
        },
        {
         "name": "sample2[91,:]",
         "type": "scatter",
         "uid": "bea8a99d-5a1d-4c80-adf7-31af5b1aa5cb",
         "x": [
          0,
          10,
          20,
          30,
          40,
          50,
          60,
          70,
          80,
          90,
          100
         ],
         "y": [
          577500,
          577500,
          577500,
          577500,
          577500,
          577500,
          577500,
          577500,
          577500,
          577500,
          577500
         ]
        },
        {
         "name": "model2, sample2[91,:]",
         "type": "scatter",
         "uid": "9e3be285-182c-448d-b0c2-aa2fcfbc4741",
         "x": [
          0,
          10,
          20,
          30,
          40,
          50,
          60,
          70,
          80,
          90,
          100
         ],
         "y": [
          647607.6923076923,
          572950,
          462000,
          462000,
          462000,
          462000,
          462000,
          462000,
          462000,
          462000,
          462000
         ]
        },
        {
         "name": "sample2[100,:]",
         "type": "scatter",
         "uid": "a1a76728-0387-4b5c-b753-04292a19aa14",
         "x": [
          0,
          10,
          20,
          30,
          40,
          50,
          60,
          70,
          80,
          90,
          100
         ],
         "y": [
          432600,
          449400,
          164850,
          141750,
          151200,
          151200,
          151200,
          151200,
          151200,
          151200,
          151200
         ]
        },
        {
         "name": "model2, sample2[100,:]",
         "type": "scatter",
         "uid": "f20b1744-d788-4585-89db-c78a2b7983f3",
         "x": [
          0,
          10,
          20,
          30,
          40,
          50,
          60,
          70,
          80,
          90,
          100
         ],
         "y": [
          438738.46153846156,
          438738.46153846156,
          406852.17391304346,
          406852.17391304346,
          406852.17391304346,
          406852.17391304346,
          406852.17391304346,
          406852.17391304346,
          406852.17391304346,
          406852.17391304346,
          406852.17391304346
         ]
        },
        {
         "name": "sample2[101,:]",
         "type": "scatter",
         "uid": "d4e0662e-388f-45ad-811d-dafb0ea87a30",
         "x": [
          0,
          10,
          20,
          30,
          40,
          50,
          60,
          70,
          80,
          90,
          100
         ],
         "y": [
          577500,
          577500,
          577500,
          577500,
          577500,
          577500,
          577500,
          577500,
          577500,
          577500,
          577500
         ]
        },
        {
         "name": "model2, sample2[101,:]",
         "type": "scatter",
         "uid": "629c93de-aa06-4c73-905c-7409b569ca8f",
         "x": [
          0,
          10,
          20,
          30,
          40,
          50,
          60,
          70,
          80,
          90,
          100
         ],
         "y": [
          647607.6923076923,
          572950,
          462000,
          462000,
          462000,
          462000,
          462000,
          462000,
          462000,
          462000,
          462000
         ]
        },
        {
         "name": "sample2[103,:]",
         "type": "scatter",
         "uid": "ed619bdb-f2eb-4aac-bb49-9b3ca25f4e02",
         "x": [
          0,
          10,
          20,
          30,
          40,
          50,
          60,
          70,
          80,
          90,
          100
         ],
         "y": [
          432600,
          449400,
          164850,
          141750,
          151200,
          151200,
          151200,
          151200,
          151200,
          151200,
          151200
         ]
        },
        {
         "name": "model2, sample2[103,:]",
         "type": "scatter",
         "uid": "274c795b-28f6-43a4-a425-45a4701b42f5",
         "x": [
          0,
          10,
          20,
          30,
          40,
          50,
          60,
          70,
          80,
          90,
          100
         ],
         "y": [
          498292.3076923077,
          537000,
          406852.17391304346,
          406852.17391304346,
          406852.17391304346,
          406852.17391304346,
          406852.17391304346,
          406852.17391304346,
          406852.17391304346,
          406852.17391304346,
          406852.17391304346
         ]
        },
        {
         "name": "sample2[105,:]",
         "type": "scatter",
         "uid": "2676ab9a-4af5-471c-a5cd-5b32d989da45",
         "x": [
          0,
          10,
          20,
          30,
          40,
          50,
          60,
          70,
          80,
          90,
          100
         ],
         "y": [
          478800,
          449400,
          164850,
          141750,
          151200,
          151200,
          151200,
          151200,
          151200,
          151200,
          151200
         ]
        },
        {
         "name": "model2, sample2[105,:]",
         "type": "scatter",
         "uid": "fa59f798-14d1-4eac-9d32-80b6d3058327",
         "x": [
          0,
          10,
          20,
          30,
          40,
          50,
          60,
          70,
          80,
          90,
          100
         ],
         "y": [
          498292.3076923077,
          537000,
          406852.17391304346,
          406852.17391304346,
          406852.17391304346,
          406852.17391304346,
          406852.17391304346,
          406852.17391304346,
          406852.17391304346,
          406852.17391304346,
          406852.17391304346
         ]
        },
        {
         "name": "sample2[107,:]",
         "type": "scatter",
         "uid": "dbf03d3c-bfbb-449f-8d0d-03416f9d53f8",
         "x": [
          0,
          10,
          20,
          30,
          40,
          50,
          60,
          70,
          80,
          90,
          100
         ],
         "y": [
          432600,
          449400,
          164850,
          141750,
          151200,
          151200,
          151200,
          151200,
          151200,
          151200,
          151200
         ]
        },
        {
         "name": "model2, sample2[107,:]",
         "type": "scatter",
         "uid": "9ad4962f-9224-4bec-8e75-67e5ea2829c3",
         "x": [
          0,
          10,
          20,
          30,
          40,
          50,
          60,
          70,
          80,
          90,
          100
         ],
         "y": [
          438738.46153846156,
          438738.46153846156,
          406852.17391304346,
          406852.17391304346,
          406852.17391304346,
          406852.17391304346,
          406852.17391304346,
          406852.17391304346,
          406852.17391304346,
          406852.17391304346,
          406852.17391304346
         ]
        },
        {
         "name": "sample2[108,:]",
         "type": "scatter",
         "uid": "526b624f-b8de-47b4-b5ab-a7bc0ab251f5",
         "x": [
          0,
          10,
          20,
          30,
          40,
          50,
          60,
          70,
          80,
          90,
          100
         ],
         "y": [
          432600,
          449400,
          164850,
          141750,
          151200,
          151200,
          151200,
          151200,
          151200,
          151200,
          151200
         ]
        },
        {
         "name": "model2, sample2[108,:]",
         "type": "scatter",
         "uid": "a9cf65a3-08b7-4a5b-97d3-bcd25e0f151d",
         "x": [
          0,
          10,
          20,
          30,
          40,
          50,
          60,
          70,
          80,
          90,
          100
         ],
         "y": [
          438738.46153846156,
          438738.46153846156,
          406852.17391304346,
          406852.17391304346,
          406852.17391304346,
          406852.17391304346,
          406852.17391304346,
          406852.17391304346,
          406852.17391304346,
          406852.17391304346,
          406852.17391304346
         ]
        },
        {
         "name": "sample2[109,:]",
         "type": "scatter",
         "uid": "4cbf3cf9-fc08-4615-bc43-e81d94de8d65",
         "x": [
          0,
          10,
          20,
          30,
          40,
          50,
          60,
          70,
          80,
          90,
          100
         ],
         "y": [
          450450,
          449400,
          164850,
          141750,
          151200,
          151200,
          151200,
          151200,
          151200,
          151200,
          151200
         ]
        },
        {
         "name": "model2, sample2[109,:]",
         "type": "scatter",
         "uid": "cbd8627b-61f2-40ef-9dbf-f4a98ace9c75",
         "x": [
          0,
          10,
          20,
          30,
          40,
          50,
          60,
          70,
          80,
          90,
          100
         ],
         "y": [
          498292.3076923077,
          537000,
          406852.17391304346,
          406852.17391304346,
          406852.17391304346,
          406852.17391304346,
          406852.17391304346,
          406852.17391304346,
          406852.17391304346,
          406852.17391304346,
          406852.17391304346
         ]
        },
        {
         "name": "sample2[110,:]",
         "type": "scatter",
         "uid": "72a42d7d-80d6-40cb-93b5-948cca30b308",
         "x": [
          0,
          10,
          20,
          30,
          40,
          50,
          60,
          70,
          80,
          90,
          100
         ],
         "y": [
          450450,
          449400,
          164850,
          141750,
          151200,
          151200,
          151200,
          151200,
          151200,
          151200,
          151200
         ]
        },
        {
         "name": "model2, sample2[110,:]",
         "type": "scatter",
         "uid": "f863bbcf-7dcc-4873-94e4-58671037b5eb",
         "x": [
          0,
          10,
          20,
          30,
          40,
          50,
          60,
          70,
          80,
          90,
          100
         ],
         "y": [
          498292.3076923077,
          537000,
          406852.17391304346,
          406852.17391304346,
          406852.17391304346,
          406852.17391304346,
          406852.17391304346,
          406852.17391304346,
          406852.17391304346,
          406852.17391304346,
          406852.17391304346
         ]
        },
        {
         "name": "sample2[112,:]",
         "type": "scatter",
         "uid": "ab085fdf-6a17-4268-9a6d-3cca77ae3cbb",
         "x": [
          0,
          10,
          20,
          30,
          40,
          50,
          60,
          70,
          80,
          90,
          100
         ],
         "y": [
          450450,
          449400,
          164850,
          141750,
          151200,
          151200,
          151200,
          151200,
          151200,
          151200,
          151200
         ]
        },
        {
         "name": "model2, sample2[112,:]",
         "type": "scatter",
         "uid": "03c346e1-e1b2-442a-8bdc-9cdbad57089b",
         "x": [
          0,
          10,
          20,
          30,
          40,
          50,
          60,
          70,
          80,
          90,
          100
         ],
         "y": [
          498292.3076923077,
          537000,
          406852.17391304346,
          406852.17391304346,
          406852.17391304346,
          406852.17391304346,
          406852.17391304346,
          406852.17391304346,
          406852.17391304346,
          406852.17391304346,
          406852.17391304346
         ]
        },
        {
         "name": "sample2[113,:]",
         "type": "scatter",
         "uid": "afa46dd4-d0ef-4952-8efa-25a52b788215",
         "x": [
          0,
          10,
          20,
          30,
          40,
          50,
          60,
          70,
          80,
          90,
          100
         ],
         "y": [
          577500,
          577500,
          577500,
          577500,
          577500,
          577500,
          577500,
          577500,
          577500,
          577500,
          577500
         ]
        },
        {
         "name": "model2, sample2[113,:]",
         "type": "scatter",
         "uid": "0e292b00-ecf7-48a8-ae38-49cadcce191f",
         "x": [
          0,
          10,
          20,
          30,
          40,
          50,
          60,
          70,
          80,
          90,
          100
         ],
         "y": [
          647607.6923076923,
          572950,
          462000,
          462000,
          462000,
          462000,
          462000,
          462000,
          462000,
          462000,
          462000
         ]
        },
        {
         "name": "sample2[116,:]",
         "type": "scatter",
         "uid": "5af61593-2054-4f47-acb5-4a75762e2359",
         "x": [
          0,
          10,
          20,
          30,
          40,
          50,
          60,
          70,
          80,
          90,
          100
         ],
         "y": [
          450450,
          449400,
          164850,
          141750,
          151200,
          151200,
          151200,
          151200,
          151200,
          151200,
          151200
         ]
        },
        {
         "name": "model2, sample2[116,:]",
         "type": "scatter",
         "uid": "c84e326a-bb82-4df8-a665-fde307c0c153",
         "x": [
          0,
          10,
          20,
          30,
          40,
          50,
          60,
          70,
          80,
          90,
          100
         ],
         "y": [
          498292.3076923077,
          537000,
          406852.17391304346,
          406852.17391304346,
          406852.17391304346,
          406852.17391304346,
          406852.17391304346,
          406852.17391304346,
          406852.17391304346,
          406852.17391304346,
          406852.17391304346
         ]
        },
        {
         "name": "sample2[119,:]",
         "type": "scatter",
         "uid": "d70ba92d-69da-466d-a1c4-e34a677fa0cd",
         "x": [
          0,
          10,
          20,
          30,
          40,
          50,
          60,
          70,
          80,
          90,
          100
         ],
         "y": [
          450450,
          449400,
          164850,
          141750,
          151200,
          151200,
          151200,
          151200,
          151200,
          151200,
          151200
         ]
        },
        {
         "name": "model2, sample2[119,:]",
         "type": "scatter",
         "uid": "7c1184ff-f5eb-4c5d-8e78-4181c8eb4036",
         "x": [
          0,
          10,
          20,
          30,
          40,
          50,
          60,
          70,
          80,
          90,
          100
         ],
         "y": [
          498292.3076923077,
          537000,
          406852.17391304346,
          406852.17391304346,
          406852.17391304346,
          406852.17391304346,
          406852.17391304346,
          406852.17391304346,
          406852.17391304346,
          406852.17391304346,
          406852.17391304346
         ]
        },
        {
         "name": "sample2[120,:]",
         "type": "scatter",
         "uid": "534d2176-0136-4d5b-8ae1-e10f0487e25a",
         "x": [
          0,
          10,
          20,
          30,
          40,
          50,
          60,
          70,
          80,
          90,
          100
         ],
         "y": [
          432600,
          449400,
          164850,
          141750,
          151200,
          151200,
          151200,
          151200,
          151200,
          151200,
          151200
         ]
        },
        {
         "name": "model2, sample2[120,:]",
         "type": "scatter",
         "uid": "c074c436-669b-4823-94ba-988662dddce4",
         "x": [
          0,
          10,
          20,
          30,
          40,
          50,
          60,
          70,
          80,
          90,
          100
         ],
         "y": [
          438738.46153846156,
          438738.46153846156,
          406852.17391304346,
          406852.17391304346,
          406852.17391304346,
          406852.17391304346,
          406852.17391304346,
          406852.17391304346,
          406852.17391304346,
          406852.17391304346,
          406852.17391304346
         ]
        },
        {
         "name": "sample2[122,:]",
         "type": "scatter",
         "uid": "4c0748e4-29e4-4a4b-aa91-f5295e204fcf",
         "x": [
          0,
          10,
          20,
          30,
          40,
          50,
          60,
          70,
          80,
          90,
          100
         ],
         "y": [
          432600,
          449400,
          164850,
          141750,
          151200,
          151200,
          151200,
          151200,
          151200,
          151200,
          151200
         ]
        },
        {
         "name": "model2, sample2[122,:]",
         "type": "scatter",
         "uid": "179f4ed3-6e73-42bc-9a28-588fc4c7b53b",
         "x": [
          0,
          10,
          20,
          30,
          40,
          50,
          60,
          70,
          80,
          90,
          100
         ],
         "y": [
          438738.46153846156,
          438738.46153846156,
          406852.17391304346,
          406852.17391304346,
          406852.17391304346,
          406852.17391304346,
          406852.17391304346,
          406852.17391304346,
          406852.17391304346,
          406852.17391304346,
          406852.17391304346
         ]
        },
        {
         "name": "sample2[124,:]",
         "type": "scatter",
         "uid": "184cffb6-7763-426c-a385-6b9acb559b31",
         "x": [
          0,
          10,
          20,
          30,
          40,
          50,
          60,
          70,
          80,
          90,
          100
         ],
         "y": [
          450450,
          449400,
          164850,
          141750,
          151200,
          151200,
          151200,
          151200,
          151200,
          151200,
          151200
         ]
        },
        {
         "name": "model2, sample2[124,:]",
         "type": "scatter",
         "uid": "de6f3066-b77f-4e21-8f66-a384613495a3",
         "x": [
          0,
          10,
          20,
          30,
          40,
          50,
          60,
          70,
          80,
          90,
          100
         ],
         "y": [
          498292.3076923077,
          537000,
          406852.17391304346,
          406852.17391304346,
          406852.17391304346,
          406852.17391304346,
          406852.17391304346,
          406852.17391304346,
          406852.17391304346,
          406852.17391304346,
          406852.17391304346
         ]
        },
        {
         "name": "sample2[125,:]",
         "type": "scatter",
         "uid": "1f14dc7a-bd88-4a36-804b-d3ccbc60974d",
         "x": [
          0,
          10,
          20,
          30,
          40,
          50,
          60,
          70,
          80,
          90,
          100
         ],
         "y": [
          450450,
          449400,
          228900,
          141750,
          151200,
          151200,
          151200,
          151200,
          151200,
          151200,
          151200
         ]
        },
        {
         "name": "model2, sample2[125,:]",
         "type": "scatter",
         "uid": "4a199ac0-635d-4dd8-b01e-5babf3abcc32",
         "x": [
          0,
          10,
          20,
          30,
          40,
          50,
          60,
          70,
          80,
          90,
          100
         ],
         "y": [
          654150,
          538125,
          406852.17391304346,
          406852.17391304346,
          406852.17391304346,
          406852.17391304346,
          406852.17391304346,
          406852.17391304346,
          406852.17391304346,
          406852.17391304346,
          406852.17391304346
         ]
        },
        {
         "name": "sample2[126,:]",
         "type": "scatter",
         "uid": "4d73423e-236f-467f-9318-40437567a961",
         "x": [
          0,
          10,
          20,
          30,
          40,
          50,
          60,
          70,
          80,
          90,
          100
         ],
         "y": [
          432600,
          449400,
          164850,
          141750,
          151200,
          151200,
          151200,
          151200,
          151200,
          151200,
          151200
         ]
        },
        {
         "name": "model2, sample2[126,:]",
         "type": "scatter",
         "uid": "0bbd2fb1-bab8-4e47-8a0e-a10f48239807",
         "x": [
          0,
          10,
          20,
          30,
          40,
          50,
          60,
          70,
          80,
          90,
          100
         ],
         "y": [
          438738.46153846156,
          438738.46153846156,
          406852.17391304346,
          406852.17391304346,
          406852.17391304346,
          406852.17391304346,
          406852.17391304346,
          406852.17391304346,
          406852.17391304346,
          406852.17391304346,
          406852.17391304346
         ]
        },
        {
         "name": "sample2[128,:]",
         "type": "scatter",
         "uid": "d8c382e7-dd6e-4c87-b7c3-0db0df774bf2",
         "x": [
          0,
          10,
          20,
          30,
          40,
          50,
          60,
          70,
          80,
          90,
          100
         ],
         "y": [
          450450,
          449400,
          164850,
          141750,
          151200,
          151200,
          151200,
          151200,
          151200,
          151200,
          151200
         ]
        },
        {
         "name": "model2, sample2[128,:]",
         "type": "scatter",
         "uid": "185fd0a9-4d48-496b-ab3c-10654e7838ad",
         "x": [
          0,
          10,
          20,
          30,
          40,
          50,
          60,
          70,
          80,
          90,
          100
         ],
         "y": [
          498292.3076923077,
          537000,
          406852.17391304346,
          406852.17391304346,
          406852.17391304346,
          406852.17391304346,
          406852.17391304346,
          406852.17391304346,
          406852.17391304346,
          406852.17391304346,
          406852.17391304346
         ]
        },
        {
         "name": "sample2[129,:]",
         "type": "scatter",
         "uid": "93b970a2-3368-4465-8891-32aefd528583",
         "x": [
          0,
          10,
          20,
          30,
          40,
          50,
          60,
          70,
          80,
          90,
          100
         ],
         "y": [
          450450,
          449400,
          164850,
          141750,
          151200,
          151200,
          151200,
          151200,
          151200,
          151200,
          151200
         ]
        },
        {
         "name": "model2, sample2[129,:]",
         "type": "scatter",
         "uid": "21a6d3d1-77ef-4516-8187-c34de63c4f09",
         "x": [
          0,
          10,
          20,
          30,
          40,
          50,
          60,
          70,
          80,
          90,
          100
         ],
         "y": [
          498292.3076923077,
          537000,
          406852.17391304346,
          406852.17391304346,
          406852.17391304346,
          406852.17391304346,
          406852.17391304346,
          406852.17391304346,
          406852.17391304346,
          406852.17391304346,
          406852.17391304346
         ]
        },
        {
         "name": "sample2[130,:]",
         "type": "scatter",
         "uid": "cbdd22f6-7254-4d17-aebc-2744a6c92006",
         "x": [
          0,
          10,
          20,
          30,
          40,
          50,
          60,
          70,
          80,
          90,
          100
         ],
         "y": [
          450450,
          449400,
          164850,
          141750,
          151200,
          151200,
          151200,
          151200,
          151200,
          151200,
          151200
         ]
        },
        {
         "name": "model2, sample2[130,:]",
         "type": "scatter",
         "uid": "c8accaf2-096e-4795-8121-a4a0238c76ea",
         "x": [
          0,
          10,
          20,
          30,
          40,
          50,
          60,
          70,
          80,
          90,
          100
         ],
         "y": [
          498292.3076923077,
          537000,
          406852.17391304346,
          406852.17391304346,
          406852.17391304346,
          406852.17391304346,
          406852.17391304346,
          406852.17391304346,
          406852.17391304346,
          406852.17391304346,
          406852.17391304346
         ]
        },
        {
         "name": "sample2[134,:]",
         "type": "scatter",
         "uid": "11f14d5b-4726-4421-b863-7f960b72d26c",
         "x": [
          0,
          10,
          20,
          30,
          40,
          50,
          60,
          70,
          80,
          90,
          100
         ],
         "y": [
          450450,
          449400,
          164850,
          141750,
          151200,
          151200,
          151200,
          151200,
          151200,
          151200,
          151200
         ]
        },
        {
         "name": "model2, sample2[134,:]",
         "type": "scatter",
         "uid": "d45466d9-cded-4ac2-89de-d4981de14ed4",
         "x": [
          0,
          10,
          20,
          30,
          40,
          50,
          60,
          70,
          80,
          90,
          100
         ],
         "y": [
          498292.3076923077,
          537000,
          406852.17391304346,
          406852.17391304346,
          406852.17391304346,
          406852.17391304346,
          406852.17391304346,
          406852.17391304346,
          406852.17391304346,
          406852.17391304346,
          406852.17391304346
         ]
        },
        {
         "name": "sample2[137,:]",
         "type": "scatter",
         "uid": "2c58224f-5a16-4657-9340-da9c8ee39f33",
         "x": [
          0,
          10,
          20,
          30,
          40,
          50,
          60,
          70,
          80,
          90,
          100
         ],
         "y": [
          450450,
          449400,
          228900,
          141750,
          151200,
          151200,
          151200,
          151200,
          151200,
          151200,
          151200
         ]
        },
        {
         "name": "model2, sample2[137,:]",
         "type": "scatter",
         "uid": "c70a556a-d58a-4019-8e71-7a2989760383",
         "x": [
          0,
          10,
          20,
          30,
          40,
          50,
          60,
          70,
          80,
          90,
          100
         ],
         "y": [
          654150,
          538125,
          406852.17391304346,
          406852.17391304346,
          406852.17391304346,
          406852.17391304346,
          406852.17391304346,
          406852.17391304346,
          406852.17391304346,
          406852.17391304346,
          406852.17391304346
         ]
        },
        {
         "name": "sample2[138,:]",
         "type": "scatter",
         "uid": "6160e980-bd28-4258-a1c5-77afeea01968",
         "x": [
          0,
          10,
          20,
          30,
          40,
          50,
          60,
          70,
          80,
          90,
          100
         ],
         "y": [
          432600,
          449400,
          164850,
          141750,
          151200,
          151200,
          151200,
          151200,
          151200,
          151200,
          151200
         ]
        },
        {
         "name": "model2, sample2[138,:]",
         "type": "scatter",
         "uid": "fa214a48-48e7-41ab-bab0-f192093b180b",
         "x": [
          0,
          10,
          20,
          30,
          40,
          50,
          60,
          70,
          80,
          90,
          100
         ],
         "y": [
          438738.46153846156,
          438738.46153846156,
          406852.17391304346,
          406852.17391304346,
          406852.17391304346,
          406852.17391304346,
          406852.17391304346,
          406852.17391304346,
          406852.17391304346,
          406852.17391304346,
          406852.17391304346
         ]
        },
        {
         "name": "sample2[139,:]",
         "type": "scatter",
         "uid": "deba15bc-739b-4a72-b78c-ec89aad0c19c",
         "x": [
          0,
          10,
          20,
          30,
          40,
          50,
          60,
          70,
          80,
          90,
          100
         ],
         "y": [
          432600,
          449400,
          164850,
          141750,
          151200,
          151200,
          151200,
          151200,
          151200,
          151200,
          151200
         ]
        },
        {
         "name": "model2, sample2[139,:]",
         "type": "scatter",
         "uid": "70a9be76-4cd4-4f7c-9612-4d52084cc1c0",
         "x": [
          0,
          10,
          20,
          30,
          40,
          50,
          60,
          70,
          80,
          90,
          100
         ],
         "y": [
          438738.46153846156,
          438738.46153846156,
          406852.17391304346,
          406852.17391304346,
          406852.17391304346,
          406852.17391304346,
          406852.17391304346,
          406852.17391304346,
          406852.17391304346,
          406852.17391304346,
          406852.17391304346
         ]
        },
        {
         "name": "sample2[140,:]",
         "type": "scatter",
         "uid": "d3a73cb2-6197-4148-acc3-4b02c83cfa5c",
         "x": [
          0,
          10,
          20,
          30,
          40,
          50,
          60,
          70,
          80,
          90,
          100
         ],
         "y": [
          450450,
          449400,
          164850,
          141750,
          151200,
          151200,
          151200,
          151200,
          151200,
          151200,
          151200
         ]
        },
        {
         "name": "model2, sample2[140,:]",
         "type": "scatter",
         "uid": "8f2369d9-a713-4f15-90a7-e044bb60e25c",
         "x": [
          0,
          10,
          20,
          30,
          40,
          50,
          60,
          70,
          80,
          90,
          100
         ],
         "y": [
          498292.3076923077,
          537000,
          406852.17391304346,
          406852.17391304346,
          406852.17391304346,
          406852.17391304346,
          406852.17391304346,
          406852.17391304346,
          406852.17391304346,
          406852.17391304346,
          406852.17391304346
         ]
        },
        {
         "name": "sample2[141,:]",
         "type": "scatter",
         "uid": "c5930e86-fb83-486e-a7f4-f0f86a8a2413",
         "x": [
          0,
          10,
          20,
          30,
          40,
          50,
          60,
          70,
          80,
          90,
          100
         ],
         "y": [
          478800,
          449400,
          164850,
          141750,
          151200,
          151200,
          151200,
          151200,
          151200,
          151200,
          151200
         ]
        },
        {
         "name": "model2, sample2[141,:]",
         "type": "scatter",
         "uid": "0c8540b5-87de-44d9-ab42-881a155c069c",
         "x": [
          0,
          10,
          20,
          30,
          40,
          50,
          60,
          70,
          80,
          90,
          100
         ],
         "y": [
          498292.3076923077,
          537000,
          406852.17391304346,
          406852.17391304346,
          406852.17391304346,
          406852.17391304346,
          406852.17391304346,
          406852.17391304346,
          406852.17391304346,
          406852.17391304346,
          406852.17391304346
         ]
        },
        {
         "name": "sample2[144,:]",
         "type": "scatter",
         "uid": "f6b53e00-f9e7-4a1b-9ba6-5562047a9903",
         "x": [
          0,
          10,
          20,
          30,
          40,
          50,
          60,
          70,
          80,
          90,
          100
         ],
         "y": [
          450450,
          449400,
          164850,
          141750,
          151200,
          151200,
          151200,
          151200,
          151200,
          151200,
          151200
         ]
        },
        {
         "name": "model2, sample2[144,:]",
         "type": "scatter",
         "uid": "f09f33aa-fe23-4170-a0e5-3b8dc3035904",
         "x": [
          0,
          10,
          20,
          30,
          40,
          50,
          60,
          70,
          80,
          90,
          100
         ],
         "y": [
          498292.3076923077,
          537000,
          406852.17391304346,
          406852.17391304346,
          406852.17391304346,
          406852.17391304346,
          406852.17391304346,
          406852.17391304346,
          406852.17391304346,
          406852.17391304346,
          406852.17391304346
         ]
        },
        {
         "name": "sample2[145,:]",
         "type": "scatter",
         "uid": "581039ce-aaa7-437c-bba7-ab5f318662af",
         "x": [
          0,
          10,
          20,
          30,
          40,
          50,
          60,
          70,
          80,
          90,
          100
         ],
         "y": [
          450450,
          449400,
          228900,
          141750,
          151200,
          151200,
          151200,
          151200,
          151200,
          151200,
          151200
         ]
        },
        {
         "name": "model2, sample2[145,:]",
         "type": "scatter",
         "uid": "9776562e-fffe-4e43-a376-a57d9ea264c5",
         "x": [
          0,
          10,
          20,
          30,
          40,
          50,
          60,
          70,
          80,
          90,
          100
         ],
         "y": [
          654150,
          538125,
          406852.17391304346,
          406852.17391304346,
          406852.17391304346,
          406852.17391304346,
          406852.17391304346,
          406852.17391304346,
          406852.17391304346,
          406852.17391304346,
          406852.17391304346
         ]
        },
        {
         "name": "sample2[146,:]",
         "type": "scatter",
         "uid": "282402cc-1352-4073-b605-62ee081667ae",
         "x": [
          0,
          10,
          20,
          30,
          40,
          50,
          60,
          70,
          80,
          90,
          100
         ],
         "y": [
          450450,
          449400,
          164850,
          141750,
          151200,
          151200,
          151200,
          151200,
          151200,
          151200,
          151200
         ]
        },
        {
         "name": "model2, sample2[146,:]",
         "type": "scatter",
         "uid": "8736bf79-33b0-41bf-9411-36d64c5d4021",
         "x": [
          0,
          10,
          20,
          30,
          40,
          50,
          60,
          70,
          80,
          90,
          100
         ],
         "y": [
          498292.3076923077,
          537000,
          406852.17391304346,
          406852.17391304346,
          406852.17391304346,
          406852.17391304346,
          406852.17391304346,
          406852.17391304346,
          406852.17391304346,
          406852.17391304346,
          406852.17391304346
         ]
        },
        {
         "name": "sample2[148,:]",
         "type": "scatter",
         "uid": "c0925715-2bd1-41a5-b042-0d19d0931c14",
         "x": [
          0,
          10,
          20,
          30,
          40,
          50,
          60,
          70,
          80,
          90,
          100
         ],
         "y": [
          432600,
          449400,
          164850,
          141750,
          151200,
          151200,
          151200,
          151200,
          151200,
          151200,
          151200
         ]
        },
        {
         "name": "model2, sample2[148,:]",
         "type": "scatter",
         "uid": "4ab98f58-4334-4122-9f71-57f4181fc635",
         "x": [
          0,
          10,
          20,
          30,
          40,
          50,
          60,
          70,
          80,
          90,
          100
         ],
         "y": [
          438738.46153846156,
          438738.46153846156,
          406852.17391304346,
          406852.17391304346,
          406852.17391304346,
          406852.17391304346,
          406852.17391304346,
          406852.17391304346,
          406852.17391304346,
          406852.17391304346,
          406852.17391304346
         ]
        },
        {
         "name": "sample2[149,:]",
         "type": "scatter",
         "uid": "0dc8b8f6-e9fe-41c9-90d8-3c738f999f9e",
         "x": [
          0,
          10,
          20,
          30,
          40,
          50,
          60,
          70,
          80,
          90,
          100
         ],
         "y": [
          432600,
          449400,
          164850,
          141750,
          151200,
          151200,
          151200,
          151200,
          151200,
          151200,
          151200
         ]
        },
        {
         "name": "model2, sample2[149,:]",
         "type": "scatter",
         "uid": "2bceb8a2-fc13-4f8a-9604-2c0afe9c4b3c",
         "x": [
          0,
          10,
          20,
          30,
          40,
          50,
          60,
          70,
          80,
          90,
          100
         ],
         "y": [
          498292.3076923077,
          537000,
          406852.17391304346,
          406852.17391304346,
          406852.17391304346,
          406852.17391304346,
          406852.17391304346,
          406852.17391304346,
          406852.17391304346,
          406852.17391304346,
          406852.17391304346
         ]
        },
        {
         "name": "sample2[150,:]",
         "type": "scatter",
         "uid": "1d5f1984-54cb-46db-b3c9-0a798a533b49",
         "x": [
          0,
          10,
          20,
          30,
          40,
          50,
          60,
          70,
          80,
          90,
          100
         ],
         "y": [
          432600,
          449400,
          164850,
          141750,
          151200,
          151200,
          151200,
          151200,
          151200,
          151200,
          151200
         ]
        },
        {
         "name": "model2, sample2[150,:]",
         "type": "scatter",
         "uid": "76429706-419c-4b28-85cb-ce5ecbc514e4",
         "x": [
          0,
          10,
          20,
          30,
          40,
          50,
          60,
          70,
          80,
          90,
          100
         ],
         "y": [
          438738.46153846156,
          438738.46153846156,
          406852.17391304346,
          406852.17391304346,
          406852.17391304346,
          406852.17391304346,
          406852.17391304346,
          406852.17391304346,
          406852.17391304346,
          406852.17391304346,
          406852.17391304346
         ]
        },
        {
         "name": "sample2[152,:]",
         "type": "scatter",
         "uid": "5c545f20-3fff-4b37-b965-0746486c701d",
         "x": [
          0,
          10,
          20,
          30,
          40,
          50,
          60,
          70,
          80,
          90,
          100
         ],
         "y": [
          450450,
          449400,
          164850,
          141750,
          151200,
          151200,
          151200,
          151200,
          151200,
          151200,
          151200
         ]
        },
        {
         "name": "model2, sample2[152,:]",
         "type": "scatter",
         "uid": "2a6ca17d-ac3b-4ea6-9a44-cf7acb2aaf54",
         "x": [
          0,
          10,
          20,
          30,
          40,
          50,
          60,
          70,
          80,
          90,
          100
         ],
         "y": [
          498292.3076923077,
          537000,
          406852.17391304346,
          406852.17391304346,
          406852.17391304346,
          406852.17391304346,
          406852.17391304346,
          406852.17391304346,
          406852.17391304346,
          406852.17391304346,
          406852.17391304346
         ]
        },
        {
         "name": "sample2[153,:]",
         "type": "scatter",
         "uid": "0bb4be4e-74f1-4379-8443-165d05ba7912",
         "x": [
          0,
          10,
          20,
          30,
          40,
          50,
          60,
          70,
          80,
          90,
          100
         ],
         "y": [
          450450,
          449400,
          164850,
          141750,
          151200,
          151200,
          151200,
          151200,
          151200,
          151200,
          151200
         ]
        },
        {
         "name": "model2, sample2[153,:]",
         "type": "scatter",
         "uid": "3edb6739-30eb-426b-b2f8-a6f5a2352c04",
         "x": [
          0,
          10,
          20,
          30,
          40,
          50,
          60,
          70,
          80,
          90,
          100
         ],
         "y": [
          498292.3076923077,
          537000,
          406852.17391304346,
          406852.17391304346,
          406852.17391304346,
          406852.17391304346,
          406852.17391304346,
          406852.17391304346,
          406852.17391304346,
          406852.17391304346,
          406852.17391304346
         ]
        },
        {
         "name": "sample2[157,:]",
         "type": "scatter",
         "uid": "d4ceab9a-ef90-439c-b1e8-1c53149b1192",
         "x": [
          0,
          10,
          20,
          30,
          40,
          50,
          60,
          70,
          80,
          90,
          100
         ],
         "y": [
          450450,
          449400,
          164850,
          141750,
          151200,
          151200,
          151200,
          151200,
          151200,
          151200,
          151200
         ]
        },
        {
         "name": "model2, sample2[157,:]",
         "type": "scatter",
         "uid": "cc6906b7-ef59-4694-b033-0398f451dacb",
         "x": [
          0,
          10,
          20,
          30,
          40,
          50,
          60,
          70,
          80,
          90,
          100
         ],
         "y": [
          498292.3076923077,
          537000,
          406852.17391304346,
          406852.17391304346,
          406852.17391304346,
          406852.17391304346,
          406852.17391304346,
          406852.17391304346,
          406852.17391304346,
          406852.17391304346,
          406852.17391304346
         ]
        },
        {
         "name": "sample2[158,:]",
         "type": "scatter",
         "uid": "b8915379-5c83-4be3-b2c0-af7412850b57",
         "x": [
          0,
          10,
          20,
          30,
          40,
          50,
          60,
          70,
          80,
          90,
          100
         ],
         "y": [
          450450,
          449400,
          228900,
          141750,
          151200,
          151200,
          151200,
          151200,
          151200,
          151200,
          151200
         ]
        },
        {
         "name": "model2, sample2[158,:]",
         "type": "scatter",
         "uid": "f0387d5c-4ca3-4346-8227-9b219e4030a3",
         "x": [
          0,
          10,
          20,
          30,
          40,
          50,
          60,
          70,
          80,
          90,
          100
         ],
         "y": [
          654150,
          538125,
          406852.17391304346,
          406852.17391304346,
          406852.17391304346,
          406852.17391304346,
          406852.17391304346,
          406852.17391304346,
          406852.17391304346,
          406852.17391304346,
          406852.17391304346
         ]
        },
        {
         "name": "sample2[160,:]",
         "type": "scatter",
         "uid": "63829b8f-33a6-498f-9a6f-825f85e8af27",
         "x": [
          0,
          10,
          20,
          30,
          40,
          50,
          60,
          70,
          80,
          90,
          100
         ],
         "y": [
          450450,
          449400,
          164850,
          141750,
          151200,
          151200,
          151200,
          151200,
          151200,
          151200,
          151200
         ]
        },
        {
         "name": "model2, sample2[160,:]",
         "type": "scatter",
         "uid": "b740ca2b-c9b8-4e7f-9e00-f2418b768ce9",
         "x": [
          0,
          10,
          20,
          30,
          40,
          50,
          60,
          70,
          80,
          90,
          100
         ],
         "y": [
          498292.3076923077,
          537000,
          406852.17391304346,
          406852.17391304346,
          406852.17391304346,
          406852.17391304346,
          406852.17391304346,
          406852.17391304346,
          406852.17391304346,
          406852.17391304346,
          406852.17391304346
         ]
        },
        {
         "name": "sample2[161,:]",
         "type": "scatter",
         "uid": "86aa0017-ccfd-4021-b62e-842695e99a43",
         "x": [
          0,
          10,
          20,
          30,
          40,
          50,
          60,
          70,
          80,
          90,
          100
         ],
         "y": [
          450450,
          449400,
          164850,
          141750,
          151200,
          151200,
          151200,
          151200,
          151200,
          151200,
          151200
         ]
        },
        {
         "name": "model2, sample2[161,:]",
         "type": "scatter",
         "uid": "018cdf9c-79ce-499e-a85b-671c93ff0a6c",
         "x": [
          0,
          10,
          20,
          30,
          40,
          50,
          60,
          70,
          80,
          90,
          100
         ],
         "y": [
          498292.3076923077,
          537000,
          406852.17391304346,
          406852.17391304346,
          406852.17391304346,
          406852.17391304346,
          406852.17391304346,
          406852.17391304346,
          406852.17391304346,
          406852.17391304346,
          406852.17391304346
         ]
        },
        {
         "name": "sample2[162,:]",
         "type": "scatter",
         "uid": "d376be76-d48f-4637-8d2f-0bd60d5b365b",
         "x": [
          0,
          10,
          20,
          30,
          40,
          50,
          60,
          70,
          80,
          90,
          100
         ],
         "y": [
          450450,
          449400,
          164850,
          141750,
          151200,
          151200,
          151200,
          151200,
          151200,
          151200,
          151200
         ]
        },
        {
         "name": "model2, sample2[162,:]",
         "type": "scatter",
         "uid": "b5156721-7c9a-411e-9ea2-8274ccee3d19",
         "x": [
          0,
          10,
          20,
          30,
          40,
          50,
          60,
          70,
          80,
          90,
          100
         ],
         "y": [
          498292.3076923077,
          537000,
          406852.17391304346,
          406852.17391304346,
          406852.17391304346,
          406852.17391304346,
          406852.17391304346,
          406852.17391304346,
          406852.17391304346,
          406852.17391304346,
          406852.17391304346
         ]
        },
        {
         "name": "sample2[166,:]",
         "type": "scatter",
         "uid": "862eb292-7d3d-4bee-8db0-281c6652ba4c",
         "x": [
          0,
          10,
          20,
          30,
          40,
          50,
          60,
          70,
          80,
          90,
          100
         ],
         "y": [
          432600,
          449400,
          164850,
          141750,
          151200,
          151200,
          151200,
          151200,
          151200,
          151200,
          151200
         ]
        },
        {
         "name": "model2, sample2[166,:]",
         "type": "scatter",
         "uid": "a6c9af3b-a4fd-41e2-8612-c92243774b00",
         "x": [
          0,
          10,
          20,
          30,
          40,
          50,
          60,
          70,
          80,
          90,
          100
         ],
         "y": [
          438738.46153846156,
          438738.46153846156,
          406852.17391304346,
          406852.17391304346,
          406852.17391304346,
          406852.17391304346,
          406852.17391304346,
          406852.17391304346,
          406852.17391304346,
          406852.17391304346,
          406852.17391304346
         ]
        },
        {
         "name": "sample2[167,:]",
         "type": "scatter",
         "uid": "d074b39f-85be-4f98-bc08-5943e370cb1c",
         "x": [
          0,
          10,
          20,
          30,
          40,
          50,
          60,
          70,
          80,
          90,
          100
         ],
         "y": [
          450450,
          449400,
          164850,
          141750,
          151200,
          151200,
          151200,
          151200,
          151200,
          151200,
          151200
         ]
        },
        {
         "name": "model2, sample2[167,:]",
         "type": "scatter",
         "uid": "790a495e-e028-42ac-bb8e-c391faecd790",
         "x": [
          0,
          10,
          20,
          30,
          40,
          50,
          60,
          70,
          80,
          90,
          100
         ],
         "y": [
          498292.3076923077,
          537000,
          406852.17391304346,
          406852.17391304346,
          406852.17391304346,
          406852.17391304346,
          406852.17391304346,
          406852.17391304346,
          406852.17391304346,
          406852.17391304346,
          406852.17391304346
         ]
        },
        {
         "name": "sample2[168,:]",
         "type": "scatter",
         "uid": "33d6f396-2587-47e8-99db-98ac6d4d6c0c",
         "x": [
          0,
          10,
          20,
          30,
          40,
          50,
          60,
          70,
          80,
          90,
          100
         ],
         "y": [
          478800,
          449400,
          164850,
          141750,
          151200,
          151200,
          151200,
          151200,
          151200,
          151200,
          151200
         ]
        },
        {
         "name": "model2, sample2[168,:]",
         "type": "scatter",
         "uid": "e7a689b1-cf77-4fd2-8f41-ec60e477c2ed",
         "x": [
          0,
          10,
          20,
          30,
          40,
          50,
          60,
          70,
          80,
          90,
          100
         ],
         "y": [
          498292.3076923077,
          537000,
          406852.17391304346,
          406852.17391304346,
          406852.17391304346,
          406852.17391304346,
          406852.17391304346,
          406852.17391304346,
          406852.17391304346,
          406852.17391304346,
          406852.17391304346
         ]
        },
        {
         "name": "sample2[169,:]",
         "type": "scatter",
         "uid": "21a7458e-da15-4a14-88d6-78bf91715977",
         "x": [
          0,
          10,
          20,
          30,
          40,
          50,
          60,
          70,
          80,
          90,
          100
         ],
         "y": [
          432600,
          449400,
          164850,
          141750,
          151200,
          151200,
          151200,
          151200,
          151200,
          151200,
          151200
         ]
        },
        {
         "name": "model2, sample2[169,:]",
         "type": "scatter",
         "uid": "9c15415c-31fa-4763-90fd-72e8647b0d65",
         "x": [
          0,
          10,
          20,
          30,
          40,
          50,
          60,
          70,
          80,
          90,
          100
         ],
         "y": [
          438738.46153846156,
          438738.46153846156,
          406852.17391304346,
          406852.17391304346,
          406852.17391304346,
          406852.17391304346,
          406852.17391304346,
          406852.17391304346,
          406852.17391304346,
          406852.17391304346,
          406852.17391304346
         ]
        },
        {
         "name": "sample2[173,:]",
         "type": "scatter",
         "uid": "5894651d-ada5-4782-aad1-5e932f7398d4",
         "x": [
          0,
          10,
          20,
          30,
          40,
          50,
          60,
          70,
          80,
          90,
          100
         ],
         "y": [
          432600,
          449400,
          164850,
          141750,
          151200,
          151200,
          151200,
          151200,
          151200,
          151200,
          151200
         ]
        },
        {
         "name": "model2, sample2[173,:]",
         "type": "scatter",
         "uid": "215f9676-cda5-4593-a468-8de8150adb26",
         "x": [
          0,
          10,
          20,
          30,
          40,
          50,
          60,
          70,
          80,
          90,
          100
         ],
         "y": [
          438738.46153846156,
          438738.46153846156,
          406852.17391304346,
          406852.17391304346,
          406852.17391304346,
          406852.17391304346,
          406852.17391304346,
          406852.17391304346,
          406852.17391304346,
          406852.17391304346,
          406852.17391304346
         ]
        },
        {
         "name": "sample2[174,:]",
         "type": "scatter",
         "uid": "a0b42ec9-227b-4782-bea8-758e04d5c7b2",
         "x": [
          0,
          10,
          20,
          30,
          40,
          50,
          60,
          70,
          80,
          90,
          100
         ],
         "y": [
          432600,
          449400,
          164850,
          141750,
          151200,
          151200,
          151200,
          151200,
          151200,
          151200,
          151200
         ]
        },
        {
         "name": "model2, sample2[174,:]",
         "type": "scatter",
         "uid": "d96d3836-dac6-4e30-b506-4f1e4587b514",
         "x": [
          0,
          10,
          20,
          30,
          40,
          50,
          60,
          70,
          80,
          90,
          100
         ],
         "y": [
          438738.46153846156,
          438738.46153846156,
          406852.17391304346,
          406852.17391304346,
          406852.17391304346,
          406852.17391304346,
          406852.17391304346,
          406852.17391304346,
          406852.17391304346,
          406852.17391304346,
          406852.17391304346
         ]
        }
       ],
       "layout": {
        "title": {
         "text": "ICE, model: DecisionTreeRegressor/model, version: 0ef3a148-f61d-11e9-bef7-fc084a6691eb"
        },
        "xaxis": {
         "title": {
          "text": "LSTAT"
         }
        },
        "yaxis": {
         "title": {
          "text": "MEDV"
         }
        }
       }
      },
      "text/html": [
       "<div>\n",
       "        \n",
       "        \n",
       "            <div id=\"4d0e852b-9c64-462b-934d-9a9657fbe611\" class=\"plotly-graph-div\" style=\"height:525px; width:100%;\"></div>\n",
       "            <script type=\"text/javascript\">\n",
       "                require([\"plotly\"], function(Plotly) {\n",
       "                    window.PLOTLYENV=window.PLOTLYENV || {};\n",
       "                    window.PLOTLYENV.BASE_URL='https://plot.ly';\n",
       "                    \n",
       "                if (document.getElementById(\"4d0e852b-9c64-462b-934d-9a9657fbe611\")) {\n",
       "                    Plotly.newPlot(\n",
       "                        '4d0e852b-9c64-462b-934d-9a9657fbe611',\n",
       "                        [{\"name\": \"sample2[21,:]\", \"type\": \"scatter\", \"uid\": \"af5aa143-6b9a-48d1-96f7-9f9e30a38235\", \"x\": [0.0, 10.0, 20.0, 30.0, 40.0, 50.0, 60.0, 70.0, 80.0, 90.0, 100.0], \"y\": [450450.0, 449400.0, 164850.0, 141750.0, 151200.0, 151200.0, 151200.0, 151200.0, 151200.0, 151200.0, 151200.0]}, {\"name\": \"model2, sample2[21,:]\", \"type\": \"scatter\", \"uid\": \"97b3b303-a19e-4b49-8b60-ac448f879fdd\", \"x\": [0.0, 10.0, 20.0, 30.0, 40.0, 50.0, 60.0, 70.0, 80.0, 90.0, 100.0], \"y\": [498292.3076923077, 537000.0, 406852.17391304346, 406852.17391304346, 406852.17391304346, 406852.17391304346, 406852.17391304346, 406852.17391304346, 406852.17391304346, 406852.17391304346, 406852.17391304346]}, {\"name\": \"sample2[22,:]\", \"type\": \"scatter\", \"uid\": \"dcd57a5d-ffd0-4711-8dc5-efa1d9d1c567\", \"x\": [0.0, 10.0, 20.0, 30.0, 40.0, 50.0, 60.0, 70.0, 80.0, 90.0, 100.0], \"y\": [450450.0, 449400.0, 164850.0, 141750.0, 151200.0, 151200.0, 151200.0, 151200.0, 151200.0, 151200.0, 151200.0]}, {\"name\": \"model2, sample2[22,:]\", \"type\": \"scatter\", \"uid\": \"6362756c-2461-49fe-b858-21077b86383b\", \"x\": [0.0, 10.0, 20.0, 30.0, 40.0, 50.0, 60.0, 70.0, 80.0, 90.0, 100.0], \"y\": [498292.3076923077, 537000.0, 406852.17391304346, 406852.17391304346, 406852.17391304346, 406852.17391304346, 406852.17391304346, 406852.17391304346, 406852.17391304346, 406852.17391304346, 406852.17391304346]}, {\"name\": \"sample2[23,:]\", \"type\": \"scatter\", \"uid\": \"a38d91b9-30d7-4a79-b06a-0cb751d35025\", \"x\": [0.0, 10.0, 20.0, 30.0, 40.0, 50.0, 60.0, 70.0, 80.0, 90.0, 100.0], \"y\": [432600.0, 449400.0, 164850.0, 141750.0, 151200.0, 151200.0, 151200.0, 151200.0, 151200.0, 151200.0, 151200.0]}, {\"name\": \"model2, sample2[23,:]\", \"type\": \"scatter\", \"uid\": \"62b84991-277c-49c5-bbd6-2a31c0c163c5\", \"x\": [0.0, 10.0, 20.0, 30.0, 40.0, 50.0, 60.0, 70.0, 80.0, 90.0, 100.0], \"y\": [498292.3076923077, 537000.0, 406852.17391304346, 406852.17391304346, 406852.17391304346, 406852.17391304346, 406852.17391304346, 406852.17391304346, 406852.17391304346, 406852.17391304346, 406852.17391304346]}, {\"name\": \"sample2[24,:]\", \"type\": \"scatter\", \"uid\": \"9b5b98f9-34a4-425d-bbfa-7a4f8b1af48c\", \"x\": [0.0, 10.0, 20.0, 30.0, 40.0, 50.0, 60.0, 70.0, 80.0, 90.0, 100.0], \"y\": [432600.0, 449400.0, 164850.0, 141750.0, 151200.0, 151200.0, 151200.0, 151200.0, 151200.0, 151200.0, 151200.0]}, {\"name\": \"model2, sample2[24,:]\", \"type\": \"scatter\", \"uid\": \"2e09e61e-4f00-44ca-9445-efbf4a19f5f3\", \"x\": [0.0, 10.0, 20.0, 30.0, 40.0, 50.0, 60.0, 70.0, 80.0, 90.0, 100.0], \"y\": [438738.46153846156, 438738.46153846156, 406852.17391304346, 406852.17391304346, 406852.17391304346, 406852.17391304346, 406852.17391304346, 406852.17391304346, 406852.17391304346, 406852.17391304346, 406852.17391304346]}, {\"name\": \"sample2[25,:]\", \"type\": \"scatter\", \"uid\": \"d7821853-bf05-4986-9701-ad2791d7fe53\", \"x\": [0.0, 10.0, 20.0, 30.0, 40.0, 50.0, 60.0, 70.0, 80.0, 90.0, 100.0], \"y\": [432600.0, 449400.0, 164850.0, 141750.0, 151200.0, 151200.0, 151200.0, 151200.0, 151200.0, 151200.0, 151200.0]}, {\"name\": \"model2, sample2[25,:]\", \"type\": \"scatter\", \"uid\": \"7e227e05-ec48-438d-8feb-fe9e48778100\", \"x\": [0.0, 10.0, 20.0, 30.0, 40.0, 50.0, 60.0, 70.0, 80.0, 90.0, 100.0], \"y\": [438738.46153846156, 438738.46153846156, 406852.17391304346, 406852.17391304346, 406852.17391304346, 406852.17391304346, 406852.17391304346, 406852.17391304346, 406852.17391304346, 406852.17391304346, 406852.17391304346]}, {\"name\": \"sample2[26,:]\", \"type\": \"scatter\", \"uid\": \"d32d217d-882d-45fa-94fc-47eefbb2a5e2\", \"x\": [0.0, 10.0, 20.0, 30.0, 40.0, 50.0, 60.0, 70.0, 80.0, 90.0, 100.0], \"y\": [432600.0, 449400.0, 164850.0, 141750.0, 151200.0, 151200.0, 151200.0, 151200.0, 151200.0, 151200.0, 151200.0]}, {\"name\": \"model2, sample2[26,:]\", \"type\": \"scatter\", \"uid\": \"3707b323-56d7-402f-a50e-3a0f38fcd472\", \"x\": [0.0, 10.0, 20.0, 30.0, 40.0, 50.0, 60.0, 70.0, 80.0, 90.0, 100.0], \"y\": [498292.3076923077, 537000.0, 406852.17391304346, 406852.17391304346, 406852.17391304346, 406852.17391304346, 406852.17391304346, 406852.17391304346, 406852.17391304346, 406852.17391304346, 406852.17391304346]}, {\"name\": \"sample2[27,:]\", \"type\": \"scatter\", \"uid\": \"6d3c3a9e-e377-4468-8421-b6c5cb69327e\", \"x\": [0.0, 10.0, 20.0, 30.0, 40.0, 50.0, 60.0, 70.0, 80.0, 90.0, 100.0], \"y\": [432600.0, 449400.0, 164850.0, 141750.0, 151200.0, 151200.0, 151200.0, 151200.0, 151200.0, 151200.0, 151200.0]}, {\"name\": \"model2, sample2[27,:]\", \"type\": \"scatter\", \"uid\": \"46a7368c-6923-460b-bcf5-4048fd8ec6bf\", \"x\": [0.0, 10.0, 20.0, 30.0, 40.0, 50.0, 60.0, 70.0, 80.0, 90.0, 100.0], \"y\": [438738.46153846156, 438738.46153846156, 406852.17391304346, 406852.17391304346, 406852.17391304346, 406852.17391304346, 406852.17391304346, 406852.17391304346, 406852.17391304346, 406852.17391304346, 406852.17391304346]}, {\"name\": \"sample2[28,:]\", \"type\": \"scatter\", \"uid\": \"cc188e4c-94e2-4659-b89d-3d6c1b3d6348\", \"x\": [0.0, 10.0, 20.0, 30.0, 40.0, 50.0, 60.0, 70.0, 80.0, 90.0, 100.0], \"y\": [432600.0, 449400.0, 164850.0, 141750.0, 151200.0, 151200.0, 151200.0, 151200.0, 151200.0, 151200.0, 151200.0]}, {\"name\": \"model2, sample2[28,:]\", \"type\": \"scatter\", \"uid\": \"ae95f4b0-9df6-4fb1-b92b-49b187d297f2\", \"x\": [0.0, 10.0, 20.0, 30.0, 40.0, 50.0, 60.0, 70.0, 80.0, 90.0, 100.0], \"y\": [438738.46153846156, 438738.46153846156, 406852.17391304346, 406852.17391304346, 406852.17391304346, 406852.17391304346, 406852.17391304346, 406852.17391304346, 406852.17391304346, 406852.17391304346, 406852.17391304346]}, {\"name\": \"sample2[29,:]\", \"type\": \"scatter\", \"uid\": \"aa7d89f9-82f1-4f9b-8507-fbbd2c37bba0\", \"x\": [0.0, 10.0, 20.0, 30.0, 40.0, 50.0, 60.0, 70.0, 80.0, 90.0, 100.0], \"y\": [743400.0, 760200.0, 651000.0, 651000.0, 651000.0, 651000.0, 651000.0, 651000.0, 651000.0, 651000.0, 651000.0]}, {\"name\": \"model2, sample2[29,:]\", \"type\": \"scatter\", \"uid\": \"bdd47139-db1c-4587-9b16-8298ae8903f5\", \"x\": [0.0, 10.0, 20.0, 30.0, 40.0, 50.0, 60.0, 70.0, 80.0, 90.0, 100.0], \"y\": [721035.0, 702530.7692307692, 702530.7692307692, 702530.7692307692, 702530.7692307692, 702530.7692307692, 702530.7692307692, 702530.7692307692, 702530.7692307692, 702530.7692307692, 702530.7692307692]}, {\"name\": \"sample2[38,:]\", \"type\": \"scatter\", \"uid\": \"4540691b-af3f-4d64-bdc9-ff2921880c71\", \"x\": [0.0, 10.0, 20.0, 30.0, 40.0, 50.0, 60.0, 70.0, 80.0, 90.0, 100.0], \"y\": [478800.0, 449400.0, 228900.0, 141750.0, 151200.0, 151200.0, 151200.0, 151200.0, 151200.0, 151200.0, 151200.0]}, {\"name\": \"model2, sample2[38,:]\", \"type\": \"scatter\", \"uid\": \"3d7e74b7-e12d-4444-a603-ee34b5bfc917\", \"x\": [0.0, 10.0, 20.0, 30.0, 40.0, 50.0, 60.0, 70.0, 80.0, 90.0, 100.0], \"y\": [654150.0, 538125.0, 406852.17391304346, 406852.17391304346, 406852.17391304346, 406852.17391304346, 406852.17391304346, 406852.17391304346, 406852.17391304346, 406852.17391304346, 406852.17391304346]}, {\"name\": \"sample2[44,:]\", \"type\": \"scatter\", \"uid\": \"50602414-030a-4506-89ae-e1b67b25c682\", \"x\": [0.0, 10.0, 20.0, 30.0, 40.0, 50.0, 60.0, 70.0, 80.0, 90.0, 100.0], \"y\": [450450.0, 449400.0, 164850.0, 141750.0, 151200.0, 151200.0, 151200.0, 151200.0, 151200.0, 151200.0, 151200.0]}, {\"name\": \"model2, sample2[44,:]\", \"type\": \"scatter\", \"uid\": \"885df286-4c42-45a6-8465-c8f091096828\", \"x\": [0.0, 10.0, 20.0, 30.0, 40.0, 50.0, 60.0, 70.0, 80.0, 90.0, 100.0], \"y\": [498292.3076923077, 537000.0, 406852.17391304346, 406852.17391304346, 406852.17391304346, 406852.17391304346, 406852.17391304346, 406852.17391304346, 406852.17391304346, 406852.17391304346, 406852.17391304346]}, {\"name\": \"sample2[46,:]\", \"type\": \"scatter\", \"uid\": \"f3c46e02-fca4-4397-ad51-3a0a19bfc3d3\", \"x\": [0.0, 10.0, 20.0, 30.0, 40.0, 50.0, 60.0, 70.0, 80.0, 90.0, 100.0], \"y\": [450450.0, 449400.0, 164850.0, 141750.0, 151200.0, 151200.0, 151200.0, 151200.0, 151200.0, 151200.0, 151200.0]}, {\"name\": \"model2, sample2[46,:]\", \"type\": \"scatter\", \"uid\": \"44b5210b-b045-4832-b528-03dbc45f31b5\", \"x\": [0.0, 10.0, 20.0, 30.0, 40.0, 50.0, 60.0, 70.0, 80.0, 90.0, 100.0], \"y\": [498292.3076923077, 537000.0, 406852.17391304346, 406852.17391304346, 406852.17391304346, 406852.17391304346, 406852.17391304346, 406852.17391304346, 406852.17391304346, 406852.17391304346, 406852.17391304346]}, {\"name\": \"sample2[47,:]\", \"type\": \"scatter\", \"uid\": \"6da42f27-b4d5-493a-ab5d-8717e2f7c749\", \"x\": [0.0, 10.0, 20.0, 30.0, 40.0, 50.0, 60.0, 70.0, 80.0, 90.0, 100.0], \"y\": [478800.0, 449400.0, 164850.0, 141750.0, 151200.0, 151200.0, 151200.0, 151200.0, 151200.0, 151200.0, 151200.0]}, {\"name\": \"model2, sample2[47,:]\", \"type\": \"scatter\", \"uid\": \"d69b31e5-59ae-49ba-b583-84ca3ecdbda3\", \"x\": [0.0, 10.0, 20.0, 30.0, 40.0, 50.0, 60.0, 70.0, 80.0, 90.0, 100.0], \"y\": [498292.3076923077, 537000.0, 406852.17391304346, 406852.17391304346, 406852.17391304346, 406852.17391304346, 406852.17391304346, 406852.17391304346, 406852.17391304346, 406852.17391304346, 406852.17391304346]}, {\"name\": \"sample2[49,:]\", \"type\": \"scatter\", \"uid\": \"cf75ede7-bd1a-4923-a923-5c81ded1ac90\", \"x\": [0.0, 10.0, 20.0, 30.0, 40.0, 50.0, 60.0, 70.0, 80.0, 90.0, 100.0], \"y\": [450450.0, 449400.0, 164850.0, 141750.0, 151200.0, 151200.0, 151200.0, 151200.0, 151200.0, 151200.0, 151200.0]}, {\"name\": \"model2, sample2[49,:]\", \"type\": \"scatter\", \"uid\": \"68ab3798-0da8-4bea-8b44-55422bb12314\", \"x\": [0.0, 10.0, 20.0, 30.0, 40.0, 50.0, 60.0, 70.0, 80.0, 90.0, 100.0], \"y\": [498292.3076923077, 537000.0, 406852.17391304346, 406852.17391304346, 406852.17391304346, 406852.17391304346, 406852.17391304346, 406852.17391304346, 406852.17391304346, 406852.17391304346, 406852.17391304346]}, {\"name\": \"sample2[51,:]\", \"type\": \"scatter\", \"uid\": \"784e84d7-58e8-4367-b942-5e300c7cd561\", \"x\": [0.0, 10.0, 20.0, 30.0, 40.0, 50.0, 60.0, 70.0, 80.0, 90.0, 100.0], \"y\": [432600.0, 449400.0, 164850.0, 141750.0, 151200.0, 151200.0, 151200.0, 151200.0, 151200.0, 151200.0, 151200.0]}, {\"name\": \"model2, sample2[51,:]\", \"type\": \"scatter\", \"uid\": \"6699a6ca-b6cf-471c-84ed-92ffb17c4860\", \"x\": [0.0, 10.0, 20.0, 30.0, 40.0, 50.0, 60.0, 70.0, 80.0, 90.0, 100.0], \"y\": [438738.46153846156, 438738.46153846156, 406852.17391304346, 406852.17391304346, 406852.17391304346, 406852.17391304346, 406852.17391304346, 406852.17391304346, 406852.17391304346, 406852.17391304346, 406852.17391304346]}, {\"name\": \"sample2[61,:]\", \"type\": \"scatter\", \"uid\": \"e07916ef-345e-4342-8175-1d4a57236546\", \"x\": [0.0, 10.0, 20.0, 30.0, 40.0, 50.0, 60.0, 70.0, 80.0, 90.0, 100.0], \"y\": [450450.0, 449400.0, 164850.0, 141750.0, 151200.0, 151200.0, 151200.0, 151200.0, 151200.0, 151200.0, 151200.0]}, {\"name\": \"model2, sample2[61,:]\", \"type\": \"scatter\", \"uid\": \"23e75fe2-6806-4877-a7e0-f1286020a4c2\", \"x\": [0.0, 10.0, 20.0, 30.0, 40.0, 50.0, 60.0, 70.0, 80.0, 90.0, 100.0], \"y\": [498292.3076923077, 537000.0, 406852.17391304346, 406852.17391304346, 406852.17391304346, 406852.17391304346, 406852.17391304346, 406852.17391304346, 406852.17391304346, 406852.17391304346, 406852.17391304346]}, {\"name\": \"sample2[73,:]\", \"type\": \"scatter\", \"uid\": \"7413ca57-9b76-4fb9-ae50-2252f6277b18\", \"x\": [0.0, 10.0, 20.0, 30.0, 40.0, 50.0, 60.0, 70.0, 80.0, 90.0, 100.0], \"y\": [432600.0, 449400.0, 164850.0, 141750.0, 151200.0, 151200.0, 151200.0, 151200.0, 151200.0, 151200.0, 151200.0]}, {\"name\": \"model2, sample2[73,:]\", \"type\": \"scatter\", \"uid\": \"90d49f08-d2a7-4b69-87d1-75c630969874\", \"x\": [0.0, 10.0, 20.0, 30.0, 40.0, 50.0, 60.0, 70.0, 80.0, 90.0, 100.0], \"y\": [498292.3076923077, 537000.0, 406852.17391304346, 406852.17391304346, 406852.17391304346, 406852.17391304346, 406852.17391304346, 406852.17391304346, 406852.17391304346, 406852.17391304346, 406852.17391304346]}, {\"name\": \"sample2[75,:]\", \"type\": \"scatter\", \"uid\": \"a7ab38be-fa27-4602-bff9-a13cae130e11\", \"x\": [0.0, 10.0, 20.0, 30.0, 40.0, 50.0, 60.0, 70.0, 80.0, 90.0, 100.0], \"y\": [450450.0, 449400.0, 164850.0, 141750.0, 151200.0, 151200.0, 151200.0, 151200.0, 151200.0, 151200.0, 151200.0]}, {\"name\": \"model2, sample2[75,:]\", \"type\": \"scatter\", \"uid\": \"2ddedbd5-bf00-413c-8082-1f6b0568a96d\", \"x\": [0.0, 10.0, 20.0, 30.0, 40.0, 50.0, 60.0, 70.0, 80.0, 90.0, 100.0], \"y\": [498292.3076923077, 537000.0, 406852.17391304346, 406852.17391304346, 406852.17391304346, 406852.17391304346, 406852.17391304346, 406852.17391304346, 406852.17391304346, 406852.17391304346, 406852.17391304346]}, {\"name\": \"sample2[76,:]\", \"type\": \"scatter\", \"uid\": \"1df99d94-8f2e-4ec6-88ac-fa6ce700185c\", \"x\": [0.0, 10.0, 20.0, 30.0, 40.0, 50.0, 60.0, 70.0, 80.0, 90.0, 100.0], \"y\": [432600.0, 449400.0, 164850.0, 141750.0, 151200.0, 151200.0, 151200.0, 151200.0, 151200.0, 151200.0, 151200.0]}, {\"name\": \"model2, sample2[76,:]\", \"type\": \"scatter\", \"uid\": \"82b72f54-b8de-430e-bf7a-c024178b3008\", \"x\": [0.0, 10.0, 20.0, 30.0, 40.0, 50.0, 60.0, 70.0, 80.0, 90.0, 100.0], \"y\": [438738.46153846156, 438738.46153846156, 406852.17391304346, 406852.17391304346, 406852.17391304346, 406852.17391304346, 406852.17391304346, 406852.17391304346, 406852.17391304346, 406852.17391304346, 406852.17391304346]}, {\"name\": \"sample2[81,:]\", \"type\": \"scatter\", \"uid\": \"97a63ec1-3410-49e7-ab1d-be66cdf7de38\", \"x\": [0.0, 10.0, 20.0, 30.0, 40.0, 50.0, 60.0, 70.0, 80.0, 90.0, 100.0], \"y\": [432600.0, 449400.0, 164850.0, 141750.0, 151200.0, 151200.0, 151200.0, 151200.0, 151200.0, 151200.0, 151200.0]}, {\"name\": \"model2, sample2[81,:]\", \"type\": \"scatter\", \"uid\": \"ab72e0cb-cffe-4d54-8e5c-18099be3e700\", \"x\": [0.0, 10.0, 20.0, 30.0, 40.0, 50.0, 60.0, 70.0, 80.0, 90.0, 100.0], \"y\": [438738.46153846156, 438738.46153846156, 406852.17391304346, 406852.17391304346, 406852.17391304346, 406852.17391304346, 406852.17391304346, 406852.17391304346, 406852.17391304346, 406852.17391304346, 406852.17391304346]}, {\"name\": \"sample2[82,:]\", \"type\": \"scatter\", \"uid\": \"57aa2484-1b54-4ace-bfd6-975fe649ee4e\", \"x\": [0.0, 10.0, 20.0, 30.0, 40.0, 50.0, 60.0, 70.0, 80.0, 90.0, 100.0], \"y\": [432600.0, 449400.0, 164850.0, 141750.0, 151200.0, 151200.0, 151200.0, 151200.0, 151200.0, 151200.0, 151200.0]}, {\"name\": \"model2, sample2[82,:]\", \"type\": \"scatter\", \"uid\": \"a740a424-a914-40bd-b3b1-195ef2b2f692\", \"x\": [0.0, 10.0, 20.0, 30.0, 40.0, 50.0, 60.0, 70.0, 80.0, 90.0, 100.0], \"y\": [498292.3076923077, 537000.0, 406852.17391304346, 406852.17391304346, 406852.17391304346, 406852.17391304346, 406852.17391304346, 406852.17391304346, 406852.17391304346, 406852.17391304346, 406852.17391304346]}, {\"name\": \"sample2[83,:]\", \"type\": \"scatter\", \"uid\": \"a38d0e41-354b-4ec6-8043-993160f5e3e8\", \"x\": [0.0, 10.0, 20.0, 30.0, 40.0, 50.0, 60.0, 70.0, 80.0, 90.0, 100.0], \"y\": [450450.0, 449400.0, 164850.0, 141750.0, 151200.0, 151200.0, 151200.0, 151200.0, 151200.0, 151200.0, 151200.0]}, {\"name\": \"model2, sample2[83,:]\", \"type\": \"scatter\", \"uid\": \"e0ad1219-4561-41fd-b638-fc540d5b1d97\", \"x\": [0.0, 10.0, 20.0, 30.0, 40.0, 50.0, 60.0, 70.0, 80.0, 90.0, 100.0], \"y\": [498292.3076923077, 537000.0, 406852.17391304346, 406852.17391304346, 406852.17391304346, 406852.17391304346, 406852.17391304346, 406852.17391304346, 406852.17391304346, 406852.17391304346, 406852.17391304346]}, {\"name\": \"sample2[91,:]\", \"type\": \"scatter\", \"uid\": \"889233db-24f0-465b-a34f-7f07756a0ed3\", \"x\": [0.0, 10.0, 20.0, 30.0, 40.0, 50.0, 60.0, 70.0, 80.0, 90.0, 100.0], \"y\": [577500.0, 577500.0, 577500.0, 577500.0, 577500.0, 577500.0, 577500.0, 577500.0, 577500.0, 577500.0, 577500.0]}, {\"name\": \"model2, sample2[91,:]\", \"type\": \"scatter\", \"uid\": \"4a558c9a-3b44-4374-9bb3-f2970660960e\", \"x\": [0.0, 10.0, 20.0, 30.0, 40.0, 50.0, 60.0, 70.0, 80.0, 90.0, 100.0], \"y\": [647607.6923076923, 572950.0, 462000.0, 462000.0, 462000.0, 462000.0, 462000.0, 462000.0, 462000.0, 462000.0, 462000.0]}, {\"name\": \"sample2[100,:]\", \"type\": \"scatter\", \"uid\": \"d8298a8b-dcb3-413f-b24d-57c86df29c9f\", \"x\": [0.0, 10.0, 20.0, 30.0, 40.0, 50.0, 60.0, 70.0, 80.0, 90.0, 100.0], \"y\": [432600.0, 449400.0, 164850.0, 141750.0, 151200.0, 151200.0, 151200.0, 151200.0, 151200.0, 151200.0, 151200.0]}, {\"name\": \"model2, sample2[100,:]\", \"type\": \"scatter\", \"uid\": \"0f33d0f3-258a-4882-9d49-46ce3516cb7e\", \"x\": [0.0, 10.0, 20.0, 30.0, 40.0, 50.0, 60.0, 70.0, 80.0, 90.0, 100.0], \"y\": [438738.46153846156, 438738.46153846156, 406852.17391304346, 406852.17391304346, 406852.17391304346, 406852.17391304346, 406852.17391304346, 406852.17391304346, 406852.17391304346, 406852.17391304346, 406852.17391304346]}, {\"name\": \"sample2[101,:]\", \"type\": \"scatter\", \"uid\": \"49c2e293-4e3f-411d-9e3b-edd574ac41a9\", \"x\": [0.0, 10.0, 20.0, 30.0, 40.0, 50.0, 60.0, 70.0, 80.0, 90.0, 100.0], \"y\": [577500.0, 577500.0, 577500.0, 577500.0, 577500.0, 577500.0, 577500.0, 577500.0, 577500.0, 577500.0, 577500.0]}, {\"name\": \"model2, sample2[101,:]\", \"type\": \"scatter\", \"uid\": \"213dc96d-83ae-4e73-8e63-781f8cfe9002\", \"x\": [0.0, 10.0, 20.0, 30.0, 40.0, 50.0, 60.0, 70.0, 80.0, 90.0, 100.0], \"y\": [647607.6923076923, 572950.0, 462000.0, 462000.0, 462000.0, 462000.0, 462000.0, 462000.0, 462000.0, 462000.0, 462000.0]}, {\"name\": \"sample2[103,:]\", \"type\": \"scatter\", \"uid\": \"19cb01b4-5c10-4d15-9712-8d34db8fad4f\", \"x\": [0.0, 10.0, 20.0, 30.0, 40.0, 50.0, 60.0, 70.0, 80.0, 90.0, 100.0], \"y\": [432600.0, 449400.0, 164850.0, 141750.0, 151200.0, 151200.0, 151200.0, 151200.0, 151200.0, 151200.0, 151200.0]}, {\"name\": \"model2, sample2[103,:]\", \"type\": \"scatter\", \"uid\": \"de0f9b31-9876-4247-9f0f-187749f11e81\", \"x\": [0.0, 10.0, 20.0, 30.0, 40.0, 50.0, 60.0, 70.0, 80.0, 90.0, 100.0], \"y\": [498292.3076923077, 537000.0, 406852.17391304346, 406852.17391304346, 406852.17391304346, 406852.17391304346, 406852.17391304346, 406852.17391304346, 406852.17391304346, 406852.17391304346, 406852.17391304346]}, {\"name\": \"sample2[105,:]\", \"type\": \"scatter\", \"uid\": \"0f830058-41bc-4159-92f2-69689ba463cf\", \"x\": [0.0, 10.0, 20.0, 30.0, 40.0, 50.0, 60.0, 70.0, 80.0, 90.0, 100.0], \"y\": [478800.0, 449400.0, 164850.0, 141750.0, 151200.0, 151200.0, 151200.0, 151200.0, 151200.0, 151200.0, 151200.0]}, {\"name\": \"model2, sample2[105,:]\", \"type\": \"scatter\", \"uid\": \"406b0cfa-59d6-4261-bfa4-8b80b6913dc6\", \"x\": [0.0, 10.0, 20.0, 30.0, 40.0, 50.0, 60.0, 70.0, 80.0, 90.0, 100.0], \"y\": [498292.3076923077, 537000.0, 406852.17391304346, 406852.17391304346, 406852.17391304346, 406852.17391304346, 406852.17391304346, 406852.17391304346, 406852.17391304346, 406852.17391304346, 406852.17391304346]}, {\"name\": \"sample2[107,:]\", \"type\": \"scatter\", \"uid\": \"4954be24-f685-4cc4-ab61-152f1db06547\", \"x\": [0.0, 10.0, 20.0, 30.0, 40.0, 50.0, 60.0, 70.0, 80.0, 90.0, 100.0], \"y\": [432600.0, 449400.0, 164850.0, 141750.0, 151200.0, 151200.0, 151200.0, 151200.0, 151200.0, 151200.0, 151200.0]}, {\"name\": \"model2, sample2[107,:]\", \"type\": \"scatter\", \"uid\": \"73ecf153-fa88-4e5d-a49c-0b54f78cc8f6\", \"x\": [0.0, 10.0, 20.0, 30.0, 40.0, 50.0, 60.0, 70.0, 80.0, 90.0, 100.0], \"y\": [438738.46153846156, 438738.46153846156, 406852.17391304346, 406852.17391304346, 406852.17391304346, 406852.17391304346, 406852.17391304346, 406852.17391304346, 406852.17391304346, 406852.17391304346, 406852.17391304346]}, {\"name\": \"sample2[108,:]\", \"type\": \"scatter\", \"uid\": \"6b32cf7d-9b3d-4523-91e8-5ab92b0b9c46\", \"x\": [0.0, 10.0, 20.0, 30.0, 40.0, 50.0, 60.0, 70.0, 80.0, 90.0, 100.0], \"y\": [432600.0, 449400.0, 164850.0, 141750.0, 151200.0, 151200.0, 151200.0, 151200.0, 151200.0, 151200.0, 151200.0]}, {\"name\": \"model2, sample2[108,:]\", \"type\": \"scatter\", \"uid\": \"cac3fd75-c3b1-4f97-a612-8f12811b8b07\", \"x\": [0.0, 10.0, 20.0, 30.0, 40.0, 50.0, 60.0, 70.0, 80.0, 90.0, 100.0], \"y\": [438738.46153846156, 438738.46153846156, 406852.17391304346, 406852.17391304346, 406852.17391304346, 406852.17391304346, 406852.17391304346, 406852.17391304346, 406852.17391304346, 406852.17391304346, 406852.17391304346]}, {\"name\": \"sample2[109,:]\", \"type\": \"scatter\", \"uid\": \"12064466-d8cf-4bcd-b37a-ef4b94f8ca4a\", \"x\": [0.0, 10.0, 20.0, 30.0, 40.0, 50.0, 60.0, 70.0, 80.0, 90.0, 100.0], \"y\": [450450.0, 449400.0, 164850.0, 141750.0, 151200.0, 151200.0, 151200.0, 151200.0, 151200.0, 151200.0, 151200.0]}, {\"name\": \"model2, sample2[109,:]\", \"type\": \"scatter\", \"uid\": \"82b358eb-0982-478f-885c-0ddbf6659357\", \"x\": [0.0, 10.0, 20.0, 30.0, 40.0, 50.0, 60.0, 70.0, 80.0, 90.0, 100.0], \"y\": [498292.3076923077, 537000.0, 406852.17391304346, 406852.17391304346, 406852.17391304346, 406852.17391304346, 406852.17391304346, 406852.17391304346, 406852.17391304346, 406852.17391304346, 406852.17391304346]}, {\"name\": \"sample2[110,:]\", \"type\": \"scatter\", \"uid\": \"7a1342b0-83d7-438e-aebb-5023fd836bbe\", \"x\": [0.0, 10.0, 20.0, 30.0, 40.0, 50.0, 60.0, 70.0, 80.0, 90.0, 100.0], \"y\": [450450.0, 449400.0, 164850.0, 141750.0, 151200.0, 151200.0, 151200.0, 151200.0, 151200.0, 151200.0, 151200.0]}, {\"name\": \"model2, sample2[110,:]\", \"type\": \"scatter\", \"uid\": \"e70faee2-1a83-40ae-a26c-43fed667664f\", \"x\": [0.0, 10.0, 20.0, 30.0, 40.0, 50.0, 60.0, 70.0, 80.0, 90.0, 100.0], \"y\": [498292.3076923077, 537000.0, 406852.17391304346, 406852.17391304346, 406852.17391304346, 406852.17391304346, 406852.17391304346, 406852.17391304346, 406852.17391304346, 406852.17391304346, 406852.17391304346]}, {\"name\": \"sample2[112,:]\", \"type\": \"scatter\", \"uid\": \"b37dced0-1e80-4445-bb4d-92a457da1885\", \"x\": [0.0, 10.0, 20.0, 30.0, 40.0, 50.0, 60.0, 70.0, 80.0, 90.0, 100.0], \"y\": [450450.0, 449400.0, 164850.0, 141750.0, 151200.0, 151200.0, 151200.0, 151200.0, 151200.0, 151200.0, 151200.0]}, {\"name\": \"model2, sample2[112,:]\", \"type\": \"scatter\", \"uid\": \"c3ac1b65-21c0-4aef-8d2a-0f7268c642b1\", \"x\": [0.0, 10.0, 20.0, 30.0, 40.0, 50.0, 60.0, 70.0, 80.0, 90.0, 100.0], \"y\": [498292.3076923077, 537000.0, 406852.17391304346, 406852.17391304346, 406852.17391304346, 406852.17391304346, 406852.17391304346, 406852.17391304346, 406852.17391304346, 406852.17391304346, 406852.17391304346]}, {\"name\": \"sample2[113,:]\", \"type\": \"scatter\", \"uid\": \"1d595d1e-1d0b-4a9c-a316-da57c5fa9aab\", \"x\": [0.0, 10.0, 20.0, 30.0, 40.0, 50.0, 60.0, 70.0, 80.0, 90.0, 100.0], \"y\": [577500.0, 577500.0, 577500.0, 577500.0, 577500.0, 577500.0, 577500.0, 577500.0, 577500.0, 577500.0, 577500.0]}, {\"name\": \"model2, sample2[113,:]\", \"type\": \"scatter\", \"uid\": \"8134f8f8-3d89-4823-bfb0-44f4263644a9\", \"x\": [0.0, 10.0, 20.0, 30.0, 40.0, 50.0, 60.0, 70.0, 80.0, 90.0, 100.0], \"y\": [647607.6923076923, 572950.0, 462000.0, 462000.0, 462000.0, 462000.0, 462000.0, 462000.0, 462000.0, 462000.0, 462000.0]}, {\"name\": \"sample2[116,:]\", \"type\": \"scatter\", \"uid\": \"01a13223-f9da-4914-a0fd-5bddc91b8252\", \"x\": [0.0, 10.0, 20.0, 30.0, 40.0, 50.0, 60.0, 70.0, 80.0, 90.0, 100.0], \"y\": [450450.0, 449400.0, 164850.0, 141750.0, 151200.0, 151200.0, 151200.0, 151200.0, 151200.0, 151200.0, 151200.0]}, {\"name\": \"model2, sample2[116,:]\", \"type\": \"scatter\", \"uid\": \"7fb96120-6d25-401d-94a4-0f40b3958dc3\", \"x\": [0.0, 10.0, 20.0, 30.0, 40.0, 50.0, 60.0, 70.0, 80.0, 90.0, 100.0], \"y\": [498292.3076923077, 537000.0, 406852.17391304346, 406852.17391304346, 406852.17391304346, 406852.17391304346, 406852.17391304346, 406852.17391304346, 406852.17391304346, 406852.17391304346, 406852.17391304346]}, {\"name\": \"sample2[119,:]\", \"type\": \"scatter\", \"uid\": \"9aa95e87-20c5-466d-9996-7205c2b399f9\", \"x\": [0.0, 10.0, 20.0, 30.0, 40.0, 50.0, 60.0, 70.0, 80.0, 90.0, 100.0], \"y\": [450450.0, 449400.0, 164850.0, 141750.0, 151200.0, 151200.0, 151200.0, 151200.0, 151200.0, 151200.0, 151200.0]}, {\"name\": \"model2, sample2[119,:]\", \"type\": \"scatter\", \"uid\": \"8fdd5a68-fe8d-4b01-8e78-59b2e670d50b\", \"x\": [0.0, 10.0, 20.0, 30.0, 40.0, 50.0, 60.0, 70.0, 80.0, 90.0, 100.0], \"y\": [498292.3076923077, 537000.0, 406852.17391304346, 406852.17391304346, 406852.17391304346, 406852.17391304346, 406852.17391304346, 406852.17391304346, 406852.17391304346, 406852.17391304346, 406852.17391304346]}, {\"name\": \"sample2[120,:]\", \"type\": \"scatter\", \"uid\": \"e6e49b0e-b634-48b5-8416-ca5bbd5e7d81\", \"x\": [0.0, 10.0, 20.0, 30.0, 40.0, 50.0, 60.0, 70.0, 80.0, 90.0, 100.0], \"y\": [432600.0, 449400.0, 164850.0, 141750.0, 151200.0, 151200.0, 151200.0, 151200.0, 151200.0, 151200.0, 151200.0]}, {\"name\": \"model2, sample2[120,:]\", \"type\": \"scatter\", \"uid\": \"c2d8ac9c-13a6-4dbe-82b7-34bff08c773b\", \"x\": [0.0, 10.0, 20.0, 30.0, 40.0, 50.0, 60.0, 70.0, 80.0, 90.0, 100.0], \"y\": [438738.46153846156, 438738.46153846156, 406852.17391304346, 406852.17391304346, 406852.17391304346, 406852.17391304346, 406852.17391304346, 406852.17391304346, 406852.17391304346, 406852.17391304346, 406852.17391304346]}, {\"name\": \"sample2[122,:]\", \"type\": \"scatter\", \"uid\": \"5d3c3dd3-4447-4740-9853-e124209706ce\", \"x\": [0.0, 10.0, 20.0, 30.0, 40.0, 50.0, 60.0, 70.0, 80.0, 90.0, 100.0], \"y\": [432600.0, 449400.0, 164850.0, 141750.0, 151200.0, 151200.0, 151200.0, 151200.0, 151200.0, 151200.0, 151200.0]}, {\"name\": \"model2, sample2[122,:]\", \"type\": \"scatter\", \"uid\": \"f6da2e25-244b-4b85-8718-8c20eca5d13d\", \"x\": [0.0, 10.0, 20.0, 30.0, 40.0, 50.0, 60.0, 70.0, 80.0, 90.0, 100.0], \"y\": [438738.46153846156, 438738.46153846156, 406852.17391304346, 406852.17391304346, 406852.17391304346, 406852.17391304346, 406852.17391304346, 406852.17391304346, 406852.17391304346, 406852.17391304346, 406852.17391304346]}, {\"name\": \"sample2[124,:]\", \"type\": \"scatter\", \"uid\": \"f4dcc2aa-160a-4c60-a261-5ba92fecf279\", \"x\": [0.0, 10.0, 20.0, 30.0, 40.0, 50.0, 60.0, 70.0, 80.0, 90.0, 100.0], \"y\": [450450.0, 449400.0, 164850.0, 141750.0, 151200.0, 151200.0, 151200.0, 151200.0, 151200.0, 151200.0, 151200.0]}, {\"name\": \"model2, sample2[124,:]\", \"type\": \"scatter\", \"uid\": \"2395f915-07c9-4cca-a570-ca6147ef141f\", \"x\": [0.0, 10.0, 20.0, 30.0, 40.0, 50.0, 60.0, 70.0, 80.0, 90.0, 100.0], \"y\": [498292.3076923077, 537000.0, 406852.17391304346, 406852.17391304346, 406852.17391304346, 406852.17391304346, 406852.17391304346, 406852.17391304346, 406852.17391304346, 406852.17391304346, 406852.17391304346]}, {\"name\": \"sample2[125,:]\", \"type\": \"scatter\", \"uid\": \"bbd51113-e8c8-42af-9264-02b02de668ef\", \"x\": [0.0, 10.0, 20.0, 30.0, 40.0, 50.0, 60.0, 70.0, 80.0, 90.0, 100.0], \"y\": [450450.0, 449400.0, 228900.0, 141750.0, 151200.0, 151200.0, 151200.0, 151200.0, 151200.0, 151200.0, 151200.0]}, {\"name\": \"model2, sample2[125,:]\", \"type\": \"scatter\", \"uid\": \"dada79c0-bc1d-4677-90f8-5aad7bcece19\", \"x\": [0.0, 10.0, 20.0, 30.0, 40.0, 50.0, 60.0, 70.0, 80.0, 90.0, 100.0], \"y\": [654150.0, 538125.0, 406852.17391304346, 406852.17391304346, 406852.17391304346, 406852.17391304346, 406852.17391304346, 406852.17391304346, 406852.17391304346, 406852.17391304346, 406852.17391304346]}, {\"name\": \"sample2[126,:]\", \"type\": \"scatter\", \"uid\": \"4298530a-c7f4-40d3-a58f-aa8a742a7dff\", \"x\": [0.0, 10.0, 20.0, 30.0, 40.0, 50.0, 60.0, 70.0, 80.0, 90.0, 100.0], \"y\": [432600.0, 449400.0, 164850.0, 141750.0, 151200.0, 151200.0, 151200.0, 151200.0, 151200.0, 151200.0, 151200.0]}, {\"name\": \"model2, sample2[126,:]\", \"type\": \"scatter\", \"uid\": \"942d2341-d674-41bc-af86-7fdddda70694\", \"x\": [0.0, 10.0, 20.0, 30.0, 40.0, 50.0, 60.0, 70.0, 80.0, 90.0, 100.0], \"y\": [438738.46153846156, 438738.46153846156, 406852.17391304346, 406852.17391304346, 406852.17391304346, 406852.17391304346, 406852.17391304346, 406852.17391304346, 406852.17391304346, 406852.17391304346, 406852.17391304346]}, {\"name\": \"sample2[128,:]\", \"type\": \"scatter\", \"uid\": \"fb992418-499a-4871-84bb-c2025e1d7522\", \"x\": [0.0, 10.0, 20.0, 30.0, 40.0, 50.0, 60.0, 70.0, 80.0, 90.0, 100.0], \"y\": [450450.0, 449400.0, 164850.0, 141750.0, 151200.0, 151200.0, 151200.0, 151200.0, 151200.0, 151200.0, 151200.0]}, {\"name\": \"model2, sample2[128,:]\", \"type\": \"scatter\", \"uid\": \"05cec10e-17ac-4ed2-8067-3f979ab3a27a\", \"x\": [0.0, 10.0, 20.0, 30.0, 40.0, 50.0, 60.0, 70.0, 80.0, 90.0, 100.0], \"y\": [498292.3076923077, 537000.0, 406852.17391304346, 406852.17391304346, 406852.17391304346, 406852.17391304346, 406852.17391304346, 406852.17391304346, 406852.17391304346, 406852.17391304346, 406852.17391304346]}, {\"name\": \"sample2[129,:]\", \"type\": \"scatter\", \"uid\": \"05c3d010-63f7-44b3-98b9-74522b7ab71a\", \"x\": [0.0, 10.0, 20.0, 30.0, 40.0, 50.0, 60.0, 70.0, 80.0, 90.0, 100.0], \"y\": [450450.0, 449400.0, 164850.0, 141750.0, 151200.0, 151200.0, 151200.0, 151200.0, 151200.0, 151200.0, 151200.0]}, {\"name\": \"model2, sample2[129,:]\", \"type\": \"scatter\", \"uid\": \"da1bfa9e-e72c-4f03-a9c8-6ec28e57693c\", \"x\": [0.0, 10.0, 20.0, 30.0, 40.0, 50.0, 60.0, 70.0, 80.0, 90.0, 100.0], \"y\": [498292.3076923077, 537000.0, 406852.17391304346, 406852.17391304346, 406852.17391304346, 406852.17391304346, 406852.17391304346, 406852.17391304346, 406852.17391304346, 406852.17391304346, 406852.17391304346]}, {\"name\": \"sample2[130,:]\", \"type\": \"scatter\", \"uid\": \"037c8a0b-920d-4c26-96be-5763ccfceac1\", \"x\": [0.0, 10.0, 20.0, 30.0, 40.0, 50.0, 60.0, 70.0, 80.0, 90.0, 100.0], \"y\": [450450.0, 449400.0, 164850.0, 141750.0, 151200.0, 151200.0, 151200.0, 151200.0, 151200.0, 151200.0, 151200.0]}, {\"name\": \"model2, sample2[130,:]\", \"type\": \"scatter\", \"uid\": \"44a90d46-d92e-4d41-a190-0c94647a6b01\", \"x\": [0.0, 10.0, 20.0, 30.0, 40.0, 50.0, 60.0, 70.0, 80.0, 90.0, 100.0], \"y\": [498292.3076923077, 537000.0, 406852.17391304346, 406852.17391304346, 406852.17391304346, 406852.17391304346, 406852.17391304346, 406852.17391304346, 406852.17391304346, 406852.17391304346, 406852.17391304346]}, {\"name\": \"sample2[134,:]\", \"type\": \"scatter\", \"uid\": \"22839737-16ac-4a49-8795-8bd09c54184f\", \"x\": [0.0, 10.0, 20.0, 30.0, 40.0, 50.0, 60.0, 70.0, 80.0, 90.0, 100.0], \"y\": [450450.0, 449400.0, 164850.0, 141750.0, 151200.0, 151200.0, 151200.0, 151200.0, 151200.0, 151200.0, 151200.0]}, {\"name\": \"model2, sample2[134,:]\", \"type\": \"scatter\", \"uid\": \"20e3731f-0bd2-4786-b94a-46bb8c635cee\", \"x\": [0.0, 10.0, 20.0, 30.0, 40.0, 50.0, 60.0, 70.0, 80.0, 90.0, 100.0], \"y\": [498292.3076923077, 537000.0, 406852.17391304346, 406852.17391304346, 406852.17391304346, 406852.17391304346, 406852.17391304346, 406852.17391304346, 406852.17391304346, 406852.17391304346, 406852.17391304346]}, {\"name\": \"sample2[137,:]\", \"type\": \"scatter\", \"uid\": \"86713a45-3207-49d8-b7d3-ea6c8a8e3593\", \"x\": [0.0, 10.0, 20.0, 30.0, 40.0, 50.0, 60.0, 70.0, 80.0, 90.0, 100.0], \"y\": [450450.0, 449400.0, 228900.0, 141750.0, 151200.0, 151200.0, 151200.0, 151200.0, 151200.0, 151200.0, 151200.0]}, {\"name\": \"model2, sample2[137,:]\", \"type\": \"scatter\", \"uid\": \"6116024f-56a0-49dd-b126-7f1c23dff417\", \"x\": [0.0, 10.0, 20.0, 30.0, 40.0, 50.0, 60.0, 70.0, 80.0, 90.0, 100.0], \"y\": [654150.0, 538125.0, 406852.17391304346, 406852.17391304346, 406852.17391304346, 406852.17391304346, 406852.17391304346, 406852.17391304346, 406852.17391304346, 406852.17391304346, 406852.17391304346]}, {\"name\": \"sample2[138,:]\", \"type\": \"scatter\", \"uid\": \"24db591c-0aea-4cce-8207-1b85477c53e6\", \"x\": [0.0, 10.0, 20.0, 30.0, 40.0, 50.0, 60.0, 70.0, 80.0, 90.0, 100.0], \"y\": [432600.0, 449400.0, 164850.0, 141750.0, 151200.0, 151200.0, 151200.0, 151200.0, 151200.0, 151200.0, 151200.0]}, {\"name\": \"model2, sample2[138,:]\", \"type\": \"scatter\", \"uid\": \"766e7eb9-8492-4d76-8096-cd417f036915\", \"x\": [0.0, 10.0, 20.0, 30.0, 40.0, 50.0, 60.0, 70.0, 80.0, 90.0, 100.0], \"y\": [438738.46153846156, 438738.46153846156, 406852.17391304346, 406852.17391304346, 406852.17391304346, 406852.17391304346, 406852.17391304346, 406852.17391304346, 406852.17391304346, 406852.17391304346, 406852.17391304346]}, {\"name\": \"sample2[139,:]\", \"type\": \"scatter\", \"uid\": \"db4c271f-7071-4109-83cd-83794f7890ab\", \"x\": [0.0, 10.0, 20.0, 30.0, 40.0, 50.0, 60.0, 70.0, 80.0, 90.0, 100.0], \"y\": [432600.0, 449400.0, 164850.0, 141750.0, 151200.0, 151200.0, 151200.0, 151200.0, 151200.0, 151200.0, 151200.0]}, {\"name\": \"model2, sample2[139,:]\", \"type\": \"scatter\", \"uid\": \"8f3739aa-7f7d-4f18-842e-378e8224f477\", \"x\": [0.0, 10.0, 20.0, 30.0, 40.0, 50.0, 60.0, 70.0, 80.0, 90.0, 100.0], \"y\": [438738.46153846156, 438738.46153846156, 406852.17391304346, 406852.17391304346, 406852.17391304346, 406852.17391304346, 406852.17391304346, 406852.17391304346, 406852.17391304346, 406852.17391304346, 406852.17391304346]}, {\"name\": \"sample2[140,:]\", \"type\": \"scatter\", \"uid\": \"5270bfe9-b8f1-43fd-a27d-b436410710d2\", \"x\": [0.0, 10.0, 20.0, 30.0, 40.0, 50.0, 60.0, 70.0, 80.0, 90.0, 100.0], \"y\": [450450.0, 449400.0, 164850.0, 141750.0, 151200.0, 151200.0, 151200.0, 151200.0, 151200.0, 151200.0, 151200.0]}, {\"name\": \"model2, sample2[140,:]\", \"type\": \"scatter\", \"uid\": \"6574517d-8418-4d10-bbcf-118021e44104\", \"x\": [0.0, 10.0, 20.0, 30.0, 40.0, 50.0, 60.0, 70.0, 80.0, 90.0, 100.0], \"y\": [498292.3076923077, 537000.0, 406852.17391304346, 406852.17391304346, 406852.17391304346, 406852.17391304346, 406852.17391304346, 406852.17391304346, 406852.17391304346, 406852.17391304346, 406852.17391304346]}, {\"name\": \"sample2[141,:]\", \"type\": \"scatter\", \"uid\": \"ffa35971-a270-4e70-a2c3-a33bb5595834\", \"x\": [0.0, 10.0, 20.0, 30.0, 40.0, 50.0, 60.0, 70.0, 80.0, 90.0, 100.0], \"y\": [478800.0, 449400.0, 164850.0, 141750.0, 151200.0, 151200.0, 151200.0, 151200.0, 151200.0, 151200.0, 151200.0]}, {\"name\": \"model2, sample2[141,:]\", \"type\": \"scatter\", \"uid\": \"dd594db6-5c32-44e8-873f-394bf0c7468b\", \"x\": [0.0, 10.0, 20.0, 30.0, 40.0, 50.0, 60.0, 70.0, 80.0, 90.0, 100.0], \"y\": [498292.3076923077, 537000.0, 406852.17391304346, 406852.17391304346, 406852.17391304346, 406852.17391304346, 406852.17391304346, 406852.17391304346, 406852.17391304346, 406852.17391304346, 406852.17391304346]}, {\"name\": \"sample2[144,:]\", \"type\": \"scatter\", \"uid\": \"73fef9da-f683-47e3-9a57-e9989581ffff\", \"x\": [0.0, 10.0, 20.0, 30.0, 40.0, 50.0, 60.0, 70.0, 80.0, 90.0, 100.0], \"y\": [450450.0, 449400.0, 164850.0, 141750.0, 151200.0, 151200.0, 151200.0, 151200.0, 151200.0, 151200.0, 151200.0]}, {\"name\": \"model2, sample2[144,:]\", \"type\": \"scatter\", \"uid\": \"7bd59cb1-e6a5-432a-aa8e-2163967f5232\", \"x\": [0.0, 10.0, 20.0, 30.0, 40.0, 50.0, 60.0, 70.0, 80.0, 90.0, 100.0], \"y\": [498292.3076923077, 537000.0, 406852.17391304346, 406852.17391304346, 406852.17391304346, 406852.17391304346, 406852.17391304346, 406852.17391304346, 406852.17391304346, 406852.17391304346, 406852.17391304346]}, {\"name\": \"sample2[145,:]\", \"type\": \"scatter\", \"uid\": \"d8266615-b6b2-4188-8967-0bbf8875805d\", \"x\": [0.0, 10.0, 20.0, 30.0, 40.0, 50.0, 60.0, 70.0, 80.0, 90.0, 100.0], \"y\": [450450.0, 449400.0, 228900.0, 141750.0, 151200.0, 151200.0, 151200.0, 151200.0, 151200.0, 151200.0, 151200.0]}, {\"name\": \"model2, sample2[145,:]\", \"type\": \"scatter\", \"uid\": \"af258072-7eea-4c7a-a5fd-eab25266fb14\", \"x\": [0.0, 10.0, 20.0, 30.0, 40.0, 50.0, 60.0, 70.0, 80.0, 90.0, 100.0], \"y\": [654150.0, 538125.0, 406852.17391304346, 406852.17391304346, 406852.17391304346, 406852.17391304346, 406852.17391304346, 406852.17391304346, 406852.17391304346, 406852.17391304346, 406852.17391304346]}, {\"name\": \"sample2[146,:]\", \"type\": \"scatter\", \"uid\": \"716afc98-74d5-4fe7-8627-f91f1188a7a9\", \"x\": [0.0, 10.0, 20.0, 30.0, 40.0, 50.0, 60.0, 70.0, 80.0, 90.0, 100.0], \"y\": [450450.0, 449400.0, 164850.0, 141750.0, 151200.0, 151200.0, 151200.0, 151200.0, 151200.0, 151200.0, 151200.0]}, {\"name\": \"model2, sample2[146,:]\", \"type\": \"scatter\", \"uid\": \"635f35b7-cd40-4ad0-872e-7205e46b329c\", \"x\": [0.0, 10.0, 20.0, 30.0, 40.0, 50.0, 60.0, 70.0, 80.0, 90.0, 100.0], \"y\": [498292.3076923077, 537000.0, 406852.17391304346, 406852.17391304346, 406852.17391304346, 406852.17391304346, 406852.17391304346, 406852.17391304346, 406852.17391304346, 406852.17391304346, 406852.17391304346]}, {\"name\": \"sample2[148,:]\", \"type\": \"scatter\", \"uid\": \"047364c5-338d-47ed-bf1c-f1d1dfe049db\", \"x\": [0.0, 10.0, 20.0, 30.0, 40.0, 50.0, 60.0, 70.0, 80.0, 90.0, 100.0], \"y\": [432600.0, 449400.0, 164850.0, 141750.0, 151200.0, 151200.0, 151200.0, 151200.0, 151200.0, 151200.0, 151200.0]}, {\"name\": \"model2, sample2[148,:]\", \"type\": \"scatter\", \"uid\": \"e3f4f55b-28c9-4a68-b693-a4d78ab65ecd\", \"x\": [0.0, 10.0, 20.0, 30.0, 40.0, 50.0, 60.0, 70.0, 80.0, 90.0, 100.0], \"y\": [438738.46153846156, 438738.46153846156, 406852.17391304346, 406852.17391304346, 406852.17391304346, 406852.17391304346, 406852.17391304346, 406852.17391304346, 406852.17391304346, 406852.17391304346, 406852.17391304346]}, {\"name\": \"sample2[149,:]\", \"type\": \"scatter\", \"uid\": \"203a42ee-8424-4138-81de-ceee23c4f292\", \"x\": [0.0, 10.0, 20.0, 30.0, 40.0, 50.0, 60.0, 70.0, 80.0, 90.0, 100.0], \"y\": [432600.0, 449400.0, 164850.0, 141750.0, 151200.0, 151200.0, 151200.0, 151200.0, 151200.0, 151200.0, 151200.0]}, {\"name\": \"model2, sample2[149,:]\", \"type\": \"scatter\", \"uid\": \"990da248-cd4a-4ff5-88c6-8d6b887b2137\", \"x\": [0.0, 10.0, 20.0, 30.0, 40.0, 50.0, 60.0, 70.0, 80.0, 90.0, 100.0], \"y\": [498292.3076923077, 537000.0, 406852.17391304346, 406852.17391304346, 406852.17391304346, 406852.17391304346, 406852.17391304346, 406852.17391304346, 406852.17391304346, 406852.17391304346, 406852.17391304346]}, {\"name\": \"sample2[150,:]\", \"type\": \"scatter\", \"uid\": \"2fc2bcf5-1f04-419d-b977-dacc99b4b9fc\", \"x\": [0.0, 10.0, 20.0, 30.0, 40.0, 50.0, 60.0, 70.0, 80.0, 90.0, 100.0], \"y\": [432600.0, 449400.0, 164850.0, 141750.0, 151200.0, 151200.0, 151200.0, 151200.0, 151200.0, 151200.0, 151200.0]}, {\"name\": \"model2, sample2[150,:]\", \"type\": \"scatter\", \"uid\": \"b1ff6e91-d98b-439e-9b24-a17bb1e778c7\", \"x\": [0.0, 10.0, 20.0, 30.0, 40.0, 50.0, 60.0, 70.0, 80.0, 90.0, 100.0], \"y\": [438738.46153846156, 438738.46153846156, 406852.17391304346, 406852.17391304346, 406852.17391304346, 406852.17391304346, 406852.17391304346, 406852.17391304346, 406852.17391304346, 406852.17391304346, 406852.17391304346]}, {\"name\": \"sample2[152,:]\", \"type\": \"scatter\", \"uid\": \"da64e719-9eb3-4f4e-8965-347f31322e31\", \"x\": [0.0, 10.0, 20.0, 30.0, 40.0, 50.0, 60.0, 70.0, 80.0, 90.0, 100.0], \"y\": [450450.0, 449400.0, 164850.0, 141750.0, 151200.0, 151200.0, 151200.0, 151200.0, 151200.0, 151200.0, 151200.0]}, {\"name\": \"model2, sample2[152,:]\", \"type\": \"scatter\", \"uid\": \"1229578b-06ea-4a5f-8f0d-a1f2bae0d08f\", \"x\": [0.0, 10.0, 20.0, 30.0, 40.0, 50.0, 60.0, 70.0, 80.0, 90.0, 100.0], \"y\": [498292.3076923077, 537000.0, 406852.17391304346, 406852.17391304346, 406852.17391304346, 406852.17391304346, 406852.17391304346, 406852.17391304346, 406852.17391304346, 406852.17391304346, 406852.17391304346]}, {\"name\": \"sample2[153,:]\", \"type\": \"scatter\", \"uid\": \"8c1ab987-6067-4b25-9008-f7cb6679c0e9\", \"x\": [0.0, 10.0, 20.0, 30.0, 40.0, 50.0, 60.0, 70.0, 80.0, 90.0, 100.0], \"y\": [450450.0, 449400.0, 164850.0, 141750.0, 151200.0, 151200.0, 151200.0, 151200.0, 151200.0, 151200.0, 151200.0]}, {\"name\": \"model2, sample2[153,:]\", \"type\": \"scatter\", \"uid\": \"2e1e287a-2972-4162-b0d9-4a3a3d251237\", \"x\": [0.0, 10.0, 20.0, 30.0, 40.0, 50.0, 60.0, 70.0, 80.0, 90.0, 100.0], \"y\": [498292.3076923077, 537000.0, 406852.17391304346, 406852.17391304346, 406852.17391304346, 406852.17391304346, 406852.17391304346, 406852.17391304346, 406852.17391304346, 406852.17391304346, 406852.17391304346]}, {\"name\": \"sample2[157,:]\", \"type\": \"scatter\", \"uid\": \"f9e3bf35-4dc7-4728-a11e-ac20e5c7a675\", \"x\": [0.0, 10.0, 20.0, 30.0, 40.0, 50.0, 60.0, 70.0, 80.0, 90.0, 100.0], \"y\": [450450.0, 449400.0, 164850.0, 141750.0, 151200.0, 151200.0, 151200.0, 151200.0, 151200.0, 151200.0, 151200.0]}, {\"name\": \"model2, sample2[157,:]\", \"type\": \"scatter\", \"uid\": \"d4c5b5ea-f229-4929-8025-dfc777b53e2e\", \"x\": [0.0, 10.0, 20.0, 30.0, 40.0, 50.0, 60.0, 70.0, 80.0, 90.0, 100.0], \"y\": [498292.3076923077, 537000.0, 406852.17391304346, 406852.17391304346, 406852.17391304346, 406852.17391304346, 406852.17391304346, 406852.17391304346, 406852.17391304346, 406852.17391304346, 406852.17391304346]}, {\"name\": \"sample2[158,:]\", \"type\": \"scatter\", \"uid\": \"a0fb388f-d61b-4692-b9a8-07b8c447a1b5\", \"x\": [0.0, 10.0, 20.0, 30.0, 40.0, 50.0, 60.0, 70.0, 80.0, 90.0, 100.0], \"y\": [450450.0, 449400.0, 228900.0, 141750.0, 151200.0, 151200.0, 151200.0, 151200.0, 151200.0, 151200.0, 151200.0]}, {\"name\": \"model2, sample2[158,:]\", \"type\": \"scatter\", \"uid\": \"94446c1e-fb2a-4191-90af-19f1b5a457ed\", \"x\": [0.0, 10.0, 20.0, 30.0, 40.0, 50.0, 60.0, 70.0, 80.0, 90.0, 100.0], \"y\": [654150.0, 538125.0, 406852.17391304346, 406852.17391304346, 406852.17391304346, 406852.17391304346, 406852.17391304346, 406852.17391304346, 406852.17391304346, 406852.17391304346, 406852.17391304346]}, {\"name\": \"sample2[160,:]\", \"type\": \"scatter\", \"uid\": \"d9a3b1ae-28c0-4885-b052-b875512f9cf1\", \"x\": [0.0, 10.0, 20.0, 30.0, 40.0, 50.0, 60.0, 70.0, 80.0, 90.0, 100.0], \"y\": [450450.0, 449400.0, 164850.0, 141750.0, 151200.0, 151200.0, 151200.0, 151200.0, 151200.0, 151200.0, 151200.0]}, {\"name\": \"model2, sample2[160,:]\", \"type\": \"scatter\", \"uid\": \"ee58cc3e-60ff-4a4a-b924-5d5f6de59c14\", \"x\": [0.0, 10.0, 20.0, 30.0, 40.0, 50.0, 60.0, 70.0, 80.0, 90.0, 100.0], \"y\": [498292.3076923077, 537000.0, 406852.17391304346, 406852.17391304346, 406852.17391304346, 406852.17391304346, 406852.17391304346, 406852.17391304346, 406852.17391304346, 406852.17391304346, 406852.17391304346]}, {\"name\": \"sample2[161,:]\", \"type\": \"scatter\", \"uid\": \"c244c662-6527-44f9-be9f-d54c3f9e9a8b\", \"x\": [0.0, 10.0, 20.0, 30.0, 40.0, 50.0, 60.0, 70.0, 80.0, 90.0, 100.0], \"y\": [450450.0, 449400.0, 164850.0, 141750.0, 151200.0, 151200.0, 151200.0, 151200.0, 151200.0, 151200.0, 151200.0]}, {\"name\": \"model2, sample2[161,:]\", \"type\": \"scatter\", \"uid\": \"14182c6b-f60b-43b1-9107-1448921c67cf\", \"x\": [0.0, 10.0, 20.0, 30.0, 40.0, 50.0, 60.0, 70.0, 80.0, 90.0, 100.0], \"y\": [498292.3076923077, 537000.0, 406852.17391304346, 406852.17391304346, 406852.17391304346, 406852.17391304346, 406852.17391304346, 406852.17391304346, 406852.17391304346, 406852.17391304346, 406852.17391304346]}, {\"name\": \"sample2[162,:]\", \"type\": \"scatter\", \"uid\": \"aa8fa796-063c-44b6-9cd9-252bbe9302c4\", \"x\": [0.0, 10.0, 20.0, 30.0, 40.0, 50.0, 60.0, 70.0, 80.0, 90.0, 100.0], \"y\": [450450.0, 449400.0, 164850.0, 141750.0, 151200.0, 151200.0, 151200.0, 151200.0, 151200.0, 151200.0, 151200.0]}, {\"name\": \"model2, sample2[162,:]\", \"type\": \"scatter\", \"uid\": \"a1a52c01-271b-47b4-9bb8-f7fd1bc8348c\", \"x\": [0.0, 10.0, 20.0, 30.0, 40.0, 50.0, 60.0, 70.0, 80.0, 90.0, 100.0], \"y\": [498292.3076923077, 537000.0, 406852.17391304346, 406852.17391304346, 406852.17391304346, 406852.17391304346, 406852.17391304346, 406852.17391304346, 406852.17391304346, 406852.17391304346, 406852.17391304346]}, {\"name\": \"sample2[166,:]\", \"type\": \"scatter\", \"uid\": \"e22f4a34-d780-4a55-a2d6-f935ac2f938b\", \"x\": [0.0, 10.0, 20.0, 30.0, 40.0, 50.0, 60.0, 70.0, 80.0, 90.0, 100.0], \"y\": [432600.0, 449400.0, 164850.0, 141750.0, 151200.0, 151200.0, 151200.0, 151200.0, 151200.0, 151200.0, 151200.0]}, {\"name\": \"model2, sample2[166,:]\", \"type\": \"scatter\", \"uid\": \"7d4737f6-cfd3-48ad-b42b-fa79a607b8da\", \"x\": [0.0, 10.0, 20.0, 30.0, 40.0, 50.0, 60.0, 70.0, 80.0, 90.0, 100.0], \"y\": [438738.46153846156, 438738.46153846156, 406852.17391304346, 406852.17391304346, 406852.17391304346, 406852.17391304346, 406852.17391304346, 406852.17391304346, 406852.17391304346, 406852.17391304346, 406852.17391304346]}, {\"name\": \"sample2[167,:]\", \"type\": \"scatter\", \"uid\": \"963303ac-49ef-44ab-911a-2bd8841ff4fc\", \"x\": [0.0, 10.0, 20.0, 30.0, 40.0, 50.0, 60.0, 70.0, 80.0, 90.0, 100.0], \"y\": [450450.0, 449400.0, 164850.0, 141750.0, 151200.0, 151200.0, 151200.0, 151200.0, 151200.0, 151200.0, 151200.0]}, {\"name\": \"model2, sample2[167,:]\", \"type\": \"scatter\", \"uid\": \"d6e7d60c-3c3d-47bd-9f59-c021bcb00e6a\", \"x\": [0.0, 10.0, 20.0, 30.0, 40.0, 50.0, 60.0, 70.0, 80.0, 90.0, 100.0], \"y\": [498292.3076923077, 537000.0, 406852.17391304346, 406852.17391304346, 406852.17391304346, 406852.17391304346, 406852.17391304346, 406852.17391304346, 406852.17391304346, 406852.17391304346, 406852.17391304346]}, {\"name\": \"sample2[168,:]\", \"type\": \"scatter\", \"uid\": \"f85bf360-ce75-4322-bec7-2551a4ec69d8\", \"x\": [0.0, 10.0, 20.0, 30.0, 40.0, 50.0, 60.0, 70.0, 80.0, 90.0, 100.0], \"y\": [478800.0, 449400.0, 164850.0, 141750.0, 151200.0, 151200.0, 151200.0, 151200.0, 151200.0, 151200.0, 151200.0]}, {\"name\": \"model2, sample2[168,:]\", \"type\": \"scatter\", \"uid\": \"0e07bf3c-5f4c-4f96-9331-5f3843c2743e\", \"x\": [0.0, 10.0, 20.0, 30.0, 40.0, 50.0, 60.0, 70.0, 80.0, 90.0, 100.0], \"y\": [498292.3076923077, 537000.0, 406852.17391304346, 406852.17391304346, 406852.17391304346, 406852.17391304346, 406852.17391304346, 406852.17391304346, 406852.17391304346, 406852.17391304346, 406852.17391304346]}, {\"name\": \"sample2[169,:]\", \"type\": \"scatter\", \"uid\": \"bec427c5-b029-46ae-9787-0e0347f559d4\", \"x\": [0.0, 10.0, 20.0, 30.0, 40.0, 50.0, 60.0, 70.0, 80.0, 90.0, 100.0], \"y\": [432600.0, 449400.0, 164850.0, 141750.0, 151200.0, 151200.0, 151200.0, 151200.0, 151200.0, 151200.0, 151200.0]}, {\"name\": \"model2, sample2[169,:]\", \"type\": \"scatter\", \"uid\": \"2c824748-10f6-4987-88ae-2c50e51bb4df\", \"x\": [0.0, 10.0, 20.0, 30.0, 40.0, 50.0, 60.0, 70.0, 80.0, 90.0, 100.0], \"y\": [438738.46153846156, 438738.46153846156, 406852.17391304346, 406852.17391304346, 406852.17391304346, 406852.17391304346, 406852.17391304346, 406852.17391304346, 406852.17391304346, 406852.17391304346, 406852.17391304346]}, {\"name\": \"sample2[173,:]\", \"type\": \"scatter\", \"uid\": \"94a53ccc-9936-4770-ace1-e89f06c5275c\", \"x\": [0.0, 10.0, 20.0, 30.0, 40.0, 50.0, 60.0, 70.0, 80.0, 90.0, 100.0], \"y\": [432600.0, 449400.0, 164850.0, 141750.0, 151200.0, 151200.0, 151200.0, 151200.0, 151200.0, 151200.0, 151200.0]}, {\"name\": \"model2, sample2[173,:]\", \"type\": \"scatter\", \"uid\": \"9ce39411-89c2-4948-9ea9-2fc0a853a2ba\", \"x\": [0.0, 10.0, 20.0, 30.0, 40.0, 50.0, 60.0, 70.0, 80.0, 90.0, 100.0], \"y\": [438738.46153846156, 438738.46153846156, 406852.17391304346, 406852.17391304346, 406852.17391304346, 406852.17391304346, 406852.17391304346, 406852.17391304346, 406852.17391304346, 406852.17391304346, 406852.17391304346]}, {\"name\": \"sample2[174,:]\", \"type\": \"scatter\", \"uid\": \"fc95eb4d-bc60-4870-b7b0-2ad986a598b5\", \"x\": [0.0, 10.0, 20.0, 30.0, 40.0, 50.0, 60.0, 70.0, 80.0, 90.0, 100.0], \"y\": [432600.0, 449400.0, 164850.0, 141750.0, 151200.0, 151200.0, 151200.0, 151200.0, 151200.0, 151200.0, 151200.0]}, {\"name\": \"model2, sample2[174,:]\", \"type\": \"scatter\", \"uid\": \"029654a9-95b4-4078-81b1-fc347ef59132\", \"x\": [0.0, 10.0, 20.0, 30.0, 40.0, 50.0, 60.0, 70.0, 80.0, 90.0, 100.0], \"y\": [438738.46153846156, 438738.46153846156, 406852.17391304346, 406852.17391304346, 406852.17391304346, 406852.17391304346, 406852.17391304346, 406852.17391304346, 406852.17391304346, 406852.17391304346, 406852.17391304346]}],\n",
       "                        {\"title\": {\"text\": \"ICE, model: DecisionTreeRegressor/model, version: 0ef3a148-f61d-11e9-bef7-fc084a6691eb\"}, \"xaxis\": {\"title\": {\"text\": \"LSTAT\"}}, \"yaxis\": {\"title\": {\"text\": \"MEDV\"}}},\n",
       "                        {\"showLink\": false, \"linkText\": \"Export to plot.ly\", \"plotlyServerURL\": \"https://plot.ly\", \"responsive\": true}\n",
       "                    ).then(function(){\n",
       "                            \n",
       "var gd = document.getElementById('4d0e852b-9c64-462b-934d-9a9657fbe611');\n",
       "var x = new MutationObserver(function (mutations, observer) {{\n",
       "        var display = window.getComputedStyle(gd).display;\n",
       "        if (!display || display === 'none') {{\n",
       "            console.log([gd, 'removed!']);\n",
       "            Plotly.purge(gd);\n",
       "            observer.disconnect();\n",
       "        }}\n",
       "}});\n",
       "\n",
       "// Listen for the removal of the full notebook cells\n",
       "var notebookContainer = gd.closest('#notebook-container');\n",
       "if (notebookContainer) {{\n",
       "    x.observe(notebookContainer, {childList: true});\n",
       "}}\n",
       "\n",
       "// Listen for the clearing of the current output cell\n",
       "var outputEl = gd.closest('.output');\n",
       "if (outputEl) {{\n",
       "    x.observe(outputEl, {childList: true});\n",
       "}}\n",
       "\n",
       "                        })\n",
       "                };\n",
       "                });\n",
       "            </script>\n",
       "        </div>"
      ]
     },
     "metadata": {},
     "output_type": "display_data"
    }
   ],
   "source": [
    "plot.ice(ice_results, clusters = [2,4], ice_results_2 = ice_results_2)"
   ]
  },
  {
   "cell_type": "markdown",
   "metadata": {},
   "source": [
    "Calling the method *plot.ice_clusters* with the derived results for the second model computes the average of seconds models ICE curves on the clusters of the first model and plots them together with the first models clusters."
   ]
  },
  {
   "cell_type": "code",
   "execution_count": 50,
   "metadata": {
    "ExecuteTime": {
     "end_time": "2019-10-24T05:13:55.552246Z",
     "start_time": "2019-10-24T05:13:55.017677Z"
    }
   },
   "outputs": [
    {
     "data": {
      "application/vnd.plotly.v1+json": {
       "config": {
        "linkText": "Export to plot.ly",
        "plotlyServerURL": "https://plot.ly",
        "responsive": true,
        "showLink": false
       },
       "data": [
        {
         "name": "cluster 0",
         "type": "scatter",
         "uid": "aa1d7890-5f45-40dd-99ef-95b3146795ef",
         "x": [
          0,
          10,
          20,
          30,
          40,
          50,
          60,
          70,
          80,
          90,
          100
         ],
         "y": [
          440001.21951219515,
          437670.73170731706,
          309792.6829268293,
          130891.4634146342,
          151200.00000000003,
          151200.00000000003,
          151200.00000000003,
          151200.00000000003,
          151200.00000000003,
          151200.00000000003,
          151200.00000000003
         ]
        },
        {
         "name": "cluster 1",
         "type": "scatter",
         "uid": "360b46df-f235-4175-8983-739e2fc8773a",
         "x": [
          0,
          10,
          20,
          30,
          40,
          50,
          60,
          70,
          80,
          90,
          100
         ],
         "y": [
          573085.4347826088,
          457285.5,
          318885,
          276780.00000000006,
          297780,
          297780,
          297780,
          297780,
          297780,
          297780,
          297780
         ]
        },
        {
         "name": "cluster 2",
         "type": "scatter",
         "uid": "6a05a655-4987-411c-9cf0-0c16e0f78353",
         "x": [
          0,
          10,
          20,
          30,
          40,
          50,
          60,
          70,
          80,
          90,
          100
         ],
         "y": [
          618975,
          623175,
          595875,
          595875,
          595875,
          595875,
          595875,
          595875,
          595875,
          595875,
          595875
         ]
        },
        {
         "name": "average 0",
         "type": "scatter",
         "uid": "d044fcd1-acc6-45fa-9df7-c341f1d16216",
         "x": [
          0,
          10,
          20,
          30,
          40,
          50,
          60,
          70,
          80,
          90,
          100
         ],
         "y": [
          463431.5196998124,
          479481.0506566604,
          406852.1739130431,
          406852.1739130431,
          406852.1739130431,
          406852.1739130431,
          406852.1739130431,
          406852.1739130431,
          406852.1739130431,
          406852.1739130431,
          406852.1739130431
         ]
        },
        {
         "name": "average 1",
         "type": "scatter",
         "uid": "67868f7f-a01a-4d72-b31f-a698e7943ec8",
         "x": [
          0,
          10,
          20,
          30,
          40,
          50,
          60,
          70,
          80,
          90,
          100
         ],
         "y": [
          548070.3846153846,
          521280.19230769237,
          400346.7391304347,
          400346.7391304347,
          400346.7391304347,
          400346.7391304347,
          400346.7391304347,
          400346.7391304347,
          400346.7391304347,
          400346.7391304347,
          400346.7391304347
         ]
        },
        {
         "name": "average 2",
         "type": "scatter",
         "uid": "a111fecb-6c8c-4391-bc1c-182f08f87950",
         "x": [
          0,
          10,
          20,
          30,
          40,
          50,
          60,
          70,
          80,
          90,
          100
         ],
         "y": [
          665964.5192307692,
          605345.1923076923,
          522132.6923076923,
          522132.6923076923,
          522132.6923076923,
          522132.6923076923,
          522132.6923076923,
          522132.6923076923,
          522132.6923076923,
          522132.6923076923,
          522132.6923076923
         ]
        }
       ],
       "layout": {
        "title": {
         "text": "ICE clusters, model: DecisionTreeRegressor/model, version: 0ef3a148-f61d-11e9-bef7-fc084a6691eb"
        },
        "xaxis": {
         "title": {
          "text": "LSTAT"
         }
        },
        "yaxis": {
         "title": {
          "text": "MEDV"
         }
        }
       }
      },
      "text/html": [
       "<div>\n",
       "        \n",
       "        \n",
       "            <div id=\"0b791f70-b310-4d06-a6f9-3c13c4358d68\" class=\"plotly-graph-div\" style=\"height:525px; width:100%;\"></div>\n",
       "            <script type=\"text/javascript\">\n",
       "                require([\"plotly\"], function(Plotly) {\n",
       "                    window.PLOTLYENV=window.PLOTLYENV || {};\n",
       "                    window.PLOTLYENV.BASE_URL='https://plot.ly';\n",
       "                    \n",
       "                if (document.getElementById(\"0b791f70-b310-4d06-a6f9-3c13c4358d68\")) {\n",
       "                    Plotly.newPlot(\n",
       "                        '0b791f70-b310-4d06-a6f9-3c13c4358d68',\n",
       "                        [{\"name\": \"cluster 0\", \"type\": \"scatter\", \"uid\": \"7efd987d-1c6e-4500-8287-a454c925a606\", \"x\": [0.0, 10.0, 20.0, 30.0, 40.0, 50.0, 60.0, 70.0, 80.0, 90.0, 100.0], \"y\": [440001.21951219515, 437670.73170731706, 309792.6829268293, 130891.4634146342, 151200.00000000003, 151200.00000000003, 151200.00000000003, 151200.00000000003, 151200.00000000003, 151200.00000000003, 151200.00000000003]}, {\"name\": \"cluster 1\", \"type\": \"scatter\", \"uid\": \"8cd0a65b-b569-4563-8cf6-5bf84448d0de\", \"x\": [0.0, 10.0, 20.0, 30.0, 40.0, 50.0, 60.0, 70.0, 80.0, 90.0, 100.0], \"y\": [573085.4347826088, 457285.5, 318885.0, 276780.00000000006, 297780.0, 297780.0, 297780.0, 297780.0, 297780.0, 297780.0, 297780.0]}, {\"name\": \"cluster 2\", \"type\": \"scatter\", \"uid\": \"4f1becb9-1506-497c-9d63-a3336cd2cdbf\", \"x\": [0.0, 10.0, 20.0, 30.0, 40.0, 50.0, 60.0, 70.0, 80.0, 90.0, 100.0], \"y\": [618975.0, 623175.0, 595875.0, 595875.0, 595875.0, 595875.0, 595875.0, 595875.0, 595875.0, 595875.0, 595875.0]}, {\"name\": \"average 0\", \"type\": \"scatter\", \"uid\": \"9d57d356-e4df-4d5c-a51a-ac66965933a0\", \"x\": [0.0, 10.0, 20.0, 30.0, 40.0, 50.0, 60.0, 70.0, 80.0, 90.0, 100.0], \"y\": [463431.5196998124, 479481.0506566604, 406852.1739130431, 406852.1739130431, 406852.1739130431, 406852.1739130431, 406852.1739130431, 406852.1739130431, 406852.1739130431, 406852.1739130431, 406852.1739130431]}, {\"name\": \"average 1\", \"type\": \"scatter\", \"uid\": \"743eee09-6f7c-4ba1-b883-ffbe3fb5824e\", \"x\": [0.0, 10.0, 20.0, 30.0, 40.0, 50.0, 60.0, 70.0, 80.0, 90.0, 100.0], \"y\": [548070.3846153846, 521280.19230769237, 400346.7391304347, 400346.7391304347, 400346.7391304347, 400346.7391304347, 400346.7391304347, 400346.7391304347, 400346.7391304347, 400346.7391304347, 400346.7391304347]}, {\"name\": \"average 2\", \"type\": \"scatter\", \"uid\": \"1c10d7e3-5938-449a-9c8f-fc7e2843326e\", \"x\": [0.0, 10.0, 20.0, 30.0, 40.0, 50.0, 60.0, 70.0, 80.0, 90.0, 100.0], \"y\": [665964.5192307692, 605345.1923076923, 522132.6923076923, 522132.6923076923, 522132.6923076923, 522132.6923076923, 522132.6923076923, 522132.6923076923, 522132.6923076923, 522132.6923076923, 522132.6923076923]}],\n",
       "                        {\"title\": {\"text\": \"ICE clusters, model: DecisionTreeRegressor/model, version: 0ef3a148-f61d-11e9-bef7-fc084a6691eb\"}, \"xaxis\": {\"title\": {\"text\": \"LSTAT\"}}, \"yaxis\": {\"title\": {\"text\": \"MEDV\"}}},\n",
       "                        {\"showLink\": false, \"linkText\": \"Export to plot.ly\", \"plotlyServerURL\": \"https://plot.ly\", \"responsive\": true}\n",
       "                    ).then(function(){\n",
       "                            \n",
       "var gd = document.getElementById('0b791f70-b310-4d06-a6f9-3c13c4358d68');\n",
       "var x = new MutationObserver(function (mutations, observer) {{\n",
       "        var display = window.getComputedStyle(gd).display;\n",
       "        if (!display || display === 'none') {{\n",
       "            console.log([gd, 'removed!']);\n",
       "            Plotly.purge(gd);\n",
       "            observer.disconnect();\n",
       "        }}\n",
       "}});\n",
       "\n",
       "// Listen for the removal of the full notebook cells\n",
       "var notebookContainer = gd.closest('#notebook-container');\n",
       "if (notebookContainer) {{\n",
       "    x.observe(notebookContainer, {childList: true});\n",
       "}}\n",
       "\n",
       "// Listen for the clearing of the current output cell\n",
       "var outputEl = gd.closest('.output');\n",
       "if (outputEl) {{\n",
       "    x.observe(outputEl, {childList: true});\n",
       "}}\n",
       "\n",
       "                        })\n",
       "                };\n",
       "                });\n",
       "            </script>\n",
       "        </div>"
      ]
     },
     "metadata": {},
     "output_type": "display_data"
    }
   ],
   "source": [
    "plot.ice_clusters(ice_results, ice_results_2 = ice_results_2, clusters=[0, 1,2])"
   ]
  },
  {
   "cell_type": "code",
   "execution_count": 51,
   "metadata": {
    "ExecuteTime": {
     "end_time": "2019-10-24T05:13:56.369065Z",
     "start_time": "2019-10-24T05:13:55.555246Z"
    }
   },
   "outputs": [
    {
     "data": {
      "application/vnd.plotly.v1+json": {
       "config": {
        "linkText": "Export to plot.ly",
        "plotlyServerURL": "https://plot.ly",
        "responsive": true,
        "showLink": false
       },
       "data": [
        {
         "name": "sample2[43,:]",
         "type": "scatter",
         "uid": "57470a65-f383-4b3a-ae23-a60bda489935",
         "x": [
          0,
          10,
          20,
          30,
          40,
          50,
          60,
          70,
          80,
          90,
          100
         ],
         "y": [
          432600,
          366100,
          304500,
          277200,
          277200,
          277200,
          277200,
          277200,
          277200,
          277200,
          277200
         ]
        },
        {
         "name": "model2, sample2[43,:]",
         "type": "scatter",
         "uid": "761fb88c-6a2f-4b61-b085-df7e8d4ac519",
         "x": [
          0,
          10,
          20,
          30,
          40,
          50,
          60,
          70,
          80,
          90,
          100
         ],
         "y": [
          438738.46153846156,
          438738.46153846156,
          286650,
          286650,
          286650,
          286650,
          286650,
          286650,
          286650,
          286650,
          286650
         ]
        },
        {
         "name": "sample2[183,:]",
         "type": "scatter",
         "uid": "c68122fe-200a-4407-96f1-6dbd07eb5eda",
         "x": [
          0,
          10,
          20,
          30,
          40,
          50,
          60,
          70,
          80,
          90,
          100
         ],
         "y": [
          646800,
          441000,
          304500,
          294000,
          294000,
          294000,
          294000,
          294000,
          294000,
          294000,
          294000
         ]
        },
        {
         "name": "model2, sample2[183,:]",
         "type": "scatter",
         "uid": "6e0c5673-e5a8-45e0-8aa6-e29a8bd81338",
         "x": [
          0,
          10,
          20,
          30,
          40,
          50,
          60,
          70,
          80,
          90,
          100
         ],
         "y": [
          654150,
          538125,
          286650,
          286650,
          286650,
          286650,
          286650,
          286650,
          286650,
          286650,
          286650
         ]
        },
        {
         "name": "sample2[184,:]",
         "type": "scatter",
         "uid": "9e9315d5-d609-46dc-8db6-05ec49061248",
         "x": [
          0,
          10,
          20,
          30,
          40,
          50,
          60,
          70,
          80,
          90,
          100
         ],
         "y": [
          478800,
          420210,
          304500,
          277200,
          277200,
          277200,
          277200,
          277200,
          277200,
          277200,
          277200
         ]
        },
        {
         "name": "model2, sample2[184,:]",
         "type": "scatter",
         "uid": "1689bb7a-2cdc-4047-bfe0-347cc8b8f38f",
         "x": [
          0,
          10,
          20,
          30,
          40,
          50,
          60,
          70,
          80,
          90,
          100
         ],
         "y": [
          498292.3076923077,
          537000,
          286650,
          286650,
          286650,
          286650,
          286650,
          286650,
          286650,
          286650,
          286650
         ]
        },
        {
         "name": "sample2[42,:]",
         "type": "scatter",
         "uid": "475da37d-6764-4e11-955b-053aa836c965",
         "x": [
          0,
          10,
          20,
          30,
          40,
          50,
          60,
          70,
          80,
          90,
          100
         ],
         "y": [
          432600,
          315000,
          304500,
          266700,
          266700,
          266700,
          266700,
          266700,
          266700,
          266700,
          266700
         ]
        },
        {
         "name": "model2, sample2[42,:]",
         "type": "scatter",
         "uid": "e9378fa0-5a4e-4b78-9e78-273783af7f33",
         "x": [
          0,
          10,
          20,
          30,
          40,
          50,
          60,
          70,
          80,
          90,
          100
         ],
         "y": [
          438738.46153846156,
          438738.46153846156,
          286650,
          286650,
          286650,
          286650,
          286650,
          286650,
          286650,
          286650,
          286650
         ]
        },
        {
         "name": "sample2[32,:]",
         "type": "scatter",
         "uid": "2a4a0ffd-3ae4-445a-bffe-b5de8ef17497",
         "x": [
          0,
          10,
          20,
          30,
          40,
          50,
          60,
          70,
          80,
          90,
          100
         ],
         "y": [
          672000,
          577500,
          462000,
          462000,
          462000,
          462000,
          462000,
          462000,
          462000,
          462000,
          462000
         ]
        },
        {
         "name": "model2, sample2[32,:]",
         "type": "scatter",
         "uid": "825b674a-fe83-4e9e-836f-cfe5a81cccd0",
         "x": [
          0,
          10,
          20,
          30,
          40,
          50,
          60,
          70,
          80,
          90,
          100
         ],
         "y": [
          520800,
          572950,
          462000,
          462000,
          462000,
          462000,
          462000,
          462000,
          462000,
          462000,
          462000
         ]
        },
        {
         "name": "sample2[29,:]",
         "type": "scatter",
         "uid": "1a6bb1b5-d5c5-4fdc-a607-d49d4ae9dbc0",
         "x": [
          0,
          10,
          20,
          30,
          40,
          50,
          60,
          70,
          80,
          90,
          100
         ],
         "y": [
          743400,
          760200,
          651000,
          651000,
          651000,
          651000,
          651000,
          651000,
          651000,
          651000,
          651000
         ]
        },
        {
         "name": "model2, sample2[29,:]",
         "type": "scatter",
         "uid": "9d720422-3ca0-4f03-8254-df1d88ca16c8",
         "x": [
          0,
          10,
          20,
          30,
          40,
          50,
          60,
          70,
          80,
          90,
          100
         ],
         "y": [
          721035,
          702530.7692307692,
          702530.7692307692,
          702530.7692307692,
          702530.7692307692,
          702530.7692307692,
          702530.7692307692,
          702530.7692307692,
          702530.7692307692,
          702530.7692307692,
          702530.7692307692
         ]
        },
        {
         "name": "sample2[178,:]",
         "type": "scatter",
         "uid": "69bb10eb-0110-414d-9075-50864b92a444",
         "x": [
          0,
          10,
          20,
          30,
          40,
          50,
          60,
          70,
          80,
          90,
          100
         ],
         "y": [
          432600,
          430500,
          387240,
          302400,
          302400,
          302400,
          302400,
          302400,
          302400,
          302400,
          302400
         ]
        },
        {
         "name": "model2, sample2[178,:]",
         "type": "scatter",
         "uid": "f8bbe2d8-b786-4f08-be5c-aa45546a3c0e",
         "x": [
          0,
          10,
          20,
          30,
          40,
          50,
          60,
          70,
          80,
          90,
          100
         ],
         "y": [
          438738.46153846156,
          438738.46153846156,
          406852.17391304346,
          406852.17391304346,
          406852.17391304346,
          406852.17391304346,
          406852.17391304346,
          406852.17391304346,
          406852.17391304346,
          406852.17391304346,
          406852.17391304346
         ]
        },
        {
         "name": "sample2[176,:]",
         "type": "scatter",
         "uid": "ca1eb647-86ea-4339-872d-de0032f3dc54",
         "x": [
          0,
          10,
          20,
          30,
          40,
          50,
          60,
          70,
          80,
          90,
          100
         ],
         "y": [
          432600,
          449400,
          387240,
          302400,
          302400,
          302400,
          302400,
          302400,
          302400,
          302400,
          302400
         ]
        },
        {
         "name": "model2, sample2[176,:]",
         "type": "scatter",
         "uid": "5abb1745-4fca-4d4b-a010-e5620e688fed",
         "x": [
          0,
          10,
          20,
          30,
          40,
          50,
          60,
          70,
          80,
          90,
          100
         ],
         "y": [
          438738.46153846156,
          438738.46153846156,
          406852.17391304346,
          406852.17391304346,
          406852.17391304346,
          406852.17391304346,
          406852.17391304346,
          406852.17391304346,
          406852.17391304346,
          406852.17391304346,
          406852.17391304346
         ]
        },
        {
         "name": "sample2[5,:]",
         "type": "scatter",
         "uid": "66ba0ec2-420b-4f65-bc8d-0eb6de38154c",
         "x": [
          0,
          10,
          20,
          30,
          40,
          50,
          60,
          70,
          80,
          90,
          100
         ],
         "y": [
          432600,
          426300,
          387240,
          302400,
          302400,
          302400,
          302400,
          302400,
          302400,
          302400,
          302400
         ]
        },
        {
         "name": "model2, sample2[5,:]",
         "type": "scatter",
         "uid": "818c2184-f21f-4285-9f1f-c90c52e18145",
         "x": [
          0,
          10,
          20,
          30,
          40,
          50,
          60,
          70,
          80,
          90,
          100
         ],
         "y": [
          438738.46153846156,
          438738.46153846156,
          406852.17391304346,
          406852.17391304346,
          406852.17391304346,
          406852.17391304346,
          406852.17391304346,
          406852.17391304346,
          406852.17391304346,
          406852.17391304346,
          406852.17391304346
         ]
        },
        {
         "name": "sample2[16,:]",
         "type": "scatter",
         "uid": "29b53ab7-bdc7-41ad-af60-298a97e31e60",
         "x": [
          0,
          10,
          20,
          30,
          40,
          50,
          60,
          70,
          80,
          90,
          100
         ],
         "y": [
          432600,
          426300,
          387240,
          302400,
          302400,
          302400,
          302400,
          302400,
          302400,
          302400,
          302400
         ]
        },
        {
         "name": "model2, sample2[16,:]",
         "type": "scatter",
         "uid": "7e6862f4-3ff3-452d-a5bf-448e15feefee",
         "x": [
          0,
          10,
          20,
          30,
          40,
          50,
          60,
          70,
          80,
          90,
          100
         ],
         "y": [
          438738.46153846156,
          438738.46153846156,
          406852.17391304346,
          406852.17391304346,
          406852.17391304346,
          406852.17391304346,
          406852.17391304346,
          406852.17391304346,
          406852.17391304346,
          406852.17391304346,
          406852.17391304346
         ]
        }
       ],
       "layout": {
        "title": {
         "text": "ICE, model: DecisionTreeRegressor/model, version: 0ef3a148-f61d-11e9-bef7-fc084a6691eb"
        },
        "xaxis": {
         "title": {
          "text": "LSTAT"
         }
        },
        "yaxis": {
         "title": {
          "text": "MEDV"
         }
        }
       }
      },
      "text/html": [
       "<div>\n",
       "        \n",
       "        \n",
       "            <div id=\"72c4fa89-4f46-4cad-af0c-1153797de388\" class=\"plotly-graph-div\" style=\"height:525px; width:100%;\"></div>\n",
       "            <script type=\"text/javascript\">\n",
       "                require([\"plotly\"], function(Plotly) {\n",
       "                    window.PLOTLYENV=window.PLOTLYENV || {};\n",
       "                    window.PLOTLYENV.BASE_URL='https://plot.ly';\n",
       "                    \n",
       "                if (document.getElementById(\"72c4fa89-4f46-4cad-af0c-1153797de388\")) {\n",
       "                    Plotly.newPlot(\n",
       "                        '72c4fa89-4f46-4cad-af0c-1153797de388',\n",
       "                        [{\"name\": \"sample2[43,:]\", \"type\": \"scatter\", \"uid\": \"9f2801cb-bdbd-44d7-97ce-e10ba52e7087\", \"x\": [0.0, 10.0, 20.0, 30.0, 40.0, 50.0, 60.0, 70.0, 80.0, 90.0, 100.0], \"y\": [432600.0, 366100.0, 304500.0, 277200.0, 277200.0, 277200.0, 277200.0, 277200.0, 277200.0, 277200.0, 277200.0]}, {\"name\": \"model2, sample2[43,:]\", \"type\": \"scatter\", \"uid\": \"b40880d8-024c-40f0-9446-227e10aef791\", \"x\": [0.0, 10.0, 20.0, 30.0, 40.0, 50.0, 60.0, 70.0, 80.0, 90.0, 100.0], \"y\": [438738.46153846156, 438738.46153846156, 286650.0, 286650.0, 286650.0, 286650.0, 286650.0, 286650.0, 286650.0, 286650.0, 286650.0]}, {\"name\": \"sample2[183,:]\", \"type\": \"scatter\", \"uid\": \"edadde41-95c2-403d-baf8-868544b35b7a\", \"x\": [0.0, 10.0, 20.0, 30.0, 40.0, 50.0, 60.0, 70.0, 80.0, 90.0, 100.0], \"y\": [646800.0, 441000.0, 304500.0, 294000.0, 294000.0, 294000.0, 294000.0, 294000.0, 294000.0, 294000.0, 294000.0]}, {\"name\": \"model2, sample2[183,:]\", \"type\": \"scatter\", \"uid\": \"c2fc881b-2eb7-4260-9533-a93b61e4c4e8\", \"x\": [0.0, 10.0, 20.0, 30.0, 40.0, 50.0, 60.0, 70.0, 80.0, 90.0, 100.0], \"y\": [654150.0, 538125.0, 286650.0, 286650.0, 286650.0, 286650.0, 286650.0, 286650.0, 286650.0, 286650.0, 286650.0]}, {\"name\": \"sample2[184,:]\", \"type\": \"scatter\", \"uid\": \"fd87d4c7-e811-48fc-8fd6-5e65efdd869f\", \"x\": [0.0, 10.0, 20.0, 30.0, 40.0, 50.0, 60.0, 70.0, 80.0, 90.0, 100.0], \"y\": [478800.0, 420210.0, 304500.0, 277200.0, 277200.0, 277200.0, 277200.0, 277200.0, 277200.0, 277200.0, 277200.0]}, {\"name\": \"model2, sample2[184,:]\", \"type\": \"scatter\", \"uid\": \"df44bc6e-dba7-4cec-aa70-f2ecfa03dddc\", \"x\": [0.0, 10.0, 20.0, 30.0, 40.0, 50.0, 60.0, 70.0, 80.0, 90.0, 100.0], \"y\": [498292.3076923077, 537000.0, 286650.0, 286650.0, 286650.0, 286650.0, 286650.0, 286650.0, 286650.0, 286650.0, 286650.0]}, {\"name\": \"sample2[42,:]\", \"type\": \"scatter\", \"uid\": \"28f8f4bd-f86c-4c4b-8a46-9218632523f0\", \"x\": [0.0, 10.0, 20.0, 30.0, 40.0, 50.0, 60.0, 70.0, 80.0, 90.0, 100.0], \"y\": [432600.0, 315000.0, 304500.0, 266700.0, 266700.0, 266700.0, 266700.0, 266700.0, 266700.0, 266700.0, 266700.0]}, {\"name\": \"model2, sample2[42,:]\", \"type\": \"scatter\", \"uid\": \"4a3cce64-ff14-4beb-8e9e-6a9f46433d7c\", \"x\": [0.0, 10.0, 20.0, 30.0, 40.0, 50.0, 60.0, 70.0, 80.0, 90.0, 100.0], \"y\": [438738.46153846156, 438738.46153846156, 286650.0, 286650.0, 286650.0, 286650.0, 286650.0, 286650.0, 286650.0, 286650.0, 286650.0]}, {\"name\": \"sample2[32,:]\", \"type\": \"scatter\", \"uid\": \"eba0b7eb-2b27-49f2-adc5-5eb0da9384c5\", \"x\": [0.0, 10.0, 20.0, 30.0, 40.0, 50.0, 60.0, 70.0, 80.0, 90.0, 100.0], \"y\": [672000.0, 577500.0, 462000.0, 462000.0, 462000.0, 462000.0, 462000.0, 462000.0, 462000.0, 462000.0, 462000.0]}, {\"name\": \"model2, sample2[32,:]\", \"type\": \"scatter\", \"uid\": \"40270b25-d982-4e9a-bdc4-9352c333d815\", \"x\": [0.0, 10.0, 20.0, 30.0, 40.0, 50.0, 60.0, 70.0, 80.0, 90.0, 100.0], \"y\": [520800.0, 572950.0, 462000.0, 462000.0, 462000.0, 462000.0, 462000.0, 462000.0, 462000.0, 462000.0, 462000.0]}, {\"name\": \"sample2[29,:]\", \"type\": \"scatter\", \"uid\": \"efbefcb9-c2d1-4dbd-939f-36fe2602c4b7\", \"x\": [0.0, 10.0, 20.0, 30.0, 40.0, 50.0, 60.0, 70.0, 80.0, 90.0, 100.0], \"y\": [743400.0, 760200.0, 651000.0, 651000.0, 651000.0, 651000.0, 651000.0, 651000.0, 651000.0, 651000.0, 651000.0]}, {\"name\": \"model2, sample2[29,:]\", \"type\": \"scatter\", \"uid\": \"f781d161-5a70-40f7-a08a-008192eaa2fa\", \"x\": [0.0, 10.0, 20.0, 30.0, 40.0, 50.0, 60.0, 70.0, 80.0, 90.0, 100.0], \"y\": [721035.0, 702530.7692307692, 702530.7692307692, 702530.7692307692, 702530.7692307692, 702530.7692307692, 702530.7692307692, 702530.7692307692, 702530.7692307692, 702530.7692307692, 702530.7692307692]}, {\"name\": \"sample2[178,:]\", \"type\": \"scatter\", \"uid\": \"435d437d-8cf6-4d2c-b80b-a10c94019e0d\", \"x\": [0.0, 10.0, 20.0, 30.0, 40.0, 50.0, 60.0, 70.0, 80.0, 90.0, 100.0], \"y\": [432600.0, 430500.0, 387240.0, 302400.0, 302400.0, 302400.0, 302400.0, 302400.0, 302400.0, 302400.0, 302400.0]}, {\"name\": \"model2, sample2[178,:]\", \"type\": \"scatter\", \"uid\": \"a25f0146-5c8e-45bb-900c-6989f08eb620\", \"x\": [0.0, 10.0, 20.0, 30.0, 40.0, 50.0, 60.0, 70.0, 80.0, 90.0, 100.0], \"y\": [438738.46153846156, 438738.46153846156, 406852.17391304346, 406852.17391304346, 406852.17391304346, 406852.17391304346, 406852.17391304346, 406852.17391304346, 406852.17391304346, 406852.17391304346, 406852.17391304346]}, {\"name\": \"sample2[176,:]\", \"type\": \"scatter\", \"uid\": \"e3d30e9c-4593-4352-b2a1-9ccdba0321f7\", \"x\": [0.0, 10.0, 20.0, 30.0, 40.0, 50.0, 60.0, 70.0, 80.0, 90.0, 100.0], \"y\": [432600.0, 449400.0, 387240.0, 302400.0, 302400.0, 302400.0, 302400.0, 302400.0, 302400.0, 302400.0, 302400.0]}, {\"name\": \"model2, sample2[176,:]\", \"type\": \"scatter\", \"uid\": \"b80d9d1e-37d0-4825-95be-8ba7cb65aef9\", \"x\": [0.0, 10.0, 20.0, 30.0, 40.0, 50.0, 60.0, 70.0, 80.0, 90.0, 100.0], \"y\": [438738.46153846156, 438738.46153846156, 406852.17391304346, 406852.17391304346, 406852.17391304346, 406852.17391304346, 406852.17391304346, 406852.17391304346, 406852.17391304346, 406852.17391304346, 406852.17391304346]}, {\"name\": \"sample2[5,:]\", \"type\": \"scatter\", \"uid\": \"c1a2bd79-6fef-4126-8a6d-c8be7cd0eefd\", \"x\": [0.0, 10.0, 20.0, 30.0, 40.0, 50.0, 60.0, 70.0, 80.0, 90.0, 100.0], \"y\": [432600.0, 426300.0, 387240.0, 302400.0, 302400.0, 302400.0, 302400.0, 302400.0, 302400.0, 302400.0, 302400.0]}, {\"name\": \"model2, sample2[5,:]\", \"type\": \"scatter\", \"uid\": \"0668f00f-57f5-47ad-aabf-8e36b8f729f9\", \"x\": [0.0, 10.0, 20.0, 30.0, 40.0, 50.0, 60.0, 70.0, 80.0, 90.0, 100.0], \"y\": [438738.46153846156, 438738.46153846156, 406852.17391304346, 406852.17391304346, 406852.17391304346, 406852.17391304346, 406852.17391304346, 406852.17391304346, 406852.17391304346, 406852.17391304346, 406852.17391304346]}, {\"name\": \"sample2[16,:]\", \"type\": \"scatter\", \"uid\": \"749b38f9-9bfc-4232-a1e1-dd1a00be382c\", \"x\": [0.0, 10.0, 20.0, 30.0, 40.0, 50.0, 60.0, 70.0, 80.0, 90.0, 100.0], \"y\": [432600.0, 426300.0, 387240.0, 302400.0, 302400.0, 302400.0, 302400.0, 302400.0, 302400.0, 302400.0, 302400.0]}, {\"name\": \"model2, sample2[16,:]\", \"type\": \"scatter\", \"uid\": \"e2fb0a5e-a303-4783-9d64-167ba1c853e9\", \"x\": [0.0, 10.0, 20.0, 30.0, 40.0, 50.0, 60.0, 70.0, 80.0, 90.0, 100.0], \"y\": [438738.46153846156, 438738.46153846156, 406852.17391304346, 406852.17391304346, 406852.17391304346, 406852.17391304346, 406852.17391304346, 406852.17391304346, 406852.17391304346, 406852.17391304346, 406852.17391304346]}],\n",
       "                        {\"title\": {\"text\": \"ICE, model: DecisionTreeRegressor/model, version: 0ef3a148-f61d-11e9-bef7-fc084a6691eb\"}, \"xaxis\": {\"title\": {\"text\": \"LSTAT\"}}, \"yaxis\": {\"title\": {\"text\": \"MEDV\"}}},\n",
       "                        {\"showLink\": false, \"linkText\": \"Export to plot.ly\", \"plotlyServerURL\": \"https://plot.ly\", \"responsive\": true}\n",
       "                    ).then(function(){\n",
       "                            \n",
       "var gd = document.getElementById('72c4fa89-4f46-4cad-af0c-1153797de388');\n",
       "var x = new MutationObserver(function (mutations, observer) {{\n",
       "        var display = window.getComputedStyle(gd).display;\n",
       "        if (!display || display === 'none') {{\n",
       "            console.log([gd, 'removed!']);\n",
       "            Plotly.purge(gd);\n",
       "            observer.disconnect();\n",
       "        }}\n",
       "}});\n",
       "\n",
       "// Listen for the removal of the full notebook cells\n",
       "var notebookContainer = gd.closest('#notebook-container');\n",
       "if (notebookContainer) {{\n",
       "    x.observe(notebookContainer, {childList: true});\n",
       "}}\n",
       "\n",
       "// Listen for the clearing of the current output cell\n",
       "var outputEl = gd.closest('.output');\n",
       "if (outputEl) {{\n",
       "    x.observe(outputEl, {childList: true});\n",
       "}}\n",
       "\n",
       "                        })\n",
       "                };\n",
       "                });\n",
       "            </script>\n",
       "        </div>"
      ]
     },
     "metadata": {},
     "output_type": "display_data"
    }
   ],
   "source": [
    "plot.ice_diff(ice_results, ice_results_2)"
   ]
  },
  {
   "cell_type": "code",
   "execution_count": 52,
   "metadata": {
    "ExecuteTime": {
     "end_time": "2019-10-24T05:13:56.380033Z",
     "start_time": "2019-10-24T05:13:56.372056Z"
    },
    "collapsed": true
   },
   "outputs": [],
   "source": [
    "# plot decision tree\n",
    "#from graphviz import Source\n",
    "#from sklearn import tree\n",
    "#from IPython.display import SVG\n",
    "#model = ml_repo.get(ml_repo.tree.models.DecisionTreeRegressor.model())#, version = -1)\n",
    "\n",
    "#graph = Source(tree.export_graphviz(model.model, out_file=None\n",
    "#   , filled = True))\n",
    "#display(SVG(graph.pipe(format='svg')))\n"
   ]
  },
  {
   "cell_type": "code",
   "execution_count": null,
   "metadata": {
    "collapsed": true
   },
   "outputs": [],
   "source": []
  }
 ],
 "metadata": {
  "celltoolbar": "Initialization Cell",
  "kernelspec": {
   "display_name": "Python 3",
   "language": "python",
   "name": "python3"
  },
  "language_info": {
   "codemirror_mode": {
    "name": "ipython",
    "version": 3
   },
   "file_extension": ".py",
   "mimetype": "text/x-python",
   "name": "python",
   "nbconvert_exporter": "python",
   "pygments_lexer": "ipython3",
   "version": "3.6.1"
  },
  "toc": {
   "base_numbering": 1,
   "colors": {
    "hover_highlight": "#DAA520",
    "navigate_num": "#000000",
    "navigate_text": "#333333",
    "running_highlight": "#FF0000",
    "selected_highlight": "#FFD700",
    "sidebar_border": "#EEEEEE",
    "wrapper_background": "#FFFFFF"
   },
   "moveMenuLeft": true,
   "nav_menu": {
    "height": "12px",
    "width": "252px"
   },
   "navigate_menu": true,
   "number_sections": true,
   "sideBar": true,
   "skip_h1_title": false,
   "threshold": 4,
   "title_cell": "Table of Contents",
   "title_sidebar": "Contents",
   "toc_cell": false,
   "toc_position": {
    "height": "786px",
    "left": "0px",
    "right": "1470.45px",
    "top": "65.9943px",
    "width": "324.774px"
   },
   "toc_section_display": "block",
   "toc_window_display": true,
   "widenNotebook": false
  },
  "varInspector": {
   "cols": {
    "lenName": 16,
    "lenType": 16,
    "lenVar": 40
   },
   "kernels_config": {
    "python": {
     "delete_cmd_postfix": "",
     "delete_cmd_prefix": "del ",
     "library": "var_list.py",
     "varRefreshCmd": "print(var_dic_list())"
    },
    "r": {
     "delete_cmd_postfix": ") ",
     "delete_cmd_prefix": "rm(",
     "library": "var_list.r",
     "varRefreshCmd": "cat(var_dic_list()) "
    }
   },
   "types_to_exclude": [
    "module",
    "function",
    "builtin_function_or_method",
    "instance",
    "_Feature"
   ],
   "window_display": false
  }
 },
 "nbformat": 4,
 "nbformat_minor": 2
}
