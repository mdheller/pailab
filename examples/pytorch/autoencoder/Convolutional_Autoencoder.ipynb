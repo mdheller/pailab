{
 "cells": [
  {
   "cell_type": "markdown",
   "metadata": {},
   "source": [
    "# pailab Specific Setup\n",
    "This example is taken from [autoencoder](https://github.com/udacity/deep-learning-v2-pytorch/tree/master/autoencoder/convolutional-autoencoder) notebook from the udacity [repository](https://github.com/udacity/deep-learning-v2-pytorch/) and then adapted to work with pailab.\n",
    "To run it, please make sure that\n",
    "\n",
    "- PyTorch is installed,\n",
    "- the path to the file autoenc_conv_pytorch.py (in pailab's example/custom_models directory) is either included in PYTHONPATH environment variable or just set it locally by uncommenting and editingthe following lines"
   ]
  },
  {
   "cell_type": "code",
   "execution_count": 1,
   "metadata": {},
   "outputs": [],
   "source": [
    "import sys\n",
    "custom_model_dir = 'C:\\\\Users\\\\Anwender\\\\development\\\\pailab_oeltz\\\\examples\\\\custom_models' # set path to the implemented pytorch autoencoder\n",
    "if custom_model_dir not in sys.path:\n",
    "    sys.path.append(custom_model_dir)"
   ]
  },
  {
   "cell_type": "markdown",
   "metadata": {},
   "source": [
    "We instantiate the repository. Here, we choose simple in memory stores and a simple job runner."
   ]
  },
  {
   "cell_type": "code",
   "execution_count": 2,
   "metadata": {
    "collapsed": true
   },
   "outputs": [],
   "source": [
    "from pailab import RepoInfoKey, MeasureConfiguration, MLRepo, DataSet, MLObjectType, FIRST_VERSION, LAST_VERSION\n",
    "# setting up the repository\n",
    "config = {'user': 'test_user',\n",
    "      'workspace': 'c:/temp',\n",
    "      'repo_store': \n",
    "      {\n",
    "          'type': 'memory_handler',  \n",
    "          'config': {}\n",
    "      },\n",
    "      'numpy_store':\n",
    "      {\n",
    "          'type': 'memory_handler',\n",
    "          'config':{}\n",
    "      },\n",
    "      'job_runner':\n",
    "      {\n",
    "          'type': 'simple',\n",
    "          'config': {\n",
    "              'throw_job_error': True\n",
    "          }\n",
    "      }\n",
    "    }\n",
    "ml_repo = MLRepo( user = 'test_user', config=config)\n"
   ]
  },
  {
   "cell_type": "markdown",
   "metadata": {},
   "source": [
    "-------\n",
    "# Convolutional Autoencoder\n",
    "\n",
    "Sticking with the MNIST dataset, let's improve our autoencoder's performance using convolutional layers. We'll build a convolutional autoencoder to compress the MNIST dataset. \n",
    "\n",
    ">The encoder portion will be made of convolutional and pooling layers and the decoder will be made of **transpose convolutional layers** that learn to \"upsample\" a compressed representation.\n",
    "\n",
    "<img src='notebook_ims/autoencoder_1.png' />\n",
    "\n",
    "### Compressed Representation\n",
    "\n",
    "A compressed representation can be great for saving and sharing any kind of data in a way that is more efficient than storing raw data. In practice, the compressed representation often holds key information about an input image and we can use it for denoising images or oher kinds of reconstruction and transformation!\n",
    "\n",
    "<img src='notebook_ims/denoising.png' width=60%/>\n",
    "\n",
    "Let's get started by importing our libraries and getting the dataset."
   ]
  },
  {
   "cell_type": "code",
   "execution_count": 3,
   "metadata": {
    "collapsed": true
   },
   "outputs": [],
   "source": [
    "import torch\n",
    "import numpy as np\n",
    "from torchvision import datasets\n",
    "import torchvision.transforms as transforms\n",
    "\n",
    "import logging\n",
    "logging.basicConfig(level=logging.ERROR)\n",
    "\n",
    "# convert data to torch.FloatTensor\n",
    "transform = transforms.ToTensor()\n",
    "\n",
    "# load the training and test datasets\n",
    "train_data = datasets.MNIST(root='data', train=True,\n",
    "                                   download=True, transform=transform)\n",
    "test_data = datasets.MNIST(root='data', train=False,\n",
    "                                  download=True, transform=transform)"
   ]
  },
  {
   "cell_type": "code",
   "execution_count": 4,
   "metadata": {
    "collapsed": true
   },
   "outputs": [],
   "source": [
    "# Create training and test dataloaders\n",
    "\n",
    "num_workers = 0\n",
    "# how many samples per batch to load\n",
    "batch_size = 20\n",
    "\n",
    "# prepare data loaders\n",
    "train_loader = torch.utils.data.DataLoader(train_data, batch_size=batch_size, num_workers=num_workers)\n",
    "test_loader = torch.utils.data.DataLoader(test_data, batch_size=batch_size, num_workers=num_workers)"
   ]
  },
  {
   "cell_type": "markdown",
   "metadata": {},
   "source": [
    "### Visualize the Data"
   ]
  },
  {
   "cell_type": "code",
   "execution_count": 5,
   "metadata": {},
   "outputs": [],
   "source": [
    "import matplotlib.pyplot as plt\n",
    "%matplotlib inline\n",
    "    \n",
    "# obtain one batch of training images\n",
    "dataiter = iter(train_loader)"
   ]
  },
  {
   "cell_type": "code",
   "execution_count": 6,
   "metadata": {},
   "outputs": [
    {
     "data": {
      "text/plain": [
       "<matplotlib.image.AxesImage at 0x2c9c7c2cc88>"
      ]
     },
     "execution_count": 6,
     "metadata": {},
     "output_type": "execute_result"
    },
    {
     "data": {
      "image/png": "[encoded data removed]",
      "text/plain": [
       "<Figure size 360x360 with 1 Axes>"
      ]
     },
     "metadata": {},
     "output_type": "display_data"
    }
   ],
   "source": [
    "images, labels = dataiter.next()\n",
    "images = images.numpy()\n",
    "\n",
    "# get one image from the batch\n",
    "img = np.squeeze(images[0])\n",
    "fig = plt.figure(figsize = (5,5)) \n",
    "ax = fig.add_subplot(111)\n",
    "ax.imshow(img, cmap='gray')"
   ]
  },
  {
   "cell_type": "markdown",
   "metadata": {},
   "source": [
    "---\n",
    "## Convolutional  Autoencoder\n",
    "\n",
    "#### Encoder\n",
    "The encoder part of the network will be a typical convolutional pyramid. Each convolutional layer will be followed by a max-pooling layer to reduce the dimensions of the layers. \n",
    "\n",
    "#### Decoder\n",
    "\n",
    "The decoder though might be something new to you. The decoder needs to convert from a narrow representation to a wide, reconstructed image. For example, the representation could be a 7x7x4 max-pool layer. This is the output of the encoder, but also the input to the decoder. We want to get a 28x28x1 image out from the decoder so we need to work our way back up from the compressed representation. A schematic of the network is shown below.\n",
    "\n",
    "<img src='notebook_ims/conv_enc_1.png' width=640px>\n",
    "\n",
    "Here our final encoder layer has size 7x7x4 = 196. The original images have size 28x28 = 784, so the encoded vector is 25% the size of the original image. These are just suggested sizes for each of the layers. Feel free to change the depths and sizes, in fact, you're encouraged to add additional layers to make this representation even smaller! Remember our goal here is to find a small representation of the input data.\n",
    "\n",
    "### Transpose Convolutions, Decoder\n",
    "\n",
    "This decoder uses **transposed convolutional** layers to increase the width and height of the input layers. They work almost exactly the same as convolutional layers, but in reverse. A stride in the input layer results in a larger stride in the transposed convolution layer. For example, if you have a 3x3 kernel, a 3x3 patch in the input layer will be reduced to one unit in a convolutional layer. Comparatively, one unit in the input layer will be expanded to a 3x3 path in a transposed convolution layer. PyTorch provides us with an easy way to create the layers, [`nn.ConvTranspose2d`](https://pytorch.org/docs/stable/nn.html#convtranspose2d). \n",
    "\n",
    "It is important to note that transpose convolution layers can lead to artifacts in the final images, such as checkerboard patterns. This is due to overlap in the kernels which can be avoided by setting the stride and kernel size equal. In [this Distill article](http://distill.pub/2016/deconv-checkerboard/) from Augustus Odena, *et al*, the authors show that these checkerboard artifacts can be avoided by resizing the layers using nearest neighbor or bilinear interpolation (upsampling) followed by a convolutional layer. \n",
    "\n",
    "> We'll show this approach in another notebook, so you can experiment with it and see the difference.\n",
    "\n",
    "\n",
    "#### TODO: Build the network shown above. \n",
    "> Build the encoder out of a series of convolutional and pooling layers. \n",
    "> When building the decoder, recall that transpose convolutional layers can upsample an input by a factor of 2 using a stride and kernel_size of 2. \n",
    "\n",
    "<img style=\"float: left;\" src='../../../images/bugy_pailab.png' width=5%/> \n",
    "**In contrast to the original notebook we have defined the autoencoder outside the notebook in a separate source file: autoenc_conv_pytorch.py which is located in examples/custom_models.**\n",
    "Also note that we need to transform the data into numpy data to add it to the repo. To add a PyTorch DataSet directly to the repo is subject of future work."
   ]
  },
  {
   "cell_type": "code",
   "execution_count": 7,
   "metadata": {
    "code_folding": [],
    "collapsed": true
   },
   "outputs": [],
   "source": [
    "from autoenc_conv_pytorch import ConvAutoencoder\n",
    "model = ConvAutoencoder()"
   ]
  },
  {
   "cell_type": "code",
   "execution_count": 8,
   "metadata": {},
   "outputs": [
    {
     "data": {
      "text/plain": [
       "{'test_data': '65be55a3-7f2e-11e9-80e7-fc084a6691eb',\n",
       " 'train_data': '65be55a3-7f2e-11e9-80e7-fc084a6691eb'}"
      ]
     },
     "execution_count": 8,
     "metadata": {},
     "output_type": "execute_result"
    }
   ],
   "source": [
    "# transform the pytorch datasets into numpy arrays and add the data to the MLRepo\n",
    "tuple(train_data[0][0].shape)\n",
    "train_tmp = np.empty((len(train_data), ) + tuple(train_data[0][0].shape))\n",
    "for i in range(len(train_data)):\n",
    "    train_tmp[i] = train_data[i][0]\n",
    "tuple(test_data[0][0].shape)\n",
    "test_tmp = np.empty((len(test_data), ) + tuple(test_data[0][0].shape))\n",
    "for i in range(len(test_data)):\n",
    "    test_tmp[i] = test_data[i][0]\n",
    "#now add th raw data as well as the trainign and test data sets to the MLRepo\n",
    "from pailab import RawData, DataSet\n",
    "train_raw = RawData(train_tmp, x_coord_names=['image'], repo_info={RepoInfoKey.NAME: 'train_raw'})\n",
    "test_raw = RawData(test_tmp, x_coord_names=['image'], repo_info={RepoInfoKey.NAME: 'test_raw'})\n",
    "ml_repo.add([train_raw, test_raw])\n",
    "train_data_repo = DataSet('train_raw', repo_info={RepoInfoKey.NAME: 'train_data', RepoInfoKey.CATEGORY: MLObjectType.TRAINING_DATA})\n",
    "test_data_repo = DataSet('test_raw', repo_info={RepoInfoKey.NAME: 'test_data', RepoInfoKey.CATEGORY: MLObjectType.TEST_DATA})\n",
    "ml_repo.add([train_data_repo, test_data_repo])"
   ]
  },
  {
   "cell_type": "code",
   "execution_count": 9,
   "metadata": {
    "code_folding": [
     3
    ]
   },
   "outputs": [
    {
     "name": "stderr",
     "output_type": "stream",
     "text": [
      "WARNING:pailab.ml_repo.repo_objects:Used module does not define a version which may lead to irreproducable results.\n",
      "WARNING:pailab.ml_repo.repo_objects:Used module does not define a version which may lead to irreproducable results.\n"
     ]
    }
   ],
   "source": [
    "# Add model to the MLRepo.\n",
    "# The method add_model is a convenience method doign all the work you would need to define a model in pailab:\n",
    "# adding the training and model parameter, the model definition, the functions for training and evaluation of the model.\n",
    "import pailab.externals.pytorch_interface as pytorch_interface\n",
    "from pailab.ml_repo.repo_objects import get_object_from_classname\n",
    "pytorch_interface.add_model(ml_repo, model, {}, 'conv_autoencoder', batch_size=20, epochs=3,\n",
    "                           loss='MSE', optimizer='Adam', optim_param={})\n",
    "\n",
    "# We can check what objects the method added by listing all objects of the repo before and after calling add_model."
   ]
  },
  {
   "cell_type": "markdown",
   "metadata": {},
   "source": [
    "---\n",
    "## Training\n",
    "\n",
    "<img style=\"float: left;\" src='../../../images/bugy_pailab.png' width=5%/> \n",
    "**Since we have defined the model outside of the notebook and the training method is implemented in pailab's PyTorch interface, in contrast to the original notebook we can simply call run_training to start the training.** "
   ]
  },
  {
   "cell_type": "code",
   "execution_count": 10,
   "metadata": {},
   "outputs": [
    {
     "data": {
      "text/plain": [
       "('conv_autoencoder/jobs/training', '65c9e922-7f2e-11e9-ae6f-fc084a6691eb')"
      ]
     },
     "execution_count": 10,
     "metadata": {},
     "output_type": "execute_result"
    }
   ],
   "source": [
    "ml_repo.run_training()"
   ]
  },
  {
   "cell_type": "markdown",
   "metadata": {},
   "source": [
    "## Checking out the results\n",
    "\n",
    "Below I've plotted some of the test images along with their reconstructions. These look a little rough around the edges, likely due to the checkerboard effect we mentioned above that tends to happen with transpose layers."
   ]
  },
  {
   "cell_type": "code",
   "execution_count": 11,
   "metadata": {},
   "outputs": [
    {
     "data": {
      "text/plain": [
       "[('conv_autoencoder/model/jobs/eval_job/test_data',\n",
       "  'dcf05998-7f2e-11e9-a293-fc084a6691eb'),\n",
       " ('conv_autoencoder/model/jobs/eval_job/train_data',\n",
       "  'e1d4b0cd-7f2e-11e9-8d83-fc084a6691eb')]"
      ]
     },
     "execution_count": 11,
     "metadata": {},
     "output_type": "execute_result"
    }
   ],
   "source": [
    "ml_repo.run_evaluation()"
   ]
  },
  {
   "cell_type": "code",
   "execution_count": 12,
   "metadata": {},
   "outputs": [],
   "source": [
    "eval_train = ml_repo.get('conv_autoencoder/eval/train_data', full_object = True)"
   ]
  },
  {
   "cell_type": "code",
   "execution_count": 13,
   "metadata": {},
   "outputs": [
    {
     "data": {
      "image/png": "[encoded data removed]",
      "text/plain": [
       "<Figure size 1800x288 with 20 Axes>"
      ]
     },
     "metadata": {},
     "output_type": "display_data"
    }
   ],
   "source": [
    "#compare original and autoencoded image\n",
    "fig, axes = plt.subplots(nrows=2, ncols=10, sharex=True, sharey=True, figsize=(25,4))\n",
    "\n",
    "for i in range(10):\n",
    "    train_data = ml_repo.get('train_data', full_object = True)\n",
    "    axes[0,i].imshow(np.squeeze(train_data.x_data[i]), cmap='gray')\n",
    "    axes[1,i].imshow(np.squeeze(eval_train.x_data[i]), cmap='gray')\n"
   ]
  },
  {
   "cell_type": "code",
   "execution_count": null,
   "metadata": {
    "collapsed": true
   },
   "outputs": [],
   "source": []
  }
 ],
 "metadata": {
  "kernelspec": {
   "display_name": "Python 3",
   "language": "python",
   "name": "python3"
  },
  "language_info": {
   "codemirror_mode": {
    "name": "ipython",
    "version": 3
   },
   "file_extension": ".py",
   "mimetype": "text/x-python",
   "name": "python",
   "nbconvert_exporter": "python",
   "pygments_lexer": "ipython3",
   "version": "3.6.1"
  },
  "toc": {
   "base_numbering": 1,
   "nav_menu": {
    "height": "209px",
    "width": "252px"
   },
   "number_sections": true,
   "sideBar": true,
   "skip_h1_title": false,
   "title_cell": "Table of Contents",
   "title_sidebar": "Contents",
   "toc_cell": false,
   "toc_position": {},
   "toc_section_display": "block",
   "toc_window_display": false
  },
  "varInspector": {
   "cols": {
    "lenName": 16,
    "lenType": 16,
    "lenVar": 40
   },
   "kernels_config": {
    "python": {
     "delete_cmd_postfix": "",
     "delete_cmd_prefix": "del ",
     "library": "var_list.py",
     "varRefreshCmd": "print(var_dic_list())"
    },
    "r": {
     "delete_cmd_postfix": ") ",
     "delete_cmd_prefix": "rm(",
     "library": "var_list.r",
     "varRefreshCmd": "cat(var_dic_list()) "
    }
   },
   "types_to_exclude": [
    "module",
    "function",
    "builtin_function_or_method",
    "instance",
    "_Feature"
   ],
   "window_display": false
  }
 },
 "nbformat": 4,
 "nbformat_minor": 2
}
